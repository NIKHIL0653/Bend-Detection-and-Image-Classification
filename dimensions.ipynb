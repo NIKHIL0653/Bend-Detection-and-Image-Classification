{
 "cells": [
  {
   "cell_type": "code",
   "id": "initial_id",
   "metadata": {
    "collapsed": true,
    "ExecuteTime": {
     "end_time": "2024-06-25T03:47:17.950532Z",
     "start_time": "2024-06-25T03:47:17.938452Z"
    }
   },
   "source": [
    "import fitz\n",
    "from PIL import Image\n",
    "import os"
   ],
   "outputs": [],
   "execution_count": 6
  },
  {
   "metadata": {
    "ExecuteTime": {
     "end_time": "2024-06-25T03:47:18.404585Z",
     "start_time": "2024-06-25T03:47:18.392189Z"
    }
   },
   "cell_type": "code",
   "source": [
    "pdf_file = \"bbs2.pdf\"\n",
    "doc = fitz.open(pdf_file)\n",
    "outpdf = fitz.open()"
   ],
   "id": "2c91da7d161186df",
   "outputs": [],
   "execution_count": 7
  },
  {
   "metadata": {
    "ExecuteTime": {
     "end_time": "2024-06-25T03:47:19.141934Z",
     "start_time": "2024-06-25T03:47:18.956863Z"
    }
   },
   "cell_type": "code",
   "source": [
    "# Loop over all pages of the PDF file\n",
    "for page_num in range(len(doc)):\n",
    "    page = doc[page_num]\n",
    "    paths = page.get_drawings()  # extract existing drawings\n",
    "\n",
    "    # Define some output page with the same dimensions\n",
    "    outpage = outpdf.new_page(width=page.rect.width, height=page.rect.height)\n",
    "    shape = outpage.new_shape()  # make a drawing canvas for the output page    \n",
    "\n",
    "    # Loop through the paths and draw them\n",
    "    for path in paths:\n",
    "        for item in path[\"items\"]:  # these are the draw commands\n",
    "            if item[0] == \"l\":  # line\n",
    "                shape.draw_line(item[1], item[2])\n",
    "            elif item[0] == \"re\":  # rectangle\n",
    "                shape.draw_rect(item[1])\n",
    "            elif item[0] == \"qu\":  # quad\n",
    "                shape.draw_quad(item[1])\n",
    "            elif item[0] == \"c\":  # curve\n",
    "                shape.draw_bezier(item[1], item[2], item[3], item[4])\n",
    "            else:\n",
    "                raise ValueError(\"unhandled drawing\", item)\n",
    "        shape.finish()\n",
    "    \n",
    "    # Commit the shape to its page\n",
    "    shape.commit()"
   ],
   "id": "5938e83d14f83608",
   "outputs": [],
   "execution_count": 8
  },
  {
   "metadata": {
    "ExecuteTime": {
     "end_time": "2024-06-25T03:47:19.808115Z",
     "start_time": "2024-06-25T03:47:19.794763Z"
    }
   },
   "cell_type": "code",
   "source": [
    "# Save the output PDF\n",
    "output_pdf_path = f\"{os.path.splitext(pdf_file)[0]}_extracted.pdf\"\n",
    "outpdf.save(output_pdf_path)"
   ],
   "id": "4979d629554db410",
   "outputs": [],
   "execution_count": 9
  },
  {
   "metadata": {
    "ExecuteTime": {
     "end_time": "2024-06-25T04:06:52.504574Z",
     "start_time": "2024-06-25T04:06:41.285595Z"
    }
   },
   "cell_type": "code",
   "source": [
    "doc = fitz.open(output_pdf_path)\n",
    "\n",
    "# Define the desired output image dimensions\n",
    "output_width = 4704  # adjust this value to your desired width\n",
    "output_height = 4984  # adjust this value to your desired height\n",
    "\n",
    "# Loop over all pages of the PDF file\n",
    "for page_num in range(len(doc)):\n",
    "    page = doc[page_num]\n",
    "    pix = page.get_pixmap(matrix=fitz.Matrix(output_width / page.rect.width, output_height / page.rect.height))\n",
    "    output_image_path = f\"{os.path.splitext(pdf_file)[0]}_page_{page_num + 1}.jpg\"\n",
    "    pix.save(output_image_path)"
   ],
   "id": "58536b2b3d89802b",
   "outputs": [],
   "execution_count": 17
  },
  {
   "metadata": {
    "ExecuteTime": {
     "end_time": "2024-06-25T04:06:33.068602Z",
     "start_time": "2024-06-25T04:06:32.997740Z"
    }
   },
   "cell_type": "code",
   "source": [
    "doc = fitz.open(output_pdf_path)\n",
    "\n",
    "# Define the desired output image dimensions and zoom factor\n",
    "output_width = 850  # adjust this value to your desired width\n",
    "output_height = 989  # adjust this value to your desired height\n",
    "zoom_factor = 5.0  # adjust this value to your desired zoom factor\n",
    "\n",
    "# Loop over all pages of the PDF file\n",
    "for page_num in range(len(doc)):\n",
    "    page = doc[page_num]\n",
    "    # Adjust the page size to fit the desired output dimensions\n",
    "    page.scale(output_width / page.rect.width, output_height / page.rect.height)\n",
    "    pix = page.get_pixmap(matrix=fitz.Matrix(zoom_factor))\n",
    "    output_image_path = f\"{os.path.splitext(pdf_file)[0]}_page_{page_num + 1}.jpg\"\n",
    "    pix.save(output_image_path)"
   ],
   "id": "a4d3aca8348eea90",
   "outputs": [
    {
     "ename": "AttributeError",
     "evalue": "'Page' object has no attribute 'scale'",
     "output_type": "error",
     "traceback": [
      "\u001B[1;31m---------------------------------------------------------------------------\u001B[0m",
      "\u001B[1;31mAttributeError\u001B[0m                            Traceback (most recent call last)",
      "Cell \u001B[1;32mIn[16], line 12\u001B[0m\n\u001B[0;32m     10\u001B[0m page \u001B[38;5;241m=\u001B[39m doc[page_num]\n\u001B[0;32m     11\u001B[0m \u001B[38;5;66;03m# Adjust the page size to fit the desired output dimensions\u001B[39;00m\n\u001B[1;32m---> 12\u001B[0m page\u001B[38;5;241m.\u001B[39mscale(output_width \u001B[38;5;241m/\u001B[39m page\u001B[38;5;241m.\u001B[39mrect\u001B[38;5;241m.\u001B[39mwidth, output_height \u001B[38;5;241m/\u001B[39m page\u001B[38;5;241m.\u001B[39mrect\u001B[38;5;241m.\u001B[39mheight)\n\u001B[0;32m     13\u001B[0m pix \u001B[38;5;241m=\u001B[39m page\u001B[38;5;241m.\u001B[39mget_pixmap(matrix\u001B[38;5;241m=\u001B[39mfitz\u001B[38;5;241m.\u001B[39mMatrix(zoom_factor))\n\u001B[0;32m     14\u001B[0m output_image_path \u001B[38;5;241m=\u001B[39m \u001B[38;5;124mf\u001B[39m\u001B[38;5;124m\"\u001B[39m\u001B[38;5;132;01m{\u001B[39;00mos\u001B[38;5;241m.\u001B[39mpath\u001B[38;5;241m.\u001B[39msplitext(pdf_file)[\u001B[38;5;241m0\u001B[39m]\u001B[38;5;132;01m}\u001B[39;00m\u001B[38;5;124m_page_\u001B[39m\u001B[38;5;132;01m{\u001B[39;00mpage_num\u001B[38;5;250m \u001B[39m\u001B[38;5;241m+\u001B[39m\u001B[38;5;250m \u001B[39m\u001B[38;5;241m1\u001B[39m\u001B[38;5;132;01m}\u001B[39;00m\u001B[38;5;124m.jpg\u001B[39m\u001B[38;5;124m\"\u001B[39m\n",
      "\u001B[1;31mAttributeError\u001B[0m: 'Page' object has no attribute 'scale'"
     ]
    }
   ],
   "execution_count": 16
  },
  {
   "metadata": {
    "ExecuteTime": {
     "end_time": "2024-06-25T03:54:14.053743Z",
     "start_time": "2024-06-25T03:54:05.146336Z"
    }
   },
   "cell_type": "code",
   "source": "",
   "id": "154cbfab4b3e0fd6",
   "outputs": [],
   "execution_count": 12
  },
  {
   "metadata": {},
   "cell_type": "code",
   "outputs": [],
   "execution_count": null,
   "source": "",
   "id": "16543845158fe9a6"
  }
 ],
 "metadata": {
  "kernelspec": {
   "display_name": "Python 3",
   "language": "python",
   "name": "python3"
  },
  "language_info": {
   "codemirror_mode": {
    "name": "ipython",
    "version": 2
   },
   "file_extension": ".py",
   "mimetype": "text/x-python",
   "name": "python",
   "nbconvert_exporter": "python",
   "pygments_lexer": "ipython2",
   "version": "2.7.6"
  }
 },
 "nbformat": 4,
 "nbformat_minor": 5
}
