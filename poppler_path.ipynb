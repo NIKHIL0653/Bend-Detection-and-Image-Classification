{
 "cells": [
  {
   "cell_type": "code",
   "execution_count": 6,
   "id": "5053d454457a5c3e",
   "metadata": {
    "ExecuteTime": {
     "end_time": "2024-06-18T09:32:53.128416Z",
     "start_time": "2024-06-18T09:32:52.872774Z"
    }
   },
   "source": [
    "import fitz\n",
    "from PIL import Image\n",
    "import wget\n",
    "from pdf2image import convert_from_path"
   ],
   "outputs": []
  },
  {
   "cell_type": "code",
   "execution_count": 8,
   "id": "860824300e6f4153",
   "metadata": {
    "ExecuteTime": {
     "end_time": "2024-06-18T09:33:35.125078Z",
     "start_time": "2024-06-18T09:33:27.730205Z"
    }
   },
   "source": [
    "#this will install poppler file\n",
    "# No need to rerun this cell if you have downloaded earlier\n",
    "zip_url = \"https://github.com/oschwartz10612/poppler-windows/releases/download/v24.02.0-0/Release-24.02.0-0.zip\"\n",
    "zip_filename = wget.download(zip_url)\n",
    "\n",
    "# unzips poppler file\n",
    "!unzip -o {zip_filename}"
   ],
   "outputs": []
  },
  {
   "cell_type": "code",
   "execution_count": 9,
   "id": "c537ee426b58f1d0",
   "metadata": {
    "ExecuteTime": {
     "end_time": "2024-06-18T09:33:42.044184Z",
     "start_time": "2024-06-18T09:33:42.025729Z"
    }
   },
   "source": [
    "import os\n",
    "folder_path = os.path.join(os.getcwd(), 'my_')\n",
    "print(folder_path)"
   ],
   "outputs": []
  },
  {
   "cell_type": "code",
   "execution_count": 10,
   "id": "60371ed816d7ff4",
   "metadata": {
    "ExecuteTime": {
     "end_time": "2024-06-18T09:36:38.975208Z",
     "start_time": "2024-06-18T09:36:38.960540Z"
    }
   },
   "source": [
    "# This cell will get the path to the poppler bin folder and store it\n",
    "\n",
    "import os\n",
    "\n",
    "poppler_dir = os.path.join(os.getcwd(), 'poppler-24.02.0')\n",
    "\n",
    "library_dir = os.path.join(poppler_dir, 'library')\n",
    "\n",
    "bin_dir = os.path.join(library_dir, 'bin')\n",
    "\n",
    "print(bin_dir)"
   ],
   "outputs": []
  },
  {
   "cell_type": "code",
   "execution_count": 11,
   "id": "ad861f5ba2454016",
   "metadata": {
    "ExecuteTime": {
     "end_time": "2024-06-18T09:37:33.949723Z",
     "start_time": "2024-06-18T09:37:33.895885Z"
    }
   },
   "source": [
    "doc = fitz.open(\"table.pdf\")\n",
    "page = doc[0]\n",
    "paths = page.get_drawings()  # extract existing drawings\n",
    "# this is a list of \"paths\", which can directly be drawn again using Shape\n",
    "# -------------------------------------------------------------------------"
   ],
   "outputs": []
  },
  {
   "cell_type": "code",
   "execution_count": 12,
   "id": "8604feb5f7a70d91",
   "metadata": {
    "ExecuteTime": {
     "end_time": "2024-06-18T09:37:34.566872Z",
     "start_time": "2024-06-18T09:37:34.552930Z"
    }
   },
   "source": [
    "# define some output page with the same dimensions\n",
    "outpdf = fitz.open()\n",
    "outpage = outpdf.new_page(width=page.rect.width, height=page.rect.height)\n",
    "shape = outpage.new_shape()  # make a drawing canvas for the output page"
   ],
   "outputs": []
  },
  {
   "cell_type": "code",
   "execution_count": 13,
   "id": "406ceae6cd98ea4e",
   "metadata": {
    "ExecuteTime": {
     "end_time": "2024-06-18T09:37:35.057977Z",
     "start_time": "2024-06-18T09:37:35.030226Z"
    }
   },
   "source": [
    "# --------------------------------------\n",
    "# loop through the paths and draw them\n",
    "# --------------------------------------\n",
    "for path in paths:\n",
    "    # ------------------------------------\n",
    "    # draw each entry of the 'items' list\n",
    "    # ------------------------------------\n",
    "    for item in path[\"items\"]:  # these are the draw commands\n",
    "        if item[0] == \"l\":  # line\n",
    "            shape.draw_line(item[1], item[2])\n",
    "        elif item[0] == \"re\":  # rectangle\n",
    "            shape.draw_rect(item[1])\n",
    "        elif item[0] == \"qu\":  # quad\n",
    "            shape.draw_quad(item[1])\n",
    "        elif item[0] == \"c\":  # curve\n",
    "            shape.draw_bezier(item[1], item[2], item[3], item[4])\n",
    "        else:\n",
    "            raise ValueError(\"unhandled drawing\", item)\n",
    "    # ------------------------------------------------------\n",
    "    # all items are drawn, now apply the common properties\n",
    "    # to finish the path\n",
    "    # ------------------------------------------------------\n",
    "    shape.finish()"
   ],
   "outputs": []
  },
  {
   "cell_type": "code",
   "execution_count": 14,
   "id": "5a564208d6e8ede2",
   "metadata": {
    "ExecuteTime": {
     "end_time": "2024-06-18T09:37:39.769363Z",
     "start_time": "2024-06-18T09:37:39.756731Z"
    }
   },
   "source": [
    "shape.commit()\n",
    "outpdf.save(\"test_file_ext3.pdf\")"
   ],
   "outputs": []
  },
  {
   "cell_type": "code",
   "execution_count": 15,
   "id": "2c5cbe22267cd179",
   "metadata": {
    "ExecuteTime": {
     "end_time": "2024-06-18T09:37:57.159626Z",
     "start_time": "2024-06-18T09:37:57.148016Z"
    }
   },
   "source": [
    "pdf_path = 'test_file_ext3.pdf'\n",
    "doc = fitz.open(pdf_path)"
   ],
   "outputs": []
  },
  {
   "cell_type": "code",
   "execution_count": 16,
   "id": "bc94472cd29ab0b2",
   "metadata": {
    "ExecuteTime": {
     "end_time": "2024-06-18T09:39:10.839758Z",
     "start_time": "2024-06-18T09:39:10.447339Z"
    }
   },
   "source": [
    "# poppler-24.02 ->Library -> bin -> copy path and paste path below\n",
    "poppler_path = bin_dir  \n",
    "images = convert_from_path(pdf_path, poppler_path=poppler_path)\n",
    "# Save each image as a JPEG file\n",
    "for image in images:\n",
    "    image.save('extracted_image1.jpg', 'JPEG')"
   ],
   "outputs": []
  },
  {
   "cell_type": "code",
   "execution_count": null,
   "id": "2742f640dc4381b5",
   "metadata": {},
   "source": [],
   "outputs": []
  }
 ],
 "metadata": {
  "kernelspec": {
   "display_name": "Python 3 (ipykernel)",
   "language": "python",
   "name": "python3"
  },
  "language_info": {
   "codemirror_mode": {
    "name": "ipython",
    "version": 3
   },
   "file_extension": ".py",
   "mimetype": "text/x-python",
   "name": "python",
   "nbconvert_exporter": "python",
   "pygments_lexer": "ipython3",
   "version": "3.12.3"
  }
 },
 "nbformat": 4,
 "nbformat_minor": 5
}
