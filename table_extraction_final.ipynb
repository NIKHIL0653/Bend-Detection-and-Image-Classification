{
 "cells": [
  {
   "cell_type": "code",
   "metadata": {
    "ExecuteTime": {
     "end_time": "2024-06-24T09:26:35.749694Z",
     "start_time": "2024-06-24T09:26:35.707031Z"
    }
   },
   "source": [
    "import fitz\n",
    "from PIL import Image\n",
    "import os"
   ],
   "outputs": [],
   "execution_count": 7
  },
  {
   "cell_type": "code",
   "metadata": {
    "ExecuteTime": {
     "end_time": "2024-06-24T09:26:36.433852Z",
     "start_time": "2024-06-24T09:26:36.404243Z"
    }
   },
   "source": [
    "pdf_file = \"Input.pdf\"\n",
    "doc = fitz.open(pdf_file)\n",
    "outpdf = fitz.open()"
   ],
   "outputs": [],
   "execution_count": 8
  },
  {
   "cell_type": "code",
   "metadata": {
    "ExecuteTime": {
     "end_time": "2024-06-24T09:26:37.365127Z",
     "start_time": "2024-06-24T09:26:37.236209Z"
    }
   },
   "source": [
    "# Loop over all pages of the PDF file\n",
    "for page_num in range(len(doc)):\n",
    "    page = doc[page_num]\n",
    "    paths = page.get_drawings()  # extract existing drawings\n",
    "\n",
    "    # Define some output page with the same dimensions\n",
    "    outpage = outpdf.new_page(width=page.rect.width, height=page.rect.height)\n",
    "    shape = outpage.new_shape()  # make a drawing canvas for the output page    \n",
    "\n",
    "    # Loop through the paths and draw them\n",
    "    for path in paths:\n",
    "        for item in path[\"items\"]:  # these are the draw commands\n",
    "            if item[0] == \"l\":  # line\n",
    "                shape.draw_line(item[1], item[2])\n",
    "            elif item[0] == \"re\":  # rectangle\n",
    "                shape.draw_rect(item[1])\n",
    "            elif item[0] == \"qu\":  # quad\n",
    "                shape.draw_quad(item[1])\n",
    "            elif item[0] == \"c\":  # curve\n",
    "                shape.draw_bezier(item[1], item[2], item[3], item[4])\n",
    "            else:\n",
    "                raise ValueError(\"unhandled drawing\", item)\n",
    "        shape.finish()\n",
    "    \n",
    "    # Commit the shape to its page\n",
    "    shape.commit()"
   ],
   "outputs": [],
   "execution_count": 9
  },
  {
   "cell_type": "code",
   "metadata": {
    "ExecuteTime": {
     "end_time": "2024-06-24T09:26:38.870325Z",
     "start_time": "2024-06-24T09:26:38.847295Z"
    }
   },
   "source": [
    "# Save the output PDF\n",
    "output_pdf_path = f\"{os.path.splitext(pdf_file)[0]}_extracted.pdf\"\n",
    "outpdf.save(output_pdf_path)"
   ],
   "outputs": [],
   "execution_count": 10
  },
  {
   "cell_type": "code",
   "metadata": {
    "ExecuteTime": {
     "end_time": "2024-06-24T09:46:41.821885Z",
     "start_time": "2024-06-24T09:46:01.258185Z"
    }
   },
   "source": [
    "# Here we loop over all the pages of the extracted pdf file and save them as images\n",
    "extracted_doc = fitz.open(output_pdf_path)\n",
    "\n",
    "for page_num in range(len(extracted_doc)):\n",
    "    page = extracted_doc.load_page(page_num)\n",
    "    mat = fitz.Matrix(2.0, 2.0)  # Increasing this number will give better clarity but will increase dimension of image file\n",
    "    pix = page.get_pixmap(matrix=mat)\n",
    "    output_image_path = f\"{os.path.splitext(pdf_file)[0]}_page_{page_num + 1}.jpg\"\n",
    "    pix.save(output_image_path)"
   ],
   "outputs": [],
   "execution_count": 12
  },
  {
   "cell_type": "code",
   "metadata": {
    "ExecuteTime": {
     "end_time": "2024-06-24T09:49:40.443169Z",
     "start_time": "2024-06-24T09:49:40.426818Z"
    }
   },
   "source": [
    "# if inserted pdf file is already of high quality then above code will give blank output just convert pdf to image\n",
    "# Save the output PDF\n",
    "hq_pdf_path = \"p.pdf\"\n",
    "outpdf.save(hq_pdf_path)"
   ],
   "outputs": [],
   "execution_count": 14
  },
  {
   "metadata": {
    "ExecuteTime": {
     "end_time": "2024-06-24T09:51:05.651971Z",
     "start_time": "2024-06-24T09:51:03.577732Z"
    }
   },
   "cell_type": "code",
   "source": [
    "doc = fitz.open('p.pdf')\n",
    "page = doc.load_page(0)\n",
    "pix = page.get_pixmap()\n",
    "img = pix.save('h.jpg')"
   ],
   "outputs": [],
   "execution_count": 16
  }
 ],
 "metadata": {
  "kernelspec": {
   "display_name": "Python 3 (ipykernel)",
   "language": "python",
   "name": "python3"
  },
  "language_info": {
   "codemirror_mode": {
    "name": "ipython",
    "version": 3
   },
   "file_extension": ".py",
   "mimetype": "text/x-python",
   "name": "python",
   "nbconvert_exporter": "python",
   "pygments_lexer": "ipython3",
   "version": "3.12.3"
  }
 },
 "nbformat": 4,
 "nbformat_minor": 4
}
