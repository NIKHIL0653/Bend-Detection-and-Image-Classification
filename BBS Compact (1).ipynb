{
 "cells": [
  {
   "cell_type": "code",
   "execution_count": 10,
   "metadata": {},
   "source": [
    "import io\n",
    "import fitz\n",
    "from PIL import Image"
   ],
   "outputs": []
  },
  {
   "cell_type": "code",
   "execution_count": 19,
   "metadata": {},
   "source": [
    "# file path you want to extract images from\n",
    "file = \"crvBBSCompact (5).pdf\"\n",
    "# open the file\n",
    "pdf_file = fitz.open(file)"
   ],
   "outputs": []
  },
  {
   "cell_type": "code",
   "execution_count": 20,
   "metadata": {},
   "source": [
    "# iterate over pdf pages\n",
    "for page_index in range(len(pdf_file)):\n",
    "    # get the page itself\n",
    "    page = pdf_file[page_index]\n",
    "    image_list = page.get_images()\n",
    "    # printing number of images found in this page\n",
    "    if image_list:\n",
    "        print(f\"[+] Found a total of {len(image_list)} images in page {page_index}\")\n",
    "    else:\n",
    "        print(\"[!] No images found on page\", page_index)\n",
    "    for image_index, img in enumerate(page.get_images(), start=1):\n",
    "        # get the XREF of the image\n",
    "        xref = img[0]\n",
    "        # extract the image bytes\n",
    "        base_image = pdf_file.extract_image(xref)\n",
    "        image_bytes = base_image[\"image\"]\n",
    "        # get the image extension\n",
    "        image_ext = base_image[\"ext\"]\n",
    "        # load it to PIL\n",
    "        image = Image.open(io.BytesIO(image_bytes))\n",
    "        # save it to local disk\n",
    "        image.save(open(f\"image{page_index+1}_{image_index}.{image_ext}\", \"wb\"))"
   ],
   "outputs": []
  },
  {
   "cell_type": "code",
   "execution_count": 22,
   "metadata": {},
   "source": [
    "import matplotlib.pyplot as plt\n",
    "import keras_ocr\n",
    "pipeline= keras_ocr.pipeline.Pipeline()\n",
    "img_path='image1_5.png'\n",
    "img=keras_ocr.tools.read(img_path)\n",
    "prediction_groups=pipeline.recognize([img])\n",
    "keras_ocr.tools.drawAnnotations(image=img,predictions=prediction_groups[0])"
   ],
   "outputs": []
  },
  {
   "cell_type": "code",
   "execution_count": 23,
   "metadata": {},
   "source": [
    "import math\n",
    "import numpy\n",
    "def midpoint(x1,y1,x2,y2):\n",
    "    x_mid= int((x1+ x2)/2)\n",
    "    y_mid= int((y1+ y2)/2)\n",
    "    return (x_mid, y_mid)\n",
    "\n",
    "mask=np.zeros(img.shape[:2],dtype='uint8')\n",
    "for box in prediction_groups[0]:\n",
    "    #if box[0] in remove_list:\n",
    "    x0,y0=box[1][0]\n",
    "    x1,y1=box[1][1]\n",
    "    x2,y2=box[1][2]\n",
    "    x3,y3=box[1][3]\n",
    "    x_mid0, y_mid0= midpoint(x1,y1,x2,y2)\n",
    "    x_mid1, y_mi1= midpoint(x0,y0,x3,y3)\n",
    "    thickness= int(math.sqrt((x2- x1) **2 + (y2-y1) **2))\n",
    "    cv2.line(mask,(x_mid0, y_mid0),(x_mid1, y_mi1),255,thickness)\n",
    "    img1=cv2.inpaint(img,mask,9,cv2.INPAINT_NS)#NS\n",
    "    plt.axis('off')\n",
    "    plt.savefig('file.png')\n",
    "    plt.imshow(img1)"
   ],
   "outputs": []
  },
  {
   "cell_type": "code",
   "execution_count": 24,
   "metadata": {},
   "source": [
    "import numpy as np\n",
    "import cv2\n",
    "def find_centroids(dst):\n",
    "    ret, dst = cv2.threshold(dst, 0.01 * dst.max(), 255, 0)\n",
    "    dst = np.uint8(dst)\n",
    "\n",
    "    # find centroids\n",
    "    ret, labels, stats, centroids = cv2.connectedComponentsWithStats(dst)\n",
    "    # define the criteria to stop and refine the corners\n",
    "    criteria = (cv2.TERM_CRITERIA_EPS + cv2.TERM_CRITERIA_MAX_ITER, 100, \n",
    "                0.001)\n",
    "    corners = cv2.cornerSubPix(gray,np.float32(centroids[1:]),(5,5), \n",
    "              (-1,-1),criteria)\n",
    "    return corners\n",
    "\n",
    "image = img1\n",
    "gray = cv2.cvtColor(image, cv2.COLOR_BGR2GRAY)\n",
    "\n",
    "gray = np.float32(gray)\n",
    "\n",
    "dst = cv2.cornerHarris(gray, 3, 3, 0.04)\n",
    "\n",
    "dst = cv2.dilate(dst, None)\n",
    "\n",
    "# Threshold for an optimal value, it may vary depending on the image.\n",
    "# image[dst > 0.01*dst.max()] = [0, 0, 255]\n",
    "\n",
    "# Get coordinates\n",
    "corners = find_centroids(dst)\n",
    "# To draw the corners\n",
    "for corner in corners:\n",
    "    image[int(corner[1]), int(corner[0])] = [0, 0, 255]\n",
    "int_corners = np.asarray(corners, dtype = int)\n",
    "print (len(int_corners))\n",
    "import matplotlib.pyplot as plt\n",
    "\n",
    "plt.imshow(gray, cmap=\"gray\")\n",
    "plt.scatter(int_corners[:, 0], int_corners[:, 1])\n"
   ],
   "outputs": []
  },
  {
   "cell_type": "code",
   "execution_count": null,
   "metadata": {},
   "source": [],
   "outputs": []
  },
  {
   "cell_type": "code",
   "execution_count": null,
   "metadata": {},
   "source": [],
   "outputs": []
  },
  {
   "cell_type": "code",
   "execution_count": null,
   "metadata": {},
   "source": [],
   "outputs": []
  }
 ],
 "metadata": {
  "kernelspec": {
   "display_name": "Python 3 (ipykernel)",
   "language": "python",
   "name": "python3"
  },
  "language_info": {
   "codemirror_mode": {
    "name": "ipython",
    "version": 3
   },
   "file_extension": ".py",
   "mimetype": "text/x-python",
   "name": "python",
   "nbconvert_exporter": "python",
   "pygments_lexer": "ipython3",
   "version": "3.12.3"
  }
 },
 "nbformat": 4,
 "nbformat_minor": 4
}
