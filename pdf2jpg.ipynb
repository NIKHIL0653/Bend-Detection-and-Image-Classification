{
 "cells": [
  {
   "cell_type": "code",
   "metadata": {
    "ExecuteTime": {
     "end_time": "2024-06-19T03:12:05.315638Z",
     "start_time": "2024-06-19T03:12:04.916421Z"
    }
   },
   "source": [
    "import fitz\n",
    "from PIL import Image"
   ],
   "outputs": [],
   "execution_count": 1
  },
  {
   "cell_type": "code",
   "metadata": {
    "ExecuteTime": {
     "end_time": "2024-06-19T03:12:09.275302Z",
     "start_time": "2024-06-19T03:12:09.173439Z"
    }
   },
   "source": [
    "doc = fitz.open(\"table.pdf\")\n",
    "page = doc[0]\n",
    "paths = page.get_drawings()  # extract existing drawings\n",
    "# this is a list of \"paths\", which can directly be drawn again using Shape\n",
    "# -------------------------------------------------------------------------"
   ],
   "outputs": [],
   "execution_count": 2
  },
  {
   "cell_type": "code",
   "metadata": {
    "ExecuteTime": {
     "end_time": "2024-06-19T03:12:10.302341Z",
     "start_time": "2024-06-19T03:12:10.283730Z"
    }
   },
   "source": [
    "# define some output page with the same dimensions\n",
    "outpdf = fitz.open()\n",
    "outpage = outpdf.new_page(width=page.rect.width, height=page.rect.height)\n",
    "shape = outpage.new_shape()  # make a drawing canvas for the output page"
   ],
   "outputs": [],
   "execution_count": 3
  },
  {
   "cell_type": "code",
   "metadata": {
    "ExecuteTime": {
     "end_time": "2024-06-19T03:12:11.029803Z",
     "start_time": "2024-06-19T03:12:11.001089Z"
    }
   },
   "source": [
    "# --------------------------------------\n",
    "# loop through the paths and draw them\n",
    "# --------------------------------------\n",
    "for path in paths:\n",
    "    # ------------------------------------\n",
    "    # draw each entry of the 'items' list\n",
    "    # ------------------------------------\n",
    "    for item in path[\"items\"]:  # these are the draw commands\n",
    "        if item[0] == \"l\":  # line\n",
    "            shape.draw_line(item[1], item[2])\n",
    "        elif item[0] == \"re\":  # rectangle\n",
    "            shape.draw_rect(item[1])\n",
    "        elif item[0] == \"qu\":  # quad\n",
    "            shape.draw_quad(item[1])\n",
    "        elif item[0] == \"c\":  # curve\n",
    "            shape.draw_bezier(item[1], item[2], item[3], item[4])\n",
    "        else:\n",
    "            raise ValueError(\"unhandled drawing\", item)\n",
    "    # ------------------------------------------------------\n",
    "    # all items are drawn, now apply the common properties\n",
    "    # to finish the path\n",
    "    # ------------------------------------------------------\n",
    "    shape.finish()"
   ],
   "outputs": [],
   "execution_count": 4
  },
  {
   "cell_type": "code",
   "metadata": {
    "ExecuteTime": {
     "end_time": "2024-06-19T03:12:12.480905Z",
     "start_time": "2024-06-19T03:12:12.445727Z"
    }
   },
   "source": [
    "# all paths processed - commit the shape to its page\n",
    "shape.commit()\n",
    "outpdf.save(\"test_file_extracted.pdf\")"
   ],
   "outputs": [],
   "execution_count": 5
  },
  {
   "metadata": {
    "ExecuteTime": {
     "end_time": "2024-06-19T03:16:01.323143Z",
     "start_time": "2024-06-19T03:15:53.207656Z"
    }
   },
   "cell_type": "code",
   "source": "!pip install spire.pdf --upgrade",
   "outputs": [
    {
     "name": "stdout",
     "output_type": "stream",
     "text": [
      "Requirement already satisfied: spire.pdf in c:\\users\\kiit\\anaconda3\\envs\\ai_env\\lib\\site-packages (10.6.1)\n",
      "Requirement already satisfied: plum-dispatch==1.7.4 in c:\\users\\kiit\\anaconda3\\envs\\ai_env\\lib\\site-packages (from spire.pdf) (1.7.4)\n"
     ]
    }
   ],
   "execution_count": 14
  },
  {
   "cell_type": "code",
   "metadata": {
    "ExecuteTime": {
     "end_time": "2024-06-19T03:16:08.211071Z",
     "start_time": "2024-06-19T03:16:07.981002Z"
    }
   },
   "source": [
    "from spire.pdf.common import *\n",
    "from spire.pdf import *\n",
    "\n",
    "# Create a PdfDocument object\n",
    "doc = PdfDocument()\n",
    "# Load a PDF document\n",
    "doc.LoadFromFile(\"test_file_extracted.pdf\")\n",
    "\n",
    "# Loop through the pages in the document\n",
    "for i in range(doc.Pages.Count):\n",
    "    # Save each page as a PNG image\n",
    "    fileName = \"Output/img-{0:d}.png\".format(i)\n",
    "    with doc.SaveAsImage(i) as imageS:\n",
    "        imageS.Save('p2j')\n",
    "\n",
    "# Close the PdfDocument object\n",
    "doc.Close()"
   ],
   "outputs": [],
   "execution_count": 15
  },
  {
   "metadata": {
    "ExecuteTime": {
     "end_time": "2024-06-19T03:16:09.292996Z",
     "start_time": "2024-06-19T03:16:09.239645Z"
    }
   },
   "cell_type": "code",
   "source": [
    "from spire.pdf import PdfDocument, PdfImageInfo, PdfImageFormat\n",
    "from PIL import Image\n",
    "import io\n",
    "import os\n",
    "\n",
    "doc = PdfDocument()\n",
    "doc.LoadFromFile(\"test_file_extracted.pdf\")\n",
    "\n",
    "output_folder = \"Output\"\n",
    "if not os.path.exists(output_folder):\n",
    "    os.makedirs(output_folder)\n",
    "\n",
    "for i in range(doc.Pages.Count):\n",
    "    fileName = os.path.join(output_folder, \"img-{0:d}.png\".format(i))\n",
    "\n",
    "    imageInfo = PdfImageInfo(doc.Pages[i], PdfImageFormat.Png)\n",
    "    imageInfo.ImageResolution = 300\n",
    "    imageInfo.ImageCompression = ImageCompression.Flate\n",
    "\n",
    "    image_data = doc.SaveAsImage(doc.Pages[i], imageInfo)\n",
    "\n",
    "    image_stream = io.BytesIO(image_data)\n",
    "    img = Image.open(image_stream)\n",
    "    img.save(fileName, \"PNG\")\n",
    "\n",
    "doc.Close()"
   ],
   "outputs": [
    {
     "ename": "ImportError",
     "evalue": "cannot import name 'PdfImageFormat' from 'spire.pdf' (C:\\Users\\KIIT\\anaconda3\\envs\\ai_env\\Lib\\site-packages\\spire\\pdf\\__init__.py)",
     "output_type": "error",
     "traceback": [
      "\u001B[1;31m---------------------------------------------------------------------------\u001B[0m",
      "\u001B[1;31mImportError\u001B[0m                               Traceback (most recent call last)",
      "Cell \u001B[1;32mIn[16], line 1\u001B[0m\n\u001B[1;32m----> 1\u001B[0m \u001B[38;5;28;01mfrom\u001B[39;00m \u001B[38;5;21;01mspire\u001B[39;00m\u001B[38;5;21;01m.\u001B[39;00m\u001B[38;5;21;01mpdf\u001B[39;00m \u001B[38;5;28;01mimport\u001B[39;00m PdfDocument, PdfImageInfo, PdfImageFormat\n\u001B[0;32m      2\u001B[0m \u001B[38;5;28;01mfrom\u001B[39;00m \u001B[38;5;21;01mPIL\u001B[39;00m \u001B[38;5;28;01mimport\u001B[39;00m Image\n\u001B[0;32m      3\u001B[0m \u001B[38;5;28;01mimport\u001B[39;00m \u001B[38;5;21;01mio\u001B[39;00m\n",
      "\u001B[1;31mImportError\u001B[0m: cannot import name 'PdfImageFormat' from 'spire.pdf' (C:\\Users\\KIIT\\anaconda3\\envs\\ai_env\\Lib\\site-packages\\spire\\pdf\\__init__.py)"
     ]
    }
   ],
   "execution_count": 16
  },
  {
   "metadata": {
    "ExecuteTime": {
     "end_time": "2024-06-19T03:20:14.038610Z",
     "start_time": "2024-06-19T03:20:13.983811Z"
    }
   },
   "cell_type": "code",
   "source": [
    "from spire.pdf import PdfDocument, PdfImageInfo, PdfImageFormat\n",
    "from PIL import Image\n",
    "import io\n",
    "import os\n",
    "\n",
    "doc = PdfDocument()\n",
    "doc.LoadFromFile(\"test_file_extracted.pdf\")\n",
    "\n",
    "output_folder = \"Output\"\n",
    "if not os.path.exists(output_folder):\n",
    "    os.makedirs(output_folder)\n",
    "\n",
    "for i in range(doc.Pages.Count):\n",
    "    fileName = os.path.join(output_folder, \"img-{0:d}.png\".format(i))\n",
    "\n",
    "    imageInfo = PdfImageInfo(doc.Pages[i], PdfImageFormat.Png)\n",
    "    imageInfo.ImageResolution = 300\n",
    "    imageInfo.ImageCompression = ImageCompression.Flate\n",
    "\n",
    "    image_data = doc.SaveAsImage(doc.Pages[i], imageInfo)\n",
    "\n",
    "    image_stream = io.BytesIO(image_data)\n",
    "    img = Image.open(image_stream)\n",
    "    img.save(fileName, \"PNG\")\n",
    "\n",
    "doc.Close()"
   ],
   "outputs": [
    {
     "ename": "ImportError",
     "evalue": "cannot import name 'PdfImageFormat' from 'spire.pdf' (C:\\Users\\KIIT\\anaconda3\\envs\\ai_env\\Lib\\site-packages\\spire\\pdf\\__init__.py)",
     "output_type": "error",
     "traceback": [
      "\u001B[1;31m---------------------------------------------------------------------------\u001B[0m",
      "\u001B[1;31mImportError\u001B[0m                               Traceback (most recent call last)",
      "Cell \u001B[1;32mIn[17], line 1\u001B[0m\n\u001B[1;32m----> 1\u001B[0m \u001B[38;5;28;01mfrom\u001B[39;00m \u001B[38;5;21;01mspire\u001B[39;00m\u001B[38;5;21;01m.\u001B[39;00m\u001B[38;5;21;01mpdf\u001B[39;00m \u001B[38;5;28;01mimport\u001B[39;00m PdfDocument, PdfImageInfo, PdfImageFormat\n\u001B[0;32m      2\u001B[0m \u001B[38;5;28;01mfrom\u001B[39;00m \u001B[38;5;21;01mPIL\u001B[39;00m \u001B[38;5;28;01mimport\u001B[39;00m Image\n\u001B[0;32m      3\u001B[0m \u001B[38;5;28;01mimport\u001B[39;00m \u001B[38;5;21;01mio\u001B[39;00m\n",
      "\u001B[1;31mImportError\u001B[0m: cannot import name 'PdfImageFormat' from 'spire.pdf' (C:\\Users\\KIIT\\anaconda3\\envs\\ai_env\\Lib\\site-packages\\spire\\pdf\\__init__.py)"
     ]
    }
   ],
   "execution_count": 17
  },
  {
   "metadata": {
    "ExecuteTime": {
     "end_time": "2024-06-19T03:22:51.978507Z",
     "start_time": "2024-06-19T03:22:51.910814Z"
    }
   },
   "cell_type": "code",
   "source": [
    "import fitz\n",
    "\n",
    "def convert_pdf_to_image(pdf_file, output_file):\n",
    "    # Open the PDF document\n",
    "    doc = fitz.open('test_file_extracted.pdf')\n",
    "\n",
    "    # Loop through the pages in the PDF\n",
    "    for page_num, page in enumerate(doc):\n",
    "        # Convert the page to an image\n",
    "        image = page.get_pixmap()\n",
    "\n",
    "        # Save the image as a PNG file\n",
    "        image.save(f\"{'mupdf_ext'}_{page_num}.png\")\n",
    "\n",
    "    # Close the PDF document\n",
    "    doc.close()\n",
    "\n",
    "# Usage example\n",
    "convert_pdf_to_image(\"input.pdf\", \"output\")"
   ],
   "outputs": [],
   "execution_count": 18
  },
  {
   "metadata": {
    "ExecuteTime": {
     "end_time": "2024-06-19T03:30:12.391459Z",
     "start_time": "2024-06-19T03:30:12.314122Z"
    }
   },
   "cell_type": "code",
   "source": [
    "from PIL import Image, ImageEnhance\n",
    "\n",
    "def sharpen_image(input_file, output_file):\n",
    "    # Open the input image\n",
    "    image = Image.open(input_file)\n",
    "\n",
    "    # Enhance the image by increasing the contrast\n",
    "    enhancer = ImageEnhance.Contrast(image)\n",
    "    image = enhancer.enhance(5)\n",
    "\n",
    "    # Enhance the image by increasing the sharpness\n",
    "    enhancer = ImageEnhance.Sharpness(image)\n",
    "    image = enhancer.enhance(5)\n",
    "\n",
    "    # Save the sharpened image\n",
    "    image.save(output_file)\n",
    "\n",
    "# Usage example\n",
    "input_file = \"mupdf_ext_0.png\"\n",
    "output_file = \"mupdf_sharpened.png\"\n",
    "sharpen_image(input_file, output_file)"
   ],
   "outputs": [],
   "execution_count": 22
  }
 ],
 "metadata": {
  "kernelspec": {
   "display_name": "Python 3 (ipykernel)",
   "language": "python",
   "name": "python3"
  },
  "language_info": {
   "codemirror_mode": {
    "name": "ipython",
    "version": 3
   },
   "file_extension": ".py",
   "mimetype": "text/x-python",
   "name": "python",
   "nbconvert_exporter": "python",
   "pygments_lexer": "ipython3",
   "version": "3.12.3"
  }
 },
 "nbformat": 4,
 "nbformat_minor": 4
}
