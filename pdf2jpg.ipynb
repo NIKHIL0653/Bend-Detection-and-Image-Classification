{
 "cells": [
  {
   "cell_type": "code",
   "metadata": {
    "ExecuteTime": {
     "end_time": "2024-06-17T05:53:00.910947Z",
     "start_time": "2024-06-17T05:53:00.904828Z"
    }
   },
   "source": [
    "import fitz\n",
    "from PIL import Image"
   ],
   "outputs": [],
   "execution_count": 2
  },
  {
   "cell_type": "code",
   "metadata": {
    "ExecuteTime": {
     "end_time": "2024-06-17T05:53:17.387480Z",
     "start_time": "2024-06-17T05:53:17.277627Z"
    }
   },
   "source": [
    "doc = fitz.open(\"table.pdf\")\n",
    "page = doc[0]\n",
    "paths = page.get_drawings()  # extract existing drawings\n",
    "# this is a list of \"paths\", which can directly be drawn again using Shape\n",
    "# -------------------------------------------------------------------------"
   ],
   "outputs": [],
   "execution_count": 3
  },
  {
   "cell_type": "code",
   "metadata": {
    "ExecuteTime": {
     "end_time": "2024-06-17T05:53:18.600351Z",
     "start_time": "2024-06-17T05:53:18.581269Z"
    }
   },
   "source": [
    "# define some output page with the same dimensions\n",
    "outpdf = fitz.open()\n",
    "outpage = outpdf.new_page(width=page.rect.width, height=page.rect.height)\n",
    "shape = outpage.new_shape()  # make a drawing canvas for the output page"
   ],
   "outputs": [],
   "execution_count": 4
  },
  {
   "cell_type": "code",
   "metadata": {
    "ExecuteTime": {
     "end_time": "2024-06-17T05:53:19.305018Z",
     "start_time": "2024-06-17T05:53:19.272310Z"
    }
   },
   "source": [
    "# --------------------------------------\n",
    "# loop through the paths and draw them\n",
    "# --------------------------------------\n",
    "for path in paths:\n",
    "    # ------------------------------------\n",
    "    # draw each entry of the 'items' list\n",
    "    # ------------------------------------\n",
    "    for item in path[\"items\"]:  # these are the draw commands\n",
    "        if item[0] == \"l\":  # line\n",
    "            shape.draw_line(item[1], item[2])\n",
    "        elif item[0] == \"re\":  # rectangle\n",
    "            shape.draw_rect(item[1])\n",
    "        elif item[0] == \"qu\":  # quad\n",
    "            shape.draw_quad(item[1])\n",
    "        elif item[0] == \"c\":  # curve\n",
    "            shape.draw_bezier(item[1], item[2], item[3], item[4])\n",
    "        else:\n",
    "            raise ValueError(\"unhandled drawing\", item)\n",
    "    # ------------------------------------------------------\n",
    "    # all items are drawn, now apply the common properties\n",
    "    # to finish the path\n",
    "    # ------------------------------------------------------\n",
    "    shape.finish()"
   ],
   "outputs": [],
   "execution_count": 5
  },
  {
   "cell_type": "code",
   "metadata": {
    "ExecuteTime": {
     "end_time": "2024-06-17T05:53:20.560014Z",
     "start_time": "2024-06-17T05:53:20.538515Z"
    }
   },
   "source": [
    "# all paths processed - commit the shape to its page\n",
    "shape.commit()\n",
    "outpdf.save(\"test_file_extracted.pdf\")"
   ],
   "outputs": [],
   "execution_count": 6
  },
  {
   "cell_type": "code",
   "metadata": {
    "ExecuteTime": {
     "end_time": "2024-06-17T05:53:43.030458Z",
     "start_time": "2024-06-17T05:53:41.531471Z"
    }
   },
   "source": [
    "from spire.pdf.common import *\n",
    "from spire.pdf import *\n",
    "\n",
    "# Create a PdfDocument object\n",
    "doc = PdfDocument()\n",
    "# Load a PDF document\n",
    "doc.LoadFromFile(\"test_file_extracted.pdf\")\n",
    "\n",
    "# Loop through the pages in the document\n",
    "for i in range(doc.Pages.Count):\n",
    "    # Save each page as a PNG image\n",
    "    fileName = \"Output/img-{0:d}.png\".format(i)\n",
    "    with doc.SaveAsImage(i) as imageS:\n",
    "        imageS.Save('p2j')\n",
    "\n",
    "# Close the PdfDocument object\n",
    "doc.Close()"
   ],
   "outputs": [],
   "execution_count": 8
  },
  {
   "metadata": {
    "ExecuteTime": {
     "end_time": "2024-06-17T06:24:55.755809Z",
     "start_time": "2024-06-17T06:24:55.564754Z"
    }
   },
   "cell_type": "code",
   "source": [
    "from spire.pdf.common import *\n",
    "from spire.pdf import *\n",
    "from PIL import Image\n",
    "import io\n",
    "import os\n",
    "\n",
    "doc = PdfDocument()\n",
    "doc.LoadFromFile(\"test_file_extracted.pdf\")\n",
    "\n",
    "output_folder = \"Output\"\n",
    "if not os.path.exists(output_folder):\n",
    "    os.makedirs(output_folder)\n",
    "\n",
    "for i in range(doc.Pages.Count):\n",
    "    fileName = os.path.join(output_folder, \"img-{0:d}.png\".format(i))\n",
    "\n",
    "    with PdfImageInfo(doc.Pages[i]) as imageInfo:\n",
    "        imageInfo.ImageResolution = 300\n",
    "        # imageInfo.ImageCompression = ImageCompression.Flate\n",
    "\n",
    "        # Use PdfDocument.SaveAsImage() with PdfPageBase as parameter\n",
    "        image_data = doc.SaveAsImage(doc.Pages[i])  \n",
    "\n",
    "        image_stream = io.BytesIO(image_data)\n",
    "        img = Image.open(image_stream)\n",
    "        img.save(fileName, \"PNG\")\n",
    "\n",
    "doc.Close()\n"
   ],
   "outputs": [
    {
     "ename": "NotFoundLookupError",
     "evalue": "For function \"SaveAsImage\" of spire.pdf.PdfDocument.PdfDocument, signature Signature(spire.pdf.PdfDocument.PdfDocument, spire.pdf.PdfPageBase.PdfPageBase) could not be resolved.",
     "output_type": "error",
     "traceback": [
      "\u001B[1;31m---------------------------------------------------------------------------\u001B[0m",
      "\u001B[1;31mNotFoundLookupError\u001B[0m                       Traceback (most recent call last)",
      "Cell \u001B[1;32mIn[22], line 22\u001B[0m\n\u001B[0;32m     18\u001B[0m imageInfo\u001B[38;5;241m.\u001B[39mImageResolution \u001B[38;5;241m=\u001B[39m \u001B[38;5;241m300\u001B[39m\n\u001B[0;32m     19\u001B[0m \u001B[38;5;66;03m# imageInfo.ImageCompression = ImageCompression.Flate\u001B[39;00m\n\u001B[0;32m     20\u001B[0m \n\u001B[0;32m     21\u001B[0m \u001B[38;5;66;03m# Use PdfDocument.SaveAsImage() with PdfPageBase as parameter\u001B[39;00m\n\u001B[1;32m---> 22\u001B[0m image_data \u001B[38;5;241m=\u001B[39m doc\u001B[38;5;241m.\u001B[39mSaveAsImage(doc\u001B[38;5;241m.\u001B[39mPages[i])  \n\u001B[0;32m     24\u001B[0m image_stream \u001B[38;5;241m=\u001B[39m io\u001B[38;5;241m.\u001B[39mBytesIO(image_data)\n\u001B[0;32m     25\u001B[0m img \u001B[38;5;241m=\u001B[39m Image\u001B[38;5;241m.\u001B[39mopen(image_stream)\n",
      "File \u001B[1;32m~\\anaconda3\\envs\\ai_env\\Lib\\site-packages\\plum\\function.py:642\u001B[0m, in \u001B[0;36m_BoundFunction.__call__\u001B[1;34m(self, *args, **kw_args)\u001B[0m\n\u001B[0;32m    641\u001B[0m \u001B[38;5;28;01mdef\u001B[39;00m \u001B[38;5;21m__call__\u001B[39m(\u001B[38;5;28mself\u001B[39m, \u001B[38;5;241m*\u001B[39margs, \u001B[38;5;241m*\u001B[39m\u001B[38;5;241m*\u001B[39mkw_args):\n\u001B[1;32m--> 642\u001B[0m     \u001B[38;5;28;01mreturn\u001B[39;00m \u001B[38;5;28mself\u001B[39m\u001B[38;5;241m.\u001B[39mf(\u001B[38;5;28mself\u001B[39m\u001B[38;5;241m.\u001B[39minstance, \u001B[38;5;241m*\u001B[39margs, \u001B[38;5;241m*\u001B[39m\u001B[38;5;241m*\u001B[39mkw_args)\n",
      "File \u001B[1;32m~\\anaconda3\\envs\\ai_env\\Lib\\site-packages\\plum\\function.py:591\u001B[0m, in \u001B[0;36mFunction.__call__\u001B[1;34m(self, *args, **kw_args)\u001B[0m\n\u001B[0;32m    588\u001B[0m     \u001B[38;5;28;01mpass\u001B[39;00m\n\u001B[0;32m    590\u001B[0m \u001B[38;5;66;03m# Cache failed. Get method and return type, and perform call.\u001B[39;00m\n\u001B[1;32m--> 591\u001B[0m method, return_type \u001B[38;5;241m=\u001B[39m \u001B[38;5;28mself\u001B[39m\u001B[38;5;241m.\u001B[39mresolve_method(\u001B[38;5;241m*\u001B[39msig_types)\n\u001B[0;32m    592\u001B[0m \u001B[38;5;28;01mreturn\u001B[39;00m _convert(method(\u001B[38;5;241m*\u001B[39margs, \u001B[38;5;241m*\u001B[39m\u001B[38;5;241m*\u001B[39mkw_args), return_type)\n",
      "File \u001B[1;32m~\\anaconda3\\envs\\ai_env\\Lib\\site-packages\\plum\\function.py:553\u001B[0m, in \u001B[0;36mFunction.resolve_method\u001B[1;34m(self, *types)\u001B[0m\n\u001B[0;32m    548\u001B[0m             \u001B[38;5;28;01mraise\u001B[39;00m e\n\u001B[0;32m    550\u001B[0m         \u001B[38;5;28;01mif\u001B[39;00m \u001B[38;5;129;01mnot\u001B[39;00m method:\n\u001B[0;32m    551\u001B[0m             \u001B[38;5;66;03m# If no method has been found after walking through the\u001B[39;00m\n\u001B[0;32m    552\u001B[0m             \u001B[38;5;66;03m# MRO, raise the original exception.\u001B[39;00m\n\u001B[1;32m--> 553\u001B[0m             \u001B[38;5;28;01mraise\u001B[39;00m e\n\u001B[0;32m    554\u001B[0m \u001B[38;5;28;01melse\u001B[39;00m:\n\u001B[0;32m    555\u001B[0m     \u001B[38;5;66;03m# Not in a class. Simply resolve.\u001B[39;00m\n\u001B[0;32m    556\u001B[0m     method, return_type \u001B[38;5;241m=\u001B[39m \u001B[38;5;28mself\u001B[39m\u001B[38;5;241m.\u001B[39m_methods[\u001B[38;5;28mself\u001B[39m\u001B[38;5;241m.\u001B[39mresolve_signature(signature)]\n",
      "File \u001B[1;32m~\\anaconda3\\envs\\ai_env\\Lib\\site-packages\\plum\\function.py:521\u001B[0m, in \u001B[0;36mFunction.resolve_method\u001B[1;34m(self, *types)\u001B[0m\n\u001B[0;32m    519\u001B[0m \u001B[38;5;28;01mif\u001B[39;00m \u001B[38;5;28mself\u001B[39m\u001B[38;5;241m.\u001B[39m_owner:\n\u001B[0;32m    520\u001B[0m     \u001B[38;5;28;01mtry\u001B[39;00m:\n\u001B[1;32m--> 521\u001B[0m         method, return_type \u001B[38;5;241m=\u001B[39m \u001B[38;5;28mself\u001B[39m\u001B[38;5;241m.\u001B[39m_methods[\u001B[38;5;28mself\u001B[39m\u001B[38;5;241m.\u001B[39mresolve_signature(signature)]\n\u001B[0;32m    522\u001B[0m     \u001B[38;5;28;01mexcept\u001B[39;00m NotFoundLookupError \u001B[38;5;28;01mas\u001B[39;00m e:\n\u001B[0;32m    523\u001B[0m         method \u001B[38;5;241m=\u001B[39m \u001B[38;5;28;01mNone\u001B[39;00m\n",
      "File \u001B[1;32m~\\anaconda3\\envs\\ai_env\\Lib\\site-packages\\plum\\function.py:492\u001B[0m, in \u001B[0;36mFunction.resolve_signature\u001B[1;34m(self, signature)\u001B[0m\n\u001B[0;32m    490\u001B[0m \u001B[38;5;28;01melse\u001B[39;00m:\n\u001B[0;32m    491\u001B[0m     class_message \u001B[38;5;241m=\u001B[39m \u001B[38;5;124mf\u001B[39m\u001B[38;5;124m\"\u001B[39m\u001B[38;5;124m of \u001B[39m\u001B[38;5;132;01m{\u001B[39;00m\u001B[38;5;28mself\u001B[39m\u001B[38;5;241m.\u001B[39m_owner\u001B[38;5;132;01m}\u001B[39;00m\u001B[38;5;124m\"\u001B[39m \u001B[38;5;28;01mif\u001B[39;00m \u001B[38;5;28mself\u001B[39m\u001B[38;5;241m.\u001B[39m_owner \u001B[38;5;28;01melse\u001B[39;00m \u001B[38;5;124m\"\u001B[39m\u001B[38;5;124m\"\u001B[39m\n\u001B[1;32m--> 492\u001B[0m     \u001B[38;5;28;01mraise\u001B[39;00m NotFoundLookupError(\n\u001B[0;32m    493\u001B[0m         \u001B[38;5;124mf\u001B[39m\u001B[38;5;124m'\u001B[39m\u001B[38;5;124mFor function \u001B[39m\u001B[38;5;124m\"\u001B[39m\u001B[38;5;132;01m{\u001B[39;00m\u001B[38;5;28mself\u001B[39m\u001B[38;5;241m.\u001B[39m_f\u001B[38;5;241m.\u001B[39m\u001B[38;5;18m__name__\u001B[39m\u001B[38;5;132;01m}\u001B[39;00m\u001B[38;5;124m\"\u001B[39m\u001B[38;5;132;01m{\u001B[39;00mclass_message\u001B[38;5;132;01m}\u001B[39;00m\u001B[38;5;124m, \u001B[39m\u001B[38;5;124m'\u001B[39m\n\u001B[0;32m    494\u001B[0m         \u001B[38;5;124mf\u001B[39m\u001B[38;5;124m\"\u001B[39m\u001B[38;5;124msignature \u001B[39m\u001B[38;5;132;01m{\u001B[39;00msignature\u001B[38;5;132;01m}\u001B[39;00m\u001B[38;5;124m could not be resolved.\u001B[39m\u001B[38;5;124m\"\u001B[39m\n\u001B[0;32m    495\u001B[0m     )\n",
      "\u001B[1;31mNotFoundLookupError\u001B[0m: For function \"SaveAsImage\" of spire.pdf.PdfDocument.PdfDocument, signature Signature(spire.pdf.PdfDocument.PdfDocument, spire.pdf.PdfPageBase.PdfPageBase) could not be resolved."
     ]
    }
   ],
   "execution_count": 22
  }
 ],
 "metadata": {
  "kernelspec": {
   "display_name": "Python 3 (ipykernel)",
   "language": "python",
   "name": "python3"
  },
  "language_info": {
   "codemirror_mode": {
    "name": "ipython",
    "version": 3
   },
   "file_extension": ".py",
   "mimetype": "text/x-python",
   "name": "python",
   "nbconvert_exporter": "python",
   "pygments_lexer": "ipython3",
   "version": "3.12.3"
  }
 },
 "nbformat": 4,
 "nbformat_minor": 4
}
