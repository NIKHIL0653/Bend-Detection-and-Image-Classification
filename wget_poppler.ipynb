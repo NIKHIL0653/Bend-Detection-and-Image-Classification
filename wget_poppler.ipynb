{
 "cells": [
  {
   "cell_type": "code",
   "id": "e195cc2c0408bdda",
   "metadata": {
    "collapsed": true,
    "ExecuteTime": {
     "end_time": "2024-06-17T09:35:50.747370Z",
     "start_time": "2024-06-17T09:35:50.738370Z"
    }
   },
   "source": [
    "import fitz\n",
    "from PIL import Image\n",
    "import subprocess\n",
    "import os"
   ],
   "outputs": [],
   "execution_count": 6
  },
  {
   "metadata": {
    "ExecuteTime": {
     "end_time": "2024-06-17T09:35:51.274992Z",
     "start_time": "2024-06-17T09:35:51.242939Z"
    }
   },
   "cell_type": "code",
   "source": [
    "doc = fitz.open(\"table.pdf\")\n",
    "page = doc[0]\n",
    "paths = page.get_drawings()  # extract existing drawings\n",
    "# this is a list of \"paths\", which can directly be drawn again using Shape\n",
    "# -------------------------------------------------------------------------"
   ],
   "id": "b68600d2cdc6fd20",
   "outputs": [],
   "execution_count": 7
  },
  {
   "metadata": {
    "ExecuteTime": {
     "end_time": "2024-06-17T09:35:51.855289Z",
     "start_time": "2024-06-17T09:35:51.841009Z"
    }
   },
   "cell_type": "code",
   "source": [
    "# define some output page with the same dimensions\n",
    "outpdf = fitz.open()\n",
    "outpage = outpdf.new_page(width=page.rect.width, height=page.rect.height)\n",
    "shape = outpage.new_shape()  # make a drawing canvas for the output page"
   ],
   "id": "1d9d03c5e807aa45",
   "outputs": [],
   "execution_count": 8
  },
  {
   "metadata": {
    "ExecuteTime": {
     "end_time": "2024-06-17T09:35:52.276903Z",
     "start_time": "2024-06-17T09:35:52.254550Z"
    }
   },
   "cell_type": "code",
   "source": [
    "# --------------------------------------\n",
    "# loop through the paths and draw them\n",
    "# --------------------------------------\n",
    "for path in paths:\n",
    "    # ------------------------------------\n",
    "    # draw each entry of the 'items' list\n",
    "    # ------------------------------------\n",
    "    for item in path[\"items\"]:  # these are the draw commands\n",
    "        if item[0] == \"l\":  # line\n",
    "            shape.draw_line(item[1], item[2])\n",
    "        elif item[0] == \"re\":  # rectangle\n",
    "            shape.draw_rect(item[1])\n",
    "        elif item[0] == \"qu\":  # quad\n",
    "            shape.draw_quad(item[1])\n",
    "        elif item[0] == \"c\":  # curve\n",
    "            shape.draw_bezier(item[1], item[2], item[3], item[4])\n",
    "        else:\n",
    "            raise ValueError(\"unhandled drawing\", item)\n",
    "    # ------------------------------------------------------\n",
    "    # all items are drawn, now apply the common properties\n",
    "    # to finish the path\n",
    "    # ------------------------------------------------------\n",
    "    shape.finish()\n",
    "# all paths processed - commit the shape to its page"
   ],
   "id": "152cd2335de66180",
   "outputs": [],
   "execution_count": 9
  },
  {
   "metadata": {
    "ExecuteTime": {
     "end_time": "2024-06-17T09:35:53.107504Z",
     "start_time": "2024-06-17T09:35:53.098599Z"
    }
   },
   "cell_type": "code",
   "source": [
    "shape.commit()\n",
    "outpdf.save(\"test_file_ext.pdf\")"
   ],
   "id": "7a8290f46267d611",
   "outputs": [],
   "execution_count": 10
  },
  {
   "metadata": {
    "ExecuteTime": {
     "end_time": "2024-06-17T09:35:58.209971Z",
     "start_time": "2024-06-17T09:35:58.176221Z"
    }
   },
   "cell_type": "code",
   "source": [
    "import fitz\n",
    "from pdf2image import convert_from_path\n",
    "\n",
    "pdf_path = 'test_file_ext.pdf'\n",
    "doc = fitz.open(pdf_path)"
   ],
   "id": "aa473853fd0f1eca",
   "outputs": [],
   "execution_count": 11
  },
  {
   "metadata": {
    "ExecuteTime": {
     "end_time": "2024-06-17T09:36:31.795717Z",
     "start_time": "2024-06-17T09:36:31.644740Z"
    }
   },
   "cell_type": "code",
   "source": [
    "# Install Poppler using wget and save the files in Program Files\n",
    "poppler_version = '24.02.0'\n",
    "poppler_url = f'https://dl.bintray.com/gildor/poppler/poppler-{poppler_version}-windows_x86_64.zip'\n",
    "poppler_zip_path = os.path.join(os.environ['ProgramFiles'], f'poppler-{poppler_version}.zip')\n",
    "poppler_path = os.path.join(os.environ['ProgramFiles'], f'poppler-{poppler_version}')\n",
    "\n",
    "# Download Poppler\n",
    "subprocess.run(['wget', '-O', poppler_zip_path, poppler_url])\n",
    "\n",
    "# Extract Poppler\n",
    "subprocess.run(['unzip', '-o', poppler_zip_path, '-d', os.environ['ProgramFiles']])"
   ],
   "id": "c4c6d7ff9caad0db",
   "outputs": [
    {
     "data": {
      "text/plain": [
       "CompletedProcess(args=['unzip', '-o', 'C:\\\\Program Files\\\\poppler-24.02.0.zip', '-d', 'C:\\\\Program Files'], returncode=9)"
      ]
     },
     "execution_count": 12,
     "metadata": {},
     "output_type": "execute_result"
    }
   ],
   "execution_count": 12
  },
  {
   "metadata": {
    "ExecuteTime": {
     "end_time": "2024-06-17T09:36:48.401356Z",
     "start_time": "2024-06-17T09:36:46.072397Z"
    }
   },
   "cell_type": "code",
   "source": [
    "# Convert PDF to images using pdf2image\n",
    "images = convert_from_path(pdf_path, poppler_path=poppler_path)\n",
    "\n",
    "# Save each image as a JPEG file\n",
    "for image in images:\n",
    "    image.save('extracted_image1.jpg', 'JPEG')"
   ],
   "id": "initial_id",
   "outputs": [
    {
     "ename": "PDFInfoNotInstalledError",
     "evalue": "Unable to get page count. Is poppler installed and in PATH?",
     "output_type": "error",
     "traceback": [
      "\u001B[1;31m---------------------------------------------------------------------------\u001B[0m",
      "\u001B[1;31mFileNotFoundError\u001B[0m                         Traceback (most recent call last)",
      "File \u001B[1;32m~\\anaconda3\\envs\\ai_env\\Lib\\site-packages\\pdf2image\\pdf2image.py:581\u001B[0m, in \u001B[0;36mpdfinfo_from_path\u001B[1;34m(pdf_path, userpw, ownerpw, poppler_path, rawdates, timeout, first_page, last_page)\u001B[0m\n\u001B[0;32m    580\u001B[0m     env[\u001B[38;5;124m\"\u001B[39m\u001B[38;5;124mLD_LIBRARY_PATH\u001B[39m\u001B[38;5;124m\"\u001B[39m] \u001B[38;5;241m=\u001B[39m poppler_path \u001B[38;5;241m+\u001B[39m \u001B[38;5;124m\"\u001B[39m\u001B[38;5;124m:\u001B[39m\u001B[38;5;124m\"\u001B[39m \u001B[38;5;241m+\u001B[39m env\u001B[38;5;241m.\u001B[39mget(\u001B[38;5;124m\"\u001B[39m\u001B[38;5;124mLD_LIBRARY_PATH\u001B[39m\u001B[38;5;124m\"\u001B[39m, \u001B[38;5;124m\"\u001B[39m\u001B[38;5;124m\"\u001B[39m)\n\u001B[1;32m--> 581\u001B[0m proc \u001B[38;5;241m=\u001B[39m Popen(command, env\u001B[38;5;241m=\u001B[39menv, stdout\u001B[38;5;241m=\u001B[39mPIPE, stderr\u001B[38;5;241m=\u001B[39mPIPE)\n\u001B[0;32m    583\u001B[0m \u001B[38;5;28;01mtry\u001B[39;00m:\n",
      "File \u001B[1;32m~\\anaconda3\\envs\\ai_env\\Lib\\subprocess.py:1026\u001B[0m, in \u001B[0;36mPopen.__init__\u001B[1;34m(self, args, bufsize, executable, stdin, stdout, stderr, preexec_fn, close_fds, shell, cwd, env, universal_newlines, startupinfo, creationflags, restore_signals, start_new_session, pass_fds, user, group, extra_groups, encoding, errors, text, umask, pipesize, process_group)\u001B[0m\n\u001B[0;32m   1023\u001B[0m             \u001B[38;5;28mself\u001B[39m\u001B[38;5;241m.\u001B[39mstderr \u001B[38;5;241m=\u001B[39m io\u001B[38;5;241m.\u001B[39mTextIOWrapper(\u001B[38;5;28mself\u001B[39m\u001B[38;5;241m.\u001B[39mstderr,\n\u001B[0;32m   1024\u001B[0m                     encoding\u001B[38;5;241m=\u001B[39mencoding, errors\u001B[38;5;241m=\u001B[39merrors)\n\u001B[1;32m-> 1026\u001B[0m     \u001B[38;5;28mself\u001B[39m\u001B[38;5;241m.\u001B[39m_execute_child(args, executable, preexec_fn, close_fds,\n\u001B[0;32m   1027\u001B[0m                         pass_fds, cwd, env,\n\u001B[0;32m   1028\u001B[0m                         startupinfo, creationflags, shell,\n\u001B[0;32m   1029\u001B[0m                         p2cread, p2cwrite,\n\u001B[0;32m   1030\u001B[0m                         c2pread, c2pwrite,\n\u001B[0;32m   1031\u001B[0m                         errread, errwrite,\n\u001B[0;32m   1032\u001B[0m                         restore_signals,\n\u001B[0;32m   1033\u001B[0m                         gid, gids, uid, umask,\n\u001B[0;32m   1034\u001B[0m                         start_new_session, process_group)\n\u001B[0;32m   1035\u001B[0m \u001B[38;5;28;01mexcept\u001B[39;00m:\n\u001B[0;32m   1036\u001B[0m     \u001B[38;5;66;03m# Cleanup if the child failed starting.\u001B[39;00m\n",
      "File \u001B[1;32m~\\anaconda3\\envs\\ai_env\\Lib\\subprocess.py:1538\u001B[0m, in \u001B[0;36mPopen._execute_child\u001B[1;34m(self, args, executable, preexec_fn, close_fds, pass_fds, cwd, env, startupinfo, creationflags, shell, p2cread, p2cwrite, c2pread, c2pwrite, errread, errwrite, unused_restore_signals, unused_gid, unused_gids, unused_uid, unused_umask, unused_start_new_session, unused_process_group)\u001B[0m\n\u001B[0;32m   1537\u001B[0m \u001B[38;5;28;01mtry\u001B[39;00m:\n\u001B[1;32m-> 1538\u001B[0m     hp, ht, pid, tid \u001B[38;5;241m=\u001B[39m _winapi\u001B[38;5;241m.\u001B[39mCreateProcess(executable, args,\n\u001B[0;32m   1539\u001B[0m                              \u001B[38;5;66;03m# no special security\u001B[39;00m\n\u001B[0;32m   1540\u001B[0m                              \u001B[38;5;28;01mNone\u001B[39;00m, \u001B[38;5;28;01mNone\u001B[39;00m,\n\u001B[0;32m   1541\u001B[0m                              \u001B[38;5;28mint\u001B[39m(\u001B[38;5;129;01mnot\u001B[39;00m close_fds),\n\u001B[0;32m   1542\u001B[0m                              creationflags,\n\u001B[0;32m   1543\u001B[0m                              env,\n\u001B[0;32m   1544\u001B[0m                              cwd,\n\u001B[0;32m   1545\u001B[0m                              startupinfo)\n\u001B[0;32m   1546\u001B[0m \u001B[38;5;28;01mfinally\u001B[39;00m:\n\u001B[0;32m   1547\u001B[0m     \u001B[38;5;66;03m# Child is launched. Close the parent's copy of those pipe\u001B[39;00m\n\u001B[0;32m   1548\u001B[0m     \u001B[38;5;66;03m# handles that only the child should have open.  You need\u001B[39;00m\n\u001B[1;32m   (...)\u001B[0m\n\u001B[0;32m   1551\u001B[0m     \u001B[38;5;66;03m# pipe will not close when the child process exits and the\u001B[39;00m\n\u001B[0;32m   1552\u001B[0m     \u001B[38;5;66;03m# ReadFile will hang.\u001B[39;00m\n",
      "\u001B[1;31mFileNotFoundError\u001B[0m: [WinError 2] The system cannot find the file specified",
      "\nDuring handling of the above exception, another exception occurred:\n",
      "\u001B[1;31mPDFInfoNotInstalledError\u001B[0m                  Traceback (most recent call last)",
      "Cell \u001B[1;32mIn[13], line 2\u001B[0m\n\u001B[0;32m      1\u001B[0m \u001B[38;5;66;03m# Convert PDF to images using pdf2image\u001B[39;00m\n\u001B[1;32m----> 2\u001B[0m images \u001B[38;5;241m=\u001B[39m convert_from_path(pdf_path, poppler_path\u001B[38;5;241m=\u001B[39mpoppler_path)\n\u001B[0;32m      4\u001B[0m \u001B[38;5;66;03m# Save each image as a JPEG file\u001B[39;00m\n\u001B[0;32m      5\u001B[0m \u001B[38;5;28;01mfor\u001B[39;00m image \u001B[38;5;129;01min\u001B[39;00m images:\n",
      "File \u001B[1;32m~\\anaconda3\\envs\\ai_env\\Lib\\site-packages\\pdf2image\\pdf2image.py:127\u001B[0m, in \u001B[0;36mconvert_from_path\u001B[1;34m(pdf_path, dpi, output_folder, first_page, last_page, fmt, jpegopt, thread_count, userpw, ownerpw, use_cropbox, strict, transparent, single_file, output_file, poppler_path, grayscale, size, paths_only, use_pdftocairo, timeout, hide_annotations)\u001B[0m\n\u001B[0;32m    124\u001B[0m \u001B[38;5;28;01mif\u001B[39;00m \u001B[38;5;28misinstance\u001B[39m(poppler_path, PurePath):\n\u001B[0;32m    125\u001B[0m     poppler_path \u001B[38;5;241m=\u001B[39m poppler_path\u001B[38;5;241m.\u001B[39mas_posix()\n\u001B[1;32m--> 127\u001B[0m page_count \u001B[38;5;241m=\u001B[39m pdfinfo_from_path(\n\u001B[0;32m    128\u001B[0m     pdf_path, userpw, ownerpw, poppler_path\u001B[38;5;241m=\u001B[39mpoppler_path\n\u001B[0;32m    129\u001B[0m )[\u001B[38;5;124m\"\u001B[39m\u001B[38;5;124mPages\u001B[39m\u001B[38;5;124m\"\u001B[39m]\n\u001B[0;32m    131\u001B[0m \u001B[38;5;66;03m# We start by getting the output format, the buffer processing function and if we need pdftocairo\u001B[39;00m\n\u001B[0;32m    132\u001B[0m parsed_fmt, final_extension, parse_buffer_func, use_pdfcairo_format \u001B[38;5;241m=\u001B[39m _parse_format(\n\u001B[0;32m    133\u001B[0m     fmt, grayscale\n\u001B[0;32m    134\u001B[0m )\n",
      "File \u001B[1;32m~\\anaconda3\\envs\\ai_env\\Lib\\site-packages\\pdf2image\\pdf2image.py:607\u001B[0m, in \u001B[0;36mpdfinfo_from_path\u001B[1;34m(pdf_path, userpw, ownerpw, poppler_path, rawdates, timeout, first_page, last_page)\u001B[0m\n\u001B[0;32m    604\u001B[0m     \u001B[38;5;28;01mreturn\u001B[39;00m d\n\u001B[0;32m    606\u001B[0m \u001B[38;5;28;01mexcept\u001B[39;00m \u001B[38;5;167;01mOSError\u001B[39;00m:\n\u001B[1;32m--> 607\u001B[0m     \u001B[38;5;28;01mraise\u001B[39;00m PDFInfoNotInstalledError(\n\u001B[0;32m    608\u001B[0m         \u001B[38;5;124m\"\u001B[39m\u001B[38;5;124mUnable to get page count. Is poppler installed and in PATH?\u001B[39m\u001B[38;5;124m\"\u001B[39m\n\u001B[0;32m    609\u001B[0m     )\n\u001B[0;32m    610\u001B[0m \u001B[38;5;28;01mexcept\u001B[39;00m \u001B[38;5;167;01mValueError\u001B[39;00m:\n\u001B[0;32m    611\u001B[0m     \u001B[38;5;28;01mraise\u001B[39;00m PDFPageCountError(\n\u001B[0;32m    612\u001B[0m         \u001B[38;5;124mf\u001B[39m\u001B[38;5;124m\"\u001B[39m\u001B[38;5;124mUnable to get page count.\u001B[39m\u001B[38;5;130;01m\\n\u001B[39;00m\u001B[38;5;132;01m{\u001B[39;00merr\u001B[38;5;241m.\u001B[39mdecode(\u001B[38;5;124m'\u001B[39m\u001B[38;5;124mutf8\u001B[39m\u001B[38;5;124m'\u001B[39m,\u001B[38;5;250m \u001B[39m\u001B[38;5;124m'\u001B[39m\u001B[38;5;124mignore\u001B[39m\u001B[38;5;124m'\u001B[39m)\u001B[38;5;132;01m}\u001B[39;00m\u001B[38;5;124m\"\u001B[39m\n\u001B[0;32m    613\u001B[0m     )\n",
      "\u001B[1;31mPDFInfoNotInstalledError\u001B[0m: Unable to get page count. Is poppler installed and in PATH?"
     ]
    }
   ],
   "execution_count": 13
  },
  {
   "metadata": {},
   "cell_type": "code",
   "outputs": [],
   "execution_count": null,
   "source": "",
   "id": "1cb72e8483dc7805"
  }
 ],
 "metadata": {
  "kernelspec": {
   "display_name": "Python 3",
   "language": "python",
   "name": "python3"
  },
  "language_info": {
   "codemirror_mode": {
    "name": "ipython",
    "version": 2
   },
   "file_extension": ".py",
   "mimetype": "text/x-python",
   "name": "python",
   "nbconvert_exporter": "python",
   "pygments_lexer": "ipython2",
   "version": "2.7.6"
  }
 },
 "nbformat": 4,
 "nbformat_minor": 5
}
