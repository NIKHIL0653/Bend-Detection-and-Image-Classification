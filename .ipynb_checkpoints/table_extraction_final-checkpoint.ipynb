{
 "cells": [
  {
   "cell_type": "code",
   "execution_count": 47,
   "metadata": {},
   "outputs": [],
   "source": [
    "import fitz  # PyMuPDF\n",
    "from PIL import Image\n",
    "import os"
   ]
  },
  {
   "cell_type": "code",
   "execution_count": 49,
   "metadata": {},
   "outputs": [],
   "source": [
    "# Input the PDF file you want to work with\n",
    "pdf_file = \"bbs2.pdf\"\n",
    "\n",
    "# Open the PDF file\n",
    "doc = fitz.open(pdf_file)\n",
    "\n",
    "# Create an output PDF\n",
    "outpdf = fitz.open()"
   ]
  },
  {
   "cell_type": "code",
   "execution_count": 50,
   "metadata": {},
   "outputs": [],
   "source": [
    "# Loop over all pages of the PDF file\n",
    "for page_num in range(len(doc)):\n",
    "    page = doc[page_num]\n",
    "    paths = page.get_drawings()  # extract existing drawings\n",
    "\n",
    "    # Define some output page with the same dimensions\n",
    "    outpage = outpdf.new_page(width=page.rect.width, height=page.rect.height)\n",
    "    shape = outpage.new_shape()  # make a drawing canvas for the output page    \n",
    "\n",
    "    # Loop through the paths and draw them\n",
    "    for path in paths:\n",
    "        for item in path[\"items\"]:  # these are the draw commands\n",
    "            if item[0] == \"l\":  # line\n",
    "                shape.draw_line(item[1], item[2])\n",
    "            elif item[0] == \"re\":  # rectangle\n",
    "                shape.draw_rect(item[1])\n",
    "            elif item[0] == \"qu\":  # quad\n",
    "                shape.draw_quad(item[1])\n",
    "            elif item[0] == \"c\":  # curve\n",
    "                shape.draw_bezier(item[1], item[2], item[3], item[4])\n",
    "            else:\n",
    "                raise ValueError(\"unhandled drawing\", item)\n",
    "        shape.finish()\n",
    "    \n",
    "    # Commit the shape to its page\n",
    "    shape.commit()"
   ]
  },
  {
   "cell_type": "code",
   "execution_count": 51,
   "metadata": {},
   "outputs": [],
   "source": [
    "# Save the output PDF\n",
    "output_pdf_path = f\"{os.path.splitext(pdf_file)[0]}_extracted1.pdf\"\n",
    "outpdf.save(output_pdf_path)"
   ]
  },
  {
   "cell_type": "code",
   "execution_count": 52,
   "metadata": {},
   "outputs": [],
   "source": [
    "# Re-open the extracted PDF\n",
    "extracted_doc = fitz.open(output_pdf_path)\n",
    "\n",
    "# Loop over all pages to convert them to images\n",
    "for page_num in range(len(extracted_doc)):\n",
    "    page = extracted_doc.load_page(page_num)\n",
    "    mat = fitz.Matrix(5.0, 5.0)  # Increase the scaling factor to improve image quality\n",
    "    pix = page.get_pixmap(matrix=mat)\n",
    "    output_image_path = f\"{os.path.splitext(pdf_file)[0]}_page_{page_num + 1}.jpg\"\n",
    "    pix.save(output_image_path)"
   ]
  },
  {
   "cell_type": "code",
   "execution_count": null,
   "metadata": {},
   "outputs": [],
   "source": []
  }
 ],
 "metadata": {
  "kernelspec": {
   "display_name": "Python 3 (ipykernel)",
   "language": "python",
   "name": "python3"
  },
  "language_info": {
   "codemirror_mode": {
    "name": "ipython",
    "version": 3
   },
   "file_extension": ".py",
   "mimetype": "text/x-python",
   "name": "python",
   "nbconvert_exporter": "python",
   "pygments_lexer": "ipython3",
   "version": "3.12.3"
  }
 },
 "nbformat": 4,
 "nbformat_minor": 4
}
