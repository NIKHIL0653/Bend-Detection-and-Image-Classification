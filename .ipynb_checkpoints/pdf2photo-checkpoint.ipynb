{
 "cells": [
  {
   "cell_type": "code",
   "execution_count": 7,
   "metadata": {
    "ExecuteTime": {
     "end_time": "2024-06-14T11:02:47.521525Z",
     "start_time": "2024-06-14T11:02:47.511300Z"
    }
   },
   "outputs": [],
   "source": [
    "import fitz\n",
    "from PIL import Image"
   ]
  },
  {
   "cell_type": "code",
   "execution_count": 8,
   "metadata": {
    "ExecuteTime": {
     "end_time": "2024-06-14T11:02:47.917394Z",
     "start_time": "2024-06-14T11:02:47.888483Z"
    }
   },
   "outputs": [],
   "source": [
    "doc = fitz.open(\"table.pdf\")\n",
    "page = doc[0]\n",
    "paths = page.get_drawings()  # extract existing drawings\n",
    "# this is a list of \"paths\", which can directly be drawn again using Shape\n",
    "# -------------------------------------------------------------------------"
   ]
  },
  {
   "cell_type": "code",
   "execution_count": 9,
   "metadata": {
    "ExecuteTime": {
     "end_time": "2024-06-14T11:02:48.576561Z",
     "start_time": "2024-06-14T11:02:48.566460Z"
    }
   },
   "outputs": [],
   "source": [
    "# define some output page with the same dimensions\n",
    "outpdf = fitz.open()\n",
    "outpage = outpdf.new_page(width=page.rect.width, height=page.rect.height)\n",
    "shape = outpage.new_shape()  # make a drawing canvas for the output page"
   ]
  },
  {
   "cell_type": "code",
   "execution_count": 10,
   "metadata": {
    "ExecuteTime": {
     "end_time": "2024-06-14T11:02:49.208092Z",
     "start_time": "2024-06-14T11:02:49.181113Z"
    }
   },
   "outputs": [],
   "source": [
    "# --------------------------------------\n",
    "# loop through the paths and draw them\n",
    "# --------------------------------------\n",
    "for path in paths:\n",
    "    # ------------------------------------\n",
    "    # draw each entry of the 'items' list\n",
    "    # ------------------------------------\n",
    "    for item in path[\"items\"]:  # these are the draw commands\n",
    "        if item[0] == \"l\":  # line\n",
    "            shape.draw_line(item[1], item[2])\n",
    "        elif item[0] == \"re\":  # rectangle\n",
    "            shape.draw_rect(item[1])\n",
    "        elif item[0] == \"qu\":  # quad\n",
    "            shape.draw_quad(item[1])\n",
    "        elif item[0] == \"c\":  # curve\n",
    "            shape.draw_bezier(item[1], item[2], item[3], item[4])\n",
    "        else:\n",
    "            raise ValueError(\"unhandled drawing\", item)\n",
    "    # ------------------------------------------------------\n",
    "    # all items are drawn, now apply the common properties\n",
    "    # to finish the path\n",
    "    # ------------------------------------------------------\n",
    "    shape.finish()"
   ]
  },
  {
   "cell_type": "code",
   "execution_count": 11,
   "metadata": {
    "ExecuteTime": {
     "end_time": "2024-06-14T11:02:50.177934Z",
     "start_time": "2024-06-14T11:02:50.166628Z"
    }
   },
   "outputs": [],
   "source": [
    "# all paths processed - commit the shape to its page\n",
    "shape.commit()\n",
    "outpdf.save(\"test_file_extracted.pdf\")"
   ]
  },
  {
   "cell_type": "code",
   "execution_count": 11,
   "metadata": {
    "ExecuteTime": {
     "end_time": "2024-06-14T11:02:51.259076Z",
     "start_time": "2024-06-14T11:02:51.253578Z"
    }
   },
   "outputs": [],
   "source": []
  },
  {
   "cell_type": "code",
   "execution_count": 11,
   "metadata": {
    "ExecuteTime": {
     "end_time": "2024-06-14T11:02:51.692992Z",
     "start_time": "2024-06-14T11:02:51.685509Z"
    }
   },
   "outputs": [],
   "source": []
  },
  {
   "cell_type": "code",
   "execution_count": 12,
   "metadata": {
    "ExecuteTime": {
     "end_time": "2024-06-14T11:02:52.342852Z",
     "start_time": "2024-06-14T11:02:52.334914Z"
    }
   },
   "outputs": [],
   "source": [
    "import PIL"
   ]
  },
  {
   "cell_type": "code",
   "execution_count": null,
   "metadata": {},
   "outputs": [],
   "source": [
    "doc = fitz.open('test_file_extracted.pdf')\n",
    "page = doc.load_page(0)\n",
    "pix = page.get_pixmap()\n",
    "img = pix.save('h.jpg')"
   ]
  },
  {
   "cell_type": "code",
   "execution_count": 44,
   "metadata": {
    "ExecuteTime": {
     "end_time": "2024-06-14T10:13:04.643610Z",
     "start_time": "2024-06-14T10:13:04.604588Z"
    }
   },
   "outputs": [],
   "source": [
    "import fitz\n",
    "from PIL import Image\n",
    "\n",
    "# Open the PDF file\n",
    "doc = fitz.open('test_file_extracted.pdf')\n",
    "\n",
    "# Load the desired page\n",
    "page = doc.load_page(0)\n",
    "\n",
    "# Get the pixel map of the page\n",
    "pix = page.get_pixmap()\n",
    "\n",
    "# Get the pixel width and height of the page\n",
    "width = pix.width\n",
    "height = pix.height\n",
    "\n",
    "# Convert the pixel map to an Image object\n",
    "image = Image.frombytes(\"RGB\", (width, height), pix.samples)\n",
    "\n",
    "# Get the quality of the original PDF file\n",
    "pdf_quality = doc.metadata.get('pdf:PDFVersion')\n",
    "\n",
    "# Check if pdf_quality is not None before converting it to an integer\n",
    "if pdf_quality is not None:\n",
    "    # Convert the PDF version to an integer and save the image as JPEG with the same quality\n",
    "    image.save('h1.jpg', quality=int(pdf_quality))\n",
    "else:\n",
    "    # Save the image as JPEG with a default quality if pdf_quality is None\n",
    "    image.save('h1.jpg', quality=100)  # Set a default quality of 100"
   ]
  },
  {
   "cell_type": "code",
   "execution_count": 13,
   "metadata": {
    "ExecuteTime": {
     "end_time": "2024-06-14T11:03:03.670514Z",
     "start_time": "2024-06-14T11:03:01.798150Z"
    }
   },
   "outputs": [],
   "source": [
    "from pdf2image import convert_from_path\n",
    "\n",
    "# Specify the path to the PDF file\n",
    "pdf_path = 'test_file_extracted.pdf'\n",
    "\n",
    "# Convert the PDF file to a list of images\n",
    "images = convert_from_path(pdf_path)\n",
    "\n",
    "# Save each image as a JPEG file\n",
    "for i, image in enumerate(images):\n",
    "    image.save(f'page_{i+1}.jpg', 'JPEG')"
   ]
  },
  {
   "cell_type": "code",
   "execution_count": 17,
   "metadata": {
    "ExecuteTime": {
     "end_time": "2024-06-14T11:18:45.081671Z",
     "start_time": "2024-06-14T11:18:44.467097Z"
    }
   },
   "outputs": [],
   "source": [
    "import re\n",
    "import cv2\n",
    "import pytesseract\n",
    "from PIL import Image\n",
    "from pytesseract import Output\n",
    "\n",
    "img = cv2.imread('invoice.jpg')\n",
    "d = pytesseract.image_to_data(img, output_type=Output.DICT)\n",
    "keys = list(d.keys())\n",
    "\n",
    "date_pattern = '^(0[1-9]|[12][0-9]|3[01])/(0[1-9]|1[012])/(19|20)\\d\\d$'\n",
    "\n",
    "n_boxes = len(d['text'])\n",
    "for i in range(n_boxes):\n",
    "    if int(d['conf'][i]) > 60:\n",
    "        if re.match(date_pattern, d['text'][i]):\n",
    "            (x, y, w, h) = (d['left'][i], d['top'][i], d['width'][i], d['height'][i])\n",
    "            img = cv2.rectangle(img, (x, y), (x + w, y + h), (0, 255, 0), 2)\n",
    "\n",
    "cv2.imshow('img', img)\n",
    "cv2.waitKey(0)\n",
    "img.save(\"sample.pdf\")"
   ]
  }
 ],
 "metadata": {
  "kernelspec": {
   "display_name": "Python 3 (ipykernel)",
   "language": "python",
   "name": "python3"
  },
  "language_info": {
   "codemirror_mode": {
    "name": "ipython",
    "version": 3
   },
   "file_extension": ".py",
   "mimetype": "text/x-python",
   "name": "python",
   "nbconvert_exporter": "python",
   "pygments_lexer": "ipython3",
   "version": "3.12.3"
  }
 },
 "nbformat": 4,
 "nbformat_minor": 4
}
