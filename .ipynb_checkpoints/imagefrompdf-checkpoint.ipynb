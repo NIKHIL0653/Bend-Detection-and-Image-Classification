{
 "cells": [
  {
   "cell_type": "code",
   "metadata": {
    "ExecuteTime": {
     "end_time": "2024-06-20T06:59:13.898356Z",
     "start_time": "2024-06-20T06:59:13.888377Z"
    }
   },
   "source": [
    "import fitz\n",
    "from PIL import Image\n",
    "import os"
   ],
   "outputs": [],
   "execution_count": 17
  },
  {
   "cell_type": "code",
   "metadata": {
    "ExecuteTime": {
     "end_time": "2024-06-20T06:59:15.149542Z",
     "start_time": "2024-06-20T06:59:15.106236Z"
    }
   },
   "source": [
    "doc = fitz.open(\"table.pdf\")\n",
    "page = doc[0]\n",
    "paths = page.get_drawings()  # extract existing drawings\n",
    "# this is a list of \"paths\", which can directly be drawn again using Shape\n",
    "# -------------------------------------------------------------------------"
   ],
   "outputs": [],
   "execution_count": 18
  },
  {
   "cell_type": "code",
   "metadata": {
    "ExecuteTime": {
     "end_time": "2024-06-20T06:59:16.032402Z",
     "start_time": "2024-06-20T06:59:16.009129Z"
    }
   },
   "source": [
    "# define some output page with the same dimensions\n",
    "outpdf = fitz.open()\n",
    "outpage = outpdf.new_page(width=page.rect.width, height=page.rect.height)\n",
    "shape = outpage.new_shape()  # make a drawing canvas for the output page"
   ],
   "outputs": [],
   "execution_count": 19
  },
  {
   "cell_type": "code",
   "metadata": {
    "ExecuteTime": {
     "end_time": "2024-06-20T06:59:16.574484Z",
     "start_time": "2024-06-20T06:59:16.538612Z"
    }
   },
   "source": [
    "# --------------------------------------\n",
    "# loop through the paths and draw them\n",
    "# --------------------------------------\n",
    "for path in paths:\n",
    "    # ------------------------------------\n",
    "    # draw each entry of the 'items' list\n",
    "    # ------------------------------------\n",
    "    for item in path[\"items\"]:  # these are the draw commands\n",
    "        if item[0] == \"l\":  # line\n",
    "            shape.draw_line(item[1], item[2])\n",
    "        elif item[0] == \"re\":  # rectangle\n",
    "            shape.draw_rect(item[1])\n",
    "        elif item[0] == \"qu\":  # quad\n",
    "            shape.draw_quad(item[1])\n",
    "        elif item[0] == \"c\":  # curve\n",
    "            shape.draw_bezier(item[1], item[2], item[3], item[4])\n",
    "        else:\n",
    "            raise ValueError(\"unhandled drawing\", item)\n",
    "    # ------------------------------------------------------\n",
    "    # all items are drawn, now apply the common properties\n",
    "    # to finish the path\n",
    "    # ------------------------------------------------------\n",
    "    shape.finish()"
   ],
   "outputs": [],
   "execution_count": 20
  },
  {
   "cell_type": "code",
   "metadata": {
    "ExecuteTime": {
     "end_time": "2024-06-20T06:59:25.089678Z",
     "start_time": "2024-06-20T06:59:25.071512Z"
    }
   },
   "source": [
    "# all paths processed - commit the shape to its page\n",
    "shape.commit()\n",
    "outpdf.save(\"line_extracted1.pdf\")"
   ],
   "outputs": [],
   "execution_count": 22
  },
  {
   "cell_type": "code",
   "metadata": {
    "ExecuteTime": {
     "end_time": "2024-06-20T06:59:33.335018Z",
     "start_time": "2024-06-20T06:59:33.274669Z"
    }
   },
   "source": [
    "doc = fitz.open(\"line_extracted1.pdf\")\n",
    "page = doc.load_page(0)\n",
    "mat = fitz.Matrix(5.0, 5.0)\n",
    "pix = page.get_pixmap(matrix=mat)"
   ],
   "outputs": [],
   "execution_count": 23
  },
  {
   "metadata": {
    "ExecuteTime": {
     "end_time": "2024-06-20T08:54:09.739566Z",
     "start_time": "2024-06-20T08:54:09.060197Z"
    }
   },
   "cell_type": "code",
   "source": [
    "output_filename = \"image_ext2.png\"\n",
    "\n",
    "pix.save(output_filename)"
   ],
   "outputs": [],
   "execution_count": 25
  },
  {
   "metadata": {},
   "cell_type": "markdown",
   "source": "### Looping over multiple pages"
  },
  {
   "metadata": {
    "ExecuteTime": {
     "end_time": "2024-06-21T06:44:25.991718Z",
     "start_time": "2024-06-21T06:44:25.933758Z"
    }
   },
   "cell_type": "code",
   "source": [
    "import fitz\n",
    "from PIL import Image\n",
    "import os"
   ],
   "outputs": [],
   "execution_count": 26
  },
  {
   "metadata": {
    "ExecuteTime": {
     "end_time": "2024-06-21T06:50:08.755879Z",
     "start_time": "2024-06-21T06:50:08.740052Z"
    }
   },
   "cell_type": "code",
   "source": [
    "# Input the PDF file you want to work with\n",
    "pdf_file = \"bbs1.pdf\"\n",
    "\n",
    "# Open the PDF file\n",
    "doc = fitz.open(pdf_file)"
   ],
   "outputs": [],
   "execution_count": 31
  },
  {
   "metadata": {
    "ExecuteTime": {
     "end_time": "2024-06-21T06:50:09.283031Z",
     "start_time": "2024-06-21T06:50:09.263350Z"
    }
   },
   "cell_type": "code",
   "source": [
    "# Loop over all pages of the PDF file\n",
    "for page_num in range(len(doc)):\n",
    "    page = doc[page_num]\n",
    "    paths = page.get_drawings()  # extract existing drawings\n",
    "    # this is a list of \"paths\", which can directly be drawn again using Shape\n",
    "    # -------------------------------------------------------------------------"
   ],
   "outputs": [],
   "execution_count": 32
  },
  {
   "metadata": {
    "ExecuteTime": {
     "end_time": "2024-06-21T06:50:09.772556Z",
     "start_time": "2024-06-21T06:50:09.755995Z"
    }
   },
   "cell_type": "code",
   "source": [
    "# define some output page with the same dimensions\n",
    "outpdf = fitz.open()\n",
    "outpage = outpdf.new_page(width=page.rect.width, height=page.rect.height)\n",
    "shape = outpage.new_shape()  # make a drawing canvas for the output page    "
   ],
   "outputs": [],
   "execution_count": 33
  },
  {
   "metadata": {
    "ExecuteTime": {
     "end_time": "2024-06-21T06:50:10.444544Z",
     "start_time": "2024-06-21T06:50:10.420395Z"
    }
   },
   "cell_type": "code",
   "source": [
    "# --------------------------------------\n",
    "# loop through the paths and draw them\n",
    "# --------------------------------------\n",
    "for path in paths:\n",
    "    # ------------------------------------\n",
    "    # draw each entry of the 'items' list\n",
    "    # ------------------------------------\n",
    "    for item in path[\"items\"]:  # these are the draw commands\n",
    "        if item[0] == \"l\":  # line\n",
    "            shape.draw_line(item[1], item[2])\n",
    "        elif item[0] == \"re\":  # rectangle\n",
    "            shape.draw_rect(item[1])\n",
    "        elif item[0] == \"qu\":  # quad\n",
    "            shape.draw_quad(item[1])\n",
    "        elif item[0] == \"c\":  # curve\n",
    "            shape.draw_bezier(item[1], item[2], item[3], item[4])\n",
    "        else:\n",
    "            raise ValueError(\"unhandled drawing\", item)\n",
    "    # ------------------------------------------------------\n",
    "    # all items are drawn, now apply the common properties\n",
    "    # to finish the path\n",
    "    # ------------------------------------------------------\n",
    "    shape.finish()    "
   ],
   "outputs": [],
   "execution_count": 34
  },
  {
   "metadata": {
    "ExecuteTime": {
     "end_time": "2024-06-21T06:50:11.765179Z",
     "start_time": "2024-06-21T06:50:11.751916Z"
    }
   },
   "cell_type": "code",
   "source": [
    "# all paths processed - commit the shape to its page\n",
    "shape.commit()\n",
    "outpdf.save(f\"{pdf_file}_extracted.pdf\")"
   ],
   "outputs": [],
   "execution_count": 35
  },
  {
   "metadata": {},
   "cell_type": "code",
   "outputs": [],
   "execution_count": null,
   "source": [
    "doc = fitz.open(f\"line_extracted_page{page_num}.pdf\")\n",
    "page = doc.load_page(0)\n",
    "mat = fitz.Matrix(5.0, 5.0)\n",
    "pix = page.get_pixmap(matrix=mat)"
   ]
  },
  {
   "metadata": {},
   "cell_type": "code",
   "outputs": [],
   "execution_count": null,
   "source": [
    "output_filename = f\"image_ext_page{page_num}.png\"\n",
    "pix.save(output_filename)"
   ]
  }
 ],
 "metadata": {
  "kernelspec": {
   "display_name": "Python 3 (ipykernel)",
   "language": "python",
   "name": "python3"
  },
  "language_info": {
   "codemirror_mode": {
    "name": "ipython",
    "version": 3
   },
   "file_extension": ".py",
   "mimetype": "text/x-python",
   "name": "python",
   "nbconvert_exporter": "python",
   "pygments_lexer": "ipython3",
   "version": "3.12.3"
  }
 },
 "nbformat": 4,
 "nbformat_minor": 4
}
