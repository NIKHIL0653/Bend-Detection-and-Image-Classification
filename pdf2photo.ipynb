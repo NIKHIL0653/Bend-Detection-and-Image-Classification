{
 "cells": [
  {
   "cell_type": "markdown",
   "metadata": {},
   "source": [
    "## Line Extractin from pdf file"
   ]
  },
  {
   "cell_type": "code",
   "execution_count": 1,
   "metadata": {
    "ExecuteTime": {
     "end_time": "2024-06-14T11:02:47.521525Z",
     "start_time": "2024-06-14T11:02:47.511300Z"
    }
   },
   "outputs": [],
   "source": [
    "import fitz\n",
    "from PIL import Image"
   ]
  },
  {
   "cell_type": "code",
   "execution_count": 2,
   "metadata": {
    "ExecuteTime": {
     "end_time": "2024-06-14T11:02:47.917394Z",
     "start_time": "2024-06-14T11:02:47.888483Z"
    }
   },
   "outputs": [],
   "source": [
    "doc = fitz.open(\"table.pdf\")\n",
    "page = doc[0]\n",
    "paths = page.get_drawings()  # extract existing drawings\n",
    "# this is a list of \"paths\", which can directly be drawn again using Shape\n",
    "# -------------------------------------------------------------------------"
   ]
  },
  {
   "cell_type": "code",
   "execution_count": 3,
   "metadata": {
    "ExecuteTime": {
     "end_time": "2024-06-14T11:02:48.576561Z",
     "start_time": "2024-06-14T11:02:48.566460Z"
    }
   },
   "outputs": [],
   "source": [
    "# define some output page with the same dimensions\n",
    "outpdf = fitz.open()\n",
    "outpage = outpdf.new_page(width=page.rect.width, height=page.rect.height)\n",
    "shape = outpage.new_shape()  # make a drawing canvas for the output page"
   ]
  },
  {
   "cell_type": "code",
   "execution_count": 4,
   "metadata": {
    "ExecuteTime": {
     "end_time": "2024-06-14T11:02:49.208092Z",
     "start_time": "2024-06-14T11:02:49.181113Z"
    }
   },
   "outputs": [],
   "source": [
    "# --------------------------------------\n",
    "# loop through the paths and draw them\n",
    "# --------------------------------------\n",
    "for path in paths:\n",
    "    # ------------------------------------\n",
    "    # draw each entry of the 'items' list\n",
    "    # ------------------------------------\n",
    "    for item in path[\"items\"]:  # these are the draw commands\n",
    "        if item[0] == \"l\":  # line\n",
    "            shape.draw_line(item[1], item[2])\n",
    "        elif item[0] == \"re\":  # rectangle\n",
    "            shape.draw_rect(item[1])\n",
    "        elif item[0] == \"qu\":  # quad\n",
    "            shape.draw_quad(item[1])\n",
    "        elif item[0] == \"c\":  # curve\n",
    "            shape.draw_bezier(item[1], item[2], item[3], item[4])\n",
    "        else:\n",
    "            raise ValueError(\"unhandled drawing\", item)\n",
    "    # ------------------------------------------------------\n",
    "    # all items are drawn, now apply the common properties\n",
    "    # to finish the path\n",
    "    # ------------------------------------------------------\n",
    "    shape.finish()"
   ]
  },
  {
   "cell_type": "code",
   "execution_count": 5,
   "metadata": {
    "ExecuteTime": {
     "end_time": "2024-06-14T11:02:50.177934Z",
     "start_time": "2024-06-14T11:02:50.166628Z"
    }
   },
   "outputs": [],
   "source": [
    "# all paths processed - commit the shape to its page\n",
    "shape.commit()\n",
    "outpdf.save(\"test_file_extracted2.pdf\")"
   ]
  },
  {
   "cell_type": "code",
   "execution_count": null,
   "metadata": {
    "ExecuteTime": {
     "end_time": "2024-06-14T11:02:51.259076Z",
     "start_time": "2024-06-14T11:02:51.253578Z"
    }
   },
   "outputs": [],
   "source": []
  },
  {
   "cell_type": "markdown",
   "metadata": {
    "ExecuteTime": {
     "end_time": "2024-06-14T11:02:51.692992Z",
     "start_time": "2024-06-14T11:02:51.685509Z"
    }
   },
   "source": [
    "### Code to convert pdf to image file"
   ]
  },
  {
   "cell_type": "code",
   "execution_count": 6,
   "metadata": {
    "ExecuteTime": {
     "end_time": "2024-06-14T11:03:03.670514Z",
     "start_time": "2024-06-14T11:03:01.798150Z"
    }
   },
   "outputs": [],
   "source": [
    "from pdf2image import convert_from_path\n",
    "\n",
    "# Specify the path to the PDF file\n",
    "pdf_path = 'test_file_extracted.pdf'\n",
    "\n",
    "# Convert the PDF file to a list of images\n",
    "images = convert_from_path(pdf_path)\n",
    "\n",
    "# Save each image as a JPEG file\n",
    "for i, image in enumerate(images):\n",
    "    image.save(f'page_{i+1}.jpg', 'JPEG')"
   ]
  },
  {
   "cell_type": "code",
   "execution_count": null,
   "metadata": {},
   "outputs": [],
   "source": []
  }
 ],
 "metadata": {
  "kernelspec": {
   "display_name": "Python 3 (ipykernel)",
   "language": "python",
   "name": "python3"
  },
  "language_info": {
   "codemirror_mode": {
    "name": "ipython",
    "version": 3
   },
   "file_extension": ".py",
   "mimetype": "text/x-python",
   "name": "python",
   "nbconvert_exporter": "python",
   "pygments_lexer": "ipython3",
   "version": "3.12.3"
  }
 },
 "nbformat": 4,
 "nbformat_minor": 4
}
