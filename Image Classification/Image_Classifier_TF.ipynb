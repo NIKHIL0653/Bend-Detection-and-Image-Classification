{
 "cells": [
  {
   "cell_type": "code",
   "metadata": {
    "id": "y-RDdZ46w21D",
    "ExecuteTime": {
     "end_time": "2024-06-09T09:29:25.935646Z",
     "start_time": "2024-06-09T09:29:25.930753Z"
    }
   },
   "source": [
    "import tensorflow as tf\n",
    "import os"
   ],
   "outputs": [],
   "execution_count": 156
  },
  {
   "cell_type": "code",
   "metadata": {
    "colab": {
     "base_uri": "https://localhost:8080/"
    },
    "id": "9R6sUlPxyBgR",
    "outputId": "947006e2-88e6-46be-9d64-35a09a1f81c2",
    "ExecuteTime": {
     "end_time": "2024-06-09T11:34:41.314432Z",
     "start_time": "2024-06-09T11:34:41.306984Z"
    }
   },
   "source": [
    "cpus = tf.config.experimental.list_physical_devices('CPU')\n",
    "cpus"
   ],
   "outputs": [
    {
     "data": {
      "text/plain": [
       "[PhysicalDevice(name='/physical_device:CPU:0', device_type='CPU')]"
      ]
     },
     "execution_count": 201,
     "metadata": {},
     "output_type": "execute_result"
    }
   ],
   "execution_count": 201
  },
  {
   "cell_type": "code",
   "metadata": {
    "id": "uOfvcnt7x0dR",
    "ExecuteTime": {
     "end_time": "2024-06-09T09:29:26.611671Z",
     "start_time": "2024-06-09T09:29:26.604642Z"
    }
   },
   "source": [
    "cpus = tf.config.experimental.list_physical_devices('GPU')\n",
    "for cpu in cpus:\n",
    "    tf.config.experimental.set_memory_growth(cpu, True)"
   ],
   "outputs": [],
   "execution_count": 158
  },
  {
   "cell_type": "code",
   "metadata": {
    "id": "kkBK7CF9zz2i",
    "ExecuteTime": {
     "end_time": "2024-06-09T09:29:26.946257Z",
     "start_time": "2024-06-09T09:29:26.940605Z"
    }
   },
   "source": [
    "import cv2\n",
    "import imghdr\n",
    "import matplotlib.pyplot as plt\n",
    "import numpy as np"
   ],
   "outputs": [],
   "execution_count": 159
  },
  {
   "cell_type": "code",
   "metadata": {
    "id": "apVdp0A733hY",
    "ExecuteTime": {
     "end_time": "2024-06-09T09:29:27.398988Z",
     "start_time": "2024-06-09T09:29:27.393979Z"
    }
   },
   "source": [
    "data_dir = 'dataset'"
   ],
   "outputs": [],
   "execution_count": 160
  },
  {
   "cell_type": "code",
   "metadata": {
    "colab": {
     "base_uri": "https://localhost:8080/"
    },
    "id": "9zbErkPd5c5k",
    "outputId": "38c95797-57cf-479c-ec01-8678042a1f87",
    "scrolled": true,
    "ExecuteTime": {
     "end_time": "2024-06-09T09:29:30.071167Z",
     "start_time": "2024-06-09T09:29:30.062681Z"
    }
   },
   "source": [
    "os.listdir(os.path.join(data_dir, 'normal'))"
   ],
   "outputs": [
    {
     "data": {
      "text/plain": [
       "['row_10.png',\n",
       " 'row_11.png',\n",
       " 'row_12.png',\n",
       " 'row_13.png',\n",
       " 'row_14.png',\n",
       " 'row_15.png',\n",
       " 'row_25.png',\n",
       " 'row_26.png',\n",
       " 'row_27.png',\n",
       " 'row_28.png',\n",
       " 'row_29.png',\n",
       " 'row_32.png',\n",
       " 'row_33.png',\n",
       " 'row_34.png',\n",
       " 'row_35.png',\n",
       " 'row_36.png',\n",
       " 'row_37.png',\n",
       " 'row_38.png',\n",
       " 'row_39.png',\n",
       " 'row_7.png',\n",
       " 'row_8.png',\n",
       " 'row_9.png',\n",
       " 'st_CAB_output.jpg']"
      ]
     },
     "execution_count": 161,
     "metadata": {},
     "output_type": "execute_result"
    }
   ],
   "execution_count": 161
  },
  {
   "cell_type": "code",
   "metadata": {
    "id": "yZlJf9iK38ZD",
    "ExecuteTime": {
     "end_time": "2024-06-09T09:29:30.707052Z",
     "start_time": "2024-06-09T09:29:30.701700Z"
    }
   },
   "source": [
    "image_exts = ['jpeg','jpg', 'bmp', 'png']"
   ],
   "outputs": [],
   "execution_count": 162
  },
  {
   "cell_type": "code",
   "metadata": {
    "colab": {
     "base_uri": "https://localhost:8080/"
    },
    "id": "86sb3rmx4HMa",
    "outputId": "9eed03cd-22a4-4f9e-e5b3-6fc4a0e4ebab",
    "ExecuteTime": {
     "end_time": "2024-06-09T09:29:31.242322Z",
     "start_time": "2024-06-09T09:29:31.235206Z"
    }
   },
   "source": [
    "image_exts"
   ],
   "outputs": [
    {
     "data": {
      "text/plain": [
       "['jpeg', 'jpg', 'bmp', 'png']"
      ]
     },
     "execution_count": 163,
     "metadata": {},
     "output_type": "execute_result"
    }
   ],
   "execution_count": 163
  },
  {
   "cell_type": "code",
   "metadata": {
    "id": "A8pf5pbJ4JQR",
    "ExecuteTime": {
     "end_time": "2024-06-09T09:29:31.781531Z",
     "start_time": "2024-06-09T09:29:31.746915Z"
    }
   },
   "source": [
    "for image_class in os.listdir(data_dir):\n",
    "    for image in os.listdir(os.path.join(data_dir, image_class)):\n",
    "        image_path = os.path.join(data_dir, image_class, image)\n",
    "        try:\n",
    "            img = cv2.imread(image_path)\n",
    "            tip = imghdr.what(image_path)\n",
    "            if tip not in image_exts:\n",
    "                print('Image not in ext list {}'.format(image_path))\n",
    "                os.remove(image_path)\n",
    "        except Exception as e:\n",
    "            print('Issue with image {}'.format(image_path))\n",
    "            # os.remove(image_path)"
   ],
   "outputs": [],
   "execution_count": 164
  },
  {
   "cell_type": "markdown",
   "metadata": {
    "id": "1WwbxO8vG1Pp"
   },
   "source": [
    "**Load Data**"
   ]
  },
  {
   "cell_type": "code",
   "metadata": {
    "colab": {
     "base_uri": "https://localhost:8080/",
     "height": 186
    },
    "id": "lD5HtKm2HCaf",
    "outputId": "434e6afa-0ed3-4e29-b1de-0c1290e0f3bc",
    "ExecuteTime": {
     "end_time": "2024-06-09T09:29:32.689046Z",
     "start_time": "2024-06-09T09:29:32.680783Z"
    }
   },
   "source": [
    "tf.data.Dataset"
   ],
   "outputs": [
    {
     "data": {
      "text/plain": [
       "tensorflow.python.data.ops.dataset_ops.DatasetV2"
      ]
     },
     "execution_count": 165,
     "metadata": {},
     "output_type": "execute_result"
    }
   ],
   "execution_count": 165
  },
  {
   "cell_type": "code",
   "metadata": {
    "id": "v3jIL4INQ8Pj",
    "ExecuteTime": {
     "end_time": "2024-06-09T09:29:33.205823Z",
     "start_time": "2024-06-09T09:29:33.201389Z"
    }
   },
   "source": "#tf.keras.utils.image_dataset_from_directory??",
   "outputs": [],
   "execution_count": 166
  },
  {
   "cell_type": "code",
   "metadata": {
    "colab": {
     "base_uri": "https://localhost:8080/"
    },
    "id": "bFw2nz9xDD-5",
    "outputId": "cf3be0dc-54da-4a2b-921e-ba85fc1e7733",
    "ExecuteTime": {
     "end_time": "2024-06-09T09:29:33.668401Z",
     "start_time": "2024-06-09T09:29:33.596228Z"
    }
   },
   "source": [
    "# --- 1. Define 'data' ---\n",
    "data = tf.keras.utils.image_dataset_from_directory(\n",
    "    data_dir,\n",
    "    labels='inferred',  # Infers labels from directory structure\n",
    "    label_mode='categorical',  # One-hot encoded labels\n",
    "    image_size=(256, 256),  # Adjust if your images have different dimensions\n",
    "    batch_size=8,  # Adjust based on your memory constraints\n",
    ")"
   ],
   "outputs": [
    {
     "name": "stdout",
     "output_type": "stream",
     "text": [
      "Found 39 files belonging to 3 classes.\n"
     ]
    }
   ],
   "execution_count": 167
  },
  {
   "cell_type": "code",
   "metadata": {
    "id": "97f90XPjDHfi",
    "ExecuteTime": {
     "end_time": "2024-06-09T09:29:34.074857Z",
     "start_time": "2024-06-09T09:29:34.049444Z"
    }
   },
   "source": [
    "data_iterator = data.as_numpy_iterator()"
   ],
   "outputs": [],
   "execution_count": 168
  },
  {
   "cell_type": "code",
   "metadata": {
    "id": "eBCBocPbRPfa",
    "ExecuteTime": {
     "end_time": "2024-06-09T09:29:34.466157Z",
     "start_time": "2024-06-09T09:29:34.434055Z"
    }
   },
   "source": [
    "batch = data_iterator.next()"
   ],
   "outputs": [],
   "execution_count": 169
  },
  {
   "cell_type": "code",
   "metadata": {
    "colab": {
     "base_uri": "https://localhost:8080/"
    },
    "id": "6WqaQFHTYz6v",
    "outputId": "f8651bb6-2e29-40a0-950d-b7b70e848ae2",
    "ExecuteTime": {
     "end_time": "2024-06-09T09:29:34.845609Z",
     "start_time": "2024-06-09T09:29:34.837387Z"
    }
   },
   "source": [
    "batch[0].shape"
   ],
   "outputs": [
    {
     "data": {
      "text/plain": [
       "(8, 256, 256, 3)"
      ]
     },
     "execution_count": 170,
     "metadata": {},
     "output_type": "execute_result"
    }
   ],
   "execution_count": 170
  },
  {
   "cell_type": "code",
   "metadata": {
    "colab": {
     "base_uri": "https://localhost:8080/",
     "height": 174
    },
    "id": "CLEcKw9eRhfY",
    "outputId": "24925782-8dec-4d5e-d504-325900969a13",
    "ExecuteTime": {
     "end_time": "2024-06-09T09:29:35.753210Z",
     "start_time": "2024-06-09T09:29:35.204884Z"
    }
   },
   "source": [
    "class_names = {\n",
    "    0: \"Circular\",\n",
    "    1: \"Normal\",\n",
    "    2: \"Overlapping\"\n",
    "}\n",
    "\n",
    "\n",
    "fig, ax = plt.subplots(ncols=4, figsize=(20, 25))\n",
    "for idx, img in enumerate(batch[0][:4]):\n",
    "    ax[idx].imshow(img.astype(int))\n",
    "    # Convert NumPy array to a hashable type (e.g., integer)\n",
    "    label_index = np.argmax(batch[1][idx])  # Get index of the highest probability class\n",
    "    ax[idx].title.set_text(class_names.get(label_index, \"Unknown\"))\n",
    "\n",
    "    # Add x and y ticks (adjust values based on your image dimensions)\n",
    "    ax[idx].set_xticks(np.arange(0, img.shape[1], 50))  # Ticks every 50 pixels on x-axis\n",
    "    ax[idx].set_yticks(np.arange(0, img.shape[0], 50))  # Ticks every 50 pixels on y-axis\n",
    "\n",
    "    # Optionally, label the ticks with pixel values\n",
    "    ax[idx].set_xticklabels(np.arange(0, img.shape[1], 50))\n",
    "    ax[idx].set_yticklabels(np.arange(0, img.shape[0], 50))\n",
    "\n",
    "plt.show()"
   ],
   "outputs": [
    {
     "data": {
      "text/plain": [
       "<Figure size 2000x2500 with 4 Axes>"
      ],
      "image/png": "[encoded data removed]"
     },
     "metadata": {},
     "output_type": "display_data"
    }
   ],
   "execution_count": 171
  },
  {
   "cell_type": "markdown",
   "metadata": {
    "id": "0pFZTbgq31t7"
   },
   "source": [
    "**Scale Data**"
   ]
  },
  {
   "cell_type": "code",
   "metadata": {
    "id": "qm_Urb2q3VVc",
    "ExecuteTime": {
     "end_time": "2024-06-09T09:29:40.807507Z",
     "start_time": "2024-06-09T09:29:40.791141Z"
    }
   },
   "source": [
    "data = data.map(lambda x,y: (x/255, y))\n",
    "# important since it helps to perform transformation to convert image min to 0 and max to 1\n",
    "# important while working with data pipeline"
   ],
   "outputs": [],
   "execution_count": 172
  },
  {
   "cell_type": "code",
   "metadata": {
    "colab": {
     "base_uri": "https://localhost:8080/"
    },
    "id": "KZUYQqM_37pE",
    "outputId": "c5b16248-3ad3-4595-aae3-a8ea39945d0f",
    "ExecuteTime": {
     "end_time": "2024-06-09T09:29:41.779300Z",
     "start_time": "2024-06-09T09:29:41.704255Z"
    }
   },
   "source": [
    "data.as_numpy_iterator().next()"
   ],
   "outputs": [
    {
     "data": {
      "text/plain": [
       "(array([[[[0.7254902 , 0.7254902 , 0.7254902 ],\n",
       "          [0.7571232 , 0.7571232 , 0.7571232 ],\n",
       "          [0.8697151 , 0.8697151 , 0.8697151 ],\n",
       "          ...,\n",
       "          [0.9869715 , 0.9869715 , 0.9869715 ],\n",
       "          [0.9757123 , 0.9757123 , 0.9757123 ],\n",
       "          [0.972549  , 0.972549  , 0.972549  ]],\n",
       " \n",
       "         [[0.7254902 , 0.7254902 , 0.7254902 ],\n",
       "          [0.7571232 , 0.7571232 , 0.7571232 ],\n",
       "          [0.8697151 , 0.8697151 , 0.8697151 ],\n",
       "          ...,\n",
       "          [0.9869715 , 0.9869715 , 0.9869715 ],\n",
       "          [0.9757123 , 0.9757123 , 0.9757123 ],\n",
       "          [0.972549  , 0.972549  , 0.972549  ]],\n",
       " \n",
       "         [[0.7254902 , 0.7254902 , 0.7254902 ],\n",
       "          [0.7571232 , 0.7571232 , 0.7571232 ],\n",
       "          [0.8697151 , 0.8697151 , 0.8697151 ],\n",
       "          ...,\n",
       "          [0.9869715 , 0.9869715 , 0.9869715 ],\n",
       "          [0.9757123 , 0.9757123 , 0.9757123 ],\n",
       "          [0.972549  , 0.972549  , 0.972549  ]],\n",
       " \n",
       "         ...,\n",
       " \n",
       "         [[0.7294118 , 0.7294118 , 0.7294118 ],\n",
       "          [0.7605928 , 0.7605928 , 0.7605928 ],\n",
       "          [0.8715763 , 0.8715763 , 0.8715763 ],\n",
       "          ...,\n",
       "          [0.9981388 , 0.9981388 , 0.9981388 ],\n",
       "          [0.99653035, 0.99653035, 0.99653035],\n",
       "          [0.99607843, 0.99607843, 0.99607843]],\n",
       " \n",
       "         [[0.7294118 , 0.7294118 , 0.7294118 ],\n",
       "          [0.7605928 , 0.7605928 , 0.7605928 ],\n",
       "          [0.8715763 , 0.8715763 , 0.8715763 ],\n",
       "          ...,\n",
       "          [0.9981388 , 0.9981388 , 0.9981388 ],\n",
       "          [0.99653035, 0.99653035, 0.99653035],\n",
       "          [0.99607843, 0.99607843, 0.99607843]],\n",
       " \n",
       "         [[0.7294118 , 0.7294118 , 0.7294118 ],\n",
       "          [0.7605928 , 0.7605928 , 0.7605928 ],\n",
       "          [0.8715763 , 0.8715763 , 0.8715763 ],\n",
       "          ...,\n",
       "          [0.9981388 , 0.9981388 , 0.9981388 ],\n",
       "          [0.99653035, 0.99653035, 0.99653035],\n",
       "          [0.99607843, 0.99607843, 0.99607843]]],\n",
       " \n",
       " \n",
       "        [[[0.7294118 , 0.7294118 , 0.7294118 ],\n",
       "          [0.7605928 , 0.7605928 , 0.7605928 ],\n",
       "          [0.8715763 , 0.8715763 , 0.8715763 ],\n",
       "          ...,\n",
       "          [0.9962776 , 0.9962776 , 0.9962776 ],\n",
       "          [0.99306065, 0.99306065, 0.99306065],\n",
       "          [0.99215686, 0.99215686, 0.99215686]],\n",
       " \n",
       "         [[0.7294118 , 0.7294118 , 0.7294118 ],\n",
       "          [0.7605928 , 0.7605928 , 0.7605928 ],\n",
       "          [0.8715763 , 0.8715763 , 0.8715763 ],\n",
       "          ...,\n",
       "          [0.9962776 , 0.9962776 , 0.9962776 ],\n",
       "          [0.99306065, 0.99306065, 0.99306065],\n",
       "          [0.99215686, 0.99215686, 0.99215686]],\n",
       " \n",
       "         [[0.7294118 , 0.7294118 , 0.7294118 ],\n",
       "          [0.7605928 , 0.7605928 , 0.7605928 ],\n",
       "          [0.8715763 , 0.8715763 , 0.8715763 ],\n",
       "          ...,\n",
       "          [0.9962776 , 0.9962776 , 0.9962776 ],\n",
       "          [0.99306065, 0.99306065, 0.99306065],\n",
       "          [0.99215686, 0.99215686, 0.99215686]],\n",
       " \n",
       "         ...,\n",
       " \n",
       "         [[0.67058825, 0.67058825, 0.67058825],\n",
       "          [0.7085478 , 0.7085478 , 0.7085478 ],\n",
       "          [0.8436581 , 0.8436581 , 0.8436581 ],\n",
       "          ...,\n",
       "          [1.        , 1.        , 1.        ],\n",
       "          [1.        , 1.        , 1.        ],\n",
       "          [1.        , 1.        , 1.        ]],\n",
       " \n",
       "         [[0.67058825, 0.67058825, 0.67058825],\n",
       "          [0.7085478 , 0.7085478 , 0.7085478 ],\n",
       "          [0.8436581 , 0.8436581 , 0.8436581 ],\n",
       "          ...,\n",
       "          [1.        , 1.        , 1.        ],\n",
       "          [1.        , 1.        , 1.        ],\n",
       "          [1.        , 1.        , 1.        ]],\n",
       " \n",
       "         [[0.67058825, 0.67058825, 0.67058825],\n",
       "          [0.7085478 , 0.7085478 , 0.7085478 ],\n",
       "          [0.8436581 , 0.8436581 , 0.8436581 ],\n",
       "          ...,\n",
       "          [1.        , 1.        , 1.        ],\n",
       "          [1.        , 1.        , 1.        ],\n",
       "          [1.        , 1.        , 1.        ]]],\n",
       " \n",
       " \n",
       "        [[[0.72156864, 0.72156864, 0.72156864],\n",
       "          [0.75365347, 0.75365347, 0.75365347],\n",
       "          [0.8678539 , 0.8678539 , 0.8678539 ],\n",
       "          ...,\n",
       "          [0.97500765, 0.97500765, 0.97500765],\n",
       "          [0.9669654 , 0.9669654 , 0.9669654 ],\n",
       "          [0.9647059 , 0.9647059 , 0.9647059 ]],\n",
       " \n",
       "         [[0.72156864, 0.72156864, 0.72156864],\n",
       "          [0.75365347, 0.75365347, 0.75365347],\n",
       "          [0.8678539 , 0.8678539 , 0.8678539 ],\n",
       "          ...,\n",
       "          [0.97500765, 0.97500765, 0.97500765],\n",
       "          [0.9669654 , 0.9669654 , 0.9669654 ],\n",
       "          [0.9647059 , 0.9647059 , 0.9647059 ]],\n",
       " \n",
       "         [[0.72156864, 0.72156864, 0.72156864],\n",
       "          [0.75365347, 0.75365347, 0.75365347],\n",
       "          [0.8678539 , 0.8678539 , 0.8678539 ],\n",
       "          ...,\n",
       "          [0.97500765, 0.97500765, 0.97500765],\n",
       "          [0.9669654 , 0.9669654 , 0.9669654 ],\n",
       "          [0.9647059 , 0.9647059 , 0.9647059 ]],\n",
       " \n",
       "         ...,\n",
       " \n",
       "         [[0.69411767, 0.69411767, 0.69411767],\n",
       "          [0.7293658 , 0.7293658 , 0.7293658 ],\n",
       "          [0.8548254 , 0.8548254 , 0.8548254 ],\n",
       "          ...,\n",
       "          [0.9888327 , 0.9888327 , 0.9888327 ],\n",
       "          [0.979182  , 0.979182  , 0.979182  ],\n",
       "          [0.9764706 , 0.9764706 , 0.9764706 ]],\n",
       " \n",
       "         [[0.69411767, 0.69411767, 0.69411767],\n",
       "          [0.7293658 , 0.7293658 , 0.7293658 ],\n",
       "          [0.8548254 , 0.8548254 , 0.8548254 ],\n",
       "          ...,\n",
       "          [0.9888327 , 0.9888327 , 0.9888327 ],\n",
       "          [0.979182  , 0.979182  , 0.979182  ],\n",
       "          [0.9764706 , 0.9764706 , 0.9764706 ]],\n",
       " \n",
       "         [[0.69411767, 0.69411767, 0.69411767],\n",
       "          [0.7293658 , 0.7293658 , 0.7293658 ],\n",
       "          [0.8548254 , 0.8548254 , 0.8548254 ],\n",
       "          ...,\n",
       "          [0.9888327 , 0.9888327 , 0.9888327 ],\n",
       "          [0.979182  , 0.979182  , 0.979182  ],\n",
       "          [0.9764706 , 0.9764706 , 0.9764706 ]]],\n",
       " \n",
       " \n",
       "        ...,\n",
       " \n",
       " \n",
       "        [[[0.6639093 , 0.6639093 , 0.6639093 ],\n",
       "          [0.697212  , 0.697212  , 0.697212  ],\n",
       "          [0.7098346 , 0.7098346 , 0.7098346 ],\n",
       "          ...,\n",
       "          [0.70980394, 0.70980394, 0.70980394],\n",
       "          [0.71292895, 0.71292895, 0.71292895],\n",
       "          [0.7092831 , 0.7092831 , 0.7092831 ]],\n",
       " \n",
       "         [[0.75235045, 0.75235045, 0.75235045],\n",
       "          [0.79004526, 0.79004526, 0.79004526],\n",
       "          [0.80123174, 0.80123174, 0.80123174],\n",
       "          ...,\n",
       "          [0.8032476 , 0.8032476 , 0.8032476 ],\n",
       "          [0.8063725 , 0.8063725 , 0.8063725 ],\n",
       "          [0.8027267 , 0.8027267 , 0.8027267 ]],\n",
       " \n",
       "         [[0.886781  , 0.886781  , 0.886781  ],\n",
       "          [0.93115187, 0.93115187, 0.93115187],\n",
       "          [0.9401554 , 0.9401554 , 0.9401554 ],\n",
       "          ...,\n",
       "          [0.94528186, 0.94528186, 0.94528186],\n",
       "          [0.9484069 , 0.9484069 , 0.9484069 ],\n",
       "          [0.94476104, 0.94476104, 0.94476104]],\n",
       " \n",
       "         ...,\n",
       " \n",
       "         [[0.23638462, 0.23638462, 0.23638462],\n",
       "          [0.23833343, 0.23833343, 0.23833343],\n",
       "          [0.23659094, 0.23659094, 0.23659094],\n",
       "          ...,\n",
       "          [0.23143382, 0.23143382, 0.23143382],\n",
       "          [0.23302074, 0.23302074, 0.23302074],\n",
       "          [0.23535539, 0.23535539, 0.23535539]],\n",
       " \n",
       "         [[0.24522537, 0.24522537, 0.24522537],\n",
       "          [0.23274884, 0.23274884, 0.23274884],\n",
       "          [0.23580873, 0.23580873, 0.23580873],\n",
       "          ...,\n",
       "          [0.23376225, 0.23376225, 0.23376225],\n",
       "          [0.23627691, 0.23627691, 0.23627691],\n",
       "          [0.23768382, 0.23768382, 0.23768382]],\n",
       " \n",
       "         [[0.25104168, 0.25104168, 0.25104168],\n",
       "          [0.22907476, 0.22907476, 0.22907476],\n",
       "          [0.23529412, 0.23529412, 0.23529412],\n",
       "          ...,\n",
       "          [0.23529412, 0.23529412, 0.23529412],\n",
       "          [0.23841912, 0.23841912, 0.23841912],\n",
       "          [0.23921569, 0.23921569, 0.23921569]]],\n",
       " \n",
       " \n",
       "        [[[0.7372549 , 0.7372549 , 0.7372549 ],\n",
       "          [0.76346505, 0.76346505, 0.76346505],\n",
       "          [0.8567555 , 0.8567555 , 0.8567555 ],\n",
       "          ...,\n",
       "          [0.984712  , 0.984712  , 0.984712  ],\n",
       "          [0.97827816, 0.97827816, 0.97827816],\n",
       "          [0.9764706 , 0.9764706 , 0.9764706 ]],\n",
       " \n",
       "         [[0.7372549 , 0.7372549 , 0.7372549 ],\n",
       "          [0.76346505, 0.76346505, 0.76346505],\n",
       "          [0.8567555 , 0.8567555 , 0.8567555 ],\n",
       "          ...,\n",
       "          [0.984712  , 0.984712  , 0.984712  ],\n",
       "          [0.97827816, 0.97827816, 0.97827816],\n",
       "          [0.9764706 , 0.9764706 , 0.9764706 ]],\n",
       " \n",
       "         [[0.7372549 , 0.7372549 , 0.7372549 ],\n",
       "          [0.76346505, 0.76346505, 0.76346505],\n",
       "          [0.8567555 , 0.8567555 , 0.8567555 ],\n",
       "          ...,\n",
       "          [0.984712  , 0.984712  , 0.984712  ],\n",
       "          [0.97827816, 0.97827816, 0.97827816],\n",
       "          [0.9764706 , 0.9764706 , 0.9764706 ]],\n",
       " \n",
       "         ...,\n",
       " \n",
       "         [[0.7294118 , 0.7294118 , 0.7294118 ],\n",
       "          [0.7605928 , 0.7605928 , 0.7605928 ],\n",
       "          [0.8715763 , 0.8715763 , 0.8715763 ],\n",
       "          ...,\n",
       "          [0.9981388 , 0.9981388 , 0.9981388 ],\n",
       "          [0.99653035, 0.99653035, 0.99653035],\n",
       "          [0.99607843, 0.99607843, 0.99607843]],\n",
       " \n",
       "         [[0.7294118 , 0.7294118 , 0.7294118 ],\n",
       "          [0.7605928 , 0.7605928 , 0.7605928 ],\n",
       "          [0.8715763 , 0.8715763 , 0.8715763 ],\n",
       "          ...,\n",
       "          [0.9981388 , 0.9981388 , 0.9981388 ],\n",
       "          [0.99653035, 0.99653035, 0.99653035],\n",
       "          [0.99607843, 0.99607843, 0.99607843]],\n",
       " \n",
       "         [[0.7294118 , 0.7294118 , 0.7294118 ],\n",
       "          [0.7605928 , 0.7605928 , 0.7605928 ],\n",
       "          [0.8715763 , 0.8715763 , 0.8715763 ],\n",
       "          ...,\n",
       "          [0.9981388 , 0.9981388 , 0.9981388 ],\n",
       "          [0.99653035, 0.99653035, 0.99653035],\n",
       "          [0.99607843, 0.99607843, 0.99607843]]],\n",
       " \n",
       " \n",
       "        [[[0.6901961 , 0.6901961 , 0.6901961 ],\n",
       "          [0.7258961 , 0.7258961 , 0.7258961 ],\n",
       "          [0.85296416, 0.85296416, 0.85296416],\n",
       "          ...,\n",
       "          [0.9710861 , 0.9710861 , 0.9710861 ],\n",
       "          [0.9630438 , 0.9630438 , 0.9630438 ],\n",
       "          [0.9607843 , 0.9607843 , 0.9607843 ]],\n",
       " \n",
       "         [[0.6901961 , 0.6901961 , 0.6901961 ],\n",
       "          [0.7258961 , 0.7258961 , 0.7258961 ],\n",
       "          [0.85296416, 0.85296416, 0.85296416],\n",
       "          ...,\n",
       "          [0.9710861 , 0.9710861 , 0.9710861 ],\n",
       "          [0.9630438 , 0.9630438 , 0.9630438 ],\n",
       "          [0.9607843 , 0.9607843 , 0.9607843 ]],\n",
       " \n",
       "         [[0.6901961 , 0.6901961 , 0.6901961 ],\n",
       "          [0.7258961 , 0.7258961 , 0.7258961 ],\n",
       "          [0.85296416, 0.85296416, 0.85296416],\n",
       "          ...,\n",
       "          [0.9710861 , 0.9710861 , 0.9710861 ],\n",
       "          [0.9630438 , 0.9630438 , 0.9630438 ],\n",
       "          [0.9607843 , 0.9607843 , 0.9607843 ]],\n",
       " \n",
       "         ...,\n",
       " \n",
       "         [[0.7411765 , 0.7411765 , 0.7411765 ],\n",
       "          [0.7710018 , 0.7710018 , 0.7710018 ],\n",
       "          [0.87715995, 0.87715995, 0.87715995],\n",
       "          ...,\n",
       "          [0.9776654 , 0.9776654 , 0.9776654 ],\n",
       "          [0.95836395, 0.95836395, 0.95836395],\n",
       "          [0.9529412 , 0.9529412 , 0.9529412 ]],\n",
       " \n",
       "         [[0.7411765 , 0.7411765 , 0.7411765 ],\n",
       "          [0.7710018 , 0.7710018 , 0.7710018 ],\n",
       "          [0.87715995, 0.87715995, 0.87715995],\n",
       "          ...,\n",
       "          [0.9776654 , 0.9776654 , 0.9776654 ],\n",
       "          [0.95836395, 0.95836395, 0.95836395],\n",
       "          [0.9529412 , 0.9529412 , 0.9529412 ]],\n",
       " \n",
       "         [[0.7411765 , 0.7411765 , 0.7411765 ],\n",
       "          [0.7710018 , 0.7710018 , 0.7710018 ],\n",
       "          [0.87715995, 0.87715995, 0.87715995],\n",
       "          ...,\n",
       "          [0.9776654 , 0.9776654 , 0.9776654 ],\n",
       "          [0.95836395, 0.95836395, 0.95836395],\n",
       "          [0.9529412 , 0.9529412 , 0.9529412 ]]]], dtype=float32),\n",
       " array([[0., 1., 0.],\n",
       "        [0., 1., 0.],\n",
       "        [0., 1., 0.],\n",
       "        [0., 1., 0.],\n",
       "        [1., 0., 0.],\n",
       "        [1., 0., 0.],\n",
       "        [0., 0., 1.],\n",
       "        [0., 1., 0.]], dtype=float32))"
      ]
     },
     "execution_count": 173,
     "metadata": {},
     "output_type": "execute_result"
    }
   ],
   "execution_count": 173
  },
  {
   "cell_type": "markdown",
   "metadata": {
    "id": "tltHKl2R4L1_"
   },
   "source": [
    "**Split Data**"
   ]
  },
  {
   "cell_type": "code",
   "metadata": {
    "colab": {
     "base_uri": "https://localhost:8080/"
    },
    "id": "Wq18i6N3kUgm",
    "outputId": "dfe31191-8add-4297-819f-f030add3891a",
    "ExecuteTime": {
     "end_time": "2024-06-09T09:29:43.107075Z",
     "start_time": "2024-06-09T09:29:43.099573Z"
    }
   },
   "source": [
    "len(data) # num of batches"
   ],
   "outputs": [
    {
     "data": {
      "text/plain": [
       "5"
      ]
     },
     "execution_count": 174,
     "metadata": {},
     "output_type": "execute_result"
    }
   ],
   "execution_count": 174
  },
  {
   "cell_type": "code",
   "metadata": {
    "id": "cxe938Jko9Ei",
    "ExecuteTime": {
     "end_time": "2024-06-09T09:29:43.651078Z",
     "start_time": "2024-06-09T09:29:43.645550Z"
    }
   },
   "source": [
    "#batch_size = 32"
   ],
   "outputs": [],
   "execution_count": 175
  },
  {
   "cell_type": "code",
   "metadata": {
    "id": "nAJC7Fryo__m",
    "ExecuteTime": {
     "end_time": "2024-06-09T09:29:44.465255Z",
     "start_time": "2024-06-09T09:29:44.460543Z"
    }
   },
   "source": [
    "# train_batches = int(len(data) * 0.7) // batch_size\n",
    "# val_batches = int(len(data) * 0.2) // batch_size\n",
    "# test_batches = int(len(data) * 0.1) // batch_size"
   ],
   "outputs": [],
   "execution_count": 176
  },
  {
   "cell_type": "code",
   "metadata": {
    "id": "Dek9wS5xpZNv",
    "ExecuteTime": {
     "end_time": "2024-06-09T09:29:44.931734Z",
     "start_time": "2024-06-09T09:29:44.927248Z"
    }
   },
   "source": [
    "# test_batches"
   ],
   "outputs": [],
   "execution_count": 177
  },
  {
   "cell_type": "code",
   "metadata": {
    "id": "s4RnYv7v3-qb",
    "ExecuteTime": {
     "end_time": "2024-06-09T09:29:45.422434Z",
     "start_time": "2024-06-09T09:29:45.416439Z"
    }
   },
   "source": [
    "train_size = int(len(data)*.7)\n",
    "val_size = int(len(data)*.2)\n",
    "test_size = int(len(data)*.1)+1"
   ],
   "outputs": [],
   "execution_count": 178
  },
  {
   "cell_type": "code",
   "metadata": {
    "colab": {
     "base_uri": "https://localhost:8080/"
    },
    "id": "Q8XnZdLk4R84",
    "outputId": "1f21184e-ef7f-4f6f-bc1a-bdf3b2987649",
    "ExecuteTime": {
     "end_time": "2024-06-09T09:29:46.044749Z",
     "start_time": "2024-06-09T09:29:46.038090Z"
    }
   },
   "source": "val_size",
   "outputs": [
    {
     "data": {
      "text/plain": [
       "1"
      ]
     },
     "execution_count": 179,
     "metadata": {},
     "output_type": "execute_result"
    }
   ],
   "execution_count": 179
  },
  {
   "cell_type": "code",
   "metadata": {
    "id": "xWHZ-HT04U4w",
    "ExecuteTime": {
     "end_time": "2024-06-09T09:29:46.483191Z",
     "start_time": "2024-06-09T09:29:46.468742Z"
    }
   },
   "source": [
    "train = data.take(train_size)\n",
    "val = data.skip(train_size).take(val_size)\n",
    "test = data.skip(train_size+val_size).take(test_size)\n",
    "\n",
    "# Established train, test and val partition"
   ],
   "outputs": [],
   "execution_count": 180
  },
  {
   "cell_type": "code",
   "metadata": {
    "id": "VWGFMOAydfa8",
    "ExecuteTime": {
     "end_time": "2024-06-09T09:29:47.057963Z",
     "start_time": "2024-06-09T09:29:46.870847Z"
    }
   },
   "source": [
    "train_labels = np.concatenate([y for x, y in train], axis=0)\n",
    "val_labels = np.concatenate([y for x, y in val], axis=0)\n",
    "test_labels = np.concatenate([y for x, y in test], axis=0)\n",
    "\n",
    "# One-hot encode the labels (if needed for your model)\n",
    "train_labels = tf.keras.utils.to_categorical(train_labels)\n",
    "val_labels = tf.keras.utils.to_categorical(val_labels)\n",
    "test_labels = tf.keras.utils.to_categorical(test_labels)"
   ],
   "outputs": [],
   "execution_count": 181
  },
  {
   "cell_type": "markdown",
   "metadata": {
    "id": "5Cd7ZRde4d-B"
   },
   "source": [
    "**Building the Deep Learning Model**"
   ]
  },
  {
   "cell_type": "code",
   "metadata": {
    "id": "-MZ4MdX44kZH",
    "ExecuteTime": {
     "end_time": "2024-06-09T09:29:49.339413Z",
     "start_time": "2024-06-09T09:29:49.334942Z"
    }
   },
   "source": [
    "from tensorflow.keras.models import Sequential\n",
    "from tensorflow.keras.layers import Conv2D, MaxPooling2D, Dense, Flatten"
   ],
   "outputs": [],
   "execution_count": 182
  },
  {
   "cell_type": "code",
   "metadata": {
    "id": "ZbUZz_CL8uaT",
    "ExecuteTime": {
     "end_time": "2024-06-09T09:29:50.343410Z",
     "start_time": "2024-06-09T09:29:50.255882Z"
    }
   },
   "source": [
    "num_classes = 3\n",
    "model = tf.keras.models.Sequential()\n",
    "model.add(tf.keras.layers.Conv2D(16, (3,3), 1, activation='relu', input_shape=(256,256,3)))\n",
    "model.add(tf.keras.layers.MaxPooling2D())\n",
    "model.add(tf.keras.layers.Conv2D(32, (3,3), 1, activation='relu'))\n",
    "model.add(tf.keras.layers.MaxPooling2D())\n",
    "model.add(tf.keras.layers.Conv2D(16, (3,3), 1, activation='relu'))\n",
    "model.add(tf.keras.layers.MaxPooling2D())\n",
    "model.add(tf.keras.layers.Flatten())\n",
    "model.add(tf.keras.layers.Dense(256, activation='relu'))\n",
    "model.add(tf.keras.layers.Dense(num_classes, activation='softmax'))"
   ],
   "outputs": [
    {
     "name": "stderr",
     "output_type": "stream",
     "text": [
      "C:\\Users\\KIIT\\anaconda3\\envs\\ai_env\\Lib\\site-packages\\keras\\src\\layers\\convolutional\\base_conv.py:107: UserWarning: Do not pass an `input_shape`/`input_dim` argument to a layer. When using Sequential models, prefer using an `Input(shape)` object as the first layer in the model instead.\n",
      "  super().__init__(activity_regularizer=activity_regularizer, **kwargs)\n"
     ]
    }
   ],
   "execution_count": 183
  },
  {
   "cell_type": "code",
   "metadata": {
    "id": "xUlGQ5Yd8vdm",
    "ExecuteTime": {
     "end_time": "2024-06-09T09:29:52.211748Z",
     "start_time": "2024-06-09T09:29:52.201205Z"
    }
   },
   "source": [
    "model.compile(optimizer='adam',\n",
    "              loss='categorical_crossentropy',\n",
    "              metrics=['accuracy'])"
   ],
   "outputs": [],
   "execution_count": 184
  },
  {
   "cell_type": "code",
   "metadata": {
    "colab": {
     "base_uri": "https://localhost:8080/"
    },
    "id": "_1FNvnw18yoM",
    "outputId": "17538b55-3b53-47c1-83c5-fb463dbcc9a0",
    "ExecuteTime": {
     "end_time": "2024-06-09T09:29:53.443198Z",
     "start_time": "2024-06-09T09:29:53.417496Z"
    }
   },
   "source": [
    "model.summary()"
   ],
   "outputs": [
    {
     "data": {
      "text/plain": [
       "\u001B[1mModel: \"sequential_3\"\u001B[0m\n"
      ],
      "text/html": [
       "<pre style=\"white-space:pre;overflow-x:auto;line-height:normal;font-family:Menlo,'DejaVu Sans Mono',consolas,'Courier New',monospace\"><span style=\"font-weight: bold\">Model: \"sequential_3\"</span>\n",
       "</pre>\n"
      ]
     },
     "metadata": {},
     "output_type": "display_data"
    },
    {
     "data": {
      "text/plain": [
       "┏━━━━━━━━━━━━━━━━━━━━━━━━━━━━━━━━━┳━━━━━━━━━━━━━━━━━━━━━━━━┳━━━━━━━━━━━━━━━┓\n",
       "┃\u001B[1m \u001B[0m\u001B[1mLayer (type)                   \u001B[0m\u001B[1m \u001B[0m┃\u001B[1m \u001B[0m\u001B[1mOutput Shape          \u001B[0m\u001B[1m \u001B[0m┃\u001B[1m \u001B[0m\u001B[1m      Param #\u001B[0m\u001B[1m \u001B[0m┃\n",
       "┡━━━━━━━━━━━━━━━━━━━━━━━━━━━━━━━━━╇━━━━━━━━━━━━━━━━━━━━━━━━╇━━━━━━━━━━━━━━━┩\n",
       "│ conv2d_9 (\u001B[38;5;33mConv2D\u001B[0m)               │ (\u001B[38;5;45mNone\u001B[0m, \u001B[38;5;34m254\u001B[0m, \u001B[38;5;34m254\u001B[0m, \u001B[38;5;34m16\u001B[0m)   │           \u001B[38;5;34m448\u001B[0m │\n",
       "├─────────────────────────────────┼────────────────────────┼───────────────┤\n",
       "│ max_pooling2d_9 (\u001B[38;5;33mMaxPooling2D\u001B[0m)  │ (\u001B[38;5;45mNone\u001B[0m, \u001B[38;5;34m127\u001B[0m, \u001B[38;5;34m127\u001B[0m, \u001B[38;5;34m16\u001B[0m)   │             \u001B[38;5;34m0\u001B[0m │\n",
       "├─────────────────────────────────┼────────────────────────┼───────────────┤\n",
       "│ conv2d_10 (\u001B[38;5;33mConv2D\u001B[0m)              │ (\u001B[38;5;45mNone\u001B[0m, \u001B[38;5;34m125\u001B[0m, \u001B[38;5;34m125\u001B[0m, \u001B[38;5;34m32\u001B[0m)   │         \u001B[38;5;34m4,640\u001B[0m │\n",
       "├─────────────────────────────────┼────────────────────────┼───────────────┤\n",
       "│ max_pooling2d_10 (\u001B[38;5;33mMaxPooling2D\u001B[0m) │ (\u001B[38;5;45mNone\u001B[0m, \u001B[38;5;34m62\u001B[0m, \u001B[38;5;34m62\u001B[0m, \u001B[38;5;34m32\u001B[0m)     │             \u001B[38;5;34m0\u001B[0m │\n",
       "├─────────────────────────────────┼────────────────────────┼───────────────┤\n",
       "│ conv2d_11 (\u001B[38;5;33mConv2D\u001B[0m)              │ (\u001B[38;5;45mNone\u001B[0m, \u001B[38;5;34m60\u001B[0m, \u001B[38;5;34m60\u001B[0m, \u001B[38;5;34m16\u001B[0m)     │         \u001B[38;5;34m4,624\u001B[0m │\n",
       "├─────────────────────────────────┼────────────────────────┼───────────────┤\n",
       "│ max_pooling2d_11 (\u001B[38;5;33mMaxPooling2D\u001B[0m) │ (\u001B[38;5;45mNone\u001B[0m, \u001B[38;5;34m30\u001B[0m, \u001B[38;5;34m30\u001B[0m, \u001B[38;5;34m16\u001B[0m)     │             \u001B[38;5;34m0\u001B[0m │\n",
       "├─────────────────────────────────┼────────────────────────┼───────────────┤\n",
       "│ flatten_3 (\u001B[38;5;33mFlatten\u001B[0m)             │ (\u001B[38;5;45mNone\u001B[0m, \u001B[38;5;34m14400\u001B[0m)          │             \u001B[38;5;34m0\u001B[0m │\n",
       "├─────────────────────────────────┼────────────────────────┼───────────────┤\n",
       "│ dense_6 (\u001B[38;5;33mDense\u001B[0m)                 │ (\u001B[38;5;45mNone\u001B[0m, \u001B[38;5;34m256\u001B[0m)            │     \u001B[38;5;34m3,686,656\u001B[0m │\n",
       "├─────────────────────────────────┼────────────────────────┼───────────────┤\n",
       "│ dense_7 (\u001B[38;5;33mDense\u001B[0m)                 │ (\u001B[38;5;45mNone\u001B[0m, \u001B[38;5;34m3\u001B[0m)              │           \u001B[38;5;34m771\u001B[0m │\n",
       "└─────────────────────────────────┴────────────────────────┴───────────────┘\n"
      ],
      "text/html": [
       "<pre style=\"white-space:pre;overflow-x:auto;line-height:normal;font-family:Menlo,'DejaVu Sans Mono',consolas,'Courier New',monospace\">┏━━━━━━━━━━━━━━━━━━━━━━━━━━━━━━━━━┳━━━━━━━━━━━━━━━━━━━━━━━━┳━━━━━━━━━━━━━━━┓\n",
       "┃<span style=\"font-weight: bold\"> Layer (type)                    </span>┃<span style=\"font-weight: bold\"> Output Shape           </span>┃<span style=\"font-weight: bold\">       Param # </span>┃\n",
       "┡━━━━━━━━━━━━━━━━━━━━━━━━━━━━━━━━━╇━━━━━━━━━━━━━━━━━━━━━━━━╇━━━━━━━━━━━━━━━┩\n",
       "│ conv2d_9 (<span style=\"color: #0087ff; text-decoration-color: #0087ff\">Conv2D</span>)               │ (<span style=\"color: #00d7ff; text-decoration-color: #00d7ff\">None</span>, <span style=\"color: #00af00; text-decoration-color: #00af00\">254</span>, <span style=\"color: #00af00; text-decoration-color: #00af00\">254</span>, <span style=\"color: #00af00; text-decoration-color: #00af00\">16</span>)   │           <span style=\"color: #00af00; text-decoration-color: #00af00\">448</span> │\n",
       "├─────────────────────────────────┼────────────────────────┼───────────────┤\n",
       "│ max_pooling2d_9 (<span style=\"color: #0087ff; text-decoration-color: #0087ff\">MaxPooling2D</span>)  │ (<span style=\"color: #00d7ff; text-decoration-color: #00d7ff\">None</span>, <span style=\"color: #00af00; text-decoration-color: #00af00\">127</span>, <span style=\"color: #00af00; text-decoration-color: #00af00\">127</span>, <span style=\"color: #00af00; text-decoration-color: #00af00\">16</span>)   │             <span style=\"color: #00af00; text-decoration-color: #00af00\">0</span> │\n",
       "├─────────────────────────────────┼────────────────────────┼───────────────┤\n",
       "│ conv2d_10 (<span style=\"color: #0087ff; text-decoration-color: #0087ff\">Conv2D</span>)              │ (<span style=\"color: #00d7ff; text-decoration-color: #00d7ff\">None</span>, <span style=\"color: #00af00; text-decoration-color: #00af00\">125</span>, <span style=\"color: #00af00; text-decoration-color: #00af00\">125</span>, <span style=\"color: #00af00; text-decoration-color: #00af00\">32</span>)   │         <span style=\"color: #00af00; text-decoration-color: #00af00\">4,640</span> │\n",
       "├─────────────────────────────────┼────────────────────────┼───────────────┤\n",
       "│ max_pooling2d_10 (<span style=\"color: #0087ff; text-decoration-color: #0087ff\">MaxPooling2D</span>) │ (<span style=\"color: #00d7ff; text-decoration-color: #00d7ff\">None</span>, <span style=\"color: #00af00; text-decoration-color: #00af00\">62</span>, <span style=\"color: #00af00; text-decoration-color: #00af00\">62</span>, <span style=\"color: #00af00; text-decoration-color: #00af00\">32</span>)     │             <span style=\"color: #00af00; text-decoration-color: #00af00\">0</span> │\n",
       "├─────────────────────────────────┼────────────────────────┼───────────────┤\n",
       "│ conv2d_11 (<span style=\"color: #0087ff; text-decoration-color: #0087ff\">Conv2D</span>)              │ (<span style=\"color: #00d7ff; text-decoration-color: #00d7ff\">None</span>, <span style=\"color: #00af00; text-decoration-color: #00af00\">60</span>, <span style=\"color: #00af00; text-decoration-color: #00af00\">60</span>, <span style=\"color: #00af00; text-decoration-color: #00af00\">16</span>)     │         <span style=\"color: #00af00; text-decoration-color: #00af00\">4,624</span> │\n",
       "├─────────────────────────────────┼────────────────────────┼───────────────┤\n",
       "│ max_pooling2d_11 (<span style=\"color: #0087ff; text-decoration-color: #0087ff\">MaxPooling2D</span>) │ (<span style=\"color: #00d7ff; text-decoration-color: #00d7ff\">None</span>, <span style=\"color: #00af00; text-decoration-color: #00af00\">30</span>, <span style=\"color: #00af00; text-decoration-color: #00af00\">30</span>, <span style=\"color: #00af00; text-decoration-color: #00af00\">16</span>)     │             <span style=\"color: #00af00; text-decoration-color: #00af00\">0</span> │\n",
       "├─────────────────────────────────┼────────────────────────┼───────────────┤\n",
       "│ flatten_3 (<span style=\"color: #0087ff; text-decoration-color: #0087ff\">Flatten</span>)             │ (<span style=\"color: #00d7ff; text-decoration-color: #00d7ff\">None</span>, <span style=\"color: #00af00; text-decoration-color: #00af00\">14400</span>)          │             <span style=\"color: #00af00; text-decoration-color: #00af00\">0</span> │\n",
       "├─────────────────────────────────┼────────────────────────┼───────────────┤\n",
       "│ dense_6 (<span style=\"color: #0087ff; text-decoration-color: #0087ff\">Dense</span>)                 │ (<span style=\"color: #00d7ff; text-decoration-color: #00d7ff\">None</span>, <span style=\"color: #00af00; text-decoration-color: #00af00\">256</span>)            │     <span style=\"color: #00af00; text-decoration-color: #00af00\">3,686,656</span> │\n",
       "├─────────────────────────────────┼────────────────────────┼───────────────┤\n",
       "│ dense_7 (<span style=\"color: #0087ff; text-decoration-color: #0087ff\">Dense</span>)                 │ (<span style=\"color: #00d7ff; text-decoration-color: #00d7ff\">None</span>, <span style=\"color: #00af00; text-decoration-color: #00af00\">3</span>)              │           <span style=\"color: #00af00; text-decoration-color: #00af00\">771</span> │\n",
       "└─────────────────────────────────┴────────────────────────┴───────────────┘\n",
       "</pre>\n"
      ]
     },
     "metadata": {},
     "output_type": "display_data"
    },
    {
     "data": {
      "text/plain": [
       "\u001B[1m Total params: \u001B[0m\u001B[38;5;34m3,697,139\u001B[0m (14.10 MB)\n"
      ],
      "text/html": [
       "<pre style=\"white-space:pre;overflow-x:auto;line-height:normal;font-family:Menlo,'DejaVu Sans Mono',consolas,'Courier New',monospace\"><span style=\"font-weight: bold\"> Total params: </span><span style=\"color: #00af00; text-decoration-color: #00af00\">3,697,139</span> (14.10 MB)\n",
       "</pre>\n"
      ]
     },
     "metadata": {},
     "output_type": "display_data"
    },
    {
     "data": {
      "text/plain": [
       "\u001B[1m Trainable params: \u001B[0m\u001B[38;5;34m3,697,139\u001B[0m (14.10 MB)\n"
      ],
      "text/html": [
       "<pre style=\"white-space:pre;overflow-x:auto;line-height:normal;font-family:Menlo,'DejaVu Sans Mono',consolas,'Courier New',monospace\"><span style=\"font-weight: bold\"> Trainable params: </span><span style=\"color: #00af00; text-decoration-color: #00af00\">3,697,139</span> (14.10 MB)\n",
       "</pre>\n"
      ]
     },
     "metadata": {},
     "output_type": "display_data"
    },
    {
     "data": {
      "text/plain": [
       "\u001B[1m Non-trainable params: \u001B[0m\u001B[38;5;34m0\u001B[0m (0.00 B)\n"
      ],
      "text/html": [
       "<pre style=\"white-space:pre;overflow-x:auto;line-height:normal;font-family:Menlo,'DejaVu Sans Mono',consolas,'Courier New',monospace\"><span style=\"font-weight: bold\"> Non-trainable params: </span><span style=\"color: #00af00; text-decoration-color: #00af00\">0</span> (0.00 B)\n",
       "</pre>\n"
      ]
     },
     "metadata": {},
     "output_type": "display_data"
    }
   ],
   "execution_count": 185
  },
  {
   "cell_type": "markdown",
   "metadata": {
    "id": "zAc7IIeZFrBb"
   },
   "source": "**Train**"
  },
  {
   "cell_type": "code",
   "metadata": {
    "id": "ILdlYRmnFyHG",
    "ExecuteTime": {
     "end_time": "2024-06-09T09:29:57.805822Z",
     "start_time": "2024-06-09T09:29:57.800454Z"
    }
   },
   "source": [
    "logdir = 'logs'"
   ],
   "outputs": [],
   "execution_count": 186
  },
  {
   "cell_type": "code",
   "metadata": {
    "id": "td4tBCr5F3Ef",
    "ExecuteTime": {
     "end_time": "2024-06-09T09:29:58.268427Z",
     "start_time": "2024-06-09T09:29:58.262296Z"
    }
   },
   "source": [
    "tensorboard_callback = tf.keras.callbacks.TensorBoard(log_dir=logdir)"
   ],
   "outputs": [],
   "execution_count": 187
  },
  {
   "cell_type": "code",
   "metadata": {
    "colab": {
     "base_uri": "https://localhost:8080/"
    },
    "id": "WZTCqrosGMfh",
    "outputId": "c587d784-d804-48a5-df1e-ad57b26f4c62",
    "ExecuteTime": {
     "end_time": "2024-06-09T09:30:26.212110Z",
     "start_time": "2024-06-09T09:30:16.292957Z"
    }
   },
   "source": [
    "hist = model.fit(train, epochs=20, validation_data=val, callbacks=[tensorboard_callback])"
   ],
   "outputs": [
    {
     "name": "stdout",
     "output_type": "stream",
     "text": [
      "Epoch 1/20\n",
      "\u001B[1m3/3\u001B[0m \u001B[32m━━━━━━━━━━━━━━━━━━━━\u001B[0m\u001B[37m\u001B[0m \u001B[1m2s\u001B[0m 203ms/step - accuracy: 0.7135 - loss: 1.4611 - val_accuracy: 0.0000e+00 - val_loss: 0.9411\n",
      "Epoch 2/20\n",
      "\u001B[1m3/3\u001B[0m \u001B[32m━━━━━━━━━━━━━━━━━━━━\u001B[0m\u001B[37m\u001B[0m \u001B[1m0s\u001B[0m 134ms/step - accuracy: 0.4062 - loss: 0.9724 - val_accuracy: 0.6250 - val_loss: 0.9691\n",
      "Epoch 3/20\n",
      "\u001B[1m3/3\u001B[0m \u001B[32m━━━━━━━━━━━━━━━━━━━━\u001B[0m\u001B[37m\u001B[0m \u001B[1m0s\u001B[0m 138ms/step - accuracy: 0.6302 - loss: 0.9567 - val_accuracy: 0.7500 - val_loss: 0.8213\n",
      "Epoch 4/20\n",
      "\u001B[1m3/3\u001B[0m \u001B[32m━━━━━━━━━━━━━━━━━━━━\u001B[0m\u001B[37m\u001B[0m \u001B[1m0s\u001B[0m 135ms/step - accuracy: 0.5469 - loss: 0.9118 - val_accuracy: 0.7500 - val_loss: 0.9406\n",
      "Epoch 5/20\n",
      "\u001B[1m3/3\u001B[0m \u001B[32m━━━━━━━━━━━━━━━━━━━━\u001B[0m\u001B[37m\u001B[0m \u001B[1m0s\u001B[0m 133ms/step - accuracy: 0.7240 - loss: 0.7984 - val_accuracy: 0.7500 - val_loss: 0.5725\n",
      "Epoch 6/20\n",
      "\u001B[1m3/3\u001B[0m \u001B[32m━━━━━━━━━━━━━━━━━━━━\u001B[0m\u001B[37m\u001B[0m \u001B[1m0s\u001B[0m 137ms/step - accuracy: 0.6667 - loss: 0.6575 - val_accuracy: 1.0000 - val_loss: 0.5350\n",
      "Epoch 7/20\n",
      "\u001B[1m3/3\u001B[0m \u001B[32m━━━━━━━━━━━━━━━━━━━━\u001B[0m\u001B[37m\u001B[0m \u001B[1m0s\u001B[0m 134ms/step - accuracy: 0.9271 - loss: 0.5781 - val_accuracy: 1.0000 - val_loss: 0.3282\n",
      "Epoch 8/20\n",
      "\u001B[1m3/3\u001B[0m \u001B[32m━━━━━━━━━━━━━━━━━━━━\u001B[0m\u001B[37m\u001B[0m \u001B[1m0s\u001B[0m 132ms/step - accuracy: 0.9635 - loss: 0.3719 - val_accuracy: 1.0000 - val_loss: 0.2261\n",
      "Epoch 9/20\n",
      "\u001B[1m3/3\u001B[0m \u001B[32m━━━━━━━━━━━━━━━━━━━━\u001B[0m\u001B[37m\u001B[0m \u001B[1m0s\u001B[0m 134ms/step - accuracy: 0.9115 - loss: 0.3384 - val_accuracy: 1.0000 - val_loss: 0.1547\n",
      "Epoch 10/20\n",
      "\u001B[1m3/3\u001B[0m \u001B[32m━━━━━━━━━━━━━━━━━━━━\u001B[0m\u001B[37m\u001B[0m \u001B[1m0s\u001B[0m 132ms/step - accuracy: 0.8594 - loss: 0.3342 - val_accuracy: 0.8750 - val_loss: 0.1972\n",
      "Epoch 11/20\n",
      "\u001B[1m3/3\u001B[0m \u001B[32m━━━━━━━━━━━━━━━━━━━━\u001B[0m\u001B[37m\u001B[0m \u001B[1m0s\u001B[0m 132ms/step - accuracy: 0.9635 - loss: 0.1001 - val_accuracy: 1.0000 - val_loss: 0.0518\n",
      "Epoch 12/20\n",
      "\u001B[1m3/3\u001B[0m \u001B[32m━━━━━━━━━━━━━━━━━━━━\u001B[0m\u001B[37m\u001B[0m \u001B[1m0s\u001B[0m 133ms/step - accuracy: 1.0000 - loss: 0.0915 - val_accuracy: 1.0000 - val_loss: 0.0506\n",
      "Epoch 13/20\n",
      "\u001B[1m3/3\u001B[0m \u001B[32m━━━━━━━━━━━━━━━━━━━━\u001B[0m\u001B[37m\u001B[0m \u001B[1m0s\u001B[0m 143ms/step - accuracy: 1.0000 - loss: 0.0399 - val_accuracy: 1.0000 - val_loss: 0.0137\n",
      "Epoch 14/20\n",
      "\u001B[1m3/3\u001B[0m \u001B[32m━━━━━━━━━━━━━━━━━━━━\u001B[0m\u001B[37m\u001B[0m \u001B[1m0s\u001B[0m 131ms/step - accuracy: 1.0000 - loss: 0.0150 - val_accuracy: 1.0000 - val_loss: 0.0015\n",
      "Epoch 15/20\n",
      "\u001B[1m3/3\u001B[0m \u001B[32m━━━━━━━━━━━━━━━━━━━━\u001B[0m\u001B[37m\u001B[0m \u001B[1m0s\u001B[0m 135ms/step - accuracy: 1.0000 - loss: 0.0106 - val_accuracy: 1.0000 - val_loss: 0.0104\n",
      "Epoch 16/20\n",
      "\u001B[1m3/3\u001B[0m \u001B[32m━━━━━━━━━━━━━━━━━━━━\u001B[0m\u001B[37m\u001B[0m \u001B[1m0s\u001B[0m 131ms/step - accuracy: 1.0000 - loss: 0.0072 - val_accuracy: 1.0000 - val_loss: 0.0028\n",
      "Epoch 17/20\n",
      "\u001B[1m3/3\u001B[0m \u001B[32m━━━━━━━━━━━━━━━━━━━━\u001B[0m\u001B[37m\u001B[0m \u001B[1m0s\u001B[0m 130ms/step - accuracy: 1.0000 - loss: 0.0035 - val_accuracy: 1.0000 - val_loss: 6.3489e-04\n",
      "Epoch 18/20\n",
      "\u001B[1m3/3\u001B[0m \u001B[32m━━━━━━━━━━━━━━━━━━━━\u001B[0m\u001B[37m\u001B[0m \u001B[1m0s\u001B[0m 129ms/step - accuracy: 1.0000 - loss: 0.0063 - val_accuracy: 1.0000 - val_loss: 1.7939e-04\n",
      "Epoch 19/20\n",
      "\u001B[1m3/3\u001B[0m \u001B[32m━━━━━━━━━━━━━━━━━━━━\u001B[0m\u001B[37m\u001B[0m \u001B[1m0s\u001B[0m 134ms/step - accuracy: 1.0000 - loss: 8.6096e-04 - val_accuracy: 1.0000 - val_loss: 0.0013\n",
      "Epoch 20/20\n",
      "\u001B[1m3/3\u001B[0m \u001B[32m━━━━━━━━━━━━━━━━━━━━\u001B[0m\u001B[37m\u001B[0m \u001B[1m0s\u001B[0m 138ms/step - accuracy: 1.0000 - loss: 0.0017 - val_accuracy: 1.0000 - val_loss: 0.0016\n"
     ]
    }
   ],
   "execution_count": 188
  },
  {
   "cell_type": "code",
   "metadata": {
    "colab": {
     "base_uri": "https://localhost:8080/"
    },
    "collapsed": true,
    "id": "BkQnUYEXHGcx",
    "jupyter": {
     "outputs_hidden": true
    },
    "outputId": "cb2bb119-cdb4-4fff-eb6b-5fb77029da11",
    "ExecuteTime": {
     "end_time": "2024-06-09T09:30:29.795607Z",
     "start_time": "2024-06-09T09:30:29.788024Z"
    }
   },
   "source": [
    "hist.history"
   ],
   "outputs": [
    {
     "data": {
      "text/plain": [
       "{'accuracy': [0.7083333134651184,\n",
       "  0.5,\n",
       "  0.6666666865348816,\n",
       "  0.5,\n",
       "  0.6666666865348816,\n",
       "  0.7083333134651184,\n",
       "  0.9166666865348816,\n",
       "  0.9583333134651184,\n",
       "  0.9166666865348816,\n",
       "  0.875,\n",
       "  0.9583333134651184,\n",
       "  1.0,\n",
       "  1.0,\n",
       "  1.0,\n",
       "  1.0,\n",
       "  1.0,\n",
       "  1.0,\n",
       "  1.0,\n",
       "  1.0,\n",
       "  1.0],\n",
       " 'loss': [1.5356035232543945,\n",
       "  0.9861618876457214,\n",
       "  0.945726215839386,\n",
       "  0.9505812525749207,\n",
       "  0.7896413803100586,\n",
       "  0.6862892508506775,\n",
       "  0.5890000462532043,\n",
       "  0.3582618236541748,\n",
       "  0.3329072892665863,\n",
       "  0.2895421087741852,\n",
       "  0.11785820871591568,\n",
       "  0.08857167512178421,\n",
       "  0.04091789200901985,\n",
       "  0.016450800001621246,\n",
       "  0.008333244360983372,\n",
       "  0.006730387452989817,\n",
       "  0.0029730263631790876,\n",
       "  0.007207595277577639,\n",
       "  0.000925928121432662,\n",
       "  0.0015593821881338954],\n",
       " 'val_accuracy': [0.0,\n",
       "  0.625,\n",
       "  0.75,\n",
       "  0.75,\n",
       "  0.75,\n",
       "  1.0,\n",
       "  1.0,\n",
       "  1.0,\n",
       "  1.0,\n",
       "  0.875,\n",
       "  1.0,\n",
       "  1.0,\n",
       "  1.0,\n",
       "  1.0,\n",
       "  1.0,\n",
       "  1.0,\n",
       "  1.0,\n",
       "  1.0,\n",
       "  1.0,\n",
       "  1.0],\n",
       " 'val_loss': [0.9410971403121948,\n",
       "  0.9691463708877563,\n",
       "  0.8213155269622803,\n",
       "  0.9406452178955078,\n",
       "  0.5724668502807617,\n",
       "  0.5349563360214233,\n",
       "  0.32818782329559326,\n",
       "  0.2261267900466919,\n",
       "  0.15465658903121948,\n",
       "  0.19719430804252625,\n",
       "  0.05176042765378952,\n",
       "  0.05063078552484512,\n",
       "  0.013733308762311935,\n",
       "  0.001537570497021079,\n",
       "  0.010366154834628105,\n",
       "  0.002847424941137433,\n",
       "  0.000634891795925796,\n",
       "  0.00017938918608706445,\n",
       "  0.0013009716058149934,\n",
       "  0.001560781616717577]}"
      ]
     },
     "execution_count": 189,
     "metadata": {},
     "output_type": "execute_result"
    }
   ],
   "execution_count": 189
  },
  {
   "cell_type": "markdown",
   "metadata": {
    "id": "S5LQFdKZHmBQ"
   },
   "source": [
    "**Plot Performance**"
   ]
  },
  {
   "cell_type": "code",
   "metadata": {
    "colab": {
     "base_uri": "https://localhost:8080/",
     "height": 478
    },
    "id": "36h9ddD-Hvx9",
    "outputId": "ee66a3cc-eccc-4c4a-b4ee-0bb3d74e55b4",
    "ExecuteTime": {
     "end_time": "2024-06-09T09:30:31.992885Z",
     "start_time": "2024-06-09T09:30:31.827332Z"
    }
   },
   "source": [
    "fig = plt.figure()\n",
    "plt.plot(hist.history['loss'], color='teal', label='loss')\n",
    "plt.plot(hist.history['val_loss'], color='orange', label='val_loss')\n",
    "fig.suptitle('Loss', fontsize=20)\n",
    "plt.legend(loc=\"upper left\")\n",
    "plt.show()"
   ],
   "outputs": [
    {
     "data": {
      "text/plain": [
       "<Figure size 640x480 with 1 Axes>"
      ],
      "image/png": "[encoded data removed]"
     },
     "metadata": {},
     "output_type": "display_data"
    }
   ],
   "execution_count": 190
  },
  {
   "cell_type": "code",
   "metadata": {
    "colab": {
     "base_uri": "https://localhost:8080/",
     "height": 478
    },
    "id": "kTlnl7MHH_nT",
    "outputId": "d44796b8-5667-4615-b121-42539d3369a5",
    "ExecuteTime": {
     "end_time": "2024-06-09T09:30:33.313806Z",
     "start_time": "2024-06-09T09:30:33.180481Z"
    }
   },
   "source": [
    "fig = plt.figure()\n",
    "plt.plot(hist.history['accuracy'], color='teal', label='accuracy')\n",
    "plt.plot(hist.history['val_accuracy'], color='orange', label='val_accuracy')\n",
    "fig.suptitle('Accuracy', fontsize=20)\n",
    "plt.legend(loc=\"upper left\")\n",
    "plt.show()"
   ],
   "outputs": [
    {
     "data": {
      "text/plain": [
       "<Figure size 640x480 with 1 Axes>"
      ],
      "image/png": "[encoded data removed]"
     },
     "metadata": {},
     "output_type": "display_data"
    }
   ],
   "execution_count": 191
  },
  {
   "cell_type": "markdown",
   "metadata": {
    "id": "ESU3YKzmIUk4"
   },
   "source": [
    "**Evaluate Performance**"
   ]
  },
  {
   "cell_type": "code",
   "metadata": {
    "id": "QoQDcypiIYrx",
    "ExecuteTime": {
     "end_time": "2024-06-09T09:30:37.898829Z",
     "start_time": "2024-06-09T09:30:37.893695Z"
    }
   },
   "source": [
    "from tensorflow.keras.metrics import Precision, Recall, BinaryAccuracy"
   ],
   "outputs": [],
   "execution_count": 192
  },
  {
   "cell_type": "code",
   "metadata": {
    "id": "35x1ozmkIdyv",
    "ExecuteTime": {
     "end_time": "2024-06-09T09:30:38.399107Z",
     "start_time": "2024-06-09T09:30:38.382897Z"
    }
   },
   "source": [
    "# Establishing instances\n",
    "pre = Precision()\n",
    "re = Recall()\n",
    "acc = BinaryAccuracy()"
   ],
   "outputs": [],
   "execution_count": 193
  },
  {
   "cell_type": "code",
   "metadata": {
    "colab": {
     "base_uri": "https://localhost:8080/"
    },
    "id": "JxuwTm-nIfUT",
    "outputId": "c9ebfa75-25c1-4337-ff9e-f64b80d9c379",
    "ExecuteTime": {
     "end_time": "2024-06-09T09:30:39.087204Z",
     "start_time": "2024-06-09T09:30:38.866421Z"
    }
   },
   "source": [
    "for batch in test.as_numpy_iterator():\n",
    "    X, y = batch\n",
    "    yhat = model.predict(X)\n",
    "    pre.update_state(y, yhat)\n",
    "    re.update_state(y, yhat)\n",
    "    acc.update_state(y, yhat)"
   ],
   "outputs": [
    {
     "name": "stdout",
     "output_type": "stream",
     "text": [
      "\u001B[1m1/1\u001B[0m \u001B[32m━━━━━━━━━━━━━━━━━━━━\u001B[0m\u001B[37m\u001B[0m \u001B[1m0s\u001B[0m 92ms/step\n"
     ]
    }
   ],
   "execution_count": 194
  },
  {
   "cell_type": "code",
   "metadata": {
    "colab": {
     "base_uri": "https://localhost:8080/"
    },
    "id": "tQ5xhABWI75X",
    "outputId": "b6208eb1-48d4-450d-e9ef-d47377d4fd58",
    "ExecuteTime": {
     "end_time": "2024-06-09T09:30:40.173913Z",
     "start_time": "2024-06-09T09:30:40.164742Z"
    }
   },
   "source": [
    "print(f'Precision:{pre.result()}, Recall:{re.result().numpy()}, Acuraccy:{acc.result().numpy}')"
   ],
   "outputs": [
    {
     "name": "stdout",
     "output_type": "stream",
     "text": [
      "Precision:1.0, Recall:1.0, Acuraccy:<bound method _EagerTensorBase.numpy of <tf.Tensor: shape=(), dtype=float32, numpy=1.0>>\n"
     ]
    }
   ],
   "execution_count": 195
  },
  {
   "cell_type": "markdown",
   "metadata": {
    "id": "ym0qLHinOTVU"
   },
   "source": [
    "**Test**"
   ]
  },
  {
   "cell_type": "code",
   "metadata": {
    "id": "sPl4ImweOVTX",
    "ExecuteTime": {
     "end_time": "2024-06-09T09:30:41.857626Z",
     "start_time": "2024-06-09T09:30:41.852438Z"
    }
   },
   "source": "import cv2",
   "outputs": [],
   "execution_count": 196
  },
  {
   "cell_type": "code",
   "metadata": {
    "colab": {
     "base_uri": "https://localhost:8080/",
     "height": 471
    },
    "id": "LV0rg4p3mGRO",
    "outputId": "eae7a1ef-5557-48cb-ce12-d254b75d602c",
    "ExecuteTime": {
     "end_time": "2024-06-09T09:30:42.877665Z",
     "start_time": "2024-06-09T09:30:42.620197Z"
    }
   },
   "source": [
    "# Load and preprocess the image\n",
    "img = cv2.imread('eval3.png')\n",
    "img = cv2.cvtColor(img, cv2.COLOR_BGR2RGB)  # Convert from BGR to RGB\n",
    "resize = tf.image.resize(img, (256,256))\n",
    "plt.imshow(resize.numpy().astype(int))\n",
    "plt.show()\n",
    "\n",
    "# Predict the class\n",
    "predict = model.predict(np.expand_dims(resize/255, 0))\n",
    "\n",
    "# Assuming you have 3 classes (Sad, Happy, Neutral)\n",
    "class_names = ['Circular', 'Normal', 'Overlapping']\n",
    "predicted_class = np.argmax(predict)\n",
    "\n",
    "print(f'Image belong to the {class_names[predicted_class]} class')"
   ],
   "outputs": [
    {
     "data": {
      "text/plain": [
       "<Figure size 640x480 with 1 Axes>"
      ],
      "image/png": "[encoded data removed]"
     },
     "metadata": {},
     "output_type": "display_data"
    },
    {
     "name": "stdout",
     "output_type": "stream",
     "text": [
      "\u001B[1m1/1\u001B[0m \u001B[32m━━━━━━━━━━━━━━━━━━━━\u001B[0m\u001B[37m\u001B[0m \u001B[1m0s\u001B[0m 85ms/step\n",
      "Image belong to the Overlapping class\n"
     ]
    }
   ],
   "execution_count": 197
  },
  {
   "cell_type": "markdown",
   "metadata": {
    "id": "CFUpmSERNpv6"
   },
   "source": [
    "**Saving the model**"
   ]
  },
  {
   "cell_type": "code",
   "metadata": {
    "id": "QRC_Bvb1NoYw",
    "ExecuteTime": {
     "end_time": "2024-06-09T09:31:08.800334Z",
     "start_time": "2024-06-09T09:31:08.794679Z"
    }
   },
   "source": [
    "from tensorflow.keras.models import load_model"
   ],
   "outputs": [],
   "execution_count": 198
  },
  {
   "cell_type": "code",
   "metadata": {
    "id": "-Iq-4vIUN1B_",
    "ExecuteTime": {
     "end_time": "2024-06-09T09:31:10.999849Z",
     "start_time": "2024-06-09T09:31:10.821693Z"
    }
   },
   "source": "model.save('imageclassifier.keras')",
   "outputs": [],
   "execution_count": 199
  },
  {
   "metadata": {},
   "cell_type": "code",
   "outputs": [],
   "execution_count": null,
   "source": ""
  }
 ],
 "metadata": {
  "accelerator": "GPU",
  "colab": {
   "gpuType": "T4",
   "provenance": []
  },
  "kernelspec": {
   "display_name": "Python 3 (ipykernel)",
   "language": "python",
   "name": "python3"
  },
  "language_info": {
   "codemirror_mode": {
    "name": "ipython",
    "version": 3
   },
   "file_extension": ".py",
   "mimetype": "text/x-python",
   "name": "python",
   "nbconvert_exporter": "python",
   "pygments_lexer": "ipython3",
   "version": "3.12.3"
  }
 },
 "nbformat": 4,
 "nbformat_minor": 4
}
