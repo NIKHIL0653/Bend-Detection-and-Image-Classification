{
 "cells": [
  {
   "cell_type": "code",
   "metadata": {
    "id": "y-RDdZ46w21D",
    "ExecuteTime": {
     "end_time": "2024-06-11T04:58:28.099314Z",
     "start_time": "2024-06-11T04:58:12.130073Z"
    }
   },
   "source": [
    "import tensorflow as tf\n",
    "import os"
   ],
   "outputs": [],
   "execution_count": 2
  },
  {
   "cell_type": "code",
   "metadata": {
    "colab": {
     "base_uri": "https://localhost:8080/"
    },
    "id": "9R6sUlPxyBgR",
    "outputId": "947006e2-88e6-46be-9d64-35a09a1f81c2",
    "ExecuteTime": {
     "end_time": "2024-06-11T04:58:28.135188Z",
     "start_time": "2024-06-11T04:58:28.108977Z"
    }
   },
   "source": [
    "cpus = tf.config.experimental.list_physical_devices('CPU')\n",
    "cpus"
   ],
   "outputs": [
    {
     "data": {
      "text/plain": [
       "[PhysicalDevice(name='/physical_device:CPU:0', device_type='CPU')]"
      ]
     },
     "execution_count": 3,
     "metadata": {},
     "output_type": "execute_result"
    }
   ],
   "execution_count": 3
  },
  {
   "cell_type": "code",
   "metadata": {
    "id": "uOfvcnt7x0dR",
    "ExecuteTime": {
     "end_time": "2024-06-11T04:58:28.154208Z",
     "start_time": "2024-06-11T04:58:28.143276Z"
    }
   },
   "source": [
    "cpus = tf.config.experimental.list_physical_devices('GPU')\n",
    "for cpu in cpus:\n",
    "    tf.config.experimental.set_memory_growth(cpu, True)"
   ],
   "outputs": [],
   "execution_count": 4
  },
  {
   "cell_type": "code",
   "metadata": {
    "id": "kkBK7CF9zz2i",
    "ExecuteTime": {
     "end_time": "2024-06-11T04:58:30.322970Z",
     "start_time": "2024-06-11T04:58:28.161241Z"
    }
   },
   "source": [
    "import cv2\n",
    "import imghdr\n",
    "import matplotlib.pyplot as plt\n",
    "import numpy as np"
   ],
   "outputs": [
    {
     "name": "stderr",
     "output_type": "stream",
     "text": [
      "C:\\Users\\KIIT\\AppData\\Local\\Temp\\ipykernel_34180\\3538499753.py:2: DeprecationWarning: 'imghdr' is deprecated and slated for removal in Python 3.13\n",
      "  import imghdr\n"
     ]
    }
   ],
   "execution_count": 5
  },
  {
   "cell_type": "code",
   "metadata": {
    "id": "apVdp0A733hY",
    "ExecuteTime": {
     "end_time": "2024-06-11T04:58:30.345200Z",
     "start_time": "2024-06-11T04:58:30.332980Z"
    }
   },
   "source": [
    "data_dir = 'dataset'"
   ],
   "outputs": [],
   "execution_count": 6
  },
  {
   "cell_type": "code",
   "metadata": {
    "colab": {
     "base_uri": "https://localhost:8080/"
    },
    "id": "9zbErkPd5c5k",
    "outputId": "38c95797-57cf-479c-ec01-8678042a1f87",
    "scrolled": true,
    "ExecuteTime": {
     "end_time": "2024-06-11T04:58:30.370226Z",
     "start_time": "2024-06-11T04:58:30.351286Z"
    }
   },
   "source": [
    "os.listdir(os.path.join(data_dir, 'normal'))"
   ],
   "outputs": [
    {
     "data": {
      "text/plain": [
       "['row_10.png',\n",
       " 'row_11.png',\n",
       " 'row_12.png',\n",
       " 'row_13.png',\n",
       " 'row_14.png',\n",
       " 'row_15.png',\n",
       " 'row_25.png',\n",
       " 'row_26.png',\n",
       " 'row_27.png',\n",
       " 'row_28.png',\n",
       " 'row_29.png',\n",
       " 'row_32.png',\n",
       " 'row_33.png',\n",
       " 'row_34.png',\n",
       " 'row_35.png',\n",
       " 'row_36.png',\n",
       " 'row_37.png',\n",
       " 'row_38.png',\n",
       " 'row_39.png',\n",
       " 'row_7.png',\n",
       " 'row_8.png',\n",
       " 'row_9.png',\n",
       " 'st_CAB_output.jpg']"
      ]
     },
     "execution_count": 7,
     "metadata": {},
     "output_type": "execute_result"
    }
   ],
   "execution_count": 7
  },
  {
   "cell_type": "code",
   "metadata": {
    "id": "yZlJf9iK38ZD",
    "ExecuteTime": {
     "end_time": "2024-06-11T04:58:30.386067Z",
     "start_time": "2024-06-11T04:58:30.377381Z"
    }
   },
   "source": [
    "image_exts = ['jpeg','jpg', 'bmp', 'png']"
   ],
   "outputs": [],
   "execution_count": 8
  },
  {
   "cell_type": "code",
   "metadata": {
    "colab": {
     "base_uri": "https://localhost:8080/"
    },
    "id": "86sb3rmx4HMa",
    "outputId": "9eed03cd-22a4-4f9e-e5b3-6fc4a0e4ebab",
    "ExecuteTime": {
     "end_time": "2024-06-11T04:58:30.404744Z",
     "start_time": "2024-06-11T04:58:30.392095Z"
    }
   },
   "source": [
    "image_exts"
   ],
   "outputs": [
    {
     "data": {
      "text/plain": [
       "['jpeg', 'jpg', 'bmp', 'png']"
      ]
     },
     "execution_count": 9,
     "metadata": {},
     "output_type": "execute_result"
    }
   ],
   "execution_count": 9
  },
  {
   "cell_type": "code",
   "metadata": {
    "id": "A8pf5pbJ4JQR",
    "ExecuteTime": {
     "end_time": "2024-06-11T04:58:30.527599Z",
     "start_time": "2024-06-11T04:58:30.408972Z"
    }
   },
   "source": [
    "for image_class in os.listdir(data_dir):\n",
    "    for image in os.listdir(os.path.join(data_dir, image_class)):\n",
    "        image_path = os.path.join(data_dir, image_class, image)\n",
    "        try:\n",
    "            img = cv2.imread(image_path)\n",
    "            tip = imghdr.what(image_path)\n",
    "            if tip not in image_exts:\n",
    "                print('Image not in ext list {}'.format(image_path))\n",
    "                os.remove(image_path)\n",
    "        except Exception as e:\n",
    "            print('Issue with image {}'.format(image_path))\n",
    "            # os.remove(image_path)"
   ],
   "outputs": [],
   "execution_count": 10
  },
  {
   "cell_type": "markdown",
   "metadata": {
    "id": "1WwbxO8vG1Pp"
   },
   "source": [
    "**Load Data**"
   ]
  },
  {
   "cell_type": "code",
   "metadata": {
    "colab": {
     "base_uri": "https://localhost:8080/",
     "height": 186
    },
    "id": "lD5HtKm2HCaf",
    "outputId": "434e6afa-0ed3-4e29-b1de-0c1290e0f3bc",
    "ExecuteTime": {
     "end_time": "2024-06-11T04:58:30.545870Z",
     "start_time": "2024-06-11T04:58:30.532171Z"
    }
   },
   "source": [
    "tf.data.Dataset"
   ],
   "outputs": [
    {
     "data": {
      "text/plain": [
       "tensorflow.python.data.ops.dataset_ops.DatasetV2"
      ]
     },
     "execution_count": 11,
     "metadata": {},
     "output_type": "execute_result"
    }
   ],
   "execution_count": 11
  },
  {
   "cell_type": "code",
   "metadata": {
    "id": "v3jIL4INQ8Pj",
    "ExecuteTime": {
     "end_time": "2024-06-11T04:58:30.558833Z",
     "start_time": "2024-06-11T04:58:30.550899Z"
    }
   },
   "source": "#tf.keras.utils.image_dataset_from_directory??",
   "outputs": [],
   "execution_count": 12
  },
  {
   "cell_type": "code",
   "metadata": {
    "colab": {
     "base_uri": "https://localhost:8080/"
    },
    "id": "bFw2nz9xDD-5",
    "outputId": "cf3be0dc-54da-4a2b-921e-ba85fc1e7733",
    "ExecuteTime": {
     "end_time": "2024-06-11T04:58:30.917672Z",
     "start_time": "2024-06-11T04:58:30.563925Z"
    }
   },
   "source": [
    "# --- 1. Define 'data' ---\n",
    "data = tf.keras.utils.image_dataset_from_directory(\n",
    "    data_dir,\n",
    "    labels='inferred',  # Infers labels from directory structure\n",
    "    label_mode='categorical',  # One-hot encoded labels\n",
    "    image_size=(256, 256),  # Adjust if your images have different dimensions\n",
    "    batch_size=8,  # Adjust based on your memory constraints\n",
    ")"
   ],
   "outputs": [
    {
     "name": "stdout",
     "output_type": "stream",
     "text": [
      "Found 39 files belonging to 3 classes.\n"
     ]
    }
   ],
   "execution_count": 13
  },
  {
   "cell_type": "code",
   "metadata": {
    "id": "97f90XPjDHfi",
    "ExecuteTime": {
     "end_time": "2024-06-11T04:58:31.194653Z",
     "start_time": "2024-06-11T04:58:30.923692Z"
    }
   },
   "source": [
    "data_iterator = data.as_numpy_iterator()"
   ],
   "outputs": [],
   "execution_count": 14
  },
  {
   "cell_type": "code",
   "metadata": {
    "id": "eBCBocPbRPfa",
    "ExecuteTime": {
     "end_time": "2024-06-11T04:58:31.293269Z",
     "start_time": "2024-06-11T04:58:31.206682Z"
    }
   },
   "source": [
    "batch = data_iterator.next()"
   ],
   "outputs": [],
   "execution_count": 15
  },
  {
   "cell_type": "code",
   "metadata": {
    "colab": {
     "base_uri": "https://localhost:8080/"
    },
    "id": "6WqaQFHTYz6v",
    "outputId": "f8651bb6-2e29-40a0-950d-b7b70e848ae2",
    "ExecuteTime": {
     "end_time": "2024-06-11T04:58:31.313712Z",
     "start_time": "2024-06-11T04:58:31.299929Z"
    }
   },
   "source": [
    "batch[0].shape"
   ],
   "outputs": [
    {
     "data": {
      "text/plain": [
       "(8, 256, 256, 3)"
      ]
     },
     "execution_count": 16,
     "metadata": {},
     "output_type": "execute_result"
    }
   ],
   "execution_count": 16
  },
  {
   "cell_type": "code",
   "metadata": {
    "colab": {
     "base_uri": "https://localhost:8080/",
     "height": 174
    },
    "id": "CLEcKw9eRhfY",
    "outputId": "24925782-8dec-4d5e-d504-325900969a13",
    "ExecuteTime": {
     "end_time": "2024-06-11T04:58:33.061027Z",
     "start_time": "2024-06-11T04:58:31.320034Z"
    }
   },
   "source": [
    "class_names = {\n",
    "    0: \"Circular\",\n",
    "    1: \"Normal\",\n",
    "    2: \"Overlapping\"\n",
    "}\n",
    "\n",
    "\n",
    "fig, ax = plt.subplots(ncols=4, figsize=(20, 25))\n",
    "for idx, img in enumerate(batch[0][:4]):\n",
    "    ax[idx].imshow(img.astype(int))\n",
    "    # Convert NumPy array to a hashable type (e.g., integer)\n",
    "    label_index = np.argmax(batch[1][idx])  # Get index of the highest probability class\n",
    "    ax[idx].title.set_text(class_names.get(label_index, \"Unknown\"))\n",
    "\n",
    "    # Add x and y ticks (adjust values based on your image dimensions)\n",
    "    ax[idx].set_xticks(np.arange(0, img.shape[1], 50))  # Ticks every 50 pixels on x-axis\n",
    "    ax[idx].set_yticks(np.arange(0, img.shape[0], 50))  # Ticks every 50 pixels on y-axis\n",
    "\n",
    "    # Optionally, label the ticks with pixel values\n",
    "    ax[idx].set_xticklabels(np.arange(0, img.shape[1], 50))\n",
    "    ax[idx].set_yticklabels(np.arange(0, img.shape[0], 50))\n",
    "\n",
    "plt.show()"
   ],
   "outputs": [
    {
     "data": {
      "text/plain": [
       "<Figure size 2000x2500 with 4 Axes>"
      ],
      "image/png": "[encoded data removed]"
     },
     "metadata": {},
     "output_type": "display_data"
    }
   ],
   "execution_count": 17
  },
  {
   "cell_type": "markdown",
   "metadata": {
    "id": "0pFZTbgq31t7"
   },
   "source": [
    "**Scale Data**"
   ]
  },
  {
   "cell_type": "code",
   "metadata": {
    "id": "qm_Urb2q3VVc",
    "ExecuteTime": {
     "end_time": "2024-06-11T04:58:33.160759Z",
     "start_time": "2024-06-11T04:58:33.068073Z"
    }
   },
   "source": [
    "data = data.map(lambda x,y: (x/255, y))\n",
    "# important since it helps to perform transformation to convert image min to 0 and max to 1\n",
    "# important while working with data pipeline"
   ],
   "outputs": [],
   "execution_count": 18
  },
  {
   "cell_type": "code",
   "metadata": {
    "colab": {
     "base_uri": "https://localhost:8080/"
    },
    "id": "KZUYQqM_37pE",
    "outputId": "c5b16248-3ad3-4595-aae3-a8ea39945d0f",
    "ExecuteTime": {
     "end_time": "2024-06-11T04:58:33.367567Z",
     "start_time": "2024-06-11T04:58:33.183805Z"
    }
   },
   "source": [
    "data.as_numpy_iterator().next()"
   ],
   "outputs": [
    {
     "data": {
      "text/plain": [
       "(array([[[[1.        , 1.        , 1.        ],\n",
       "          [1.        , 1.        , 1.        ],\n",
       "          [1.        , 1.        , 1.        ],\n",
       "          ...,\n",
       "          [1.        , 1.        , 1.        ],\n",
       "          [1.        , 1.        , 1.        ],\n",
       "          [1.        , 1.        , 1.        ]],\n",
       " \n",
       "         [[1.        , 1.        , 1.        ],\n",
       "          [1.        , 1.        , 1.        ],\n",
       "          [1.        , 1.        , 1.        ],\n",
       "          ...,\n",
       "          [1.        , 1.        , 1.        ],\n",
       "          [1.        , 1.        , 1.        ],\n",
       "          [1.        , 1.        , 1.        ]],\n",
       " \n",
       "         [[1.        , 1.        , 1.        ],\n",
       "          [1.        , 1.        , 1.        ],\n",
       "          [1.        , 1.        , 1.        ],\n",
       "          ...,\n",
       "          [1.        , 1.        , 1.        ],\n",
       "          [1.        , 1.        , 1.        ],\n",
       "          [1.        , 1.        , 1.        ]],\n",
       " \n",
       "         ...,\n",
       " \n",
       "         [[1.        , 1.        , 1.        ],\n",
       "          [1.        , 1.        , 1.        ],\n",
       "          [1.        , 1.        , 1.        ],\n",
       "          ...,\n",
       "          [1.        , 1.        , 1.        ],\n",
       "          [1.        , 1.        , 1.        ],\n",
       "          [1.        , 1.        , 1.        ]],\n",
       " \n",
       "         [[1.        , 1.        , 1.        ],\n",
       "          [1.        , 1.        , 1.        ],\n",
       "          [1.        , 1.        , 1.        ],\n",
       "          ...,\n",
       "          [1.        , 1.        , 1.        ],\n",
       "          [1.        , 1.        , 1.        ],\n",
       "          [1.        , 1.        , 1.        ]],\n",
       " \n",
       "         [[1.        , 1.        , 1.        ],\n",
       "          [1.        , 1.        , 1.        ],\n",
       "          [1.        , 1.        , 1.        ],\n",
       "          ...,\n",
       "          [1.        , 1.        , 1.        ],\n",
       "          [1.        , 1.        , 1.        ],\n",
       "          [1.        , 1.        , 1.        ]]],\n",
       " \n",
       " \n",
       "        [[[0.73333335, 0.73333335, 0.73333335],\n",
       "          [0.7608992 , 0.7608992 , 0.7608992 ],\n",
       "          [0.859015  , 0.859015  , 0.859015  ],\n",
       "          ...,\n",
       "          [0.99793965, 0.99793965, 0.99793965],\n",
       "          [0.9995481 , 0.9995481 , 0.9995481 ],\n",
       "          [1.        , 1.        , 1.        ]],\n",
       " \n",
       "         [[0.73333335, 0.73333335, 0.73333335],\n",
       "          [0.7608992 , 0.7608992 , 0.7608992 ],\n",
       "          [0.859015  , 0.859015  , 0.859015  ],\n",
       "          ...,\n",
       "          [0.99793965, 0.99793965, 0.99793965],\n",
       "          [0.9995481 , 0.9995481 , 0.9995481 ],\n",
       "          [1.        , 1.        , 1.        ]],\n",
       " \n",
       "         [[0.73333335, 0.73333335, 0.73333335],\n",
       "          [0.7608992 , 0.7608992 , 0.7608992 ],\n",
       "          [0.859015  , 0.859015  , 0.859015  ],\n",
       "          ...,\n",
       "          [0.99793965, 0.99793965, 0.99793965],\n",
       "          [0.9995481 , 0.9995481 , 0.9995481 ],\n",
       "          [1.        , 1.        , 1.        ]],\n",
       " \n",
       "         ...,\n",
       " \n",
       "         [[0.73333335, 0.73333335, 0.73333335],\n",
       "          [0.7640625 , 0.7640625 , 0.7640625 ],\n",
       "          [0.8734375 , 0.8734375 , 0.8734375 ],\n",
       "          ...,\n",
       "          [0.9981388 , 0.9981388 , 0.9981388 ],\n",
       "          [0.99653035, 0.99653035, 0.99653035],\n",
       "          [0.99607843, 0.99607843, 0.99607843]],\n",
       " \n",
       "         [[0.73333335, 0.73333335, 0.73333335],\n",
       "          [0.7640625 , 0.7640625 , 0.7640625 ],\n",
       "          [0.8734375 , 0.8734375 , 0.8734375 ],\n",
       "          ...,\n",
       "          [0.9981388 , 0.9981388 , 0.9981388 ],\n",
       "          [0.99653035, 0.99653035, 0.99653035],\n",
       "          [0.99607843, 0.99607843, 0.99607843]],\n",
       " \n",
       "         [[0.73333335, 0.73333335, 0.73333335],\n",
       "          [0.7640625 , 0.7640625 , 0.7640625 ],\n",
       "          [0.8734375 , 0.8734375 , 0.8734375 ],\n",
       "          ...,\n",
       "          [0.9981388 , 0.9981388 , 0.9981388 ],\n",
       "          [0.99653035, 0.99653035, 0.99653035],\n",
       "          [0.99607843, 0.99607843, 0.99607843]]],\n",
       " \n",
       " \n",
       "        [[[0.72156864, 0.72156864, 0.72156864],\n",
       "          [0.75365347, 0.75365347, 0.75365347],\n",
       "          [0.8678539 , 0.8678539 , 0.8678539 ],\n",
       "          ...,\n",
       "          [0.97500765, 0.97500765, 0.97500765],\n",
       "          [0.9669654 , 0.9669654 , 0.9669654 ],\n",
       "          [0.9647059 , 0.9647059 , 0.9647059 ]],\n",
       " \n",
       "         [[0.72156864, 0.72156864, 0.72156864],\n",
       "          [0.75365347, 0.75365347, 0.75365347],\n",
       "          [0.8678539 , 0.8678539 , 0.8678539 ],\n",
       "          ...,\n",
       "          [0.97500765, 0.97500765, 0.97500765],\n",
       "          [0.9669654 , 0.9669654 , 0.9669654 ],\n",
       "          [0.9647059 , 0.9647059 , 0.9647059 ]],\n",
       " \n",
       "         [[0.72156864, 0.72156864, 0.72156864],\n",
       "          [0.75365347, 0.75365347, 0.75365347],\n",
       "          [0.8678539 , 0.8678539 , 0.8678539 ],\n",
       "          ...,\n",
       "          [0.97500765, 0.97500765, 0.97500765],\n",
       "          [0.9669654 , 0.9669654 , 0.9669654 ],\n",
       "          [0.9647059 , 0.9647059 , 0.9647059 ]],\n",
       " \n",
       "         ...,\n",
       " \n",
       "         [[0.69411767, 0.69411767, 0.69411767],\n",
       "          [0.7293658 , 0.7293658 , 0.7293658 ],\n",
       "          [0.8548254 , 0.8548254 , 0.8548254 ],\n",
       "          ...,\n",
       "          [0.9888327 , 0.9888327 , 0.9888327 ],\n",
       "          [0.979182  , 0.979182  , 0.979182  ],\n",
       "          [0.9764706 , 0.9764706 , 0.9764706 ]],\n",
       " \n",
       "         [[0.69411767, 0.69411767, 0.69411767],\n",
       "          [0.7293658 , 0.7293658 , 0.7293658 ],\n",
       "          [0.8548254 , 0.8548254 , 0.8548254 ],\n",
       "          ...,\n",
       "          [0.9888327 , 0.9888327 , 0.9888327 ],\n",
       "          [0.979182  , 0.979182  , 0.979182  ],\n",
       "          [0.9764706 , 0.9764706 , 0.9764706 ]],\n",
       " \n",
       "         [[0.69411767, 0.69411767, 0.69411767],\n",
       "          [0.7293658 , 0.7293658 , 0.7293658 ],\n",
       "          [0.8548254 , 0.8548254 , 0.8548254 ],\n",
       "          ...,\n",
       "          [0.9888327 , 0.9888327 , 0.9888327 ],\n",
       "          [0.979182  , 0.979182  , 0.979182  ],\n",
       "          [0.9764706 , 0.9764706 , 0.9764706 ]]],\n",
       " \n",
       " \n",
       "        ...,\n",
       " \n",
       " \n",
       "        [[[0.6901961 , 0.6901961 , 0.6901961 ],\n",
       "          [0.7258961 , 0.7258961 , 0.7258961 ],\n",
       "          [0.85296416, 0.85296416, 0.85296416],\n",
       "          ...,\n",
       "          [0.9710861 , 0.9710861 , 0.9710861 ],\n",
       "          [0.9630438 , 0.9630438 , 0.9630438 ],\n",
       "          [0.9607843 , 0.9607843 , 0.9607843 ]],\n",
       " \n",
       "         [[0.6901961 , 0.6901961 , 0.6901961 ],\n",
       "          [0.7258961 , 0.7258961 , 0.7258961 ],\n",
       "          [0.85296416, 0.85296416, 0.85296416],\n",
       "          ...,\n",
       "          [0.9710861 , 0.9710861 , 0.9710861 ],\n",
       "          [0.9630438 , 0.9630438 , 0.9630438 ],\n",
       "          [0.9607843 , 0.9607843 , 0.9607843 ]],\n",
       " \n",
       "         [[0.6901961 , 0.6901961 , 0.6901961 ],\n",
       "          [0.7258961 , 0.7258961 , 0.7258961 ],\n",
       "          [0.85296416, 0.85296416, 0.85296416],\n",
       "          ...,\n",
       "          [0.9710861 , 0.9710861 , 0.9710861 ],\n",
       "          [0.9630438 , 0.9630438 , 0.9630438 ],\n",
       "          [0.9607843 , 0.9607843 , 0.9607843 ]],\n",
       " \n",
       "         ...,\n",
       " \n",
       "         [[0.7411765 , 0.7411765 , 0.7411765 ],\n",
       "          [0.7710018 , 0.7710018 , 0.7710018 ],\n",
       "          [0.87715995, 0.87715995, 0.87715995],\n",
       "          ...,\n",
       "          [0.9776654 , 0.9776654 , 0.9776654 ],\n",
       "          [0.95836395, 0.95836395, 0.95836395],\n",
       "          [0.9529412 , 0.9529412 , 0.9529412 ]],\n",
       " \n",
       "         [[0.7411765 , 0.7411765 , 0.7411765 ],\n",
       "          [0.7710018 , 0.7710018 , 0.7710018 ],\n",
       "          [0.87715995, 0.87715995, 0.87715995],\n",
       "          ...,\n",
       "          [0.9776654 , 0.9776654 , 0.9776654 ],\n",
       "          [0.95836395, 0.95836395, 0.95836395],\n",
       "          [0.9529412 , 0.9529412 , 0.9529412 ]],\n",
       " \n",
       "         [[0.7411765 , 0.7411765 , 0.7411765 ],\n",
       "          [0.7710018 , 0.7710018 , 0.7710018 ],\n",
       "          [0.87715995, 0.87715995, 0.87715995],\n",
       "          ...,\n",
       "          [0.9776654 , 0.9776654 , 0.9776654 ],\n",
       "          [0.95836395, 0.95836395, 0.95836395],\n",
       "          [0.9529412 , 0.9529412 , 0.9529412 ]]],\n",
       " \n",
       " \n",
       "        [[[0.7254902 , 0.7254902 , 0.7254902 ],\n",
       "          [0.75215226, 0.75215226, 0.75215226],\n",
       "          [0.84705114, 0.84705114, 0.84705114],\n",
       "          ...,\n",
       "          [0.9919577 , 0.9919577 , 0.9919577 ],\n",
       "          [0.99517465, 0.99517465, 0.99517465],\n",
       "          [0.99607843, 0.99607843, 0.99607843]],\n",
       " \n",
       "         [[0.7254902 , 0.7254902 , 0.7254902 ],\n",
       "          [0.75215226, 0.75215226, 0.75215226],\n",
       "          [0.84705114, 0.84705114, 0.84705114],\n",
       "          ...,\n",
       "          [0.9919577 , 0.9919577 , 0.9919577 ],\n",
       "          [0.99517465, 0.99517465, 0.99517465],\n",
       "          [0.99607843, 0.99607843, 0.99607843]],\n",
       " \n",
       "         [[0.7254902 , 0.7254902 , 0.7254902 ],\n",
       "          [0.75215226, 0.75215226, 0.75215226],\n",
       "          [0.84705114, 0.84705114, 0.84705114],\n",
       "          ...,\n",
       "          [0.9919577 , 0.9919577 , 0.9919577 ],\n",
       "          [0.99517465, 0.99517465, 0.99517465],\n",
       "          [0.99607843, 0.99607843, 0.99607843]],\n",
       " \n",
       "         ...,\n",
       " \n",
       "         [[0.7294118 , 0.7294118 , 0.7294118 ],\n",
       "          [0.7569776 , 0.7569776 , 0.7569776 ],\n",
       "          [0.8550934 , 0.8550934 , 0.8550934 ],\n",
       "          ...,\n",
       "          [0.9919577 , 0.9919577 , 0.9919577 ],\n",
       "          [0.99517465, 0.99517465, 0.99517465],\n",
       "          [0.99607843, 0.99607843, 0.99607843]],\n",
       " \n",
       "         [[0.7294118 , 0.7294118 , 0.7294118 ],\n",
       "          [0.7569776 , 0.7569776 , 0.7569776 ],\n",
       "          [0.8550934 , 0.8550934 , 0.8550934 ],\n",
       "          ...,\n",
       "          [0.9919577 , 0.9919577 , 0.9919577 ],\n",
       "          [0.99517465, 0.99517465, 0.99517465],\n",
       "          [0.99607843, 0.99607843, 0.99607843]],\n",
       " \n",
       "         [[0.7294118 , 0.7294118 , 0.7294118 ],\n",
       "          [0.7569776 , 0.7569776 , 0.7569776 ],\n",
       "          [0.8550934 , 0.8550934 , 0.8550934 ],\n",
       "          ...,\n",
       "          [0.9919577 , 0.9919577 , 0.9919577 ],\n",
       "          [0.99517465, 0.99517465, 0.99517465],\n",
       "          [0.99607843, 0.99607843, 0.99607843]]],\n",
       " \n",
       " \n",
       "        [[[0.7411765 , 0.7411765 , 0.7411765 ],\n",
       "          [0.7710018 , 0.7710018 , 0.7710018 ],\n",
       "          [0.87715995, 0.87715995, 0.87715995],\n",
       "          ...,\n",
       "          [1.        , 1.        , 1.        ],\n",
       "          [1.        , 1.        , 1.        ],\n",
       "          [1.        , 1.        , 1.        ]],\n",
       " \n",
       "         [[0.7411765 , 0.7411765 , 0.7411765 ],\n",
       "          [0.7710018 , 0.7710018 , 0.7710018 ],\n",
       "          [0.87715995, 0.87715995, 0.87715995],\n",
       "          ...,\n",
       "          [1.        , 1.        , 1.        ],\n",
       "          [1.        , 1.        , 1.        ],\n",
       "          [1.        , 1.        , 1.        ]],\n",
       " \n",
       "         [[0.7411765 , 0.7411765 , 0.7411765 ],\n",
       "          [0.7710018 , 0.7710018 , 0.7710018 ],\n",
       "          [0.87715995, 0.87715995, 0.87715995],\n",
       "          ...,\n",
       "          [1.        , 1.        , 1.        ],\n",
       "          [1.        , 1.        , 1.        ],\n",
       "          [1.        , 1.        , 1.        ]],\n",
       " \n",
       "         ...,\n",
       " \n",
       "         [[0.7254902 , 0.7254902 , 0.7254902 ],\n",
       "          [0.7571232 , 0.7571232 , 0.7571232 ],\n",
       "          [0.8697151 , 0.8697151 , 0.8697151 ],\n",
       "          ...,\n",
       "          [0.98324907, 0.98324907, 0.98324907],\n",
       "          [0.968773  , 0.968773  , 0.968773  ],\n",
       "          [0.9647059 , 0.9647059 , 0.9647059 ]],\n",
       " \n",
       "         [[0.7254902 , 0.7254902 , 0.7254902 ],\n",
       "          [0.7571232 , 0.7571232 , 0.7571232 ],\n",
       "          [0.8697151 , 0.8697151 , 0.8697151 ],\n",
       "          ...,\n",
       "          [0.98324907, 0.98324907, 0.98324907],\n",
       "          [0.968773  , 0.968773  , 0.968773  ],\n",
       "          [0.9647059 , 0.9647059 , 0.9647059 ]],\n",
       " \n",
       "         [[0.7254902 , 0.7254902 , 0.7254902 ],\n",
       "          [0.7571232 , 0.7571232 , 0.7571232 ],\n",
       "          [0.8697151 , 0.8697151 , 0.8697151 ],\n",
       "          ...,\n",
       "          [0.98324907, 0.98324907, 0.98324907],\n",
       "          [0.968773  , 0.968773  , 0.968773  ],\n",
       "          [0.9647059 , 0.9647059 , 0.9647059 ]]]], dtype=float32),\n",
       " array([[0., 0., 1.],\n",
       "        [1., 0., 0.],\n",
       "        [0., 1., 0.],\n",
       "        [0., 1., 0.],\n",
       "        [0., 1., 0.],\n",
       "        [0., 1., 0.],\n",
       "        [0., 1., 0.],\n",
       "        [0., 0., 1.]], dtype=float32))"
      ]
     },
     "execution_count": 19,
     "metadata": {},
     "output_type": "execute_result"
    }
   ],
   "execution_count": 19
  },
  {
   "cell_type": "markdown",
   "metadata": {
    "id": "tltHKl2R4L1_"
   },
   "source": [
    "**Split Data**"
   ]
  },
  {
   "cell_type": "code",
   "metadata": {
    "colab": {
     "base_uri": "https://localhost:8080/"
    },
    "id": "Wq18i6N3kUgm",
    "outputId": "dfe31191-8add-4297-819f-f030add3891a",
    "ExecuteTime": {
     "end_time": "2024-06-11T04:58:33.391426Z",
     "start_time": "2024-06-11T04:58:33.372917Z"
    }
   },
   "source": [
    "len(data) # num of batches"
   ],
   "outputs": [
    {
     "data": {
      "text/plain": [
       "5"
      ]
     },
     "execution_count": 20,
     "metadata": {},
     "output_type": "execute_result"
    }
   ],
   "execution_count": 20
  },
  {
   "cell_type": "code",
   "metadata": {
    "id": "cxe938Jko9Ei",
    "ExecuteTime": {
     "end_time": "2024-06-11T04:58:33.407752Z",
     "start_time": "2024-06-11T04:58:33.397880Z"
    }
   },
   "source": [
    "#batch_size = 32"
   ],
   "outputs": [],
   "execution_count": 21
  },
  {
   "cell_type": "code",
   "metadata": {
    "id": "nAJC7Fryo__m",
    "ExecuteTime": {
     "end_time": "2024-06-11T04:58:33.422975Z",
     "start_time": "2024-06-11T04:58:33.413751Z"
    }
   },
   "source": [
    "# train_batches = int(len(data) * 0.7) // batch_size\n",
    "# val_batches = int(len(data) * 0.2) // batch_size\n",
    "# test_batches = int(len(data) * 0.1) // batch_size"
   ],
   "outputs": [],
   "execution_count": 22
  },
  {
   "cell_type": "code",
   "metadata": {
    "id": "Dek9wS5xpZNv",
    "ExecuteTime": {
     "end_time": "2024-06-11T04:58:33.437686Z",
     "start_time": "2024-06-11T04:58:33.429007Z"
    }
   },
   "source": [
    "# test_batches"
   ],
   "outputs": [],
   "execution_count": 23
  },
  {
   "cell_type": "code",
   "metadata": {
    "id": "s4RnYv7v3-qb",
    "ExecuteTime": {
     "end_time": "2024-06-11T04:58:37.915231Z",
     "start_time": "2024-06-11T04:58:37.899780Z"
    }
   },
   "source": [
    "train_size = int(len(data)*.7)\n",
    "val_size = int(len(data)*.2)\n",
    "test_size = int(len(data)*.1)+1"
   ],
   "outputs": [],
   "execution_count": 24
  },
  {
   "cell_type": "code",
   "metadata": {
    "colab": {
     "base_uri": "https://localhost:8080/"
    },
    "id": "Q8XnZdLk4R84",
    "outputId": "1f21184e-ef7f-4f6f-bc1a-bdf3b2987649",
    "ExecuteTime": {
     "end_time": "2024-06-11T04:58:38.591254Z",
     "start_time": "2024-06-11T04:58:38.574067Z"
    }
   },
   "source": "val_size",
   "outputs": [
    {
     "data": {
      "text/plain": [
       "1"
      ]
     },
     "execution_count": 25,
     "metadata": {},
     "output_type": "execute_result"
    }
   ],
   "execution_count": 25
  },
  {
   "cell_type": "code",
   "metadata": {
    "id": "xWHZ-HT04U4w",
    "ExecuteTime": {
     "end_time": "2024-06-11T04:58:39.837687Z",
     "start_time": "2024-06-11T04:58:39.799271Z"
    }
   },
   "source": [
    "train = data.take(train_size)\n",
    "val = data.skip(train_size).take(val_size)\n",
    "test = data.skip(train_size+val_size).take(test_size)\n",
    "\n",
    "# Established train, test and val partition"
   ],
   "outputs": [],
   "execution_count": 26
  },
  {
   "cell_type": "code",
   "metadata": {
    "id": "VWGFMOAydfa8",
    "ExecuteTime": {
     "end_time": "2024-06-11T04:58:41.632546Z",
     "start_time": "2024-06-11T04:58:41.247231Z"
    }
   },
   "source": [
    "train_labels = np.concatenate([y for x, y in train], axis=0)\n",
    "val_labels = np.concatenate([y for x, y in val], axis=0)\n",
    "test_labels = np.concatenate([y for x, y in test], axis=0)\n",
    "\n",
    "# One-hot encode the labels (if needed for your model)\n",
    "train_labels = tf.keras.utils.to_categorical(train_labels)\n",
    "val_labels = tf.keras.utils.to_categorical(val_labels)\n",
    "test_labels = tf.keras.utils.to_categorical(test_labels)"
   ],
   "outputs": [],
   "execution_count": 27
  },
  {
   "cell_type": "markdown",
   "metadata": {
    "id": "5Cd7ZRde4d-B"
   },
   "source": [
    "**Building the Deep Learning Model**"
   ]
  },
  {
   "cell_type": "code",
   "metadata": {
    "id": "-MZ4MdX44kZH",
    "ExecuteTime": {
     "end_time": "2024-06-11T04:58:44.787101Z",
     "start_time": "2024-06-11T04:58:44.766036Z"
    }
   },
   "source": [
    "from tensorflow.keras.models import Sequential\n",
    "from tensorflow.keras.layers import Conv2D, MaxPooling2D, Dense, Flatten"
   ],
   "outputs": [],
   "execution_count": 28
  },
  {
   "cell_type": "code",
   "metadata": {
    "id": "ZbUZz_CL8uaT",
    "ExecuteTime": {
     "end_time": "2024-06-11T04:58:47.679166Z",
     "start_time": "2024-06-11T04:58:47.375450Z"
    }
   },
   "source": [
    "num_classes = 3\n",
    "model = tf.keras.models.Sequential()\n",
    "model.add(tf.keras.layers.Conv2D(16, (3,3), 1, activation='relu', input_shape=(256,256,3)))\n",
    "model.add(tf.keras.layers.MaxPooling2D())\n",
    "model.add(tf.keras.layers.Conv2D(32, (3,3), 1, activation='relu'))\n",
    "model.add(tf.keras.layers.MaxPooling2D())\n",
    "model.add(tf.keras.layers.Conv2D(16, (3,3), 1, activation='relu'))\n",
    "model.add(tf.keras.layers.MaxPooling2D())\n",
    "model.add(tf.keras.layers.Flatten())\n",
    "model.add(tf.keras.layers.Dense(256, activation='relu'))\n",
    "model.add(tf.keras.layers.Dense(num_classes, activation='softmax'))"
   ],
   "outputs": [
    {
     "name": "stderr",
     "output_type": "stream",
     "text": [
      "C:\\Users\\KIIT\\anaconda3\\envs\\ai_env\\Lib\\site-packages\\keras\\src\\layers\\convolutional\\base_conv.py:107: UserWarning: Do not pass an `input_shape`/`input_dim` argument to a layer. When using Sequential models, prefer using an `Input(shape)` object as the first layer in the model instead.\n",
      "  super().__init__(activity_regularizer=activity_regularizer, **kwargs)\n"
     ]
    }
   ],
   "execution_count": 29
  },
  {
   "cell_type": "code",
   "metadata": {
    "id": "xUlGQ5Yd8vdm",
    "ExecuteTime": {
     "end_time": "2024-06-11T04:58:49.180033Z",
     "start_time": "2024-06-11T04:58:49.149567Z"
    }
   },
   "source": [
    "model.compile(optimizer='adam',\n",
    "              loss='categorical_crossentropy',\n",
    "              metrics=['accuracy'])"
   ],
   "outputs": [],
   "execution_count": 30
  },
  {
   "cell_type": "code",
   "metadata": {
    "colab": {
     "base_uri": "https://localhost:8080/"
    },
    "id": "_1FNvnw18yoM",
    "outputId": "17538b55-3b53-47c1-83c5-fb463dbcc9a0",
    "ExecuteTime": {
     "end_time": "2024-06-11T04:58:50.348692Z",
     "start_time": "2024-06-11T04:58:50.254043Z"
    }
   },
   "source": [
    "model.summary()"
   ],
   "outputs": [
    {
     "data": {
      "text/plain": [
       "\u001B[1mModel: \"sequential\"\u001B[0m\n"
      ],
      "text/html": [
       "<pre style=\"white-space:pre;overflow-x:auto;line-height:normal;font-family:Menlo,'DejaVu Sans Mono',consolas,'Courier New',monospace\"><span style=\"font-weight: bold\">Model: \"sequential\"</span>\n",
       "</pre>\n"
      ]
     },
     "metadata": {},
     "output_type": "display_data"
    },
    {
     "data": {
      "text/plain": [
       "┏━━━━━━━━━━━━━━━━━━━━━━━━━━━━━━━━━┳━━━━━━━━━━━━━━━━━━━━━━━━┳━━━━━━━━━━━━━━━┓\n",
       "┃\u001B[1m \u001B[0m\u001B[1mLayer (type)                   \u001B[0m\u001B[1m \u001B[0m┃\u001B[1m \u001B[0m\u001B[1mOutput Shape          \u001B[0m\u001B[1m \u001B[0m┃\u001B[1m \u001B[0m\u001B[1m      Param #\u001B[0m\u001B[1m \u001B[0m┃\n",
       "┡━━━━━━━━━━━━━━━━━━━━━━━━━━━━━━━━━╇━━━━━━━━━━━━━━━━━━━━━━━━╇━━━━━━━━━━━━━━━┩\n",
       "│ conv2d (\u001B[38;5;33mConv2D\u001B[0m)                 │ (\u001B[38;5;45mNone\u001B[0m, \u001B[38;5;34m254\u001B[0m, \u001B[38;5;34m254\u001B[0m, \u001B[38;5;34m16\u001B[0m)   │           \u001B[38;5;34m448\u001B[0m │\n",
       "├─────────────────────────────────┼────────────────────────┼───────────────┤\n",
       "│ max_pooling2d (\u001B[38;5;33mMaxPooling2D\u001B[0m)    │ (\u001B[38;5;45mNone\u001B[0m, \u001B[38;5;34m127\u001B[0m, \u001B[38;5;34m127\u001B[0m, \u001B[38;5;34m16\u001B[0m)   │             \u001B[38;5;34m0\u001B[0m │\n",
       "├─────────────────────────────────┼────────────────────────┼───────────────┤\n",
       "│ conv2d_1 (\u001B[38;5;33mConv2D\u001B[0m)               │ (\u001B[38;5;45mNone\u001B[0m, \u001B[38;5;34m125\u001B[0m, \u001B[38;5;34m125\u001B[0m, \u001B[38;5;34m32\u001B[0m)   │         \u001B[38;5;34m4,640\u001B[0m │\n",
       "├─────────────────────────────────┼────────────────────────┼───────────────┤\n",
       "│ max_pooling2d_1 (\u001B[38;5;33mMaxPooling2D\u001B[0m)  │ (\u001B[38;5;45mNone\u001B[0m, \u001B[38;5;34m62\u001B[0m, \u001B[38;5;34m62\u001B[0m, \u001B[38;5;34m32\u001B[0m)     │             \u001B[38;5;34m0\u001B[0m │\n",
       "├─────────────────────────────────┼────────────────────────┼───────────────┤\n",
       "│ conv2d_2 (\u001B[38;5;33mConv2D\u001B[0m)               │ (\u001B[38;5;45mNone\u001B[0m, \u001B[38;5;34m60\u001B[0m, \u001B[38;5;34m60\u001B[0m, \u001B[38;5;34m16\u001B[0m)     │         \u001B[38;5;34m4,624\u001B[0m │\n",
       "├─────────────────────────────────┼────────────────────────┼───────────────┤\n",
       "│ max_pooling2d_2 (\u001B[38;5;33mMaxPooling2D\u001B[0m)  │ (\u001B[38;5;45mNone\u001B[0m, \u001B[38;5;34m30\u001B[0m, \u001B[38;5;34m30\u001B[0m, \u001B[38;5;34m16\u001B[0m)     │             \u001B[38;5;34m0\u001B[0m │\n",
       "├─────────────────────────────────┼────────────────────────┼───────────────┤\n",
       "│ flatten (\u001B[38;5;33mFlatten\u001B[0m)               │ (\u001B[38;5;45mNone\u001B[0m, \u001B[38;5;34m14400\u001B[0m)          │             \u001B[38;5;34m0\u001B[0m │\n",
       "├─────────────────────────────────┼────────────────────────┼───────────────┤\n",
       "│ dense (\u001B[38;5;33mDense\u001B[0m)                   │ (\u001B[38;5;45mNone\u001B[0m, \u001B[38;5;34m256\u001B[0m)            │     \u001B[38;5;34m3,686,656\u001B[0m │\n",
       "├─────────────────────────────────┼────────────────────────┼───────────────┤\n",
       "│ dense_1 (\u001B[38;5;33mDense\u001B[0m)                 │ (\u001B[38;5;45mNone\u001B[0m, \u001B[38;5;34m3\u001B[0m)              │           \u001B[38;5;34m771\u001B[0m │\n",
       "└─────────────────────────────────┴────────────────────────┴───────────────┘\n"
      ],
      "text/html": [
       "<pre style=\"white-space:pre;overflow-x:auto;line-height:normal;font-family:Menlo,'DejaVu Sans Mono',consolas,'Courier New',monospace\">┏━━━━━━━━━━━━━━━━━━━━━━━━━━━━━━━━━┳━━━━━━━━━━━━━━━━━━━━━━━━┳━━━━━━━━━━━━━━━┓\n",
       "┃<span style=\"font-weight: bold\"> Layer (type)                    </span>┃<span style=\"font-weight: bold\"> Output Shape           </span>┃<span style=\"font-weight: bold\">       Param # </span>┃\n",
       "┡━━━━━━━━━━━━━━━━━━━━━━━━━━━━━━━━━╇━━━━━━━━━━━━━━━━━━━━━━━━╇━━━━━━━━━━━━━━━┩\n",
       "│ conv2d (<span style=\"color: #0087ff; text-decoration-color: #0087ff\">Conv2D</span>)                 │ (<span style=\"color: #00d7ff; text-decoration-color: #00d7ff\">None</span>, <span style=\"color: #00af00; text-decoration-color: #00af00\">254</span>, <span style=\"color: #00af00; text-decoration-color: #00af00\">254</span>, <span style=\"color: #00af00; text-decoration-color: #00af00\">16</span>)   │           <span style=\"color: #00af00; text-decoration-color: #00af00\">448</span> │\n",
       "├─────────────────────────────────┼────────────────────────┼───────────────┤\n",
       "│ max_pooling2d (<span style=\"color: #0087ff; text-decoration-color: #0087ff\">MaxPooling2D</span>)    │ (<span style=\"color: #00d7ff; text-decoration-color: #00d7ff\">None</span>, <span style=\"color: #00af00; text-decoration-color: #00af00\">127</span>, <span style=\"color: #00af00; text-decoration-color: #00af00\">127</span>, <span style=\"color: #00af00; text-decoration-color: #00af00\">16</span>)   │             <span style=\"color: #00af00; text-decoration-color: #00af00\">0</span> │\n",
       "├─────────────────────────────────┼────────────────────────┼───────────────┤\n",
       "│ conv2d_1 (<span style=\"color: #0087ff; text-decoration-color: #0087ff\">Conv2D</span>)               │ (<span style=\"color: #00d7ff; text-decoration-color: #00d7ff\">None</span>, <span style=\"color: #00af00; text-decoration-color: #00af00\">125</span>, <span style=\"color: #00af00; text-decoration-color: #00af00\">125</span>, <span style=\"color: #00af00; text-decoration-color: #00af00\">32</span>)   │         <span style=\"color: #00af00; text-decoration-color: #00af00\">4,640</span> │\n",
       "├─────────────────────────────────┼────────────────────────┼───────────────┤\n",
       "│ max_pooling2d_1 (<span style=\"color: #0087ff; text-decoration-color: #0087ff\">MaxPooling2D</span>)  │ (<span style=\"color: #00d7ff; text-decoration-color: #00d7ff\">None</span>, <span style=\"color: #00af00; text-decoration-color: #00af00\">62</span>, <span style=\"color: #00af00; text-decoration-color: #00af00\">62</span>, <span style=\"color: #00af00; text-decoration-color: #00af00\">32</span>)     │             <span style=\"color: #00af00; text-decoration-color: #00af00\">0</span> │\n",
       "├─────────────────────────────────┼────────────────────────┼───────────────┤\n",
       "│ conv2d_2 (<span style=\"color: #0087ff; text-decoration-color: #0087ff\">Conv2D</span>)               │ (<span style=\"color: #00d7ff; text-decoration-color: #00d7ff\">None</span>, <span style=\"color: #00af00; text-decoration-color: #00af00\">60</span>, <span style=\"color: #00af00; text-decoration-color: #00af00\">60</span>, <span style=\"color: #00af00; text-decoration-color: #00af00\">16</span>)     │         <span style=\"color: #00af00; text-decoration-color: #00af00\">4,624</span> │\n",
       "├─────────────────────────────────┼────────────────────────┼───────────────┤\n",
       "│ max_pooling2d_2 (<span style=\"color: #0087ff; text-decoration-color: #0087ff\">MaxPooling2D</span>)  │ (<span style=\"color: #00d7ff; text-decoration-color: #00d7ff\">None</span>, <span style=\"color: #00af00; text-decoration-color: #00af00\">30</span>, <span style=\"color: #00af00; text-decoration-color: #00af00\">30</span>, <span style=\"color: #00af00; text-decoration-color: #00af00\">16</span>)     │             <span style=\"color: #00af00; text-decoration-color: #00af00\">0</span> │\n",
       "├─────────────────────────────────┼────────────────────────┼───────────────┤\n",
       "│ flatten (<span style=\"color: #0087ff; text-decoration-color: #0087ff\">Flatten</span>)               │ (<span style=\"color: #00d7ff; text-decoration-color: #00d7ff\">None</span>, <span style=\"color: #00af00; text-decoration-color: #00af00\">14400</span>)          │             <span style=\"color: #00af00; text-decoration-color: #00af00\">0</span> │\n",
       "├─────────────────────────────────┼────────────────────────┼───────────────┤\n",
       "│ dense (<span style=\"color: #0087ff; text-decoration-color: #0087ff\">Dense</span>)                   │ (<span style=\"color: #00d7ff; text-decoration-color: #00d7ff\">None</span>, <span style=\"color: #00af00; text-decoration-color: #00af00\">256</span>)            │     <span style=\"color: #00af00; text-decoration-color: #00af00\">3,686,656</span> │\n",
       "├─────────────────────────────────┼────────────────────────┼───────────────┤\n",
       "│ dense_1 (<span style=\"color: #0087ff; text-decoration-color: #0087ff\">Dense</span>)                 │ (<span style=\"color: #00d7ff; text-decoration-color: #00d7ff\">None</span>, <span style=\"color: #00af00; text-decoration-color: #00af00\">3</span>)              │           <span style=\"color: #00af00; text-decoration-color: #00af00\">771</span> │\n",
       "└─────────────────────────────────┴────────────────────────┴───────────────┘\n",
       "</pre>\n"
      ]
     },
     "metadata": {},
     "output_type": "display_data"
    },
    {
     "data": {
      "text/plain": [
       "\u001B[1m Total params: \u001B[0m\u001B[38;5;34m3,697,139\u001B[0m (14.10 MB)\n"
      ],
      "text/html": [
       "<pre style=\"white-space:pre;overflow-x:auto;line-height:normal;font-family:Menlo,'DejaVu Sans Mono',consolas,'Courier New',monospace\"><span style=\"font-weight: bold\"> Total params: </span><span style=\"color: #00af00; text-decoration-color: #00af00\">3,697,139</span> (14.10 MB)\n",
       "</pre>\n"
      ]
     },
     "metadata": {},
     "output_type": "display_data"
    },
    {
     "data": {
      "text/plain": [
       "\u001B[1m Trainable params: \u001B[0m\u001B[38;5;34m3,697,139\u001B[0m (14.10 MB)\n"
      ],
      "text/html": [
       "<pre style=\"white-space:pre;overflow-x:auto;line-height:normal;font-family:Menlo,'DejaVu Sans Mono',consolas,'Courier New',monospace\"><span style=\"font-weight: bold\"> Trainable params: </span><span style=\"color: #00af00; text-decoration-color: #00af00\">3,697,139</span> (14.10 MB)\n",
       "</pre>\n"
      ]
     },
     "metadata": {},
     "output_type": "display_data"
    },
    {
     "data": {
      "text/plain": [
       "\u001B[1m Non-trainable params: \u001B[0m\u001B[38;5;34m0\u001B[0m (0.00 B)\n"
      ],
      "text/html": [
       "<pre style=\"white-space:pre;overflow-x:auto;line-height:normal;font-family:Menlo,'DejaVu Sans Mono',consolas,'Courier New',monospace\"><span style=\"font-weight: bold\"> Non-trainable params: </span><span style=\"color: #00af00; text-decoration-color: #00af00\">0</span> (0.00 B)\n",
       "</pre>\n"
      ]
     },
     "metadata": {},
     "output_type": "display_data"
    }
   ],
   "execution_count": 31
  },
  {
   "cell_type": "markdown",
   "metadata": {
    "id": "zAc7IIeZFrBb"
   },
   "source": "**Train**"
  },
  {
   "cell_type": "code",
   "metadata": {
    "id": "ILdlYRmnFyHG",
    "ExecuteTime": {
     "end_time": "2024-06-11T04:58:55.071630Z",
     "start_time": "2024-06-11T04:58:55.061703Z"
    }
   },
   "source": [
    "logdir = 'logs'"
   ],
   "outputs": [],
   "execution_count": 32
  },
  {
   "cell_type": "code",
   "metadata": {
    "id": "td4tBCr5F3Ef",
    "ExecuteTime": {
     "end_time": "2024-06-11T04:58:55.962091Z",
     "start_time": "2024-06-11T04:58:55.951527Z"
    }
   },
   "source": [
    "tensorboard_callback = tf.keras.callbacks.TensorBoard(log_dir=logdir)"
   ],
   "outputs": [],
   "execution_count": 33
  },
  {
   "cell_type": "code",
   "metadata": {
    "colab": {
     "base_uri": "https://localhost:8080/"
    },
    "id": "WZTCqrosGMfh",
    "outputId": "c587d784-d804-48a5-df1e-ad57b26f4c62",
    "ExecuteTime": {
     "end_time": "2024-06-11T04:59:17.122316Z",
     "start_time": "2024-06-11T04:58:57.347281Z"
    }
   },
   "source": [
    "hist = model.fit(train, epochs=20, validation_data=val, callbacks=[tensorboard_callback])"
   ],
   "outputs": [
    {
     "name": "stdout",
     "output_type": "stream",
     "text": [
      "Epoch 1/20\n",
      "\u001B[1m3/3\u001B[0m \u001B[32m━━━━━━━━━━━━━━━━━━━━\u001B[0m\u001B[37m\u001B[0m \u001B[1m6s\u001B[0m 497ms/step - accuracy: 0.3281 - loss: 3.3627 - val_accuracy: 0.3750 - val_loss: 2.7548\n",
      "Epoch 2/20\n",
      "\u001B[1m3/3\u001B[0m \u001B[32m━━━━━━━━━━━━━━━━━━━━\u001B[0m\u001B[37m\u001B[0m \u001B[1m1s\u001B[0m 167ms/step - accuracy: 0.3073 - loss: 1.1129 - val_accuracy: 0.2500 - val_loss: 1.0579\n",
      "Epoch 3/20\n",
      "\u001B[1m3/3\u001B[0m \u001B[32m━━━━━━━━━━━━━━━━━━━━\u001B[0m\u001B[37m\u001B[0m \u001B[1m1s\u001B[0m 171ms/step - accuracy: 0.3438 - loss: 1.0557 - val_accuracy: 0.6250 - val_loss: 0.9771\n",
      "Epoch 4/20\n",
      "\u001B[1m3/3\u001B[0m \u001B[32m━━━━━━━━━━━━━━━━━━━━\u001B[0m\u001B[37m\u001B[0m \u001B[1m1s\u001B[0m 191ms/step - accuracy: 0.5365 - loss: 1.0652 - val_accuracy: 0.5000 - val_loss: 1.0440\n",
      "Epoch 5/20\n",
      "\u001B[1m3/3\u001B[0m \u001B[32m━━━━━━━━━━━━━━━━━━━━\u001B[0m\u001B[37m\u001B[0m \u001B[1m1s\u001B[0m 176ms/step - accuracy: 0.6510 - loss: 0.9784 - val_accuracy: 0.6250 - val_loss: 0.8945\n",
      "Epoch 6/20\n",
      "\u001B[1m3/3\u001B[0m \u001B[32m━━━━━━━━━━━━━━━━━━━━\u001B[0m\u001B[37m\u001B[0m \u001B[1m1s\u001B[0m 176ms/step - accuracy: 0.6823 - loss: 0.8364 - val_accuracy: 0.5000 - val_loss: 1.2313\n",
      "Epoch 7/20\n",
      "\u001B[1m3/3\u001B[0m \u001B[32m━━━━━━━━━━━━━━━━━━━━\u001B[0m\u001B[37m\u001B[0m \u001B[1m1s\u001B[0m 160ms/step - accuracy: 0.5729 - loss: 1.1136 - val_accuracy: 0.6250 - val_loss: 0.8407\n",
      "Epoch 8/20\n",
      "\u001B[1m3/3\u001B[0m \u001B[32m━━━━━━━━━━━━━━━━━━━━\u001B[0m\u001B[37m\u001B[0m \u001B[1m1s\u001B[0m 193ms/step - accuracy: 0.5417 - loss: 0.9339 - val_accuracy: 1.0000 - val_loss: 0.7350\n",
      "Epoch 9/20\n",
      "\u001B[1m3/3\u001B[0m \u001B[32m━━━━━━━━━━━━━━━━━━━━\u001B[0m\u001B[37m\u001B[0m \u001B[1m1s\u001B[0m 181ms/step - accuracy: 0.6042 - loss: 0.8582 - val_accuracy: 0.5000 - val_loss: 0.6926\n",
      "Epoch 10/20\n",
      "\u001B[1m3/3\u001B[0m \u001B[32m━━━━━━━━━━━━━━━━━━━━\u001B[0m\u001B[37m\u001B[0m \u001B[1m1s\u001B[0m 174ms/step - accuracy: 0.6302 - loss: 0.7536 - val_accuracy: 0.8750 - val_loss: 0.4312\n",
      "Epoch 11/20\n",
      "\u001B[1m3/3\u001B[0m \u001B[32m━━━━━━━━━━━━━━━━━━━━\u001B[0m\u001B[37m\u001B[0m \u001B[1m1s\u001B[0m 174ms/step - accuracy: 0.6875 - loss: 0.6590 - val_accuracy: 0.6250 - val_loss: 0.7524\n",
      "Epoch 12/20\n",
      "\u001B[1m3/3\u001B[0m \u001B[32m━━━━━━━━━━━━━━━━━━━━\u001B[0m\u001B[37m\u001B[0m \u001B[1m1s\u001B[0m 175ms/step - accuracy: 0.6146 - loss: 0.6733 - val_accuracy: 0.8750 - val_loss: 0.4033\n",
      "Epoch 13/20\n",
      "\u001B[1m3/3\u001B[0m \u001B[32m━━━━━━━━━━━━━━━━━━━━\u001B[0m\u001B[37m\u001B[0m \u001B[1m1s\u001B[0m 176ms/step - accuracy: 0.9271 - loss: 0.3685 - val_accuracy: 1.0000 - val_loss: 0.2890\n",
      "Epoch 14/20\n",
      "\u001B[1m3/3\u001B[0m \u001B[32m━━━━━━━━━━━━━━━━━━━━\u001B[0m\u001B[37m\u001B[0m \u001B[1m1s\u001B[0m 174ms/step - accuracy: 0.7604 - loss: 0.4352 - val_accuracy: 1.0000 - val_loss: 0.2559\n",
      "Epoch 15/20\n",
      "\u001B[1m3/3\u001B[0m \u001B[32m━━━━━━━━━━━━━━━━━━━━\u001B[0m\u001B[37m\u001B[0m \u001B[1m1s\u001B[0m 181ms/step - accuracy: 0.8958 - loss: 0.3165 - val_accuracy: 1.0000 - val_loss: 0.1567\n",
      "Epoch 16/20\n",
      "\u001B[1m3/3\u001B[0m \u001B[32m━━━━━━━━━━━━━━━━━━━━\u001B[0m\u001B[37m\u001B[0m \u001B[1m1s\u001B[0m 166ms/step - accuracy: 0.9583 - loss: 0.2315 - val_accuracy: 1.0000 - val_loss: 0.1233\n",
      "Epoch 17/20\n",
      "\u001B[1m3/3\u001B[0m \u001B[32m━━━━━━━━━━━━━━━━━━━━\u001B[0m\u001B[37m\u001B[0m \u001B[1m1s\u001B[0m 174ms/step - accuracy: 1.0000 - loss: 0.1076 - val_accuracy: 1.0000 - val_loss: 0.0360\n",
      "Epoch 18/20\n",
      "\u001B[1m3/3\u001B[0m \u001B[32m━━━━━━━━━━━━━━━━━━━━\u001B[0m\u001B[37m\u001B[0m \u001B[1m1s\u001B[0m 169ms/step - accuracy: 1.0000 - loss: 0.0944 - val_accuracy: 1.0000 - val_loss: 0.0420\n",
      "Epoch 19/20\n",
      "\u001B[1m3/3\u001B[0m \u001B[32m━━━━━━━━━━━━━━━━━━━━\u001B[0m\u001B[37m\u001B[0m \u001B[1m1s\u001B[0m 166ms/step - accuracy: 1.0000 - loss: 0.0541 - val_accuracy: 0.8750 - val_loss: 0.2331\n",
      "Epoch 20/20\n",
      "\u001B[1m3/3\u001B[0m \u001B[32m━━━━━━━━━━━━━━━━━━━━\u001B[0m\u001B[37m\u001B[0m \u001B[1m1s\u001B[0m 177ms/step - accuracy: 1.0000 - loss: 0.0243 - val_accuracy: 0.8750 - val_loss: 0.2725\n"
     ]
    }
   ],
   "execution_count": 34
  },
  {
   "cell_type": "code",
   "metadata": {
    "colab": {
     "base_uri": "https://localhost:8080/"
    },
    "collapsed": true,
    "id": "BkQnUYEXHGcx",
    "jupyter": {
     "outputs_hidden": true
    },
    "outputId": "cb2bb119-cdb4-4fff-eb6b-5fb77029da11",
    "ExecuteTime": {
     "end_time": "2024-06-11T04:59:32.258437Z",
     "start_time": "2024-06-11T04:59:32.240125Z"
    }
   },
   "source": [
    "hist.history"
   ],
   "outputs": [
    {
     "data": {
      "text/plain": [
       "{'accuracy': [0.375,\n",
       "  0.3333333432674408,\n",
       "  0.375,\n",
       "  0.5416666865348816,\n",
       "  0.5833333134651184,\n",
       "  0.7083333134651184,\n",
       "  0.5833333134651184,\n",
       "  0.5833333134651184,\n",
       "  0.5833333134651184,\n",
       "  0.6666666865348816,\n",
       "  0.75,\n",
       "  0.6666666865348816,\n",
       "  0.9166666865348816,\n",
       "  0.8333333134651184,\n",
       "  0.9166666865348816,\n",
       "  0.9166666865348816,\n",
       "  1.0,\n",
       "  1.0,\n",
       "  1.0,\n",
       "  1.0],\n",
       " 'loss': [3.956157684326172,\n",
       "  1.121780276298523,\n",
       "  1.0633069276809692,\n",
       "  1.0752209424972534,\n",
       "  0.9913738369941711,\n",
       "  0.7910131812095642,\n",
       "  1.0143003463745117,\n",
       "  0.9207783341407776,\n",
       "  0.8559834957122803,\n",
       "  0.7149405479431152,\n",
       "  0.5875482559204102,\n",
       "  0.5894535183906555,\n",
       "  0.36755308508872986,\n",
       "  0.3763491213321686,\n",
       "  0.2963222861289978,\n",
       "  0.2603754699230194,\n",
       "  0.11632760614156723,\n",
       "  0.0765240415930748,\n",
       "  0.06220901012420654,\n",
       "  0.021825119853019714],\n",
       " 'val_accuracy': [0.375,\n",
       "  0.25,\n",
       "  0.625,\n",
       "  0.5,\n",
       "  0.625,\n",
       "  0.5,\n",
       "  0.625,\n",
       "  1.0,\n",
       "  0.5,\n",
       "  0.875,\n",
       "  0.625,\n",
       "  0.875,\n",
       "  1.0,\n",
       "  1.0,\n",
       "  1.0,\n",
       "  1.0,\n",
       "  1.0,\n",
       "  1.0,\n",
       "  0.875,\n",
       "  0.875],\n",
       " 'val_loss': [2.754793167114258,\n",
       "  1.0579334497451782,\n",
       "  0.9771308302879333,\n",
       "  1.0439579486846924,\n",
       "  0.8944921493530273,\n",
       "  1.2312705516815186,\n",
       "  0.840690016746521,\n",
       "  0.7349611520767212,\n",
       "  0.692599892616272,\n",
       "  0.43124479055404663,\n",
       "  0.7524420022964478,\n",
       "  0.4033023715019226,\n",
       "  0.2890406847000122,\n",
       "  0.2558780908584595,\n",
       "  0.1566876322031021,\n",
       "  0.12334252893924713,\n",
       "  0.03595374524593353,\n",
       "  0.041994787752628326,\n",
       "  0.2330523133277893,\n",
       "  0.2725130021572113]}"
      ]
     },
     "execution_count": 35,
     "metadata": {},
     "output_type": "execute_result"
    }
   ],
   "execution_count": 35
  },
  {
   "cell_type": "markdown",
   "metadata": {
    "id": "S5LQFdKZHmBQ"
   },
   "source": [
    "**Plot Performance**"
   ]
  },
  {
   "cell_type": "code",
   "metadata": {
    "colab": {
     "base_uri": "https://localhost:8080/",
     "height": 478
    },
    "id": "36h9ddD-Hvx9",
    "outputId": "ee66a3cc-eccc-4c4a-b4ee-0bb3d74e55b4",
    "ExecuteTime": {
     "end_time": "2024-06-11T04:59:35.132879Z",
     "start_time": "2024-06-11T04:59:34.606561Z"
    }
   },
   "source": [
    "fig = plt.figure()\n",
    "plt.plot(hist.history['loss'], color='teal', label='loss')\n",
    "plt.plot(hist.history['val_loss'], color='orange', label='val_loss')\n",
    "fig.suptitle('Loss', fontsize=20)\n",
    "plt.legend(loc=\"upper left\")\n",
    "plt.show()"
   ],
   "outputs": [
    {
     "data": {
      "text/plain": [
       "<Figure size 640x480 with 1 Axes>"
      ],
      "image/png": "[encoded data removed]"
     },
     "metadata": {},
     "output_type": "display_data"
    }
   ],
   "execution_count": 36
  },
  {
   "cell_type": "code",
   "metadata": {
    "colab": {
     "base_uri": "https://localhost:8080/",
     "height": 478
    },
    "id": "kTlnl7MHH_nT",
    "outputId": "d44796b8-5667-4615-b121-42539d3369a5",
    "ExecuteTime": {
     "end_time": "2024-06-11T04:59:36.479691Z",
     "start_time": "2024-06-11T04:59:36.050267Z"
    }
   },
   "source": [
    "fig = plt.figure()\n",
    "plt.plot(hist.history['accuracy'], color='teal', label='accuracy')\n",
    "plt.plot(hist.history['val_accuracy'], color='orange', label='val_accuracy')\n",
    "fig.suptitle('Accuracy', fontsize=20)\n",
    "plt.legend(loc=\"upper left\")\n",
    "plt.show()"
   ],
   "outputs": [
    {
     "data": {
      "text/plain": [
       "<Figure size 640x480 with 1 Axes>"
      ],
      "image/png": "[encoded data removed]"
     },
     "metadata": {},
     "output_type": "display_data"
    }
   ],
   "execution_count": 37
  },
  {
   "cell_type": "markdown",
   "metadata": {
    "id": "ESU3YKzmIUk4"
   },
   "source": [
    "**Evaluate Performance**"
   ]
  },
  {
   "cell_type": "code",
   "metadata": {
    "id": "QoQDcypiIYrx",
    "ExecuteTime": {
     "end_time": "2024-06-11T04:59:39.405865Z",
     "start_time": "2024-06-11T04:59:39.391037Z"
    }
   },
   "source": [
    "from tensorflow.keras.metrics import Precision, Recall, BinaryAccuracy"
   ],
   "outputs": [],
   "execution_count": 38
  },
  {
   "cell_type": "code",
   "metadata": {
    "id": "35x1ozmkIdyv",
    "ExecuteTime": {
     "end_time": "2024-06-11T04:59:40.464799Z",
     "start_time": "2024-06-11T04:59:40.426111Z"
    }
   },
   "source": [
    "# Establishing instances\n",
    "pre = Precision()\n",
    "re = Recall()\n",
    "acc = BinaryAccuracy()"
   ],
   "outputs": [],
   "execution_count": 39
  },
  {
   "cell_type": "code",
   "metadata": {
    "colab": {
     "base_uri": "https://localhost:8080/"
    },
    "id": "JxuwTm-nIfUT",
    "outputId": "c9ebfa75-25c1-4337-ff9e-f64b80d9c379",
    "ExecuteTime": {
     "end_time": "2024-06-11T04:59:41.928370Z",
     "start_time": "2024-06-11T04:59:41.338876Z"
    }
   },
   "source": [
    "for batch in test.as_numpy_iterator():\n",
    "    X, y = batch\n",
    "    yhat = model.predict(X)\n",
    "    pre.update_state(y, yhat)\n",
    "    re.update_state(y, yhat)\n",
    "    acc.update_state(y, yhat)"
   ],
   "outputs": [
    {
     "name": "stdout",
     "output_type": "stream",
     "text": [
      "\u001B[1m1/1\u001B[0m \u001B[32m━━━━━━━━━━━━━━━━━━━━\u001B[0m\u001B[37m\u001B[0m \u001B[1m0s\u001B[0m 245ms/step\n"
     ]
    }
   ],
   "execution_count": 40
  },
  {
   "cell_type": "code",
   "metadata": {
    "colab": {
     "base_uri": "https://localhost:8080/"
    },
    "id": "tQ5xhABWI75X",
    "outputId": "b6208eb1-48d4-450d-e9ef-d47377d4fd58",
    "ExecuteTime": {
     "end_time": "2024-06-11T04:59:42.627614Z",
     "start_time": "2024-06-11T04:59:42.605538Z"
    }
   },
   "source": [
    "print(f'Precision:{pre.result()}, Recall:{re.result().numpy()}, Acuraccy:{acc.result().numpy}')"
   ],
   "outputs": [
    {
     "name": "stdout",
     "output_type": "stream",
     "text": [
      "Precision:1.0, Recall:1.0, Acuraccy:<bound method _EagerTensorBase.numpy of <tf.Tensor: shape=(), dtype=float32, numpy=1.0>>\n"
     ]
    }
   ],
   "execution_count": 41
  },
  {
   "cell_type": "markdown",
   "metadata": {
    "id": "ym0qLHinOTVU"
   },
   "source": [
    "**Test**"
   ]
  },
  {
   "cell_type": "code",
   "metadata": {
    "id": "sPl4ImweOVTX",
    "ExecuteTime": {
     "end_time": "2024-06-11T04:59:44.576551Z",
     "start_time": "2024-06-11T04:59:44.566467Z"
    }
   },
   "source": "import cv2",
   "outputs": [],
   "execution_count": 42
  },
  {
   "cell_type": "code",
   "metadata": {
    "colab": {
     "base_uri": "https://localhost:8080/",
     "height": 471
    },
    "id": "LV0rg4p3mGRO",
    "outputId": "eae7a1ef-5557-48cb-ce12-d254b75d602c",
    "ExecuteTime": {
     "end_time": "2024-06-11T05:01:38.492289Z",
     "start_time": "2024-06-11T05:01:37.857065Z"
    }
   },
   "source": [
    "# Load and preprocess the image\n",
    "img = cv2.imread('eval3.png')\n",
    "img = cv2.cvtColor(img, cv2.COLOR_BGR2RGB)  # Convert from BGR to RGB\n",
    "resize = tf.image.resize(img, (256,256))\n",
    "plt.imshow(resize.numpy().astype(int))\n",
    "plt.show()\n",
    "\n",
    "# Predict the class\n",
    "predict = model.predict(np.expand_dims(resize/255, 0))\n",
    "\n",
    "class_names = ['Circular', 'Normal', 'Overlapping']\n",
    "predicted_class = np.argmax(predict)\n",
    "\n",
    "print(f'Image belong to the {class_names[predicted_class]} class')"
   ],
   "outputs": [
    {
     "data": {
      "text/plain": [
       "<Figure size 640x480 with 1 Axes>"
      ],
      "image/png": "[encoded data removed]"
     },
     "metadata": {},
     "output_type": "display_data"
    },
    {
     "name": "stdout",
     "output_type": "stream",
     "text": [
      "\u001B[1m1/1\u001B[0m \u001B[32m━━━━━━━━━━━━━━━━━━━━\u001B[0m\u001B[37m\u001B[0m \u001B[1m0s\u001B[0m 65ms/step\n",
      "Image belong to the Overlapping class\n"
     ]
    }
   ],
   "execution_count": 53
  },
  {
   "cell_type": "markdown",
   "metadata": {
    "id": "CFUpmSERNpv6"
   },
   "source": [
    "**Saving the model**"
   ]
  },
  {
   "cell_type": "code",
   "metadata": {
    "id": "QRC_Bvb1NoYw",
    "ExecuteTime": {
     "end_time": "2024-06-11T04:59:47.894493Z",
     "start_time": "2024-06-11T04:59:47.884022Z"
    }
   },
   "source": [
    "from tensorflow.keras.models import load_model"
   ],
   "outputs": [],
   "execution_count": 44
  },
  {
   "cell_type": "code",
   "metadata": {
    "id": "-Iq-4vIUN1B_",
    "ExecuteTime": {
     "end_time": "2024-06-11T04:59:50.437751Z",
     "start_time": "2024-06-11T04:59:50.050129Z"
    }
   },
   "source": "model.save('imageclassifier.keras')",
   "outputs": [],
   "execution_count": 45
  },
  {
   "metadata": {
    "ExecuteTime": {
     "end_time": "2024-06-11T04:59:52.404293Z",
     "start_time": "2024-06-11T04:59:51.459576Z"
    }
   },
   "cell_type": "code",
   "source": "prediction = tf.keras.models.load_model('imageclassifier.keras')",
   "outputs": [],
   "execution_count": 46
  },
  {
   "metadata": {
    "ExecuteTime": {
     "end_time": "2024-06-11T05:00:04.846422Z",
     "start_time": "2024-06-11T05:00:04.829583Z"
    }
   },
   "cell_type": "code",
   "source": "prediction",
   "outputs": [
    {
     "data": {
      "text/plain": [
       "<Sequential name=sequential, built=True>"
      ]
     },
     "execution_count": 47,
     "metadata": {},
     "output_type": "execute_result"
    }
   ],
   "execution_count": 47
  },
  {
   "metadata": {
    "ExecuteTime": {
     "end_time": "2024-06-11T05:01:00.120679Z",
     "start_time": "2024-06-11T05:00:59.901802Z"
    }
   },
   "cell_type": "code",
   "source": "yhatnew = prediction.predict(np.expand_dims(resize/255, 0))",
   "outputs": [
    {
     "name": "stdout",
     "output_type": "stream",
     "text": [
      "\u001B[1m1/1\u001B[0m \u001B[32m━━━━━━━━━━━━━━━━━━━━\u001B[0m\u001B[37m\u001B[0m \u001B[1m0s\u001B[0m 66ms/step\n"
     ]
    }
   ],
   "execution_count": 49
  },
  {
   "metadata": {
    "ExecuteTime": {
     "end_time": "2024-06-11T05:01:42.586564Z",
     "start_time": "2024-06-11T05:01:42.575253Z"
    }
   },
   "cell_type": "code",
   "source": [
    "class_names = ['Circular', 'Normal', 'Overlapping']\n",
    "predicted_class = np.argmax(predict)\n",
    "\n",
    "print(f'Image belong to the {class_names[predicted_class]} class')"
   ],
   "outputs": [
    {
     "name": "stdout",
     "output_type": "stream",
     "text": [
      "Image belong to the Overlapping class\n"
     ]
    }
   ],
   "execution_count": 54
  }
 ],
 "metadata": {
  "accelerator": "GPU",
  "colab": {
   "gpuType": "T4",
   "provenance": []
  },
  "kernelspec": {
   "display_name": "Python 3 (ipykernel)",
   "language": "python",
   "name": "python3"
  },
  "language_info": {
   "codemirror_mode": {
    "name": "ipython",
    "version": 3
   },
   "file_extension": ".py",
   "mimetype": "text/x-python",
   "name": "python",
   "nbconvert_exporter": "python",
   "pygments_lexer": "ipython3",
   "version": "3.12.3"
  }
 },
 "nbformat": 4,
 "nbformat_minor": 4
}
