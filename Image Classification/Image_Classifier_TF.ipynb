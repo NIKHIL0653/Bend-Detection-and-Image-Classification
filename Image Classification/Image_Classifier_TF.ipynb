{
 "cells": [
  {
   "cell_type": "code",
   "metadata": {
    "id": "y-RDdZ46w21D",
    "ExecuteTime": {
     "end_time": "2024-06-11T04:58:28.099314Z",
     "start_time": "2024-06-11T04:58:12.130073Z"
    }
   },
   "source": [
    "import tensorflow as tf\n",
    "import os"
   ],
   "execution_count": 2,
   "outputs": []
  },
  {
   "cell_type": "code",
   "metadata": {
    "colab": {
     "base_uri": "https://localhost:8080/"
    },
    "id": "9R6sUlPxyBgR",
    "outputId": "947006e2-88e6-46be-9d64-35a09a1f81c2",
    "ExecuteTime": {
     "end_time": "2024-06-11T04:58:28.135188Z",
     "start_time": "2024-06-11T04:58:28.108977Z"
    }
   },
   "source": [
    "cpus = tf.config.experimental.list_physical_devices('CPU')\n",
    "cpus"
   ],
   "execution_count": 3,
   "outputs": []
  },
  {
   "cell_type": "code",
   "metadata": {
    "id": "uOfvcnt7x0dR",
    "ExecuteTime": {
     "end_time": "2024-06-11T04:58:28.154208Z",
     "start_time": "2024-06-11T04:58:28.143276Z"
    }
   },
   "source": [
    "cpus = tf.config.experimental.list_physical_devices('GPU')\n",
    "for cpu in cpus:\n",
    "    tf.config.experimental.set_memory_growth(cpu, True)"
   ],
   "execution_count": 4,
   "outputs": []
  },
  {
   "cell_type": "code",
   "metadata": {
    "id": "kkBK7CF9zz2i",
    "ExecuteTime": {
     "end_time": "2024-06-11T04:58:30.322970Z",
     "start_time": "2024-06-11T04:58:28.161241Z"
    }
   },
   "source": [
    "import cv2\n",
    "import imghdr\n",
    "import matplotlib.pyplot as plt\n",
    "import numpy as np"
   ],
   "execution_count": 5,
   "outputs": []
  },
  {
   "cell_type": "code",
   "metadata": {
    "id": "apVdp0A733hY",
    "ExecuteTime": {
     "end_time": "2024-06-11T04:58:30.345200Z",
     "start_time": "2024-06-11T04:58:30.332980Z"
    }
   },
   "source": [
    "data_dir = 'dataset'"
   ],
   "execution_count": 6,
   "outputs": []
  },
  {
   "cell_type": "code",
   "metadata": {
    "colab": {
     "base_uri": "https://localhost:8080/"
    },
    "id": "9zbErkPd5c5k",
    "outputId": "38c95797-57cf-479c-ec01-8678042a1f87",
    "scrolled": true,
    "ExecuteTime": {
     "end_time": "2024-06-11T04:58:30.370226Z",
     "start_time": "2024-06-11T04:58:30.351286Z"
    }
   },
   "source": [
    "os.listdir(os.path.join(data_dir, 'normal'))"
   ],
   "execution_count": 7,
   "outputs": []
  },
  {
   "cell_type": "code",
   "metadata": {
    "id": "yZlJf9iK38ZD",
    "ExecuteTime": {
     "end_time": "2024-06-11T04:58:30.386067Z",
     "start_time": "2024-06-11T04:58:30.377381Z"
    }
   },
   "source": [
    "image_exts = ['jpeg','jpg', 'bmp', 'png']"
   ],
   "execution_count": 8,
   "outputs": []
  },
  {
   "cell_type": "code",
   "metadata": {
    "colab": {
     "base_uri": "https://localhost:8080/"
    },
    "id": "86sb3rmx4HMa",
    "outputId": "9eed03cd-22a4-4f9e-e5b3-6fc4a0e4ebab",
    "ExecuteTime": {
     "end_time": "2024-06-11T04:58:30.404744Z",
     "start_time": "2024-06-11T04:58:30.392095Z"
    }
   },
   "source": [
    "image_exts"
   ],
   "execution_count": 9,
   "outputs": []
  },
  {
   "cell_type": "code",
   "metadata": {
    "id": "A8pf5pbJ4JQR",
    "ExecuteTime": {
     "end_time": "2024-06-11T04:58:30.527599Z",
     "start_time": "2024-06-11T04:58:30.408972Z"
    }
   },
   "source": [
    "for image_class in os.listdir(data_dir):\n",
    "    for image in os.listdir(os.path.join(data_dir, image_class)):\n",
    "        image_path = os.path.join(data_dir, image_class, image)\n",
    "        try:\n",
    "            img = cv2.imread(image_path)\n",
    "            tip = imghdr.what(image_path)\n",
    "            if tip not in image_exts:\n",
    "                print('Image not in ext list {}'.format(image_path))\n",
    "                os.remove(image_path)\n",
    "        except Exception as e:\n",
    "            print('Issue with image {}'.format(image_path))\n",
    "            # os.remove(image_path)"
   ],
   "execution_count": 10,
   "outputs": []
  },
  {
   "cell_type": "markdown",
   "metadata": {
    "id": "1WwbxO8vG1Pp"
   },
   "source": [
    "**Load Data**"
   ]
  },
  {
   "cell_type": "code",
   "metadata": {
    "colab": {
     "base_uri": "https://localhost:8080/",
     "height": 186
    },
    "id": "lD5HtKm2HCaf",
    "outputId": "434e6afa-0ed3-4e29-b1de-0c1290e0f3bc",
    "ExecuteTime": {
     "end_time": "2024-06-11T04:58:30.545870Z",
     "start_time": "2024-06-11T04:58:30.532171Z"
    }
   },
   "source": "tf.data.Dataset",
   "execution_count": 11,
   "outputs": []
  },
  {
   "cell_type": "code",
   "metadata": {
    "id": "v3jIL4INQ8Pj",
    "ExecuteTime": {
     "end_time": "2024-06-11T04:58:30.558833Z",
     "start_time": "2024-06-11T04:58:30.550899Z"
    }
   },
   "source": "#tf.keras.utils.image_dataset_from_directory??",
   "execution_count": 12,
   "outputs": []
  },
  {
   "cell_type": "code",
   "metadata": {
    "colab": {
     "base_uri": "https://localhost:8080/"
    },
    "id": "bFw2nz9xDD-5",
    "outputId": "cf3be0dc-54da-4a2b-921e-ba85fc1e7733",
    "ExecuteTime": {
     "end_time": "2024-06-11T04:58:30.917672Z",
     "start_time": "2024-06-11T04:58:30.563925Z"
    }
   },
   "source": [
    "# --- 1. Define 'data' ---\n",
    "data = tf.keras.utils.image_dataset_from_directory(\n",
    "    data_dir,\n",
    "    labels='inferred',  # Infers labels from directory structure\n",
    "    label_mode='categorical',  # One-hot encoded labels\n",
    "    image_size=(256, 256),  # Adjust if your images have different dimensions\n",
    "    batch_size=8,  # Adjust based on your memory constraints\n",
    ")"
   ],
   "execution_count": 13,
   "outputs": []
  },
  {
   "cell_type": "code",
   "metadata": {
    "id": "97f90XPjDHfi",
    "ExecuteTime": {
     "end_time": "2024-06-11T04:58:31.194653Z",
     "start_time": "2024-06-11T04:58:30.923692Z"
    }
   },
   "source": [
    "data_iterator = data.as_numpy_iterator()"
   ],
   "execution_count": 14,
   "outputs": []
  },
  {
   "cell_type": "code",
   "metadata": {
    "id": "eBCBocPbRPfa",
    "ExecuteTime": {
     "end_time": "2024-06-11T04:58:31.293269Z",
     "start_time": "2024-06-11T04:58:31.206682Z"
    }
   },
   "source": [
    "batch = data_iterator.next()"
   ],
   "execution_count": 15,
   "outputs": []
  },
  {
   "cell_type": "code",
   "metadata": {
    "colab": {
     "base_uri": "https://localhost:8080/"
    },
    "id": "6WqaQFHTYz6v",
    "outputId": "f8651bb6-2e29-40a0-950d-b7b70e848ae2",
    "ExecuteTime": {
     "end_time": "2024-06-11T04:58:31.313712Z",
     "start_time": "2024-06-11T04:58:31.299929Z"
    }
   },
   "source": [
    "batch[0].shape"
   ],
   "execution_count": 16,
   "outputs": []
  },
  {
   "cell_type": "code",
   "metadata": {
    "colab": {
     "base_uri": "https://localhost:8080/",
     "height": 174
    },
    "id": "CLEcKw9eRhfY",
    "outputId": "24925782-8dec-4d5e-d504-325900969a13",
    "ExecuteTime": {
     "end_time": "2024-06-11T04:58:33.061027Z",
     "start_time": "2024-06-11T04:58:31.320034Z"
    }
   },
   "source": [
    "class_names = {\n",
    "    0: \"Circular\",\n",
    "    1: \"Normal\",\n",
    "    2: \"Overlapping\"\n",
    "}\n",
    "\n",
    "\n",
    "fig, ax = plt.subplots(ncols=4, figsize=(20, 25))\n",
    "for idx, img in enumerate(batch[0][:4]):\n",
    "    ax[idx].imshow(img.astype(int))\n",
    "    # Convert NumPy array to a hashable type (e.g., integer)\n",
    "    label_index = np.argmax(batch[1][idx])  # Get index of the highest probability class\n",
    "    ax[idx].title.set_text(class_names.get(label_index, \"Unknown\"))\n",
    "\n",
    "    # Add x and y ticks (adjust values based on your image dimensions)\n",
    "    ax[idx].set_xticks(np.arange(0, img.shape[1], 50))  # Ticks every 50 pixels on x-axis\n",
    "    ax[idx].set_yticks(np.arange(0, img.shape[0], 50))  # Ticks every 50 pixels on y-axis\n",
    "\n",
    "    # Optionally, label the ticks with pixel values\n",
    "    ax[idx].set_xticklabels(np.arange(0, img.shape[1], 50))\n",
    "    ax[idx].set_yticklabels(np.arange(0, img.shape[0], 50))\n",
    "\n",
    "plt.show()"
   ],
   "execution_count": 17,
   "outputs": []
  },
  {
   "cell_type": "markdown",
   "metadata": {
    "id": "0pFZTbgq31t7"
   },
   "source": [
    "**Scale Data**"
   ]
  },
  {
   "cell_type": "code",
   "metadata": {
    "id": "qm_Urb2q3VVc",
    "ExecuteTime": {
     "end_time": "2024-06-11T04:58:33.160759Z",
     "start_time": "2024-06-11T04:58:33.068073Z"
    }
   },
   "source": [
    "data = data.map(lambda x,y: (x/255, y))\n",
    "# important since it helps to perform transformation to convert image min to 0 and max to 1\n",
    "# important while working with data pipeline"
   ],
   "execution_count": 18,
   "outputs": []
  },
  {
   "cell_type": "code",
   "metadata": {
    "colab": {
     "base_uri": "https://localhost:8080/"
    },
    "id": "KZUYQqM_37pE",
    "outputId": "c5b16248-3ad3-4595-aae3-a8ea39945d0f",
    "ExecuteTime": {
     "end_time": "2024-06-11T04:58:33.367567Z",
     "start_time": "2024-06-11T04:58:33.183805Z"
    }
   },
   "source": [
    "data.as_numpy_iterator().next()"
   ],
   "execution_count": 19,
   "outputs": []
  },
  {
   "cell_type": "markdown",
   "metadata": {
    "id": "tltHKl2R4L1_"
   },
   "source": [
    "**Split Data**"
   ]
  },
  {
   "cell_type": "code",
   "metadata": {
    "colab": {
     "base_uri": "https://localhost:8080/"
    },
    "id": "Wq18i6N3kUgm",
    "outputId": "dfe31191-8add-4297-819f-f030add3891a",
    "ExecuteTime": {
     "end_time": "2024-06-11T04:58:33.391426Z",
     "start_time": "2024-06-11T04:58:33.372917Z"
    }
   },
   "source": [
    "len(data) # num of batches"
   ],
   "execution_count": 20,
   "outputs": []
  },
  {
   "cell_type": "code",
   "metadata": {
    "id": "cxe938Jko9Ei",
    "ExecuteTime": {
     "end_time": "2024-06-11T04:58:33.407752Z",
     "start_time": "2024-06-11T04:58:33.397880Z"
    }
   },
   "source": [
    "#batch_size = 32"
   ],
   "execution_count": 21,
   "outputs": []
  },
  {
   "cell_type": "code",
   "metadata": {
    "id": "nAJC7Fryo__m",
    "ExecuteTime": {
     "end_time": "2024-06-11T04:58:33.422975Z",
     "start_time": "2024-06-11T04:58:33.413751Z"
    }
   },
   "source": [
    "# train_batches = int(len(data) * 0.7) // batch_size\n",
    "# val_batches = int(len(data) * 0.2) // batch_size\n",
    "# test_batches = int(len(data) * 0.1) // batch_size"
   ],
   "execution_count": 22,
   "outputs": []
  },
  {
   "cell_type": "code",
   "metadata": {
    "id": "Dek9wS5xpZNv",
    "ExecuteTime": {
     "end_time": "2024-06-11T04:58:33.437686Z",
     "start_time": "2024-06-11T04:58:33.429007Z"
    }
   },
   "source": [
    "# test_batches"
   ],
   "execution_count": 23,
   "outputs": []
  },
  {
   "cell_type": "code",
   "metadata": {
    "id": "s4RnYv7v3-qb",
    "ExecuteTime": {
     "end_time": "2024-06-11T04:58:37.915231Z",
     "start_time": "2024-06-11T04:58:37.899780Z"
    }
   },
   "source": [
    "train_size = int(len(data)*.7)\n",
    "val_size = int(len(data)*.2)\n",
    "test_size = int(len(data)*.1)+1"
   ],
   "execution_count": 24,
   "outputs": []
  },
  {
   "cell_type": "code",
   "metadata": {
    "colab": {
     "base_uri": "https://localhost:8080/"
    },
    "id": "Q8XnZdLk4R84",
    "outputId": "1f21184e-ef7f-4f6f-bc1a-bdf3b2987649",
    "ExecuteTime": {
     "end_time": "2024-06-11T04:58:38.591254Z",
     "start_time": "2024-06-11T04:58:38.574067Z"
    }
   },
   "source": "val_size",
   "execution_count": 25,
   "outputs": []
  },
  {
   "cell_type": "code",
   "metadata": {
    "id": "xWHZ-HT04U4w",
    "ExecuteTime": {
     "end_time": "2024-06-11T04:58:39.837687Z",
     "start_time": "2024-06-11T04:58:39.799271Z"
    }
   },
   "source": [
    "train = data.take(train_size)\n",
    "val = data.skip(train_size).take(val_size)\n",
    "test = data.skip(train_size+val_size).take(test_size)\n",
    "\n",
    "# Established train, test and val partition"
   ],
   "execution_count": 26,
   "outputs": []
  },
  {
   "cell_type": "code",
   "metadata": {
    "id": "VWGFMOAydfa8",
    "ExecuteTime": {
     "end_time": "2024-06-11T04:58:41.632546Z",
     "start_time": "2024-06-11T04:58:41.247231Z"
    }
   },
   "source": [
    "train_labels = np.concatenate([y for x, y in train], axis=0)\n",
    "val_labels = np.concatenate([y for x, y in val], axis=0)\n",
    "test_labels = np.concatenate([y for x, y in test], axis=0)\n",
    "\n",
    "# One-hot encode the labels (if needed for your model)\n",
    "train_labels = tf.keras.utils.to_categorical(train_labels)\n",
    "val_labels = tf.keras.utils.to_categorical(val_labels)\n",
    "test_labels = tf.keras.utils.to_categorical(test_labels)"
   ],
   "execution_count": 27,
   "outputs": []
  },
  {
   "cell_type": "markdown",
   "metadata": {
    "id": "5Cd7ZRde4d-B"
   },
   "source": [
    "**Building the Deep Learning Model**"
   ]
  },
  {
   "cell_type": "code",
   "metadata": {
    "id": "-MZ4MdX44kZH",
    "ExecuteTime": {
     "end_time": "2024-06-11T04:58:44.787101Z",
     "start_time": "2024-06-11T04:58:44.766036Z"
    }
   },
   "source": [
    "from tensorflow.keras.models import Sequential\n",
    "from tensorflow.keras.layers import Conv2D, MaxPooling2D, Dense, Flatten"
   ],
   "execution_count": 28,
   "outputs": []
  },
  {
   "cell_type": "code",
   "metadata": {
    "id": "ZbUZz_CL8uaT",
    "ExecuteTime": {
     "end_time": "2024-06-11T04:58:47.679166Z",
     "start_time": "2024-06-11T04:58:47.375450Z"
    }
   },
   "source": [
    "num_classes = 3\n",
    "model = tf.keras.models.Sequential()\n",
    "model.add(tf.keras.layers.Conv2D(16, (3,3), 1, activation='relu', input_shape=(256,256,3)))\n",
    "model.add(tf.keras.layers.MaxPooling2D())\n",
    "model.add(tf.keras.layers.Conv2D(32, (3,3), 1, activation='relu'))\n",
    "model.add(tf.keras.layers.MaxPooling2D())\n",
    "model.add(tf.keras.layers.Conv2D(16, (3,3), 1, activation='relu'))\n",
    "model.add(tf.keras.layers.MaxPooling2D())\n",
    "model.add(tf.keras.layers.Flatten())\n",
    "model.add(tf.keras.layers.Dense(256, activation='relu'))\n",
    "model.add(tf.keras.layers.Dense(num_classes, activation='softmax'))"
   ],
   "execution_count": 29,
   "outputs": []
  },
  {
   "cell_type": "code",
   "metadata": {
    "id": "xUlGQ5Yd8vdm",
    "ExecuteTime": {
     "end_time": "2024-06-11T04:58:49.180033Z",
     "start_time": "2024-06-11T04:58:49.149567Z"
    }
   },
   "source": [
    "model.compile(optimizer='adam',\n",
    "              loss='categorical_crossentropy',\n",
    "              metrics=['accuracy'])"
   ],
   "execution_count": 30,
   "outputs": []
  },
  {
   "cell_type": "code",
   "metadata": {
    "colab": {
     "base_uri": "https://localhost:8080/"
    },
    "id": "_1FNvnw18yoM",
    "outputId": "17538b55-3b53-47c1-83c5-fb463dbcc9a0",
    "ExecuteTime": {
     "end_time": "2024-06-11T04:58:50.348692Z",
     "start_time": "2024-06-11T04:58:50.254043Z"
    }
   },
   "source": [
    "model.summary()"
   ],
   "execution_count": 31,
   "outputs": []
  },
  {
   "cell_type": "markdown",
   "metadata": {
    "id": "zAc7IIeZFrBb"
   },
   "source": "**Train**"
  },
  {
   "cell_type": "code",
   "metadata": {
    "id": "ILdlYRmnFyHG",
    "ExecuteTime": {
     "end_time": "2024-06-11T04:58:55.071630Z",
     "start_time": "2024-06-11T04:58:55.061703Z"
    }
   },
   "source": [
    "logdir = 'logs'"
   ],
   "execution_count": 32,
   "outputs": []
  },
  {
   "cell_type": "code",
   "metadata": {
    "id": "td4tBCr5F3Ef",
    "ExecuteTime": {
     "end_time": "2024-06-11T04:58:55.962091Z",
     "start_time": "2024-06-11T04:58:55.951527Z"
    }
   },
   "source": [
    "tensorboard_callback = tf.keras.callbacks.TensorBoard(log_dir=logdir)"
   ],
   "execution_count": 33,
   "outputs": []
  },
  {
   "cell_type": "code",
   "metadata": {
    "colab": {
     "base_uri": "https://localhost:8080/"
    },
    "id": "WZTCqrosGMfh",
    "outputId": "c587d784-d804-48a5-df1e-ad57b26f4c62",
    "ExecuteTime": {
     "end_time": "2024-06-11T04:59:17.122316Z",
     "start_time": "2024-06-11T04:58:57.347281Z"
    }
   },
   "source": [
    "hist = model.fit(train, epochs=20, validation_data=val, callbacks=[tensorboard_callback])"
   ],
   "execution_count": 34,
   "outputs": []
  },
  {
   "cell_type": "code",
   "metadata": {
    "colab": {
     "base_uri": "https://localhost:8080/"
    },
    "collapsed": true,
    "id": "BkQnUYEXHGcx",
    "jupyter": {
     "outputs_hidden": true
    },
    "outputId": "cb2bb119-cdb4-4fff-eb6b-5fb77029da11",
    "ExecuteTime": {
     "end_time": "2024-06-11T04:59:32.258437Z",
     "start_time": "2024-06-11T04:59:32.240125Z"
    }
   },
   "source": [
    "hist.history"
   ],
   "execution_count": 35,
   "outputs": []
  },
  {
   "cell_type": "markdown",
   "metadata": {
    "id": "S5LQFdKZHmBQ"
   },
   "source": [
    "**Plot Performance**"
   ]
  },
  {
   "cell_type": "code",
   "metadata": {
    "colab": {
     "base_uri": "https://localhost:8080/",
     "height": 478
    },
    "id": "36h9ddD-Hvx9",
    "outputId": "ee66a3cc-eccc-4c4a-b4ee-0bb3d74e55b4",
    "ExecuteTime": {
     "end_time": "2024-06-11T04:59:35.132879Z",
     "start_time": "2024-06-11T04:59:34.606561Z"
    }
   },
   "source": [
    "fig = plt.figure()\n",
    "plt.plot(hist.history['loss'], color='teal', label='loss')\n",
    "plt.plot(hist.history['val_loss'], color='orange', label='val_loss')\n",
    "fig.suptitle('Loss', fontsize=20)\n",
    "plt.legend(loc=\"upper left\")\n",
    "plt.show()"
   ],
   "execution_count": 36,
   "outputs": []
  },
  {
   "cell_type": "code",
   "metadata": {
    "colab": {
     "base_uri": "https://localhost:8080/",
     "height": 478
    },
    "id": "kTlnl7MHH_nT",
    "outputId": "d44796b8-5667-4615-b121-42539d3369a5",
    "ExecuteTime": {
     "end_time": "2024-06-11T04:59:36.479691Z",
     "start_time": "2024-06-11T04:59:36.050267Z"
    }
   },
   "source": [
    "fig = plt.figure()\n",
    "plt.plot(hist.history['accuracy'], color='teal', label='accuracy')\n",
    "plt.plot(hist.history['val_accuracy'], color='orange', label='val_accuracy')\n",
    "fig.suptitle('Accuracy', fontsize=20)\n",
    "plt.legend(loc=\"upper left\")\n",
    "plt.show()"
   ],
   "execution_count": 37,
   "outputs": []
  },
  {
   "cell_type": "markdown",
   "metadata": {
    "id": "ESU3YKzmIUk4"
   },
   "source": [
    "**Evaluate Performance**"
   ]
  },
  {
   "cell_type": "code",
   "metadata": {
    "id": "QoQDcypiIYrx",
    "ExecuteTime": {
     "end_time": "2024-06-11T04:59:39.405865Z",
     "start_time": "2024-06-11T04:59:39.391037Z"
    }
   },
   "source": [
    "from tensorflow.keras.metrics import Precision, Recall, BinaryAccuracy"
   ],
   "execution_count": 38,
   "outputs": []
  },
  {
   "cell_type": "code",
   "metadata": {
    "id": "35x1ozmkIdyv",
    "ExecuteTime": {
     "end_time": "2024-06-11T04:59:40.464799Z",
     "start_time": "2024-06-11T04:59:40.426111Z"
    }
   },
   "source": [
    "# Establishing instances\n",
    "pre = Precision()\n",
    "re = Recall()\n",
    "acc = BinaryAccuracy()"
   ],
   "execution_count": 39,
   "outputs": []
  },
  {
   "cell_type": "code",
   "metadata": {
    "colab": {
     "base_uri": "https://localhost:8080/"
    },
    "id": "JxuwTm-nIfUT",
    "outputId": "c9ebfa75-25c1-4337-ff9e-f64b80d9c379",
    "ExecuteTime": {
     "end_time": "2024-06-11T04:59:41.928370Z",
     "start_time": "2024-06-11T04:59:41.338876Z"
    }
   },
   "source": [
    "for batch in test.as_numpy_iterator():\n",
    "    X, y = batch\n",
    "    yhat = model.predict(X)\n",
    "    pre.update_state(y, yhat)\n",
    "    re.update_state(y, yhat)\n",
    "    acc.update_state(y, yhat)"
   ],
   "execution_count": 40,
   "outputs": []
  },
  {
   "cell_type": "code",
   "metadata": {
    "colab": {
     "base_uri": "https://localhost:8080/"
    },
    "id": "tQ5xhABWI75X",
    "outputId": "b6208eb1-48d4-450d-e9ef-d47377d4fd58",
    "ExecuteTime": {
     "end_time": "2024-06-11T04:59:42.627614Z",
     "start_time": "2024-06-11T04:59:42.605538Z"
    }
   },
   "source": [
    "print(f'Precision:{pre.result()}, Recall:{re.result().numpy()}, Acuraccy:{acc.result().numpy}')"
   ],
   "execution_count": 41,
   "outputs": []
  },
  {
   "cell_type": "markdown",
   "metadata": {
    "id": "ym0qLHinOTVU"
   },
   "source": [
    "**Test**"
   ]
  },
  {
   "cell_type": "code",
   "metadata": {
    "id": "sPl4ImweOVTX",
    "ExecuteTime": {
     "end_time": "2024-06-11T04:59:44.576551Z",
     "start_time": "2024-06-11T04:59:44.566467Z"
    }
   },
   "source": "import cv2",
   "execution_count": 42,
   "outputs": []
  },
  {
   "cell_type": "code",
   "metadata": {
    "colab": {
     "base_uri": "https://localhost:8080/",
     "height": 471
    },
    "id": "LV0rg4p3mGRO",
    "outputId": "eae7a1ef-5557-48cb-ce12-d254b75d602c",
    "ExecuteTime": {
     "end_time": "2024-06-11T05:01:38.492289Z",
     "start_time": "2024-06-11T05:01:37.857065Z"
    }
   },
   "source": [
    "# Load and preprocess the image\n",
    "img = cv2.imread('eval3.png')\n",
    "img = cv2.cvtColor(img, cv2.COLOR_BGR2RGB)  # Convert from BGR to RGB\n",
    "resize = tf.image.resize(img, (256,256))\n",
    "plt.imshow(resize.numpy().astype(int))\n",
    "plt.show()\n",
    "\n",
    "# Predict the class\n",
    "predict = model.predict(np.expand_dims(resize/255, 0))\n",
    "\n",
    "class_names = ['Circular', 'Normal', 'Overlapping']\n",
    "predicted_class = np.argmax(predict)\n",
    "\n",
    "print(f'Image belong to the {class_names[predicted_class]} class')"
   ],
   "execution_count": 53,
   "outputs": []
  },
  {
   "cell_type": "markdown",
   "metadata": {
    "id": "CFUpmSERNpv6"
   },
   "source": [
    "**Saving the model**"
   ]
  },
  {
   "cell_type": "code",
   "metadata": {
    "id": "QRC_Bvb1NoYw",
    "ExecuteTime": {
     "end_time": "2024-06-11T04:59:47.894493Z",
     "start_time": "2024-06-11T04:59:47.884022Z"
    }
   },
   "source": [
    "from tensorflow.keras.models import load_model"
   ],
   "execution_count": 44,
   "outputs": []
  },
  {
   "cell_type": "code",
   "metadata": {
    "id": "-Iq-4vIUN1B_",
    "ExecuteTime": {
     "end_time": "2024-06-11T04:59:50.437751Z",
     "start_time": "2024-06-11T04:59:50.050129Z"
    }
   },
   "source": "model.save('imageclassifier.keras')",
   "execution_count": 45,
   "outputs": []
  },
  {
   "metadata": {
    "ExecuteTime": {
     "end_time": "2024-06-11T04:59:52.404293Z",
     "start_time": "2024-06-11T04:59:51.459576Z"
    }
   },
   "cell_type": "code",
   "source": "prediction = tf.keras.models.load_model('imageclassifier.keras')",
   "execution_count": 46,
   "outputs": []
  },
  {
   "metadata": {
    "ExecuteTime": {
     "end_time": "2024-06-11T05:00:04.846422Z",
     "start_time": "2024-06-11T05:00:04.829583Z"
    }
   },
   "cell_type": "code",
   "source": "prediction",
   "execution_count": 47,
   "outputs": []
  },
  {
   "metadata": {
    "ExecuteTime": {
     "end_time": "2024-06-11T05:01:00.120679Z",
     "start_time": "2024-06-11T05:00:59.901802Z"
    }
   },
   "cell_type": "code",
   "source": "yhatnew = prediction.predict(np.expand_dims(resize/255, 0))",
   "execution_count": 49,
   "outputs": []
  },
  {
   "metadata": {
    "ExecuteTime": {
     "end_time": "2024-06-11T05:01:42.586564Z",
     "start_time": "2024-06-11T05:01:42.575253Z"
    }
   },
   "cell_type": "code",
   "source": [
    "class_names = ['Circular', 'Normal', 'Overlapping']\n",
    "predicted_class = np.argmax(predict)\n",
    "\n",
    "print(f'Image belong to the {class_names[predicted_class]} class')"
   ],
   "execution_count": 54,
   "outputs": []
  }
 ],
 "metadata": {
  "accelerator": "GPU",
  "colab": {
   "gpuType": "T4",
   "provenance": []
  },
  "kernelspec": {
   "display_name": "Python 3 (ipykernel)",
   "language": "python",
   "name": "python3"
  },
  "language_info": {
   "codemirror_mode": {
    "name": "ipython",
    "version": 3
   },
   "file_extension": ".py",
   "mimetype": "text/x-python",
   "name": "python",
   "nbconvert_exporter": "python",
   "pygments_lexer": "ipython3",
   "version": "3.12.3"
  }
 },
 "nbformat": 4,
 "nbformat_minor": 4
}
