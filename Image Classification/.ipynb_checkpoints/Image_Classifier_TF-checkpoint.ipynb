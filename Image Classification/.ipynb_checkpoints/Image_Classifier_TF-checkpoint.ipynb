{
 "nbformat": 4,
 "nbformat_minor": 0,
 "metadata": {
  "colab": {
   "provenance": [],
   "gpuType": "T4"
  },
  "kernelspec": {
   "name": "python3",
   "display_name": "Python 3"
  },
  "language_info": {
   "name": "python"
  },
  "accelerator": "GPU"
 },
 "cells": [
  {
   "cell_type": "code",
   "execution_count": 1,
   "metadata": {
    "id": "y-RDdZ46w21D"
   },
   "outputs": [],
   "source": [
    "import tensorflow as tf\n",
    "import os"
   ]
  },
  {
   "cell_type": "code",
   "source": [
    "cpus = tf.config.experimental.list_physical_devices('CPU')\n",
    "cpus"
   ],
   "metadata": {
    "colab": {
     "base_uri": "https://localhost:8080/"
    },
    "id": "9R6sUlPxyBgR",
    "outputId": "947006e2-88e6-46be-9d64-35a09a1f81c2"
   },
   "execution_count": 2,
   "outputs": [
    {
     "output_type": "execute_result",
     "data": {
      "text/plain": [
       "[PhysicalDevice(name='/physical_device:CPU:0', device_type='CPU')]"
      ]
     },
     "metadata": {},
     "execution_count": 2
    }
   ]
  },
  {
   "cell_type": "code",
   "source": [
    "cpus = tf.config.experimental.list_physical_devices('GPU')\n",
    "for cpu in cpus:\n",
    "    tf.config.experimental.set_memory_growth(cpu, True)"
   ],
   "metadata": {
    "id": "uOfvcnt7x0dR"
   },
   "execution_count": 3,
   "outputs": []
  },
  {
   "cell_type": "code",
   "source": [
    "import cv2\n",
    "import imghdr\n",
    "import matplotlib.pyplot as plt\n",
    "import numpy as np"
   ],
   "metadata": {
    "id": "kkBK7CF9zz2i"
   },
   "execution_count": 4,
   "outputs": []
  },
  {
   "cell_type": "code",
   "source": [
    "data_dir = '/content/drive/MyDrive/Colab Notebooks/dataset'"
   ],
   "metadata": {
    "id": "apVdp0A733hY"
   },
   "execution_count": 5,
   "outputs": []
  },
  {
   "cell_type": "code",
   "source": [
    "os.listdir(os.path.join(data_dir, 'normal'))"
   ],
   "metadata": {
    "colab": {
     "base_uri": "https://localhost:8080/"
    },
    "collapsed": true,
    "id": "9zbErkPd5c5k",
    "outputId": "38c95797-57cf-479c-ec01-8678042a1f87"
   },
   "execution_count": 6,
   "outputs": [
    {
     "output_type": "execute_result",
     "data": {
      "text/plain": [
       "['row_7.png',\n",
       " 'row_34.png',\n",
       " 'row_8.png',\n",
       " 'row_15.png',\n",
       " 'row_11.png',\n",
       " 'row_10.png',\n",
       " 'row_32.png',\n",
       " 'row_37.png',\n",
       " 'row_38.png',\n",
       " 'row_13.png',\n",
       " 'row_9.png',\n",
       " 'row_14.png',\n",
       " 'row_26.png',\n",
       " 'row_36.png',\n",
       " 'row_28.png',\n",
       " 'row_27.png',\n",
       " 'row_35.png',\n",
       " 'row_33.png',\n",
       " 'row_12.png',\n",
       " 'row_25.png',\n",
       " 'row_29.png',\n",
       " 'row_39.png',\n",
       " 'st_CAB_output.jpg']"
      ]
     },
     "metadata": {},
     "execution_count": 6
    }
   ]
  },
  {
   "cell_type": "code",
   "source": [
    "image_exts = ['jpeg','jpg', 'bmp', 'png']"
   ],
   "metadata": {
    "id": "yZlJf9iK38ZD"
   },
   "execution_count": 7,
   "outputs": []
  },
  {
   "cell_type": "code",
   "source": [
    "image_exts"
   ],
   "metadata": {
    "colab": {
     "base_uri": "https://localhost:8080/"
    },
    "id": "86sb3rmx4HMa",
    "outputId": "9eed03cd-22a4-4f9e-e5b3-6fc4a0e4ebab"
   },
   "execution_count": 8,
   "outputs": [
    {
     "output_type": "execute_result",
     "data": {
      "text/plain": [
       "['jpeg', 'jpg', 'bmp', 'png']"
      ]
     },
     "metadata": {},
     "execution_count": 8
    }
   ]
  },
  {
   "cell_type": "code",
   "source": [
    "for image_class in os.listdir(data_dir):\n",
    "    for image in os.listdir(os.path.join(data_dir, image_class)):\n",
    "        image_path = os.path.join(data_dir, image_class, image)\n",
    "        try:\n",
    "            img = cv2.imread(image_path)\n",
    "            tip = imghdr.what(image_path)\n",
    "            if tip not in image_exts:\n",
    "                print('Image not in ext list {}'.format(image_path))\n",
    "                os.remove(image_path)\n",
    "        except Exception as e:\n",
    "            print('Issue with image {}'.format(image_path))\n",
    "            # os.remove(image_path)"
   ],
   "metadata": {
    "id": "A8pf5pbJ4JQR"
   },
   "execution_count": 9,
   "outputs": []
  },
  {
   "cell_type": "markdown",
   "source": [
    "**Load Data**"
   ],
   "metadata": {
    "id": "1WwbxO8vG1Pp"
   }
  },
  {
   "cell_type": "code",
   "source": [
    "tf.data.Dataset"
   ],
   "metadata": {
    "colab": {
     "base_uri": "https://localhost:8080/",
     "height": 186
    },
    "id": "lD5HtKm2HCaf",
    "outputId": "434e6afa-0ed3-4e29-b1de-0c1290e0f3bc",
    "collapsed": true
   },
   "execution_count": 10,
   "outputs": [
    {
     "output_type": "execute_result",
     "data": {
      "text/plain": [
       "tensorflow.python.data.ops.dataset_ops.DatasetV2"
      ],
      "text/html": [
       "<div style=\"max-width:800px; border: 1px solid var(--colab-border-color);\"><style>\n",
       "      pre.function-repr-contents {\n",
       "        overflow-x: auto;\n",
       "        padding: 8px 12px;\n",
       "        max-height: 500px;\n",
       "      }\n",
       "\n",
       "      pre.function-repr-contents.function-repr-contents-collapsed {\n",
       "        cursor: pointer;\n",
       "        max-height: 100px;\n",
       "      }\n",
       "    </style>\n",
       "    <pre style=\"white-space: initial; background:\n",
       "         var(--colab-secondary-surface-color); padding: 8px 12px;\n",
       "         border-bottom: 1px solid var(--colab-border-color);\"><b>tensorflow.python.data.ops.dataset_ops.DatasetV2</b><br/>def __init__(variant_tensor)</pre><pre class=\"function-repr-contents function-repr-contents-collapsed\" style=\"\"><a class=\"filepath\" style=\"display:none\" href=\"#\">/usr/local/lib/python3.10/dist-packages/tensorflow/python/data/ops/dataset_ops.py</a>Represents a potentially large set of elements.\n",
       "\n",
       "The `tf.data.Dataset` API supports writing descriptive and efficient input\n",
       "pipelines. `Dataset` usage follows a common pattern:\n",
       "\n",
       "1. Create a source dataset from your input data.\n",
       "2. Apply dataset transformations to preprocess the data.\n",
       "3. Iterate over the dataset and process the elements.\n",
       "\n",
       "Iteration happens in a streaming fashion, so the full dataset does not need to\n",
       "fit into memory.\n",
       "\n",
       "Source Datasets:\n",
       "\n",
       "The simplest way to create a dataset is to create it from a python `list`:\n",
       "\n",
       "&gt;&gt;&gt; dataset = tf.data.Dataset.from_tensor_slices([1, 2, 3])\n",
       "&gt;&gt;&gt; for element in dataset:\n",
       "...   print(element)\n",
       "tf.Tensor(1, shape=(), dtype=int32)\n",
       "tf.Tensor(2, shape=(), dtype=int32)\n",
       "tf.Tensor(3, shape=(), dtype=int32)\n",
       "\n",
       "To process lines from files, use `tf.data.TextLineDataset`:\n",
       "\n",
       "&gt;&gt;&gt; dataset = tf.data.TextLineDataset([&quot;file1.txt&quot;, &quot;file2.txt&quot;])\n",
       "\n",
       "To process records written in the `TFRecord` format, use `TFRecordDataset`:\n",
       "\n",
       "&gt;&gt;&gt; dataset = tf.data.TFRecordDataset([&quot;file1.tfrecords&quot;, &quot;file2.tfrecords&quot;])\n",
       "\n",
       "To create a dataset of all files matching a pattern, use\n",
       "`tf.data.Dataset.list_files`:\n",
       "\n",
       "```python\n",
       "dataset = tf.data.Dataset.list_files(&quot;/path/*.txt&quot;)\n",
       "```\n",
       "\n",
       "See `tf.data.FixedLengthRecordDataset` and `tf.data.Dataset.from_generator`\n",
       "for more ways to create datasets.\n",
       "\n",
       "Transformations:\n",
       "\n",
       "Once you have a dataset, you can apply transformations to prepare the data for\n",
       "your model:\n",
       "\n",
       "&gt;&gt;&gt; dataset = tf.data.Dataset.from_tensor_slices([1, 2, 3])\n",
       "&gt;&gt;&gt; dataset = dataset.map(lambda x: x*2)\n",
       "&gt;&gt;&gt; list(dataset.as_numpy_iterator())\n",
       "[2, 4, 6]\n",
       "\n",
       "Common Terms:\n",
       "\n",
       "**Element**: A single output from calling `next()` on a dataset iterator.\n",
       "  Elements may be nested structures containing multiple components. For\n",
       "  example, the element `(1, (3, &quot;apple&quot;))` has one tuple nested in another\n",
       "  tuple. The components are `1`, `3`, and `&quot;apple&quot;`.\n",
       "\n",
       "**Component**: The leaf in the nested structure of an element.\n",
       "\n",
       "Supported types:\n",
       "\n",
       "Elements can be nested structures of tuples, named tuples, and dictionaries.\n",
       "Note that Python lists are *not* treated as nested structures of components.\n",
       "Instead, lists are converted to tensors and treated as components. For\n",
       "example, the element `(1, [1, 2, 3])` has only two components; the tensor `1`\n",
       "and the tensor `[1, 2, 3]`. Element components can be of any type\n",
       "representable by `tf.TypeSpec`, including `tf.Tensor`, `tf.data.Dataset`,\n",
       "`tf.sparse.SparseTensor`, `tf.RaggedTensor`, and `tf.TensorArray`.\n",
       "\n",
       "```python\n",
       "a = 1 # Integer element\n",
       "b = 2.0 # Float element\n",
       "c = (1, 2) # Tuple element with 2 components\n",
       "d = {&quot;a&quot;: (2, 2), &quot;b&quot;: 3} # Dict element with 3 components\n",
       "Point = collections.namedtuple(&quot;Point&quot;, [&quot;x&quot;, &quot;y&quot;])\n",
       "e = Point(1, 2) # Named tuple\n",
       "f = tf.data.Dataset.range(10) # Dataset element\n",
       "```\n",
       "\n",
       "For more information,\n",
       "read [this guide](https://www.tensorflow.org/guide/data).</pre>\n",
       "      <script>\n",
       "      if (google.colab.kernel.accessAllowed && google.colab.files && google.colab.files.view) {\n",
       "        for (const element of document.querySelectorAll('.filepath')) {\n",
       "          element.style.display = 'block'\n",
       "          element.onclick = (event) => {\n",
       "            event.preventDefault();\n",
       "            event.stopPropagation();\n",
       "            google.colab.files.view(element.textContent, 135);\n",
       "          };\n",
       "        }\n",
       "      }\n",
       "      for (const element of document.querySelectorAll('.function-repr-contents')) {\n",
       "        element.onclick = (event) => {\n",
       "          event.preventDefault();\n",
       "          event.stopPropagation();\n",
       "          element.classList.toggle('function-repr-contents-collapsed');\n",
       "        };\n",
       "      }\n",
       "      </script>\n",
       "      </div>"
      ]
     },
     "metadata": {},
     "execution_count": 10
    }
   ]
  },
  {
   "cell_type": "code",
   "source": [
    "tf.keras.utils.image_dataset_from_directory??"
   ],
   "metadata": {
    "id": "v3jIL4INQ8Pj"
   },
   "execution_count": 11,
   "outputs": []
  },
  {
   "cell_type": "code",
   "source": [
    "# --- 1. Define 'data' ---\n",
    "data = tf.keras.utils.image_dataset_from_directory(\n",
    "    data_dir,\n",
    "    labels='inferred',  # Infers labels from directory structure\n",
    "    label_mode='categorical',  # One-hot encoded labels\n",
    "    image_size=(256, 256),  # Adjust if your images have different dimensions\n",
    "    batch_size=8,  # Adjust based on your memory constraints\n",
    ")"
   ],
   "metadata": {
    "colab": {
     "base_uri": "https://localhost:8080/"
    },
    "id": "bFw2nz9xDD-5",
    "outputId": "cf3be0dc-54da-4a2b-921e-ba85fc1e7733"
   },
   "execution_count": 12,
   "outputs": [
    {
     "output_type": "stream",
     "name": "stdout",
     "text": [
      "Found 39 files belonging to 3 classes.\n"
     ]
    }
   ]
  },
  {
   "cell_type": "code",
   "source": [
    "data_iterator = data.as_numpy_iterator()"
   ],
   "metadata": {
    "id": "97f90XPjDHfi"
   },
   "execution_count": 13,
   "outputs": []
  },
  {
   "cell_type": "code",
   "source": [
    "batch = data_iterator.next()"
   ],
   "metadata": {
    "id": "eBCBocPbRPfa"
   },
   "execution_count": 14,
   "outputs": []
  },
  {
   "cell_type": "code",
   "source": [
    "batch[0].shape"
   ],
   "metadata": {
    "colab": {
     "base_uri": "https://localhost:8080/"
    },
    "id": "6WqaQFHTYz6v",
    "outputId": "f8651bb6-2e29-40a0-950d-b7b70e848ae2"
   },
   "execution_count": 15,
   "outputs": [
    {
     "output_type": "execute_result",
     "data": {
      "text/plain": [
       "(8, 256, 256, 3)"
      ]
     },
     "metadata": {},
     "execution_count": 15
    }
   ]
  },
  {
   "cell_type": "code",
   "source": [
    "class_names = {\n",
    "    0: \"Circular\",\n",
    "    1: \"Normal\",\n",
    "    2: \"Overlapping\"\n",
    "}\n",
    "\n",
    "\n",
    "fig, ax = plt.subplots(ncols=4, figsize=(20, 25))\n",
    "for idx, img in enumerate(batch[0][:4]):\n",
    "    ax[idx].imshow(img.astype(int))\n",
    "    # Convert NumPy array to a hashable type (e.g., integer)\n",
    "    label_index = np.argmax(batch[1][idx])  # Get index of the highest probability class\n",
    "    ax[idx].title.set_text(class_names.get(label_index, \"Unknown\"))\n",
    "\n",
    "    # Add x and y ticks (adjust values based on your image dimensions)\n",
    "    ax[idx].set_xticks(np.arange(0, img.shape[1], 50))  # Ticks every 50 pixels on x-axis\n",
    "    ax[idx].set_yticks(np.arange(0, img.shape[0], 50))  # Ticks every 50 pixels on y-axis\n",
    "\n",
    "    # Optionally, label the ticks with pixel values\n",
    "    ax[idx].set_xticklabels(np.arange(0, img.shape[1], 50))\n",
    "    ax[idx].set_yticklabels(np.arange(0, img.shape[0], 50))\n",
    "\n",
    "plt.show()"
   ],
   "metadata": {
    "colab": {
     "base_uri": "https://localhost:8080/",
     "height": 174
    },
    "id": "CLEcKw9eRhfY",
    "outputId": "24925782-8dec-4d5e-d504-325900969a13"
   },
   "execution_count": 16,
   "outputs": [
    {
     "output_type": "display_data",
     "data": {
      "text/plain": [
       "<Figure size 2000x2500 with 4 Axes>"
      ],
      "image/png": "[encoded data removed]"
     },
     "metadata": {}
    }
   ]
  },
  {
   "cell_type": "markdown",
   "source": [
    "**Scale Data**"
   ],
   "metadata": {
    "id": "0pFZTbgq31t7"
   }
  },
  {
   "cell_type": "code",
   "source": [
    "data = data.map(lambda x,y: (x/255, y))\n",
    "# important since it helps to perform transformation to convert image min to 0 and max to 1\n",
    "# important while working with data pipeline"
   ],
   "metadata": {
    "id": "qm_Urb2q3VVc"
   },
   "execution_count": 17,
   "outputs": []
  },
  {
   "cell_type": "code",
   "source": [
    "data.as_numpy_iterator().next()"
   ],
   "metadata": {
    "colab": {
     "base_uri": "https://localhost:8080/"
    },
    "collapsed": true,
    "id": "KZUYQqM_37pE",
    "outputId": "c5b16248-3ad3-4595-aae3-a8ea39945d0f"
   },
   "execution_count": 18,
   "outputs": [
    {
     "output_type": "execute_result",
     "data": {
      "text/plain": [
       "(array([[[[0.65882355, 0.65882355, 0.65882355],\n",
       "          [0.6981388 , 0.6981388 , 0.6981388 ],\n",
       "          [0.83807445, 0.83807445, 0.83807445],\n",
       "          ...,\n",
       "          [0.9851103 , 0.9851103 , 0.9851103 ],\n",
       "          [0.97224265, 0.97224265, 0.97224265],\n",
       "          [0.96862745, 0.96862745, 0.96862745]],\n",
       " \n",
       "         [[0.65882355, 0.65882355, 0.65882355],\n",
       "          [0.6981388 , 0.6981388 , 0.6981388 ],\n",
       "          [0.83807445, 0.83807445, 0.83807445],\n",
       "          ...,\n",
       "          [0.9851103 , 0.9851103 , 0.9851103 ],\n",
       "          [0.97224265, 0.97224265, 0.97224265],\n",
       "          [0.96862745, 0.96862745, 0.96862745]],\n",
       " \n",
       "         [[0.65882355, 0.65882355, 0.65882355],\n",
       "          [0.6981388 , 0.6981388 , 0.6981388 ],\n",
       "          [0.83807445, 0.83807445, 0.83807445],\n",
       "          ...,\n",
       "          [0.9851103 , 0.9851103 , 0.9851103 ],\n",
       "          [0.97224265, 0.97224265, 0.97224265],\n",
       "          [0.96862745, 0.96862745, 0.96862745]],\n",
       " \n",
       "         ...,\n",
       " \n",
       "         [[0.73333335, 0.73333335, 0.73333335],\n",
       "          [0.7640625 , 0.7640625 , 0.7640625 ],\n",
       "          [0.8734375 , 0.8734375 , 0.8734375 ],\n",
       "          ...,\n",
       "          [0.9904948 , 0.9904948 , 0.9904948 ],\n",
       "          [0.98566943, 0.98566943, 0.98566943],\n",
       "          [0.9843137 , 0.9843137 , 0.9843137 ]],\n",
       " \n",
       "         [[0.73333335, 0.73333335, 0.73333335],\n",
       "          [0.7640625 , 0.7640625 , 0.7640625 ],\n",
       "          [0.8734375 , 0.8734375 , 0.8734375 ],\n",
       "          ...,\n",
       "          [0.9904948 , 0.9904948 , 0.9904948 ],\n",
       "          [0.98566943, 0.98566943, 0.98566943],\n",
       "          [0.9843137 , 0.9843137 , 0.9843137 ]],\n",
       " \n",
       "         [[0.73333335, 0.73333335, 0.73333335],\n",
       "          [0.7640625 , 0.7640625 , 0.7640625 ],\n",
       "          [0.8734375 , 0.8734375 , 0.8734375 ],\n",
       "          ...,\n",
       "          [0.9904948 , 0.9904948 , 0.9904948 ],\n",
       "          [0.98566943, 0.98566943, 0.98566943],\n",
       "          [0.9843137 , 0.9843137 , 0.9843137 ]]],\n",
       " \n",
       " \n",
       "        [[[0.7254902 , 0.7254902 , 0.7254902 ],\n",
       "          [0.75215226, 0.75215226, 0.75215226],\n",
       "          [0.84705114, 0.84705114, 0.84705114],\n",
       "          ...,\n",
       "          [0.9919577 , 0.9919577 , 0.9919577 ],\n",
       "          [0.99517465, 0.99517465, 0.99517465],\n",
       "          [0.99607843, 0.99607843, 0.99607843]],\n",
       " \n",
       "         [[0.7254902 , 0.7254902 , 0.7254902 ],\n",
       "          [0.75215226, 0.75215226, 0.75215226],\n",
       "          [0.84705114, 0.84705114, 0.84705114],\n",
       "          ...,\n",
       "          [0.9919577 , 0.9919577 , 0.9919577 ],\n",
       "          [0.99517465, 0.99517465, 0.99517465],\n",
       "          [0.99607843, 0.99607843, 0.99607843]],\n",
       " \n",
       "         [[0.7254902 , 0.7254902 , 0.7254902 ],\n",
       "          [0.75215226, 0.75215226, 0.75215226],\n",
       "          [0.84705114, 0.84705114, 0.84705114],\n",
       "          ...,\n",
       "          [0.9919577 , 0.9919577 , 0.9919577 ],\n",
       "          [0.99517465, 0.99517465, 0.99517465],\n",
       "          [0.99607843, 0.99607843, 0.99607843]],\n",
       " \n",
       "         ...,\n",
       " \n",
       "         [[0.7294118 , 0.7294118 , 0.7294118 ],\n",
       "          [0.7569776 , 0.7569776 , 0.7569776 ],\n",
       "          [0.8550934 , 0.8550934 , 0.8550934 ],\n",
       "          ...,\n",
       "          [0.9919577 , 0.9919577 , 0.9919577 ],\n",
       "          [0.99517465, 0.99517465, 0.99517465],\n",
       "          [0.99607843, 0.99607843, 0.99607843]],\n",
       " \n",
       "         [[0.7294118 , 0.7294118 , 0.7294118 ],\n",
       "          [0.7569776 , 0.7569776 , 0.7569776 ],\n",
       "          [0.8550934 , 0.8550934 , 0.8550934 ],\n",
       "          ...,\n",
       "          [0.9919577 , 0.9919577 , 0.9919577 ],\n",
       "          [0.99517465, 0.99517465, 0.99517465],\n",
       "          [0.99607843, 0.99607843, 0.99607843]],\n",
       " \n",
       "         [[0.7294118 , 0.7294118 , 0.7294118 ],\n",
       "          [0.7569776 , 0.7569776 , 0.7569776 ],\n",
       "          [0.8550934 , 0.8550934 , 0.8550934 ],\n",
       "          ...,\n",
       "          [0.9919577 , 0.9919577 , 0.9919577 ],\n",
       "          [0.99517465, 0.99517465, 0.99517465],\n",
       "          [0.99607843, 0.99607843, 0.99607843]]],\n",
       " \n",
       " \n",
       "        [[[0.73333335, 0.73333335, 0.73333335],\n",
       "          [0.7608992 , 0.7608992 , 0.7608992 ],\n",
       "          [0.859015  , 0.859015  , 0.859015  ],\n",
       "          ...,\n",
       "          [0.99793965, 0.99793965, 0.99793965],\n",
       "          [0.9995481 , 0.9995481 , 0.9995481 ],\n",
       "          [1.        , 1.        , 1.        ]],\n",
       " \n",
       "         [[0.73333335, 0.73333335, 0.73333335],\n",
       "          [0.7608992 , 0.7608992 , 0.7608992 ],\n",
       "          [0.859015  , 0.859015  , 0.859015  ],\n",
       "          ...,\n",
       "          [0.99793965, 0.99793965, 0.99793965],\n",
       "          [0.9995481 , 0.9995481 , 0.9995481 ],\n",
       "          [1.        , 1.        , 1.        ]],\n",
       " \n",
       "         [[0.73333335, 0.73333335, 0.73333335],\n",
       "          [0.7608992 , 0.7608992 , 0.7608992 ],\n",
       "          [0.859015  , 0.859015  , 0.859015  ],\n",
       "          ...,\n",
       "          [0.99793965, 0.99793965, 0.99793965],\n",
       "          [0.9995481 , 0.9995481 , 0.9995481 ],\n",
       "          [1.        , 1.        , 1.        ]],\n",
       " \n",
       "         ...,\n",
       " \n",
       "         [[0.73333335, 0.73333335, 0.73333335],\n",
       "          [0.7640625 , 0.7640625 , 0.7640625 ],\n",
       "          [0.8734375 , 0.8734375 , 0.8734375 ],\n",
       "          ...,\n",
       "          [0.9981388 , 0.9981388 , 0.9981388 ],\n",
       "          [0.99653035, 0.99653035, 0.99653035],\n",
       "          [0.99607843, 0.99607843, 0.99607843]],\n",
       " \n",
       "         [[0.73333335, 0.73333335, 0.73333335],\n",
       "          [0.7640625 , 0.7640625 , 0.7640625 ],\n",
       "          [0.8734375 , 0.8734375 , 0.8734375 ],\n",
       "          ...,\n",
       "          [0.9981388 , 0.9981388 , 0.9981388 ],\n",
       "          [0.99653035, 0.99653035, 0.99653035],\n",
       "          [0.99607843, 0.99607843, 0.99607843]],\n",
       " \n",
       "         [[0.73333335, 0.73333335, 0.73333335],\n",
       "          [0.7640625 , 0.7640625 , 0.7640625 ],\n",
       "          [0.8734375 , 0.8734375 , 0.8734375 ],\n",
       "          ...,\n",
       "          [0.9981388 , 0.9981388 , 0.9981388 ],\n",
       "          [0.99653035, 0.99653035, 0.99653035],\n",
       "          [0.99607843, 0.99607843, 0.99607843]]],\n",
       " \n",
       " \n",
       "        ...,\n",
       " \n",
       " \n",
       "        [[[1.        , 1.        , 1.        ],\n",
       "          [1.        , 1.        , 1.        ],\n",
       "          [1.        , 1.        , 1.        ],\n",
       "          ...,\n",
       "          [1.        , 1.        , 1.        ],\n",
       "          [1.        , 1.        , 1.        ],\n",
       "          [1.        , 1.        , 1.        ]],\n",
       " \n",
       "         [[1.        , 1.        , 1.        ],\n",
       "          [1.        , 1.        , 1.        ],\n",
       "          [1.        , 1.        , 1.        ],\n",
       "          ...,\n",
       "          [1.        , 1.        , 1.        ],\n",
       "          [1.        , 1.        , 1.        ],\n",
       "          [1.        , 1.        , 1.        ]],\n",
       " \n",
       "         [[1.        , 1.        , 1.        ],\n",
       "          [1.        , 1.        , 1.        ],\n",
       "          [1.        , 1.        , 1.        ],\n",
       "          ...,\n",
       "          [1.        , 1.        , 1.        ],\n",
       "          [1.        , 1.        , 1.        ],\n",
       "          [1.        , 1.        , 1.        ]],\n",
       " \n",
       "         ...,\n",
       " \n",
       "         [[1.        , 1.        , 1.        ],\n",
       "          [1.        , 1.        , 1.        ],\n",
       "          [1.        , 1.        , 1.        ],\n",
       "          ...,\n",
       "          [1.        , 1.        , 1.        ],\n",
       "          [1.        , 1.        , 1.        ],\n",
       "          [1.        , 1.        , 1.        ]],\n",
       " \n",
       "         [[1.        , 1.        , 1.        ],\n",
       "          [1.        , 1.        , 1.        ],\n",
       "          [1.        , 1.        , 1.        ],\n",
       "          ...,\n",
       "          [1.        , 1.        , 1.        ],\n",
       "          [1.        , 1.        , 1.        ],\n",
       "          [1.        , 1.        , 1.        ]],\n",
       " \n",
       "         [[1.        , 1.        , 1.        ],\n",
       "          [1.        , 1.        , 1.        ],\n",
       "          [1.        , 1.        , 1.        ],\n",
       "          ...,\n",
       "          [1.        , 1.        , 1.        ],\n",
       "          [1.        , 1.        , 1.        ],\n",
       "          [1.        , 1.        , 1.        ]]],\n",
       " \n",
       " \n",
       "        [[[0.72156864, 0.72156864, 0.72156864],\n",
       "          [0.7527497 , 0.7527497 , 0.7527497 ],\n",
       "          [0.8637332 , 0.8637332 , 0.8637332 ],\n",
       "          ...,\n",
       "          [0.99255514, 0.99255514, 0.99255514],\n",
       "          [0.9861213 , 0.9861213 , 0.9861213 ],\n",
       "          [0.9843137 , 0.9843137 , 0.9843137 ]],\n",
       " \n",
       "         [[0.72156864, 0.72156864, 0.72156864],\n",
       "          [0.7527497 , 0.7527497 , 0.7527497 ],\n",
       "          [0.8637332 , 0.8637332 , 0.8637332 ],\n",
       "          ...,\n",
       "          [0.99255514, 0.99255514, 0.99255514],\n",
       "          [0.9861213 , 0.9861213 , 0.9861213 ],\n",
       "          [0.9843137 , 0.9843137 , 0.9843137 ]],\n",
       " \n",
       "         [[0.72156864, 0.72156864, 0.72156864],\n",
       "          [0.7527497 , 0.7527497 , 0.7527497 ],\n",
       "          [0.8637332 , 0.8637332 , 0.8637332 ],\n",
       "          ...,\n",
       "          [0.99255514, 0.99255514, 0.99255514],\n",
       "          [0.9861213 , 0.9861213 , 0.9861213 ],\n",
       "          [0.9843137 , 0.9843137 , 0.9843137 ]],\n",
       " \n",
       "         ...,\n",
       " \n",
       "         [[0.7294118 , 0.7294118 , 0.7294118 ],\n",
       "          [0.7605928 , 0.7605928 , 0.7605928 ],\n",
       "          [0.8715763 , 0.8715763 , 0.8715763 ],\n",
       "          ...,\n",
       "          [0.9906939 , 0.9906939 , 0.9906939 ],\n",
       "          [0.98265165, 0.98265165, 0.98265165],\n",
       "          [0.98039216, 0.98039216, 0.98039216]],\n",
       " \n",
       "         [[0.7294118 , 0.7294118 , 0.7294118 ],\n",
       "          [0.7605928 , 0.7605928 , 0.7605928 ],\n",
       "          [0.8715763 , 0.8715763 , 0.8715763 ],\n",
       "          ...,\n",
       "          [0.9906939 , 0.9906939 , 0.9906939 ],\n",
       "          [0.98265165, 0.98265165, 0.98265165],\n",
       "          [0.98039216, 0.98039216, 0.98039216]],\n",
       " \n",
       "         [[0.7294118 , 0.7294118 , 0.7294118 ],\n",
       "          [0.7605928 , 0.7605928 , 0.7605928 ],\n",
       "          [0.8715763 , 0.8715763 , 0.8715763 ],\n",
       "          ...,\n",
       "          [0.9906939 , 0.9906939 , 0.9906939 ],\n",
       "          [0.98265165, 0.98265165, 0.98265165],\n",
       "          [0.98039216, 0.98039216, 0.98039216]]],\n",
       " \n",
       " \n",
       "        [[[0.69411767, 0.69411767, 0.69411767],\n",
       "          [0.7275582 , 0.7275582 , 0.7275582 ],\n",
       "          [0.84658396, 0.84658396, 0.84658396],\n",
       "          ...,\n",
       "          [0.9570619 , 0.9570619 , 0.9570619 ],\n",
       "          [0.95384496, 0.95384496, 0.95384496],\n",
       "          [0.9529412 , 0.9529412 , 0.9529412 ]],\n",
       " \n",
       "         [[0.69411767, 0.69411767, 0.69411767],\n",
       "          [0.7275582 , 0.7275582 , 0.7275582 ],\n",
       "          [0.84658396, 0.84658396, 0.84658396],\n",
       "          ...,\n",
       "          [0.9570619 , 0.9570619 , 0.9570619 ],\n",
       "          [0.95384496, 0.95384496, 0.95384496],\n",
       "          [0.9529412 , 0.9529412 , 0.9529412 ]],\n",
       " \n",
       "         [[0.69411767, 0.69411767, 0.69411767],\n",
       "          [0.7275582 , 0.7275582 , 0.7275582 ],\n",
       "          [0.84658396, 0.84658396, 0.84658396],\n",
       "          ...,\n",
       "          [0.9570619 , 0.9570619 , 0.9570619 ],\n",
       "          [0.95384496, 0.95384496, 0.95384496],\n",
       "          [0.9529412 , 0.9529412 , 0.9529412 ]],\n",
       " \n",
       "         ...,\n",
       " \n",
       "         [[0.73333335, 0.73333335, 0.73333335],\n",
       "          [0.7613511 , 0.7613511 , 0.7613511 ],\n",
       "          [0.86107534, 0.86107534, 0.86107534],\n",
       "          ...,\n",
       "          [0.99607843, 0.99607843, 0.99607843],\n",
       "          [0.99607843, 0.99607843, 0.99607843],\n",
       "          [0.99607843, 0.99607843, 0.99607843]],\n",
       " \n",
       "         [[0.73333335, 0.73333335, 0.73333335],\n",
       "          [0.7613511 , 0.7613511 , 0.7613511 ],\n",
       "          [0.86107534, 0.86107534, 0.86107534],\n",
       "          ...,\n",
       "          [0.99607843, 0.99607843, 0.99607843],\n",
       "          [0.99607843, 0.99607843, 0.99607843],\n",
       "          [0.99607843, 0.99607843, 0.99607843]],\n",
       " \n",
       "         [[0.73333335, 0.73333335, 0.73333335],\n",
       "          [0.7613511 , 0.7613511 , 0.7613511 ],\n",
       "          [0.86107534, 0.86107534, 0.86107534],\n",
       "          ...,\n",
       "          [0.99607843, 0.99607843, 0.99607843],\n",
       "          [0.99607843, 0.99607843, 0.99607843],\n",
       "          [0.99607843, 0.99607843, 0.99607843]]]], dtype=float32),\n",
       " array([[0., 0., 1.],\n",
       "        [0., 1., 0.],\n",
       "        [1., 0., 0.],\n",
       "        [0., 1., 0.],\n",
       "        [0., 1., 0.],\n",
       "        [0., 0., 1.],\n",
       "        [0., 1., 0.],\n",
       "        [0., 0., 1.]], dtype=float32))"
      ]
     },
     "metadata": {},
     "execution_count": 18
    }
   ]
  },
  {
   "cell_type": "markdown",
   "source": [
    "**Split Data**"
   ],
   "metadata": {
    "id": "tltHKl2R4L1_"
   }
  },
  {
   "cell_type": "code",
   "source": [
    "len(data) # num of batches"
   ],
   "metadata": {
    "colab": {
     "base_uri": "https://localhost:8080/"
    },
    "id": "Wq18i6N3kUgm",
    "outputId": "dfe31191-8add-4297-819f-f030add3891a"
   },
   "execution_count": 19,
   "outputs": [
    {
     "output_type": "execute_result",
     "data": {
      "text/plain": [
       "5"
      ]
     },
     "metadata": {},
     "execution_count": 19
    }
   ]
  },
  {
   "cell_type": "code",
   "source": [
    "#batch_size = 32"
   ],
   "metadata": {
    "id": "cxe938Jko9Ei"
   },
   "execution_count": 24,
   "outputs": []
  },
  {
   "cell_type": "code",
   "source": [
    "# train_batches = int(len(data) * 0.7) // batch_size\n",
    "# val_batches = int(len(data) * 0.2) // batch_size\n",
    "# test_batches = int(len(data) * 0.1) // batch_size"
   ],
   "metadata": {
    "id": "nAJC7Fryo__m"
   },
   "execution_count": 25,
   "outputs": []
  },
  {
   "cell_type": "code",
   "source": [
    "# test_batches"
   ],
   "metadata": {
    "id": "Dek9wS5xpZNv"
   },
   "execution_count": 26,
   "outputs": []
  },
  {
   "cell_type": "code",
   "source": [
    "train_size = int(len(data)*.7)\n",
    "val_size = int(len(data)*.2)\n",
    "test_size = int(len(data)*.1)+1"
   ],
   "metadata": {
    "id": "s4RnYv7v3-qb"
   },
   "execution_count": 20,
   "outputs": []
  },
  {
   "cell_type": "code",
   "source": [
    "train_size"
   ],
   "metadata": {
    "colab": {
     "base_uri": "https://localhost:8080/"
    },
    "id": "Q8XnZdLk4R84",
    "outputId": "1f21184e-ef7f-4f6f-bc1a-bdf3b2987649"
   },
   "execution_count": 21,
   "outputs": [
    {
     "output_type": "execute_result",
     "data": {
      "text/plain": [
       "3"
      ]
     },
     "metadata": {},
     "execution_count": 21
    }
   ]
  },
  {
   "cell_type": "code",
   "source": [
    "train = data.take(train_size)\n",
    "val = data.skip(train_size).take(val_size)\n",
    "test = data.skip(train_size+val_size).take(test_size)\n",
    "\n",
    "# Established train, test and val partition"
   ],
   "metadata": {
    "id": "xWHZ-HT04U4w"
   },
   "execution_count": 22,
   "outputs": []
  },
  {
   "cell_type": "code",
   "source": [
    "train_labels = np.concatenate([y for x, y in train], axis=0)\n",
    "val_labels = np.concatenate([y for x, y in val], axis=0)\n",
    "test_labels = np.concatenate([y for x, y in test], axis=0)\n",
    "\n",
    "# One-hot encode the labels (if needed for your model)\n",
    "train_labels = tf.keras.utils.to_categorical(train_labels)\n",
    "val_labels = tf.keras.utils.to_categorical(val_labels)\n",
    "test_labels = tf.keras.utils.to_categorical(test_labels)"
   ],
   "metadata": {
    "id": "VWGFMOAydfa8"
   },
   "execution_count": 23,
   "outputs": []
  },
  {
   "cell_type": "markdown",
   "source": [
    "**Building the Deep Learning Model**"
   ],
   "metadata": {
    "id": "5Cd7ZRde4d-B"
   }
  },
  {
   "cell_type": "code",
   "source": [
    "from tensorflow.keras.models import Sequential\n",
    "from tensorflow.keras.layers import Conv2D, MaxPooling2D, Dense, Flatten"
   ],
   "metadata": {
    "id": "-MZ4MdX44kZH"
   },
   "execution_count": 24,
   "outputs": []
  },
  {
   "cell_type": "code",
   "source": [
    "num_classes = 3\n",
    "model = tf.keras.models.Sequential()\n",
    "model.add(tf.keras.layers.Conv2D(16, (3,3), 1, activation='relu', input_shape=(256,256,3)))\n",
    "model.add(tf.keras.layers.MaxPooling2D())\n",
    "model.add(tf.keras.layers.Conv2D(32, (3,3), 1, activation='relu'))\n",
    "model.add(tf.keras.layers.MaxPooling2D())\n",
    "model.add(tf.keras.layers.Conv2D(16, (3,3), 1, activation='relu'))\n",
    "model.add(tf.keras.layers.MaxPooling2D())\n",
    "model.add(tf.keras.layers.Flatten())\n",
    "model.add(tf.keras.layers.Dense(256, activation='relu'))\n",
    "model.add(tf.keras.layers.Dense(num_classes, activation='softmax'))"
   ],
   "metadata": {
    "id": "ZbUZz_CL8uaT"
   },
   "execution_count": 25,
   "outputs": []
  },
  {
   "cell_type": "code",
   "source": [
    "model.compile(optimizer='adam',\n",
    "              loss='categorical_crossentropy',\n",
    "              metrics=['accuracy'])"
   ],
   "metadata": {
    "id": "xUlGQ5Yd8vdm"
   },
   "execution_count": 26,
   "outputs": []
  },
  {
   "cell_type": "code",
   "source": [
    "model.summary()"
   ],
   "metadata": {
    "colab": {
     "base_uri": "https://localhost:8080/"
    },
    "id": "_1FNvnw18yoM",
    "outputId": "17538b55-3b53-47c1-83c5-fb463dbcc9a0"
   },
   "execution_count": 27,
   "outputs": [
    {
     "output_type": "stream",
     "name": "stdout",
     "text": [
      "Model: \"sequential\"\n",
      "_________________________________________________________________\n",
      " Layer (type)                Output Shape              Param #   \n",
      "=================================================================\n",
      " conv2d (Conv2D)             (None, 254, 254, 16)      448       \n",
      "                                                                 \n",
      " max_pooling2d (MaxPooling2  (None, 127, 127, 16)      0         \n",
      " D)                                                              \n",
      "                                                                 \n",
      " conv2d_1 (Conv2D)           (None, 125, 125, 32)      4640      \n",
      "                                                                 \n",
      " max_pooling2d_1 (MaxPoolin  (None, 62, 62, 32)        0         \n",
      " g2D)                                                            \n",
      "                                                                 \n",
      " conv2d_2 (Conv2D)           (None, 60, 60, 16)        4624      \n",
      "                                                                 \n",
      " max_pooling2d_2 (MaxPoolin  (None, 30, 30, 16)        0         \n",
      " g2D)                                                            \n",
      "                                                                 \n",
      " flatten (Flatten)           (None, 14400)             0         \n",
      "                                                                 \n",
      " dense (Dense)               (None, 256)               3686656   \n",
      "                                                                 \n",
      " dense_1 (Dense)             (None, 3)                 771       \n",
      "                                                                 \n",
      "=================================================================\n",
      "Total params: 3697139 (14.10 MB)\n",
      "Trainable params: 3697139 (14.10 MB)\n",
      "Non-trainable params: 0 (0.00 Byte)\n",
      "_________________________________________________________________\n"
     ]
    }
   ]
  },
  {
   "cell_type": "markdown",
   "source": [
    "**Train**"
   ],
   "metadata": {
    "id": "zAc7IIeZFrBb"
   }
  },
  {
   "cell_type": "code",
   "source": [
    "logdir = 'logs'"
   ],
   "metadata": {
    "id": "ILdlYRmnFyHG"
   },
   "execution_count": 28,
   "outputs": []
  },
  {
   "cell_type": "code",
   "source": [
    "tensorboard_callback = tf.keras.callbacks.TensorBoard(log_dir=logdir)"
   ],
   "metadata": {
    "id": "td4tBCr5F3Ef"
   },
   "execution_count": 29,
   "outputs": []
  },
  {
   "cell_type": "code",
   "source": [
    "import sys\n",
    "sys.tracebacklimit = 500"
   ],
   "metadata": {
    "id": "s2JCgzVFftYv"
   },
   "execution_count": 30,
   "outputs": []
  },
  {
   "cell_type": "code",
   "source": [
    "hist = model.fit(train, epochs=20, validation_data=val, callbacks=[tensorboard_callback])"
   ],
   "metadata": {
    "colab": {
     "base_uri": "https://localhost:8080/"
    },
    "id": "WZTCqrosGMfh",
    "outputId": "c587d784-d804-48a5-df1e-ad57b26f4c62"
   },
   "execution_count": 31,
   "outputs": [
    {
     "output_type": "stream",
     "name": "stdout",
     "text": [
      "Epoch 1/20\n",
      "3/3 [==============================] - 3s 598ms/step - loss: 2.5755 - accuracy: 0.4583 - val_loss: 1.8536 - val_accuracy: 0.6250\n",
      "Epoch 2/20\n",
      "3/3 [==============================] - 2s 515ms/step - loss: 1.3246 - accuracy: 0.4583 - val_loss: 0.7590 - val_accuracy: 0.7500\n",
      "Epoch 3/20\n",
      "3/3 [==============================] - 1s 454ms/step - loss: 0.8815 - accuracy: 0.6667 - val_loss: 1.3371 - val_accuracy: 0.5000\n",
      "Epoch 4/20\n",
      "3/3 [==============================] - 2s 817ms/step - loss: 1.1193 - accuracy: 0.5417 - val_loss: 0.9638 - val_accuracy: 0.6250\n",
      "Epoch 5/20\n",
      "3/3 [==============================] - 3s 918ms/step - loss: 0.9622 - accuracy: 0.6250 - val_loss: 1.2035 - val_accuracy: 0.3750\n",
      "Epoch 6/20\n",
      "3/3 [==============================] - 1s 513ms/step - loss: 0.9335 - accuracy: 0.5417 - val_loss: 0.9195 - val_accuracy: 0.5000\n",
      "Epoch 7/20\n",
      "3/3 [==============================] - 1s 495ms/step - loss: 0.7558 - accuracy: 0.6667 - val_loss: 0.6420 - val_accuracy: 0.6250\n",
      "Epoch 8/20\n",
      "3/3 [==============================] - 1s 488ms/step - loss: 0.6375 - accuracy: 0.6250 - val_loss: 0.8182 - val_accuracy: 0.7500\n",
      "Epoch 9/20\n",
      "3/3 [==============================] - 1s 498ms/step - loss: 0.8437 - accuracy: 0.7500 - val_loss: 0.6177 - val_accuracy: 0.6250\n",
      "Epoch 10/20\n",
      "3/3 [==============================] - 1s 498ms/step - loss: 0.5346 - accuracy: 0.9583 - val_loss: 0.4548 - val_accuracy: 0.8750\n",
      "Epoch 11/20\n",
      "3/3 [==============================] - 2s 550ms/step - loss: 0.4385 - accuracy: 0.8750 - val_loss: 0.5647 - val_accuracy: 0.7500\n",
      "Epoch 12/20\n",
      "3/3 [==============================] - 2s 825ms/step - loss: 0.4594 - accuracy: 0.7917 - val_loss: 0.3486 - val_accuracy: 1.0000\n",
      "Epoch 13/20\n",
      "3/3 [==============================] - 3s 931ms/step - loss: 0.3230 - accuracy: 0.9167 - val_loss: 0.2170 - val_accuracy: 0.8750\n",
      "Epoch 14/20\n",
      "3/3 [==============================] - 2s 498ms/step - loss: 0.2410 - accuracy: 0.9167 - val_loss: 0.1830 - val_accuracy: 0.8750\n",
      "Epoch 15/20\n",
      "3/3 [==============================] - 1s 467ms/step - loss: 0.1433 - accuracy: 0.9583 - val_loss: 0.0677 - val_accuracy: 1.0000\n",
      "Epoch 16/20\n",
      "3/3 [==============================] - 2s 514ms/step - loss: 0.1677 - accuracy: 0.9583 - val_loss: 0.2511 - val_accuracy: 0.8750\n",
      "Epoch 17/20\n",
      "3/3 [==============================] - 2s 522ms/step - loss: 0.0538 - accuracy: 1.0000 - val_loss: 0.0276 - val_accuracy: 1.0000\n",
      "Epoch 18/20\n",
      "3/3 [==============================] - 1s 497ms/step - loss: 0.0579 - accuracy: 1.0000 - val_loss: 0.0353 - val_accuracy: 1.0000\n",
      "Epoch 19/20\n",
      "3/3 [==============================] - 2s 528ms/step - loss: 0.0365 - accuracy: 1.0000 - val_loss: 0.0568 - val_accuracy: 1.0000\n",
      "Epoch 20/20\n",
      "3/3 [==============================] - 2s 870ms/step - loss: 0.0154 - accuracy: 1.0000 - val_loss: 0.0039 - val_accuracy: 1.0000\n"
     ]
    }
   ]
  },
  {
   "cell_type": "code",
   "source": [
    "hist.history"
   ],
   "metadata": {
    "colab": {
     "base_uri": "https://localhost:8080/"
    },
    "collapsed": true,
    "id": "BkQnUYEXHGcx",
    "outputId": "cb2bb119-cdb4-4fff-eb6b-5fb77029da11"
   },
   "execution_count": 32,
   "outputs": [
    {
     "output_type": "execute_result",
     "data": {
      "text/plain": [
       "{'loss': [2.575453042984009,\n",
       "  1.3246111869812012,\n",
       "  0.8815310597419739,\n",
       "  1.119262933731079,\n",
       "  0.9622170329093933,\n",
       "  0.9335213303565979,\n",
       "  0.7557685971260071,\n",
       "  0.6375152468681335,\n",
       "  0.8437229990959167,\n",
       "  0.5346315503120422,\n",
       "  0.43854889273643494,\n",
       "  0.4593621492385864,\n",
       "  0.32298633456230164,\n",
       "  0.24101977050304413,\n",
       "  0.14326469600200653,\n",
       "  0.16766588389873505,\n",
       "  0.05375763401389122,\n",
       "  0.057910818606615067,\n",
       "  0.03654307499527931,\n",
       "  0.015352022834122181],\n",
       " 'accuracy': [0.4583333432674408,\n",
       "  0.4583333432674408,\n",
       "  0.6666666865348816,\n",
       "  0.5416666865348816,\n",
       "  0.625,\n",
       "  0.5416666865348816,\n",
       "  0.6666666865348816,\n",
       "  0.625,\n",
       "  0.75,\n",
       "  0.9583333134651184,\n",
       "  0.875,\n",
       "  0.7916666865348816,\n",
       "  0.9166666865348816,\n",
       "  0.9166666865348816,\n",
       "  0.9583333134651184,\n",
       "  0.9583333134651184,\n",
       "  1.0,\n",
       "  1.0,\n",
       "  1.0,\n",
       "  1.0],\n",
       " 'val_loss': [1.8536319732666016,\n",
       "  0.7590223550796509,\n",
       "  1.3371320962905884,\n",
       "  0.9637641906738281,\n",
       "  1.2035198211669922,\n",
       "  0.9195356369018555,\n",
       "  0.6419975757598877,\n",
       "  0.8181762099266052,\n",
       "  0.6176812052726746,\n",
       "  0.45475655794143677,\n",
       "  0.5646545886993408,\n",
       "  0.34859347343444824,\n",
       "  0.21697065234184265,\n",
       "  0.18296541273593903,\n",
       "  0.06772495806217194,\n",
       "  0.2510695159435272,\n",
       "  0.027579445391893387,\n",
       "  0.03529858589172363,\n",
       "  0.05678114667534828,\n",
       "  0.0038579818792641163],\n",
       " 'val_accuracy': [0.625,\n",
       "  0.75,\n",
       "  0.5,\n",
       "  0.625,\n",
       "  0.375,\n",
       "  0.5,\n",
       "  0.625,\n",
       "  0.75,\n",
       "  0.625,\n",
       "  0.875,\n",
       "  0.75,\n",
       "  1.0,\n",
       "  0.875,\n",
       "  0.875,\n",
       "  1.0,\n",
       "  0.875,\n",
       "  1.0,\n",
       "  1.0,\n",
       "  1.0,\n",
       "  1.0]}"
      ]
     },
     "metadata": {},
     "execution_count": 32
    }
   ]
  },
  {
   "cell_type": "markdown",
   "source": [
    "**Plot Performance**"
   ],
   "metadata": {
    "id": "S5LQFdKZHmBQ"
   }
  },
  {
   "cell_type": "code",
   "source": [
    "fig = plt.figure()\n",
    "plt.plot(hist.history['loss'], color='teal', label='loss')\n",
    "plt.plot(hist.history['val_loss'], color='orange', label='val_loss')\n",
    "fig.suptitle('Loss', fontsize=20)\n",
    "plt.legend(loc=\"upper left\")\n",
    "plt.show()"
   ],
   "metadata": {
    "colab": {
     "base_uri": "https://localhost:8080/",
     "height": 478
    },
    "id": "36h9ddD-Hvx9",
    "outputId": "ee66a3cc-eccc-4c4a-b4ee-0bb3d74e55b4"
   },
   "execution_count": 33,
   "outputs": [
    {
     "output_type": "display_data",
     "data": {
      "text/plain": [
       "<Figure size 640x480 with 1 Axes>"
      ],
      "image/png": "[encoded data removed]"
     },
     "metadata": {}
    }
   ]
  },
  {
   "cell_type": "code",
   "source": [
    "fig = plt.figure()\n",
    "plt.plot(hist.history['accuracy'], color='teal', label='accuracy')\n",
    "plt.plot(hist.history['val_accuracy'], color='orange', label='val_accuracy')\n",
    "fig.suptitle('Accuracy', fontsize=20)\n",
    "plt.legend(loc=\"upper left\")\n",
    "plt.show()"
   ],
   "metadata": {
    "colab": {
     "base_uri": "https://localhost:8080/",
     "height": 478
    },
    "id": "kTlnl7MHH_nT",
    "outputId": "d44796b8-5667-4615-b121-42539d3369a5"
   },
   "execution_count": 34,
   "outputs": [
    {
     "output_type": "display_data",
     "data": {
      "text/plain": [
       "<Figure size 640x480 with 1 Axes>"
      ],
      "image/png": "[encoded data removed]"
     },
     "metadata": {}
    }
   ]
  },
  {
   "cell_type": "markdown",
   "source": [
    "**Evaluate Performance**"
   ],
   "metadata": {
    "id": "ESU3YKzmIUk4"
   }
  },
  {
   "cell_type": "code",
   "source": [
    "from tensorflow.keras.metrics import Precision, Recall, BinaryAccuracy"
   ],
   "metadata": {
    "id": "QoQDcypiIYrx"
   },
   "execution_count": 35,
   "outputs": []
  },
  {
   "cell_type": "code",
   "source": [
    "# Establishing instances\n",
    "pre = Precision()\n",
    "re = Recall()\n",
    "acc = BinaryAccuracy()"
   ],
   "metadata": {
    "id": "35x1ozmkIdyv"
   },
   "execution_count": 36,
   "outputs": []
  },
  {
   "cell_type": "code",
   "source": [
    "for batch in test.as_numpy_iterator():\n",
    "    X, y = batch\n",
    "    yhat = model.predict(X)\n",
    "    pre.update_state(y, yhat)\n",
    "    re.update_state(y, yhat)\n",
    "    acc.update_state(y, yhat)"
   ],
   "metadata": {
    "colab": {
     "base_uri": "https://localhost:8080/"
    },
    "id": "JxuwTm-nIfUT",
    "outputId": "c9ebfa75-25c1-4337-ff9e-f64b80d9c379"
   },
   "execution_count": 37,
   "outputs": [
    {
     "output_type": "stream",
     "name": "stdout",
     "text": [
      "1/1 [==============================] - 0s 197ms/step\n"
     ]
    }
   ]
  },
  {
   "cell_type": "code",
   "source": [
    "print(f'Precision:{pre.result()}, Recall:{re.result().numpy()}, Acuraccy:{acc.result().numpy}')"
   ],
   "metadata": {
    "colab": {
     "base_uri": "https://localhost:8080/"
    },
    "id": "tQ5xhABWI75X",
    "outputId": "b6208eb1-48d4-450d-e9ef-d47377d4fd58"
   },
   "execution_count": 38,
   "outputs": [
    {
     "output_type": "stream",
     "name": "stdout",
     "text": [
      "Precision:1.0, Recall:1.0, Acuraccy:<bound method _EagerTensorBase.numpy of <tf.Tensor: shape=(), dtype=float32, numpy=1.0>>\n"
     ]
    }
   ]
  },
  {
   "cell_type": "markdown",
   "source": [
    "**Test**"
   ],
   "metadata": {
    "id": "ym0qLHinOTVU"
   }
  },
  {
   "cell_type": "code",
   "source": "# import cv2",
   "metadata": {
    "id": "sPl4ImweOVTX"
   },
   "execution_count": 39,
   "outputs": []
  },
  {
   "cell_type": "code",
   "source": [
    "# img = cv2.imread('154006829.jpg')\n",
    "# plt.imshow(img)\n",
    "# plt.show()"
   ],
   "metadata": {
    "id": "EGauMBeEPHGn"
   },
   "execution_count": null,
   "outputs": []
  },
  {
   "cell_type": "code",
   "source": [
    "# resize = tf.image.resize(img, (256,256))\n",
    "# plt.imshow(resize.numpy().astype(int))\n",
    "# plt.show()"
   ],
   "metadata": {
    "id": "i5uQyCvBPI01"
   },
   "execution_count": null,
   "outputs": []
  },
  {
   "cell_type": "code",
   "source": "# yhat = model.predict(np.expand_dims(resize/255, 0))",
   "metadata": {
    "id": "FjZIXeAxPK1q"
   },
   "execution_count": null,
   "outputs": []
  },
  {
   "cell_type": "code",
   "source": "# yhat",
   "metadata": {
    "id": "rEiNsFRIPNAC"
   },
   "execution_count": null,
   "outputs": []
  },
  {
   "cell_type": "code",
   "source": [
    "# if yhat > 0.5:\n",
    "#     print(f'Predicted class is Sad')\n",
    "# else:\n",
    "#     print(f'Predicted class is Happy')"
   ],
   "metadata": {
    "id": "eeDN2KKyPPMm"
   },
   "execution_count": null,
   "outputs": []
  },
  {
   "cell_type": "code",
   "source": [
    "# Load and preprocess the image\n",
    "img = cv2.imread('/content/drive/MyDrive/Colab Notebooks/eval1.png')\n",
    "img = cv2.cvtColor(img, cv2.COLOR_BGR2RGB)  # Convert from BGR to RGB\n",
    "resize = tf.image.resize(img, (256,256))\n",
    "plt.imshow(resize.numpy().astype(int))\n",
    "plt.show()\n",
    "\n",
    "# Predict the class\n",
    "yhat = model.predict(np.expand_dims(resize/255, 0))\n",
    "\n",
    "# Assuming you have 3 classes (Sad, Happy, Neutral)\n",
    "class_names = ['Circular', 'Normal', 'Overlapping']\n",
    "predicted_class = np.argmax(yhat)\n",
    "\n",
    "print(f'Image belong to the {class_names[predicted_class]} class')"
   ],
   "metadata": {
    "colab": {
     "base_uri": "https://localhost:8080/",
     "height": 471
    },
    "id": "LV0rg4p3mGRO",
    "outputId": "eae7a1ef-5557-48cb-ce12-d254b75d602c"
   },
   "execution_count": 45,
   "outputs": [
    {
     "output_type": "display_data",
     "data": {
      "text/plain": [
       "<Figure size 640x480 with 1 Axes>"
      ],
      "image/png": "[encoded data removed]"
     },
     "metadata": {}
    },
    {
     "output_type": "stream",
     "name": "stdout",
     "text": [
      "1/1 [==============================] - 0s 53ms/step\n",
      "Image belong to the Normal class\n"
     ]
    }
   ]
  },
  {
   "cell_type": "markdown",
   "source": [
    "**Saving the model**"
   ],
   "metadata": {
    "id": "CFUpmSERNpv6"
   }
  },
  {
   "cell_type": "code",
   "source": [
    "from tensorflow.keras.models import load_model"
   ],
   "metadata": {
    "id": "QRC_Bvb1NoYw"
   },
   "execution_count": 46,
   "outputs": []
  },
  {
   "cell_type": "code",
   "source": [
    "model.save(os.path.join('models','imageclassifier.keras'))"
   ],
   "metadata": {
    "id": "-Iq-4vIUN1B_"
   },
   "execution_count": 48,
   "outputs": []
  }
 ]
}
