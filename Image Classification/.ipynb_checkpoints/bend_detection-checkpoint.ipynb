{
 "cells": [
  {
   "metadata": {},
   "cell_type": "markdown",
   "source": "### Importing Model",
   "id": "9932618f9401cffd"
  },
  {
   "metadata": {
    "ExecuteTime": {
     "end_time": "2024-06-13T05:50:11.255721Z",
     "start_time": "2024-06-13T05:50:10.972022Z"
    }
   },
   "cell_type": "code",
   "source": [
    "import tensorflow as tf\n",
    "import cv2\n",
    "import imghdr\n",
    "import matplotlib.pyplot as plt\n",
    "import numpy as np\n",
    "import os"
   ],
   "id": "4f3bc15b3683f2d3",
   "execution_count": 28,
   "outputs": []
  },
  {
   "metadata": {},
   "cell_type": "code",
   "execution_count": 29,
   "source": "model = tf.keras.models.load_model('imageclassifier_4.keras')",
   "id": "d84d5cfc3419cefe",
   "outputs": []
  },
  {
   "metadata": {},
   "cell_type": "code",
   "execution_count": 30,
   "source": "model",
   "id": "9abbb45016f47adf",
   "outputs": []
  },
  {
   "metadata": {
    "ExecuteTime": {
     "end_time": "2024-06-13T05:52:29.683879Z",
     "start_time": "2024-06-13T05:52:29.062Z"
    }
   },
   "cell_type": "code",
   "source": [
    "# Load and preprocess the image\n",
    "img = cv2.imread('')\n",
    "img = cv2.cvtColor(img, cv2.COLOR_BGR2RGB)  # Convert from BGR to RGB\n",
    "resize = tf.image.resize(img, (256,256))\n",
    "plt.imshow(resize.numpy().astype(int))\n",
    "plt.show()\n",
    "\n",
    "# Predict the class\n",
    "predict = model.predict(np.expand_dims(resize/255, 0))\n",
    "\n",
    "class_names = ['Circular', 'Intersecting', 'Normal', 'Overlapping']\n",
    "predicted_class = np.argmax(predict)\n",
    "\n",
    "print(f'Image belong to the {class_names[predicted_class]} class')"
   ],
   "id": "7ef1470f79a0e59d",
   "execution_count": 36,
   "outputs": []
  },
  {
   "metadata": {},
   "cell_type": "markdown",
   "source": "### Bend Detection",
   "id": "ae1f4bc194b52f46"
  },
  {
   "metadata": {
    "ExecuteTime": {
     "end_time": "2024-06-13T06:23:01.402231Z",
     "start_time": "2024-06-13T06:23:00.532549Z"
    }
   },
   "cell_type": "code",
   "source": [
    "model = tf.keras.models.load_model('imageclassifier_4.keras')\n",
    "model"
   ],
   "id": "a582d4094b923416",
   "execution_count": 40,
   "outputs": []
  },
  {
   "metadata": {
    "ExecuteTime": {
     "end_time": "2024-06-13T06:23:15.611662Z",
     "start_time": "2024-06-13T06:23:14.979749Z"
    }
   },
   "cell_type": "code",
   "source": [
    "# Load and preprocess the image\n",
    "img = cv2.imread('circ_cab2_upscaled.jpeg')\n",
    "img = cv2.cvtColor(img, cv2.COLOR_BGR2RGB)  # Convert from BGR to RGB\n",
    "resize = tf.image.resize(img, (256, 256))\n",
    "plt.imshow(resize.numpy().astype(int))\n",
    "plt.show()"
   ],
   "id": "b93a02f029d73b0e",
   "execution_count": 42,
   "outputs": []
  },
  {
   "metadata": {
    "ExecuteTime": {
     "end_time": "2024-06-13T08:51:48.111663Z",
     "start_time": "2024-06-13T08:51:47.892566Z"
    }
   },
   "cell_type": "code",
   "source": [
    "\n",
    "# Predict the class\n",
    "predict = model.predict(np.expand_dims(resize / 255, 0))\n",
    "\n",
    "class_names = ['Circular', 'Intersecting', 'Normal', 'Overlapping']\n",
    "predicted_class = np.argmax(predict)\n",
    "\n",
    "print(f'Image belong to the {class_names[predicted_class]} class')"
   ],
   "id": "daa27bed815c61e4",
   "execution_count": 47,
   "outputs": []
  },
  {
   "metadata": {
    "ExecuteTime": {
     "end_time": "2024-06-13T08:59:20.428675Z",
     "start_time": "2024-06-13T08:59:20.393856Z"
    }
   },
   "cell_type": "code",
   "source": [
    "### Bend Detection\n",
    "# Define separate functions for each class\n",
    "def detect_bend_circular():\n",
    "    # Bend detection code specific to the Circular class\n",
    "    print(\"Running bend detection for Circular class...\")\n",
    "    # Add your bend detection code here\n",
    "    import cv2\n",
    "import numpy as np\n",
    "import matplotlib.pyplot as plt\n",
    "\n",
    "# Read and convert the image to grayscale\n",
    "image_rgb = cv2.imread('circ_cab_upscaled.jpeg')\n",
    "img = cv2.imread('circ_cab_upscaled.jpeg', cv2.IMREAD_GRAYSCALE)\n",
    "\n",
    "# Thresholding to isolate the cable (adjust thresholds as needed)\n",
    "_, thresh = cv2.threshold(img, 127, 255, cv2.THRESH_BINARY_INV)\n",
    "\n",
    "# Morphological operations to enhance the bends\n",
    "kernel = cv2.getStructuringElement(cv2.MORPH_RECT, (3, 3))  # Rectangular kernel\n",
    "dilated = cv2.dilate(thresh, kernel, iterations=2)  # More iterations for stronger dilation\n",
    "eroded = cv2.erode(dilated, kernel, iterations=1)\n",
    "\n",
    "# Apply Gaussian blur to smooth out the edges\n",
    "# blurred = cv2.GaussianBlur(eroded, (5, 5), 0)\n",
    "\n",
    "# Find contours and hierarchy\n",
    "contours, hierarchy = cv2.findContours(thresh, cv2.RETR_CCOMP, cv2.CHAIN_APPROX_SIMPLE)\n",
    "\n",
    "# More flexible contour filtering based on hierarchy\n",
    "filtered_contours = []\n",
    "for i, contour in enumerate(contours):\n",
    "    # Check if contour is not the outermost (hierarchy level 0)\n",
    "    if hierarchy[0][i][3] != -1:\n",
    "        area = cv2.contourArea(contour)\n",
    "        # Only keep contours within a reasonable area range to filter out noise\n",
    "        if 10 < area < 610:  # Adjust these thresholds as needed\n",
    "            filtered_contours.append(contour)\n",
    "\n",
    "print('Number of bends found: ', len(filtered_contours))\n",
    "\n",
    "# Draw remaining contours on the RGB version of the original image\n",
    "contour_image = image_rgb.copy()\n",
    "cv2.drawContours(contour_image, filtered_contours, -1, (255, 0, 0), 2)\n",
    "\n",
    "# Plot the final image with contours\n",
    "plt.imshow(cv2.cvtColor(contour_image, cv2.COLOR_BGR2RGB))\n",
    "plt.title('Image with Contours')\n",
    "plt.axis('off')\n",
    "plt.show()\n",
    "\n",
    "\n",
    "def detect_bend_intersecting():\n",
    "    # Bend detection code specific to the Intersecting class\n",
    "    print(\"Running bend detection for Intersecting class...\")\n",
    "    # Add your bend detection code here\n",
    "    #...\n",
    "\n",
    "\n",
    "def detect_bend_normal():\n",
    "    # Bend detection code specific to the Normal class\n",
    "    print(\"Running bend detection for Normal class...\")\n",
    "    # Add your bend detection code here\n",
    "    #...\n",
    "\n",
    "\n",
    "def detect_bend_overlapping():\n",
    "    # Bend detection code specific to the Overlapping class\n",
    "    print(\"Running bend detection for Overlapping class...\")\n",
    "    # Add your bend detection code here\n",
    "    #...\n",
    "    \n",
    "# Call the corresponding function based on the predicted class\n",
    "if predicted_class == 0:\n",
    "    detect_bend_circular()\n",
    "elif predicted_class == 1:\n",
    "    detect_bend_intersecting()\n",
    "elif predicted_class == 2:\n",
    "    detect_bend_normal()\n",
    "elif predicted_class == 3:\n",
    "    detect_bend_overlapping()"
   ],
   "id": "894aed97f0ee8bd8",
   "execution_count": 50,
   "outputs": []
  }
 ],
 "metadata": {
  "kernelspec": {
   "display_name": "Python 3",
   "language": "python",
   "name": "python3"
  },
  "language_info": {
   "codemirror_mode": {
    "name": "ipython",
    "version": 2
   },
   "file_extension": ".py",
   "mimetype": "text/x-python",
   "name": "python",
   "nbconvert_exporter": "python",
   "pygments_lexer": "ipython2",
   "version": "2.7.6"
  }
 },
 "nbformat": 4,
 "nbformat_minor": 5
}
