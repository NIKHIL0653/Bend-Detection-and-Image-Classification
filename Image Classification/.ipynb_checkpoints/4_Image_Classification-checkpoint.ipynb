{
 "cells": [
  {
   "cell_type": "code",
   "id": "initial_id",
   "metadata": {
    "collapsed": true,
    "ExecuteTime": {
     "end_time": "2024-06-12T06:19:16.774284Z",
     "start_time": "2024-06-12T06:19:16.738222Z"
    }
   },
   "source": [
    "import tensorflow as tf\n",
    "import os"
   ],
   "outputs": [],
   "execution_count": 329
  },
  {
   "metadata": {
    "ExecuteTime": {
     "end_time": "2024-06-12T06:19:17.164773Z",
     "start_time": "2024-06-12T06:19:17.145748Z"
    }
   },
   "cell_type": "code",
   "source": [
    "cpus = tf.config.experimental.list_physical_devices('CPU')\n",
    "cpus"
   ],
   "id": "1f08eadb2ffe8583",
   "outputs": [
    {
     "data": {
      "text/plain": [
       "[PhysicalDevice(name='/physical_device:CPU:0', device_type='CPU')]"
      ]
     },
     "execution_count": 330,
     "metadata": {},
     "output_type": "execute_result"
    }
   ],
   "execution_count": 330
  },
  {
   "metadata": {
    "ExecuteTime": {
     "end_time": "2024-06-12T06:19:17.563954Z",
     "start_time": "2024-06-12T06:19:17.552201Z"
    }
   },
   "cell_type": "code",
   "source": [
    "cpus = tf.config.experimental.list_physical_devices('GPU')\n",
    "for cpu in cpus:\n",
    "    tf.config.experimental.set_memory_growth(cpu, True)"
   ],
   "id": "d84794e73cc8507",
   "outputs": [],
   "execution_count": 331
  },
  {
   "metadata": {
    "ExecuteTime": {
     "end_time": "2024-06-12T06:19:17.899608Z",
     "start_time": "2024-06-12T06:19:17.891859Z"
    }
   },
   "cell_type": "code",
   "source": [
    "import cv2\n",
    "import imghdr\n",
    "import matplotlib.pyplot as plt\n",
    "import numpy as np"
   ],
   "id": "92bb07d410e9c49a",
   "outputs": [],
   "execution_count": 332
  },
  {
   "metadata": {
    "ExecuteTime": {
     "end_time": "2024-06-12T06:19:18.294117Z",
     "start_time": "2024-06-12T06:19:18.284856Z"
    }
   },
   "cell_type": "code",
   "source": "data_dir = 'dataset'",
   "id": "9c139bda03ceb841",
   "outputs": [],
   "execution_count": 333
  },
  {
   "metadata": {
    "ExecuteTime": {
     "end_time": "2024-06-12T06:19:18.911130Z",
     "start_time": "2024-06-12T06:19:18.895571Z"
    }
   },
   "cell_type": "code",
   "source": "os.listdir(os.path.join(data_dir, 'intersecting'))",
   "id": "82e3f381b426ab0f",
   "outputs": [
    {
     "data": {
      "text/plain": [
       "['intersecting2.png',\n",
       " 'Screenshot 2024-06-11 130058.png',\n",
       " 'Screenshot 2024-06-11 130058_cleanup.png',\n",
       " 'Screenshot 2024-06-11 130208.png',\n",
       " 'Screenshot 2024-06-11 130208_cleanup.png',\n",
       " 'Screenshot 2024-06-11 130337.png',\n",
       " 'Screenshot 2024-06-11 130429.png',\n",
       " 'WhatsApp Image 2024-05-10 at 16.10.31.jpeg']"
      ]
     },
     "execution_count": 334,
     "metadata": {},
     "output_type": "execute_result"
    }
   ],
   "execution_count": 334
  },
  {
   "metadata": {
    "ExecuteTime": {
     "end_time": "2024-06-12T06:19:19.348161Z",
     "start_time": "2024-06-12T06:19:19.340973Z"
    }
   },
   "cell_type": "code",
   "source": "image_exts = ['jpeg','jpg', 'bmp', 'png']",
   "id": "b0d1058ce1652ea8",
   "outputs": [],
   "execution_count": 335
  },
  {
   "metadata": {
    "ExecuteTime": {
     "end_time": "2024-06-12T06:19:19.795021Z",
     "start_time": "2024-06-12T06:19:19.779831Z"
    }
   },
   "cell_type": "code",
   "source": "image_exts",
   "id": "d9708eb4c5a60bdb",
   "outputs": [
    {
     "data": {
      "text/plain": [
       "['jpeg', 'jpg', 'bmp', 'png']"
      ]
     },
     "execution_count": 336,
     "metadata": {},
     "output_type": "execute_result"
    }
   ],
   "execution_count": 336
  },
  {
   "metadata": {
    "ExecuteTime": {
     "end_time": "2024-06-12T06:19:20.344092Z",
     "start_time": "2024-06-12T06:19:20.151245Z"
    }
   },
   "cell_type": "code",
   "source": [
    "for image_class in os.listdir(data_dir):\n",
    "    for image in os.listdir(os.path.join(data_dir, image_class)):\n",
    "        image_path = os.path.join(data_dir, image_class, image)\n",
    "        try:\n",
    "            img = cv2.imread(image_path)\n",
    "            tip = imghdr.what(image_path)\n",
    "            if tip not in image_exts:\n",
    "                print('Image not in ext list {}'.format(image_path))\n",
    "                os.remove(image_path)\n",
    "        except Exception as e:\n",
    "            print('Issue with image {}'.format(image_path))\n",
    "            # os.remove(image_path)"
   ],
   "id": "24bd1dded4a40ad8",
   "outputs": [],
   "execution_count": 337
  },
  {
   "metadata": {},
   "cell_type": "markdown",
   "source": "### Load Data",
   "id": "9d4bbbba3cada0d5"
  },
  {
   "metadata": {
    "ExecuteTime": {
     "end_time": "2024-06-12T06:19:21.340782Z",
     "start_time": "2024-06-12T06:19:21.280169Z"
    }
   },
   "cell_type": "code",
   "source": "tf.data.Dataset",
   "id": "2d4fe6c405ef9882",
   "outputs": [
    {
     "data": {
      "text/plain": [
       "tensorflow.python.data.ops.dataset_ops.DatasetV2"
      ]
     },
     "execution_count": 338,
     "metadata": {},
     "output_type": "execute_result"
    }
   ],
   "execution_count": 338
  },
  {
   "metadata": {
    "ExecuteTime": {
     "end_time": "2024-06-12T06:19:24.365329Z",
     "start_time": "2024-06-12T06:19:22.601761Z"
    }
   },
   "cell_type": "code",
   "source": [
    "# --- 1. Define 'data' ---\n",
    "data = tf.keras.utils.image_dataset_from_directory(\n",
    "    data_dir,\n",
    "    labels='inferred',  # Infers labels from directory structure\n",
    "    label_mode='categorical',  # One-hot encoded labels\n",
    "    image_size=(256, 256),  # Adjust if your images have different dimensions\n",
    "    batch_size=8,  # Adjust based on your memory constraints\n",
    ")"
   ],
   "id": "fa17cec9a05d70db",
   "outputs": [
    {
     "name": "stdout",
     "output_type": "stream",
     "text": [
      "Found 53 files belonging to 4 classes.\n"
     ]
    }
   ],
   "execution_count": 339
  },
  {
   "metadata": {
    "ExecuteTime": {
     "end_time": "2024-06-12T06:19:25.032092Z",
     "start_time": "2024-06-12T06:19:24.503133Z"
    }
   },
   "cell_type": "code",
   "source": "data_iterator = data.as_numpy_iterator()",
   "id": "f1424b468debe67f",
   "outputs": [],
   "execution_count": 340
  },
  {
   "metadata": {
    "ExecuteTime": {
     "end_time": "2024-06-12T06:19:26.802115Z",
     "start_time": "2024-06-12T06:19:26.178740Z"
    }
   },
   "cell_type": "code",
   "source": "batch = data_iterator.next()",
   "id": "5036fb007f0b6128",
   "outputs": [],
   "execution_count": 341
  },
  {
   "metadata": {
    "ExecuteTime": {
     "end_time": "2024-06-12T06:19:27.663751Z",
     "start_time": "2024-06-12T06:19:27.611341Z"
    }
   },
   "cell_type": "code",
   "source": "batch[0].shape",
   "id": "7acf65edf06af2b0",
   "outputs": [
    {
     "data": {
      "text/plain": [
       "(8, 256, 256, 3)"
      ]
     },
     "execution_count": 342,
     "metadata": {},
     "output_type": "execute_result"
    }
   ],
   "execution_count": 342
  },
  {
   "metadata": {
    "ExecuteTime": {
     "end_time": "2024-06-12T06:19:30.381426Z",
     "start_time": "2024-06-12T06:19:29.577490Z"
    }
   },
   "cell_type": "code",
   "source": [
    "class_names = {\n",
    "    0: \"Circular\",\n",
    "    1: \"Intersecting\",\n",
    "    2: \"Normal\",\n",
    "    3: \"Overlapping\",\n",
    "}\n",
    "\n",
    "\n",
    "fig, ax = plt.subplots(ncols=4, figsize=(20, 25))\n",
    "for idx, img in enumerate(batch[0][:4]):\n",
    "    ax[idx].imshow(img.astype(int))\n",
    "    # Convert NumPy array to a hashable type (e.g., integer)\n",
    "    label_index = np.argmax(batch[1][idx])  # Get index of the highest probability class\n",
    "    ax[idx].title.set_text(class_names.get(label_index, \"Unknown\"))\n",
    "\n",
    "    # Add x and y ticks (adjust values based on your image dimensions)\n",
    "    ax[idx].set_xticks(np.arange(0, img.shape[1], 50))  # Ticks every 50 pixels on x-axis\n",
    "    ax[idx].set_yticks(np.arange(0, img.shape[0], 50))  # Ticks every 50 pixels on y-axis\n",
    "\n",
    "    # Optionally, label the ticks with pixel values\n",
    "    ax[idx].set_xticklabels(np.arange(0, img.shape[1], 50))\n",
    "    ax[idx].set_yticklabels(np.arange(0, img.shape[0], 50))\n",
    "\n",
    "plt.show()"
   ],
   "id": "b9d7df7c6837baa6",
   "outputs": [
    {
     "data": {
      "text/plain": [
       "<Figure size 2000x2500 with 4 Axes>"
      ],
      "image/png": "[encoded data removed]"
     },
     "metadata": {},
     "output_type": "display_data"
    }
   ],
   "execution_count": 343
  },
  {
   "metadata": {},
   "cell_type": "markdown",
   "source": "### Scale Data",
   "id": "f80931e505010041"
  },
  {
   "metadata": {
    "ExecuteTime": {
     "end_time": "2024-06-12T06:19:34.630661Z",
     "start_time": "2024-06-12T06:19:34.601605Z"
    }
   },
   "cell_type": "code",
   "source": [
    "data = data.map(lambda x,y: (x/255, y))\n",
    "# important since it helps to perform transformation to convert image min to 0 and max to 1\n",
    "# important while working with data pipeline"
   ],
   "id": "cf95921d3a7a2d41",
   "outputs": [],
   "execution_count": 344
  },
  {
   "metadata": {
    "ExecuteTime": {
     "end_time": "2024-06-12T06:19:36.012779Z",
     "start_time": "2024-06-12T06:19:35.929744Z"
    }
   },
   "cell_type": "code",
   "source": "data.as_numpy_iterator().next()",
   "id": "3666dba7457da7e1",
   "outputs": [
    {
     "data": {
      "text/plain": [
       "(array([[[[0.6901961 , 0.6901961 , 0.6901961 ],\n",
       "          [0.7258961 , 0.7258961 , 0.7258961 ],\n",
       "          [0.85296416, 0.85296416, 0.85296416],\n",
       "          ...,\n",
       "          [0.9710861 , 0.9710861 , 0.9710861 ],\n",
       "          [0.9630438 , 0.9630438 , 0.9630438 ],\n",
       "          [0.9607843 , 0.9607843 , 0.9607843 ]],\n",
       " \n",
       "         [[0.6901961 , 0.6901961 , 0.6901961 ],\n",
       "          [0.7258961 , 0.7258961 , 0.7258961 ],\n",
       "          [0.85296416, 0.85296416, 0.85296416],\n",
       "          ...,\n",
       "          [0.9710861 , 0.9710861 , 0.9710861 ],\n",
       "          [0.9630438 , 0.9630438 , 0.9630438 ],\n",
       "          [0.9607843 , 0.9607843 , 0.9607843 ]],\n",
       " \n",
       "         [[0.6901961 , 0.6901961 , 0.6901961 ],\n",
       "          [0.7258961 , 0.7258961 , 0.7258961 ],\n",
       "          [0.85296416, 0.85296416, 0.85296416],\n",
       "          ...,\n",
       "          [0.9710861 , 0.9710861 , 0.9710861 ],\n",
       "          [0.9630438 , 0.9630438 , 0.9630438 ],\n",
       "          [0.9607843 , 0.9607843 , 0.9607843 ]],\n",
       " \n",
       "         ...,\n",
       " \n",
       "         [[0.7411765 , 0.7411765 , 0.7411765 ],\n",
       "          [0.7710018 , 0.7710018 , 0.7710018 ],\n",
       "          [0.87715995, 0.87715995, 0.87715995],\n",
       "          ...,\n",
       "          [0.9776654 , 0.9776654 , 0.9776654 ],\n",
       "          [0.95836395, 0.95836395, 0.95836395],\n",
       "          [0.9529412 , 0.9529412 , 0.9529412 ]],\n",
       " \n",
       "         [[0.7411765 , 0.7411765 , 0.7411765 ],\n",
       "          [0.7710018 , 0.7710018 , 0.7710018 ],\n",
       "          [0.87715995, 0.87715995, 0.87715995],\n",
       "          ...,\n",
       "          [0.9776654 , 0.9776654 , 0.9776654 ],\n",
       "          [0.95836395, 0.95836395, 0.95836395],\n",
       "          [0.9529412 , 0.9529412 , 0.9529412 ]],\n",
       " \n",
       "         [[0.7411765 , 0.7411765 , 0.7411765 ],\n",
       "          [0.7710018 , 0.7710018 , 0.7710018 ],\n",
       "          [0.87715995, 0.87715995, 0.87715995],\n",
       "          ...,\n",
       "          [0.9776654 , 0.9776654 , 0.9776654 ],\n",
       "          [0.95836395, 0.95836395, 0.95836395],\n",
       "          [0.9529412 , 0.9529412 , 0.9529412 ]]],\n",
       " \n",
       " \n",
       "        [[[0.69411767, 0.69411767, 0.69411767],\n",
       "          [0.7293658 , 0.7293658 , 0.7293658 ],\n",
       "          [0.8548254 , 0.8548254 , 0.8548254 ],\n",
       "          ...,\n",
       "          [0.977068  , 0.977068  , 0.977068  ],\n",
       "          [0.9674173 , 0.9674173 , 0.9674173 ],\n",
       "          [0.9647059 , 0.9647059 , 0.9647059 ]],\n",
       " \n",
       "         [[0.69411767, 0.69411767, 0.69411767],\n",
       "          [0.7293658 , 0.7293658 , 0.7293658 ],\n",
       "          [0.8548254 , 0.8548254 , 0.8548254 ],\n",
       "          ...,\n",
       "          [0.977068  , 0.977068  , 0.977068  ],\n",
       "          [0.9674173 , 0.9674173 , 0.9674173 ],\n",
       "          [0.9647059 , 0.9647059 , 0.9647059 ]],\n",
       " \n",
       "         [[0.69411767, 0.69411767, 0.69411767],\n",
       "          [0.7293658 , 0.7293658 , 0.7293658 ],\n",
       "          [0.8548254 , 0.8548254 , 0.8548254 ],\n",
       "          ...,\n",
       "          [0.977068  , 0.977068  , 0.977068  ],\n",
       "          [0.9674173 , 0.9674173 , 0.9674173 ],\n",
       "          [0.9647059 , 0.9647059 , 0.9647059 ]],\n",
       " \n",
       "         ...,\n",
       " \n",
       "         [[0.6862745 , 0.6862745 , 0.6862745 ],\n",
       "          [0.7215227 , 0.7215227 , 0.7215227 ],\n",
       "          [0.84698224, 0.84698224, 0.84698224],\n",
       "          ...,\n",
       "          [0.9516774 , 0.9516774 , 0.9516774 ],\n",
       "          [0.9404182 , 0.9404182 , 0.9404182 ],\n",
       "          [0.9372549 , 0.9372549 , 0.9372549 ]],\n",
       " \n",
       "         [[0.6862745 , 0.6862745 , 0.6862745 ],\n",
       "          [0.7215227 , 0.7215227 , 0.7215227 ],\n",
       "          [0.84698224, 0.84698224, 0.84698224],\n",
       "          ...,\n",
       "          [0.9516774 , 0.9516774 , 0.9516774 ],\n",
       "          [0.9404182 , 0.9404182 , 0.9404182 ],\n",
       "          [0.9372549 , 0.9372549 , 0.9372549 ]],\n",
       " \n",
       "         [[0.6862745 , 0.6862745 , 0.6862745 ],\n",
       "          [0.7215227 , 0.7215227 , 0.7215227 ],\n",
       "          [0.84698224, 0.84698224, 0.84698224],\n",
       "          ...,\n",
       "          [0.9516774 , 0.9516774 , 0.9516774 ],\n",
       "          [0.9404182 , 0.9404182 , 0.9404182 ],\n",
       "          [0.9372549 , 0.9372549 , 0.9372549 ]]],\n",
       " \n",
       " \n",
       "        [[[0.9793315 , 0.98325306, 0.9774993 ],\n",
       "          [0.99565715, 0.99607843, 0.99565715],\n",
       "          [0.9868953 , 0.99433935, 0.9868953 ],\n",
       "          ...,\n",
       "          [1.        , 1.        , 1.        ],\n",
       "          [1.        , 1.        , 1.        ],\n",
       "          [1.        , 1.        , 1.        ]],\n",
       " \n",
       "         [[0.99089307, 0.9960192 , 0.99089307],\n",
       "          [0.99089307, 0.9973422 , 0.99089307],\n",
       "          [0.9882353 , 1.        , 0.9882353 ],\n",
       "          ...,\n",
       "          [1.        , 1.        , 1.        ],\n",
       "          [1.        , 1.        , 1.        ],\n",
       "          [1.        , 1.        , 1.        ]],\n",
       " \n",
       "         [[0.9882353 , 0.9980996 , 0.9882353 ],\n",
       "          [0.9882353 , 1.        , 0.9882353 ],\n",
       "          [0.9882353 , 1.        , 0.9882353 ],\n",
       "          ...,\n",
       "          [1.        , 1.        , 1.        ],\n",
       "          [1.        , 1.        , 1.        ],\n",
       "          [1.        , 1.        , 1.        ]],\n",
       " \n",
       "         ...,\n",
       " \n",
       "         [[1.        , 1.        , 1.        ],\n",
       "          [1.        , 1.        , 1.        ],\n",
       "          [1.        , 1.        , 1.        ],\n",
       "          ...,\n",
       "          [1.        , 1.        , 1.        ],\n",
       "          [1.        , 1.        , 1.        ],\n",
       "          [1.        , 1.        , 1.        ]],\n",
       " \n",
       "         [[1.        , 1.        , 1.        ],\n",
       "          [1.        , 1.        , 1.        ],\n",
       "          [1.        , 1.        , 1.        ],\n",
       "          ...,\n",
       "          [1.        , 1.        , 1.        ],\n",
       "          [1.        , 1.        , 1.        ],\n",
       "          [1.        , 1.        , 1.        ]],\n",
       " \n",
       "         [[1.        , 1.        , 1.        ],\n",
       "          [1.        , 1.        , 1.        ],\n",
       "          [1.        , 1.        , 1.        ],\n",
       "          ...,\n",
       "          [1.        , 1.        , 1.        ],\n",
       "          [1.        , 1.        , 1.        ],\n",
       "          [1.        , 1.        , 1.        ]]],\n",
       " \n",
       " \n",
       "        ...,\n",
       " \n",
       " \n",
       "        [[[0.73333335, 0.73333335, 0.73333335],\n",
       "          [0.7640625 , 0.7640625 , 0.7640625 ],\n",
       "          [0.8734375 , 0.8734375 , 0.8734375 ],\n",
       "          ...,\n",
       "          [1.        , 1.        , 1.        ],\n",
       "          [1.        , 1.        , 1.        ],\n",
       "          [1.        , 1.        , 1.        ]],\n",
       " \n",
       "         [[0.73333335, 0.73333335, 0.73333335],\n",
       "          [0.7640625 , 0.7640625 , 0.7640625 ],\n",
       "          [0.8734375 , 0.8734375 , 0.8734375 ],\n",
       "          ...,\n",
       "          [1.        , 1.        , 1.        ],\n",
       "          [1.        , 1.        , 1.        ],\n",
       "          [1.        , 1.        , 1.        ]],\n",
       " \n",
       "         [[0.73333335, 0.73333335, 0.73333335],\n",
       "          [0.7640625 , 0.7640625 , 0.7640625 ],\n",
       "          [0.8734375 , 0.8734375 , 0.8734375 ],\n",
       "          ...,\n",
       "          [1.        , 1.        , 1.        ],\n",
       "          [1.        , 1.        , 1.        ],\n",
       "          [1.        , 1.        , 1.        ]],\n",
       " \n",
       "         ...,\n",
       " \n",
       "         [[0.6784314 , 0.6784314 , 0.6784314 ],\n",
       "          [0.7154871 , 0.7154871 , 0.7154871 ],\n",
       "          [0.8473805 , 0.8473805 , 0.8473805 ],\n",
       "          ...,\n",
       "          [0.9787301 , 0.9787301 , 0.9787301 ],\n",
       "          [0.9739047 , 0.9739047 , 0.9739047 ],\n",
       "          [0.972549  , 0.972549  , 0.972549  ]],\n",
       " \n",
       "         [[0.6784314 , 0.6784314 , 0.6784314 ],\n",
       "          [0.7154871 , 0.7154871 , 0.7154871 ],\n",
       "          [0.8473805 , 0.8473805 , 0.8473805 ],\n",
       "          ...,\n",
       "          [0.9787301 , 0.9787301 , 0.9787301 ],\n",
       "          [0.9739047 , 0.9739047 , 0.9739047 ],\n",
       "          [0.972549  , 0.972549  , 0.972549  ]],\n",
       " \n",
       "         [[0.6784314 , 0.6784314 , 0.6784314 ],\n",
       "          [0.7154871 , 0.7154871 , 0.7154871 ],\n",
       "          [0.8473805 , 0.8473805 , 0.8473805 ],\n",
       "          ...,\n",
       "          [0.9787301 , 0.9787301 , 0.9787301 ],\n",
       "          [0.9739047 , 0.9739047 , 0.9739047 ],\n",
       "          [0.972549  , 0.972549  , 0.972549  ]]],\n",
       " \n",
       " \n",
       "        [[[0.72156864, 0.72156864, 0.72156864],\n",
       "          [0.75365347, 0.75365347, 0.75365347],\n",
       "          [0.8678539 , 0.8678539 , 0.8678539 ],\n",
       "          ...,\n",
       "          [0.97952664, 0.97952664, 0.97952664],\n",
       "          [0.96183366, 0.96183366, 0.96183366],\n",
       "          [0.95686275, 0.95686275, 0.95686275]],\n",
       " \n",
       "         [[0.72156864, 0.72156864, 0.72156864],\n",
       "          [0.75365347, 0.75365347, 0.75365347],\n",
       "          [0.8678539 , 0.8678539 , 0.8678539 ],\n",
       "          ...,\n",
       "          [0.97952664, 0.97952664, 0.97952664],\n",
       "          [0.96183366, 0.96183366, 0.96183366],\n",
       "          [0.95686275, 0.95686275, 0.95686275]],\n",
       " \n",
       "         [[0.72156864, 0.72156864, 0.72156864],\n",
       "          [0.75365347, 0.75365347, 0.75365347],\n",
       "          [0.8678539 , 0.8678539 , 0.8678539 ],\n",
       "          ...,\n",
       "          [0.97952664, 0.97952664, 0.97952664],\n",
       "          [0.96183366, 0.96183366, 0.96183366],\n",
       "          [0.95686275, 0.95686275, 0.95686275]],\n",
       " \n",
       "         ...,\n",
       " \n",
       "         [[0.7176471 , 0.7176471 , 0.7176471 ],\n",
       "          [0.7501838 , 0.7501838 , 0.7501838 ],\n",
       "          [0.86599267, 0.86599267, 0.86599267],\n",
       "          ...,\n",
       "          [0.99255514, 0.99255514, 0.99255514],\n",
       "          [0.9861213 , 0.9861213 , 0.9861213 ],\n",
       "          [0.9843137 , 0.9843137 , 0.9843137 ]],\n",
       " \n",
       "         [[0.7176471 , 0.7176471 , 0.7176471 ],\n",
       "          [0.7501838 , 0.7501838 , 0.7501838 ],\n",
       "          [0.86599267, 0.86599267, 0.86599267],\n",
       "          ...,\n",
       "          [0.99255514, 0.99255514, 0.99255514],\n",
       "          [0.9861213 , 0.9861213 , 0.9861213 ],\n",
       "          [0.9843137 , 0.9843137 , 0.9843137 ]],\n",
       " \n",
       "         [[0.7176471 , 0.7176471 , 0.7176471 ],\n",
       "          [0.7501838 , 0.7501838 , 0.7501838 ],\n",
       "          [0.86599267, 0.86599267, 0.86599267],\n",
       "          ...,\n",
       "          [0.99255514, 0.99255514, 0.99255514],\n",
       "          [0.9861213 , 0.9861213 , 0.9861213 ],\n",
       "          [0.9843137 , 0.9843137 , 0.9843137 ]]],\n",
       " \n",
       " \n",
       "        [[[0.64705884, 0.64705884, 0.64705884],\n",
       "          [0.6877298 , 0.6877298 , 0.6877298 ],\n",
       "          [0.8324908 , 0.8324908 , 0.8324908 ],\n",
       "          ...,\n",
       "          [0.98324907, 0.98324907, 0.98324907],\n",
       "          [0.968773  , 0.968773  , 0.968773  ],\n",
       "          [0.9647059 , 0.9647059 , 0.9647059 ]],\n",
       " \n",
       "         [[0.64705884, 0.64705884, 0.64705884],\n",
       "          [0.6877298 , 0.6877298 , 0.6877298 ],\n",
       "          [0.8324908 , 0.8324908 , 0.8324908 ],\n",
       "          ...,\n",
       "          [0.98324907, 0.98324907, 0.98324907],\n",
       "          [0.968773  , 0.968773  , 0.968773  ],\n",
       "          [0.9647059 , 0.9647059 , 0.9647059 ]],\n",
       " \n",
       "         [[0.64705884, 0.64705884, 0.64705884],\n",
       "          [0.6877298 , 0.6877298 , 0.6877298 ],\n",
       "          [0.8324908 , 0.8324908 , 0.8324908 ],\n",
       "          ...,\n",
       "          [0.98324907, 0.98324907, 0.98324907],\n",
       "          [0.968773  , 0.968773  , 0.968773  ],\n",
       "          [0.9647059 , 0.9647059 , 0.9647059 ]],\n",
       " \n",
       "         ...,\n",
       " \n",
       "         [[0.69411767, 0.69411767, 0.69411767],\n",
       "          [0.7293658 , 0.7293658 , 0.7293658 ],\n",
       "          [0.8548254 , 0.8548254 , 0.8548254 ],\n",
       "          ...,\n",
       "          [0.99441636, 0.99441636, 0.99441636],\n",
       "          [0.989591  , 0.989591  , 0.989591  ],\n",
       "          [0.9882353 , 0.9882353 , 0.9882353 ]],\n",
       " \n",
       "         [[0.69411767, 0.69411767, 0.69411767],\n",
       "          [0.7293658 , 0.7293658 , 0.7293658 ],\n",
       "          [0.8548254 , 0.8548254 , 0.8548254 ],\n",
       "          ...,\n",
       "          [0.99441636, 0.99441636, 0.99441636],\n",
       "          [0.989591  , 0.989591  , 0.989591  ],\n",
       "          [0.9882353 , 0.9882353 , 0.9882353 ]],\n",
       " \n",
       "         [[0.69411767, 0.69411767, 0.69411767],\n",
       "          [0.7293658 , 0.7293658 , 0.7293658 ],\n",
       "          [0.8548254 , 0.8548254 , 0.8548254 ],\n",
       "          ...,\n",
       "          [0.99441636, 0.99441636, 0.99441636],\n",
       "          [0.989591  , 0.989591  , 0.989591  ],\n",
       "          [0.9882353 , 0.9882353 , 0.9882353 ]]]], dtype=float32),\n",
       " array([[0., 0., 1., 0.],\n",
       "        [0., 0., 1., 0.],\n",
       "        [0., 0., 0., 1.],\n",
       "        [0., 0., 0., 1.],\n",
       "        [0., 0., 1., 0.],\n",
       "        [0., 0., 1., 0.],\n",
       "        [0., 0., 1., 0.],\n",
       "        [0., 0., 1., 0.]], dtype=float32))"
      ]
     },
     "execution_count": 345,
     "metadata": {},
     "output_type": "execute_result"
    }
   ],
   "execution_count": 345
  },
  {
   "metadata": {},
   "cell_type": "markdown",
   "source": "### Split Data",
   "id": "f737a5541d0c10a5"
  },
  {
   "metadata": {
    "ExecuteTime": {
     "end_time": "2024-06-12T06:19:37.400366Z",
     "start_time": "2024-06-12T06:19:37.391055Z"
    }
   },
   "cell_type": "code",
   "source": "len(data) # num of batches",
   "id": "7721b9913f7cff37",
   "outputs": [
    {
     "data": {
      "text/plain": [
       "7"
      ]
     },
     "execution_count": 346,
     "metadata": {},
     "output_type": "execute_result"
    }
   ],
   "execution_count": 346
  },
  {
   "metadata": {
    "ExecuteTime": {
     "end_time": "2024-06-12T06:19:38.237331Z",
     "start_time": "2024-06-12T06:19:38.189809Z"
    }
   },
   "cell_type": "code",
   "source": [
    "train_size = int(len(data)*.7)-1\n",
    "val_size = int(len(data)*.2)+2\n",
    "test_size = int(len(data)*.1)+1"
   ],
   "id": "bac979a8e2861b07",
   "outputs": [],
   "execution_count": 347
  },
  {
   "metadata": {
    "ExecuteTime": {
     "end_time": "2024-06-12T06:19:39.903798Z",
     "start_time": "2024-06-12T06:19:39.854453Z"
    }
   },
   "cell_type": "code",
   "source": "train_size",
   "id": "2ee0f1086ecb09af",
   "outputs": [
    {
     "data": {
      "text/plain": [
       "3"
      ]
     },
     "execution_count": 348,
     "metadata": {},
     "output_type": "execute_result"
    }
   ],
   "execution_count": 348
  },
  {
   "metadata": {
    "ExecuteTime": {
     "end_time": "2024-06-12T06:19:42.933819Z",
     "start_time": "2024-06-12T06:19:42.701387Z"
    }
   },
   "cell_type": "code",
   "source": [
    "train = data.take(train_size)\n",
    "val = data.skip(train_size).take(val_size)\n",
    "test = data.skip(train_size+val_size).take(test_size)\n",
    "\n",
    "# Established train, test and val partition"
   ],
   "id": "538a86bc24613503",
   "outputs": [],
   "execution_count": 349
  },
  {
   "metadata": {
    "ExecuteTime": {
     "end_time": "2024-06-12T06:19:46.013265Z",
     "start_time": "2024-06-12T06:19:45.175068Z"
    }
   },
   "cell_type": "code",
   "source": [
    "train_labels = np.concatenate([y for x, y in train], axis=0)\n",
    "val_labels = np.concatenate([y for x, y in val], axis=0)\n",
    "test_labels = np.concatenate([y for x, y in test], axis=0)\n",
    "\n",
    "# One-hot encode the labels (if needed for your model)\n",
    "train_labels = tf.keras.utils.to_categorical(train_labels)\n",
    "val_labels = tf.keras.utils.to_categorical(val_labels)\n",
    "test_labels = tf.keras.utils.to_categorical(test_labels)"
   ],
   "id": "3c0f8b2dd9491a35",
   "outputs": [],
   "execution_count": 350
  },
  {
   "metadata": {},
   "cell_type": "markdown",
   "source": "### Building the model",
   "id": "139d9905058e46a2"
  },
  {
   "metadata": {
    "ExecuteTime": {
     "end_time": "2024-06-12T06:19:47.635006Z",
     "start_time": "2024-06-12T06:19:47.629032Z"
    }
   },
   "cell_type": "code",
   "source": [
    "from tensorflow.keras.models import Sequential\n",
    "from tensorflow.keras.layers import Conv2D, MaxPooling2D, Dense, Flatten"
   ],
   "id": "1f0c9a41bbf3b772",
   "outputs": [],
   "execution_count": 351
  },
  {
   "metadata": {
    "ExecuteTime": {
     "end_time": "2024-06-12T06:19:48.433335Z",
     "start_time": "2024-06-12T06:19:48.313021Z"
    }
   },
   "cell_type": "code",
   "source": [
    "num_classes = 4\n",
    "model = tf.keras.models.Sequential()\n",
    "model.add(tf.keras.layers.Conv2D(16, (3,3), 1, activation='relu', input_shape=(256,256,3)))\n",
    "model.add(tf.keras.layers.MaxPooling2D())\n",
    "model.add(tf.keras.layers.Conv2D(32, (3,3), 1, activation='relu'))\n",
    "model.add(tf.keras.layers.MaxPooling2D())\n",
    "model.add(tf.keras.layers.Conv2D(16, (3,3), 1, activation='relu'))\n",
    "model.add(tf.keras.layers.MaxPooling2D())\n",
    "model.add(tf.keras.layers.Flatten())\n",
    "model.add(tf.keras.layers.Dense(256, activation='relu'))\n",
    "model.add(tf.keras.layers.Dense(num_classes, activation='softmax'))"
   ],
   "id": "7a009b60149ea845",
   "outputs": [
    {
     "name": "stderr",
     "output_type": "stream",
     "text": [
      "C:\\Users\\KIIT\\anaconda3\\envs\\ai_env\\Lib\\site-packages\\keras\\src\\layers\\convolutional\\base_conv.py:107: UserWarning: Do not pass an `input_shape`/`input_dim` argument to a layer. When using Sequential models, prefer using an `Input(shape)` object as the first layer in the model instead.\n",
      "  super().__init__(activity_regularizer=activity_regularizer, **kwargs)\n"
     ]
    }
   ],
   "execution_count": 352
  },
  {
   "metadata": {
    "ExecuteTime": {
     "end_time": "2024-06-12T06:19:49.735044Z",
     "start_time": "2024-06-12T06:19:49.723416Z"
    }
   },
   "cell_type": "code",
   "source": [
    "model.compile(optimizer='adam',\n",
    "              loss='categorical_crossentropy',\n",
    "              metrics=['accuracy'])"
   ],
   "id": "edfdf4143d09ce7b",
   "outputs": [],
   "execution_count": 353
  },
  {
   "metadata": {
    "ExecuteTime": {
     "end_time": "2024-06-12T06:19:51.903476Z",
     "start_time": "2024-06-12T06:19:51.846072Z"
    }
   },
   "cell_type": "code",
   "source": "model.summary()",
   "id": "abd5fa2a2feccfc8",
   "outputs": [
    {
     "data": {
      "text/plain": [
       "\u001B[1mModel: \"sequential_7\"\u001B[0m\n"
      ],
      "text/html": [
       "<pre style=\"white-space:pre;overflow-x:auto;line-height:normal;font-family:Menlo,'DejaVu Sans Mono',consolas,'Courier New',monospace\"><span style=\"font-weight: bold\">Model: \"sequential_7\"</span>\n",
       "</pre>\n"
      ]
     },
     "metadata": {},
     "output_type": "display_data"
    },
    {
     "data": {
      "text/plain": [
       "┏━━━━━━━━━━━━━━━━━━━━━━━━━━━━━━━━━┳━━━━━━━━━━━━━━━━━━━━━━━━┳━━━━━━━━━━━━━━━┓\n",
       "┃\u001B[1m \u001B[0m\u001B[1mLayer (type)                   \u001B[0m\u001B[1m \u001B[0m┃\u001B[1m \u001B[0m\u001B[1mOutput Shape          \u001B[0m\u001B[1m \u001B[0m┃\u001B[1m \u001B[0m\u001B[1m      Param #\u001B[0m\u001B[1m \u001B[0m┃\n",
       "┡━━━━━━━━━━━━━━━━━━━━━━━━━━━━━━━━━╇━━━━━━━━━━━━━━━━━━━━━━━━╇━━━━━━━━━━━━━━━┩\n",
       "│ conv2d_21 (\u001B[38;5;33mConv2D\u001B[0m)              │ (\u001B[38;5;45mNone\u001B[0m, \u001B[38;5;34m254\u001B[0m, \u001B[38;5;34m254\u001B[0m, \u001B[38;5;34m16\u001B[0m)   │           \u001B[38;5;34m448\u001B[0m │\n",
       "├─────────────────────────────────┼────────────────────────┼───────────────┤\n",
       "│ max_pooling2d_21 (\u001B[38;5;33mMaxPooling2D\u001B[0m) │ (\u001B[38;5;45mNone\u001B[0m, \u001B[38;5;34m127\u001B[0m, \u001B[38;5;34m127\u001B[0m, \u001B[38;5;34m16\u001B[0m)   │             \u001B[38;5;34m0\u001B[0m │\n",
       "├─────────────────────────────────┼────────────────────────┼───────────────┤\n",
       "│ conv2d_22 (\u001B[38;5;33mConv2D\u001B[0m)              │ (\u001B[38;5;45mNone\u001B[0m, \u001B[38;5;34m125\u001B[0m, \u001B[38;5;34m125\u001B[0m, \u001B[38;5;34m32\u001B[0m)   │         \u001B[38;5;34m4,640\u001B[0m │\n",
       "├─────────────────────────────────┼────────────────────────┼───────────────┤\n",
       "│ max_pooling2d_22 (\u001B[38;5;33mMaxPooling2D\u001B[0m) │ (\u001B[38;5;45mNone\u001B[0m, \u001B[38;5;34m62\u001B[0m, \u001B[38;5;34m62\u001B[0m, \u001B[38;5;34m32\u001B[0m)     │             \u001B[38;5;34m0\u001B[0m │\n",
       "├─────────────────────────────────┼────────────────────────┼───────────────┤\n",
       "│ conv2d_23 (\u001B[38;5;33mConv2D\u001B[0m)              │ (\u001B[38;5;45mNone\u001B[0m, \u001B[38;5;34m60\u001B[0m, \u001B[38;5;34m60\u001B[0m, \u001B[38;5;34m16\u001B[0m)     │         \u001B[38;5;34m4,624\u001B[0m │\n",
       "├─────────────────────────────────┼────────────────────────┼───────────────┤\n",
       "│ max_pooling2d_23 (\u001B[38;5;33mMaxPooling2D\u001B[0m) │ (\u001B[38;5;45mNone\u001B[0m, \u001B[38;5;34m30\u001B[0m, \u001B[38;5;34m30\u001B[0m, \u001B[38;5;34m16\u001B[0m)     │             \u001B[38;5;34m0\u001B[0m │\n",
       "├─────────────────────────────────┼────────────────────────┼───────────────┤\n",
       "│ flatten_7 (\u001B[38;5;33mFlatten\u001B[0m)             │ (\u001B[38;5;45mNone\u001B[0m, \u001B[38;5;34m14400\u001B[0m)          │             \u001B[38;5;34m0\u001B[0m │\n",
       "├─────────────────────────────────┼────────────────────────┼───────────────┤\n",
       "│ dense_14 (\u001B[38;5;33mDense\u001B[0m)                │ (\u001B[38;5;45mNone\u001B[0m, \u001B[38;5;34m256\u001B[0m)            │     \u001B[38;5;34m3,686,656\u001B[0m │\n",
       "├─────────────────────────────────┼────────────────────────┼───────────────┤\n",
       "│ dense_15 (\u001B[38;5;33mDense\u001B[0m)                │ (\u001B[38;5;45mNone\u001B[0m, \u001B[38;5;34m4\u001B[0m)              │         \u001B[38;5;34m1,028\u001B[0m │\n",
       "└─────────────────────────────────┴────────────────────────┴───────────────┘\n"
      ],
      "text/html": [
       "<pre style=\"white-space:pre;overflow-x:auto;line-height:normal;font-family:Menlo,'DejaVu Sans Mono',consolas,'Courier New',monospace\">┏━━━━━━━━━━━━━━━━━━━━━━━━━━━━━━━━━┳━━━━━━━━━━━━━━━━━━━━━━━━┳━━━━━━━━━━━━━━━┓\n",
       "┃<span style=\"font-weight: bold\"> Layer (type)                    </span>┃<span style=\"font-weight: bold\"> Output Shape           </span>┃<span style=\"font-weight: bold\">       Param # </span>┃\n",
       "┡━━━━━━━━━━━━━━━━━━━━━━━━━━━━━━━━━╇━━━━━━━━━━━━━━━━━━━━━━━━╇━━━━━━━━━━━━━━━┩\n",
       "│ conv2d_21 (<span style=\"color: #0087ff; text-decoration-color: #0087ff\">Conv2D</span>)              │ (<span style=\"color: #00d7ff; text-decoration-color: #00d7ff\">None</span>, <span style=\"color: #00af00; text-decoration-color: #00af00\">254</span>, <span style=\"color: #00af00; text-decoration-color: #00af00\">254</span>, <span style=\"color: #00af00; text-decoration-color: #00af00\">16</span>)   │           <span style=\"color: #00af00; text-decoration-color: #00af00\">448</span> │\n",
       "├─────────────────────────────────┼────────────────────────┼───────────────┤\n",
       "│ max_pooling2d_21 (<span style=\"color: #0087ff; text-decoration-color: #0087ff\">MaxPooling2D</span>) │ (<span style=\"color: #00d7ff; text-decoration-color: #00d7ff\">None</span>, <span style=\"color: #00af00; text-decoration-color: #00af00\">127</span>, <span style=\"color: #00af00; text-decoration-color: #00af00\">127</span>, <span style=\"color: #00af00; text-decoration-color: #00af00\">16</span>)   │             <span style=\"color: #00af00; text-decoration-color: #00af00\">0</span> │\n",
       "├─────────────────────────────────┼────────────────────────┼───────────────┤\n",
       "│ conv2d_22 (<span style=\"color: #0087ff; text-decoration-color: #0087ff\">Conv2D</span>)              │ (<span style=\"color: #00d7ff; text-decoration-color: #00d7ff\">None</span>, <span style=\"color: #00af00; text-decoration-color: #00af00\">125</span>, <span style=\"color: #00af00; text-decoration-color: #00af00\">125</span>, <span style=\"color: #00af00; text-decoration-color: #00af00\">32</span>)   │         <span style=\"color: #00af00; text-decoration-color: #00af00\">4,640</span> │\n",
       "├─────────────────────────────────┼────────────────────────┼───────────────┤\n",
       "│ max_pooling2d_22 (<span style=\"color: #0087ff; text-decoration-color: #0087ff\">MaxPooling2D</span>) │ (<span style=\"color: #00d7ff; text-decoration-color: #00d7ff\">None</span>, <span style=\"color: #00af00; text-decoration-color: #00af00\">62</span>, <span style=\"color: #00af00; text-decoration-color: #00af00\">62</span>, <span style=\"color: #00af00; text-decoration-color: #00af00\">32</span>)     │             <span style=\"color: #00af00; text-decoration-color: #00af00\">0</span> │\n",
       "├─────────────────────────────────┼────────────────────────┼───────────────┤\n",
       "│ conv2d_23 (<span style=\"color: #0087ff; text-decoration-color: #0087ff\">Conv2D</span>)              │ (<span style=\"color: #00d7ff; text-decoration-color: #00d7ff\">None</span>, <span style=\"color: #00af00; text-decoration-color: #00af00\">60</span>, <span style=\"color: #00af00; text-decoration-color: #00af00\">60</span>, <span style=\"color: #00af00; text-decoration-color: #00af00\">16</span>)     │         <span style=\"color: #00af00; text-decoration-color: #00af00\">4,624</span> │\n",
       "├─────────────────────────────────┼────────────────────────┼───────────────┤\n",
       "│ max_pooling2d_23 (<span style=\"color: #0087ff; text-decoration-color: #0087ff\">MaxPooling2D</span>) │ (<span style=\"color: #00d7ff; text-decoration-color: #00d7ff\">None</span>, <span style=\"color: #00af00; text-decoration-color: #00af00\">30</span>, <span style=\"color: #00af00; text-decoration-color: #00af00\">30</span>, <span style=\"color: #00af00; text-decoration-color: #00af00\">16</span>)     │             <span style=\"color: #00af00; text-decoration-color: #00af00\">0</span> │\n",
       "├─────────────────────────────────┼────────────────────────┼───────────────┤\n",
       "│ flatten_7 (<span style=\"color: #0087ff; text-decoration-color: #0087ff\">Flatten</span>)             │ (<span style=\"color: #00d7ff; text-decoration-color: #00d7ff\">None</span>, <span style=\"color: #00af00; text-decoration-color: #00af00\">14400</span>)          │             <span style=\"color: #00af00; text-decoration-color: #00af00\">0</span> │\n",
       "├─────────────────────────────────┼────────────────────────┼───────────────┤\n",
       "│ dense_14 (<span style=\"color: #0087ff; text-decoration-color: #0087ff\">Dense</span>)                │ (<span style=\"color: #00d7ff; text-decoration-color: #00d7ff\">None</span>, <span style=\"color: #00af00; text-decoration-color: #00af00\">256</span>)            │     <span style=\"color: #00af00; text-decoration-color: #00af00\">3,686,656</span> │\n",
       "├─────────────────────────────────┼────────────────────────┼───────────────┤\n",
       "│ dense_15 (<span style=\"color: #0087ff; text-decoration-color: #0087ff\">Dense</span>)                │ (<span style=\"color: #00d7ff; text-decoration-color: #00d7ff\">None</span>, <span style=\"color: #00af00; text-decoration-color: #00af00\">4</span>)              │         <span style=\"color: #00af00; text-decoration-color: #00af00\">1,028</span> │\n",
       "└─────────────────────────────────┴────────────────────────┴───────────────┘\n",
       "</pre>\n"
      ]
     },
     "metadata": {},
     "output_type": "display_data"
    },
    {
     "data": {
      "text/plain": [
       "\u001B[1m Total params: \u001B[0m\u001B[38;5;34m3,697,396\u001B[0m (14.10 MB)\n"
      ],
      "text/html": [
       "<pre style=\"white-space:pre;overflow-x:auto;line-height:normal;font-family:Menlo,'DejaVu Sans Mono',consolas,'Courier New',monospace\"><span style=\"font-weight: bold\"> Total params: </span><span style=\"color: #00af00; text-decoration-color: #00af00\">3,697,396</span> (14.10 MB)\n",
       "</pre>\n"
      ]
     },
     "metadata": {},
     "output_type": "display_data"
    },
    {
     "data": {
      "text/plain": [
       "\u001B[1m Trainable params: \u001B[0m\u001B[38;5;34m3,697,396\u001B[0m (14.10 MB)\n"
      ],
      "text/html": [
       "<pre style=\"white-space:pre;overflow-x:auto;line-height:normal;font-family:Menlo,'DejaVu Sans Mono',consolas,'Courier New',monospace\"><span style=\"font-weight: bold\"> Trainable params: </span><span style=\"color: #00af00; text-decoration-color: #00af00\">3,697,396</span> (14.10 MB)\n",
       "</pre>\n"
      ]
     },
     "metadata": {},
     "output_type": "display_data"
    },
    {
     "data": {
      "text/plain": [
       "\u001B[1m Non-trainable params: \u001B[0m\u001B[38;5;34m0\u001B[0m (0.00 B)\n"
      ],
      "text/html": [
       "<pre style=\"white-space:pre;overflow-x:auto;line-height:normal;font-family:Menlo,'DejaVu Sans Mono',consolas,'Courier New',monospace\"><span style=\"font-weight: bold\"> Non-trainable params: </span><span style=\"color: #00af00; text-decoration-color: #00af00\">0</span> (0.00 B)\n",
       "</pre>\n"
      ]
     },
     "metadata": {},
     "output_type": "display_data"
    }
   ],
   "execution_count": 354
  },
  {
   "metadata": {
    "ExecuteTime": {
     "end_time": "2024-06-12T06:19:53.339518Z",
     "start_time": "2024-06-12T06:19:53.335044Z"
    }
   },
   "cell_type": "code",
   "source": "logdir = 'logs'",
   "id": "852f20a55c8c4831",
   "outputs": [],
   "execution_count": 355
  },
  {
   "metadata": {
    "ExecuteTime": {
     "end_time": "2024-06-12T06:19:54.752854Z",
     "start_time": "2024-06-12T06:19:54.739981Z"
    }
   },
   "cell_type": "code",
   "source": "tensorboard_callback = tf.keras.callbacks.TensorBoard(log_dir=logdir)",
   "id": "7afaba3461ab9f26",
   "outputs": [],
   "execution_count": 356
  },
  {
   "metadata": {
    "ExecuteTime": {
     "end_time": "2024-06-12T06:20:16.018577Z",
     "start_time": "2024-06-12T06:19:55.750643Z"
    }
   },
   "cell_type": "code",
   "source": "hist = model.fit(train, epochs=20, validation_data=val, callbacks=[tensorboard_callback])",
   "id": "b9a43dbca7eceeb2",
   "outputs": [
    {
     "name": "stdout",
     "output_type": "stream",
     "text": [
      "Epoch 1/20\n",
      "\u001B[1m3/3\u001B[0m \u001B[32m━━━━━━━━━━━━━━━━━━━━\u001B[0m\u001B[37m\u001B[0m \u001B[1m11s\u001B[0m 308ms/step - accuracy: 0.3229 - loss: 1.7233 - val_accuracy: 0.0833 - val_loss: 1.3643\n",
      "Epoch 2/20\n",
      "\u001B[1m3/3\u001B[0m \u001B[32m━━━━━━━━━━━━━━━━━━━━\u001B[0m\u001B[37m\u001B[0m \u001B[1m1s\u001B[0m 179ms/step - accuracy: 0.2240 - loss: 1.7212 - val_accuracy: 0.2917 - val_loss: 1.2910\n",
      "Epoch 3/20\n",
      "\u001B[1m3/3\u001B[0m \u001B[32m━━━━━━━━━━━━━━━━━━━━\u001B[0m\u001B[37m\u001B[0m \u001B[1m1s\u001B[0m 178ms/step - accuracy: 0.4010 - loss: 1.2656 - val_accuracy: 0.6250 - val_loss: 1.1894\n",
      "Epoch 4/20\n",
      "\u001B[1m3/3\u001B[0m \u001B[32m━━━━━━━━━━━━━━━━━━━━\u001B[0m\u001B[37m\u001B[0m \u001B[1m1s\u001B[0m 170ms/step - accuracy: 0.5260 - loss: 1.1921 - val_accuracy: 0.7500 - val_loss: 1.0217\n",
      "Epoch 5/20\n",
      "\u001B[1m3/3\u001B[0m \u001B[32m━━━━━━━━━━━━━━━━━━━━\u001B[0m\u001B[37m\u001B[0m \u001B[1m0s\u001B[0m 168ms/step - accuracy: 0.5469 - loss: 1.0509 - val_accuracy: 0.4167 - val_loss: 1.0535\n",
      "Epoch 6/20\n",
      "\u001B[1m3/3\u001B[0m \u001B[32m━━━━━━━━━━━━━━━━━━━━\u001B[0m\u001B[37m\u001B[0m \u001B[1m1s\u001B[0m 174ms/step - accuracy: 0.6042 - loss: 1.0354 - val_accuracy: 0.8750 - val_loss: 0.7517\n",
      "Epoch 7/20\n",
      "\u001B[1m3/3\u001B[0m \u001B[32m━━━━━━━━━━━━━━━━━━━━\u001B[0m\u001B[37m\u001B[0m \u001B[1m1s\u001B[0m 172ms/step - accuracy: 0.7708 - loss: 0.8120 - val_accuracy: 0.8333 - val_loss: 0.5754\n",
      "Epoch 8/20\n",
      "\u001B[1m3/3\u001B[0m \u001B[32m━━━━━━━━━━━━━━━━━━━━\u001B[0m\u001B[37m\u001B[0m \u001B[1m0s\u001B[0m 168ms/step - accuracy: 0.8958 - loss: 0.4248 - val_accuracy: 0.8333 - val_loss: 0.4836\n",
      "Epoch 9/20\n",
      "\u001B[1m3/3\u001B[0m \u001B[32m━━━━━━━━━━━━━━━━━━━━\u001B[0m\u001B[37m\u001B[0m \u001B[1m0s\u001B[0m 167ms/step - accuracy: 0.7865 - loss: 0.7218 - val_accuracy: 0.9167 - val_loss: 0.3135\n",
      "Epoch 10/20\n",
      "\u001B[1m3/3\u001B[0m \u001B[32m━━━━━━━━━━━━━━━━━━━━\u001B[0m\u001B[37m\u001B[0m \u001B[1m0s\u001B[0m 168ms/step - accuracy: 0.8854 - loss: 0.4189 - val_accuracy: 0.7500 - val_loss: 0.6296\n",
      "Epoch 11/20\n",
      "\u001B[1m3/3\u001B[0m \u001B[32m━━━━━━━━━━━━━━━━━━━━\u001B[0m\u001B[37m\u001B[0m \u001B[1m0s\u001B[0m 169ms/step - accuracy: 0.8542 - loss: 0.5002 - val_accuracy: 0.9167 - val_loss: 0.4862\n",
      "Epoch 12/20\n",
      "\u001B[1m3/3\u001B[0m \u001B[32m━━━━━━━━━━━━━━━━━━━━\u001B[0m\u001B[37m\u001B[0m \u001B[1m0s\u001B[0m 167ms/step - accuracy: 0.8958 - loss: 0.5114 - val_accuracy: 0.9583 - val_loss: 0.2943\n",
      "Epoch 13/20\n",
      "\u001B[1m3/3\u001B[0m \u001B[32m━━━━━━━━━━━━━━━━━━━━\u001B[0m\u001B[37m\u001B[0m \u001B[1m0s\u001B[0m 169ms/step - accuracy: 0.9427 - loss: 0.2854 - val_accuracy: 0.9167 - val_loss: 0.2244\n",
      "Epoch 14/20\n",
      "\u001B[1m3/3\u001B[0m \u001B[32m━━━━━━━━━━━━━━━━━━━━\u001B[0m\u001B[37m\u001B[0m \u001B[1m0s\u001B[0m 168ms/step - accuracy: 0.8073 - loss: 0.4084 - val_accuracy: 0.9583 - val_loss: 0.3428\n",
      "Epoch 15/20\n",
      "\u001B[1m3/3\u001B[0m \u001B[32m━━━━━━━━━━━━━━━━━━━━\u001B[0m\u001B[37m\u001B[0m \u001B[1m0s\u001B[0m 164ms/step - accuracy: 0.9792 - loss: 0.1496 - val_accuracy: 1.0000 - val_loss: 0.1043\n",
      "Epoch 16/20\n",
      "\u001B[1m3/3\u001B[0m \u001B[32m━━━━━━━━━━━━━━━━━━━━\u001B[0m\u001B[37m\u001B[0m \u001B[1m0s\u001B[0m 168ms/step - accuracy: 1.0000 - loss: 0.0846 - val_accuracy: 0.9167 - val_loss: 0.1358\n",
      "Epoch 17/20\n",
      "\u001B[1m3/3\u001B[0m \u001B[32m━━━━━━━━━━━━━━━━━━━━\u001B[0m\u001B[37m\u001B[0m \u001B[1m1s\u001B[0m 176ms/step - accuracy: 1.0000 - loss: 0.0338 - val_accuracy: 0.9583 - val_loss: 0.1201\n",
      "Epoch 18/20\n",
      "\u001B[1m3/3\u001B[0m \u001B[32m━━━━━━━━━━━━━━━━━━━━\u001B[0m\u001B[37m\u001B[0m \u001B[1m0s\u001B[0m 170ms/step - accuracy: 0.9427 - loss: 0.1869 - val_accuracy: 0.9583 - val_loss: 0.0504\n",
      "Epoch 19/20\n",
      "\u001B[1m3/3\u001B[0m \u001B[32m━━━━━━━━━━━━━━━━━━━━\u001B[0m\u001B[37m\u001B[0m \u001B[1m1s\u001B[0m 179ms/step - accuracy: 0.9792 - loss: 0.0582 - val_accuracy: 1.0000 - val_loss: 0.0313\n",
      "Epoch 20/20\n",
      "\u001B[1m3/3\u001B[0m \u001B[32m━━━━━━━━━━━━━━━━━━━━\u001B[0m\u001B[37m\u001B[0m \u001B[1m0s\u001B[0m 164ms/step - accuracy: 1.0000 - loss: 0.0401 - val_accuracy: 0.9583 - val_loss: 0.1730\n"
     ]
    }
   ],
   "execution_count": 357
  },
  {
   "metadata": {
    "ExecuteTime": {
     "end_time": "2024-06-12T06:20:20.203887Z",
     "start_time": "2024-06-12T06:20:20.192837Z"
    }
   },
   "cell_type": "code",
   "source": "hist.history",
   "id": "6cde01bd7b338a17",
   "outputs": [
    {
     "data": {
      "text/plain": [
       "{'accuracy': [0.3333333432674408,\n",
       "  0.2916666567325592,\n",
       "  0.4583333432674408,\n",
       "  0.4583333432674408,\n",
       "  0.5,\n",
       "  0.7083333134651184,\n",
       "  0.7916666865348816,\n",
       "  0.9166666865348816,\n",
       "  0.6666666865348816,\n",
       "  0.8333333134651184,\n",
       "  0.8333333134651184,\n",
       "  0.9166666865348816,\n",
       "  0.9166666865348816,\n",
       "  0.8333333134651184,\n",
       "  0.9583333134651184,\n",
       "  1.0,\n",
       "  1.0,\n",
       "  0.9166666865348816,\n",
       "  0.9583333134651184,\n",
       "  1.0],\n",
       " 'loss': [1.87625253200531,\n",
       "  1.569902777671814,\n",
       "  1.266188621520996,\n",
       "  1.232704758644104,\n",
       "  1.0626877546310425,\n",
       "  0.9608448147773743,\n",
       "  0.7777302265167236,\n",
       "  0.3705701529979706,\n",
       "  1.047926425933838,\n",
       "  0.5195831656455994,\n",
       "  0.4955767095088959,\n",
       "  0.4582575857639313,\n",
       "  0.29686522483825684,\n",
       "  0.39403581619262695,\n",
       "  0.16280080378055573,\n",
       "  0.08215004205703735,\n",
       "  0.03836531564593315,\n",
       "  0.2721485495567322,\n",
       "  0.08548132330179214,\n",
       "  0.02672959864139557],\n",
       " 'val_accuracy': [0.0833333358168602,\n",
       "  0.2916666567325592,\n",
       "  0.625,\n",
       "  0.75,\n",
       "  0.4166666567325592,\n",
       "  0.875,\n",
       "  0.8333333134651184,\n",
       "  0.8333333134651184,\n",
       "  0.9166666865348816,\n",
       "  0.75,\n",
       "  0.9166666865348816,\n",
       "  0.9583333134651184,\n",
       "  0.9166666865348816,\n",
       "  0.9583333134651184,\n",
       "  1.0,\n",
       "  0.9166666865348816,\n",
       "  0.9583333134651184,\n",
       "  0.9583333134651184,\n",
       "  1.0,\n",
       "  0.9583333134651184],\n",
       " 'val_loss': [1.3642630577087402,\n",
       "  1.290952205657959,\n",
       "  1.1894336938858032,\n",
       "  1.0217326879501343,\n",
       "  1.0534745454788208,\n",
       "  0.7516558766365051,\n",
       "  0.5753559470176697,\n",
       "  0.48360002040863037,\n",
       "  0.3135046064853668,\n",
       "  0.6296407580375671,\n",
       "  0.4861547648906708,\n",
       "  0.29427623748779297,\n",
       "  0.22437633574008942,\n",
       "  0.34277400374412537,\n",
       "  0.10433653742074966,\n",
       "  0.13577842712402344,\n",
       "  0.12014645338058472,\n",
       "  0.050350409001111984,\n",
       "  0.0312981978058815,\n",
       "  0.17303673923015594]}"
      ]
     },
     "execution_count": 358,
     "metadata": {},
     "output_type": "execute_result"
    }
   ],
   "execution_count": 358
  },
  {
   "metadata": {
    "ExecuteTime": {
     "end_time": "2024-06-12T06:20:28.164293Z",
     "start_time": "2024-06-12T06:20:26.049077Z"
    }
   },
   "cell_type": "code",
   "source": [
    "fig = plt.figure()\n",
    "plt.plot(hist.history['loss'], color='teal', label='loss')\n",
    "plt.plot(hist.history['val_loss'], color='orange', label='val_loss')\n",
    "fig.suptitle('Loss', fontsize=20)\n",
    "plt.legend(loc=\"upper left\")\n",
    "plt.show()"
   ],
   "id": "eee165a7b6a8729c",
   "outputs": [
    {
     "data": {
      "text/plain": [
       "<Figure size 640x480 with 1 Axes>"
      ],
      "image/png": "[encoded data removed]"
     },
     "metadata": {},
     "output_type": "display_data"
    }
   ],
   "execution_count": 359
  },
  {
   "metadata": {
    "ExecuteTime": {
     "end_time": "2024-06-12T06:20:33.522955Z",
     "start_time": "2024-06-12T06:20:33.354124Z"
    }
   },
   "cell_type": "code",
   "source": [
    "fig = plt.figure()\n",
    "plt.plot(hist.history['accuracy'], color='teal', label='accuracy')\n",
    "plt.plot(hist.history['val_accuracy'], color='orange', label='val_accuracy')\n",
    "fig.suptitle('Accuracy', fontsize=20)\n",
    "plt.legend(loc=\"upper left\")\n",
    "plt.show()"
   ],
   "id": "46f7957a82bb623d",
   "outputs": [
    {
     "data": {
      "text/plain": [
       "<Figure size 640x480 with 1 Axes>"
      ],
      "image/png": "[encoded data removed]"
     },
     "metadata": {},
     "output_type": "display_data"
    }
   ],
   "execution_count": 360
  },
  {
   "metadata": {},
   "cell_type": "markdown",
   "source": "### Evaluation",
   "id": "776cc5bab596c4ad"
  },
  {
   "metadata": {
    "ExecuteTime": {
     "end_time": "2024-06-12T06:20:36.437438Z",
     "start_time": "2024-06-12T06:20:36.430879Z"
    }
   },
   "cell_type": "code",
   "source": "from tensorflow.keras.metrics import Precision, Recall, BinaryAccuracy",
   "id": "d017c13a5c899f7d",
   "outputs": [],
   "execution_count": 361
  },
  {
   "metadata": {
    "ExecuteTime": {
     "end_time": "2024-06-12T06:20:37.494867Z",
     "start_time": "2024-06-12T06:20:37.471576Z"
    }
   },
   "cell_type": "code",
   "source": [
    "# Establishing instances\n",
    "pre = Precision()\n",
    "re = Recall()\n",
    "acc = BinaryAccuracy()"
   ],
   "id": "ff991a3eb179c570",
   "outputs": [],
   "execution_count": 362
  },
  {
   "metadata": {
    "ExecuteTime": {
     "end_time": "2024-06-12T06:20:38.963426Z",
     "start_time": "2024-06-12T06:20:38.501827Z"
    }
   },
   "cell_type": "code",
   "source": [
    "for batch in test.as_numpy_iterator():\n",
    "    X, y = batch\n",
    "    yhat = model.predict(X)\n",
    "    pre.update_state(y, yhat)\n",
    "    re.update_state(y, yhat)\n",
    "    acc.update_state(y, yhat)"
   ],
   "id": "a71887bd5590185e",
   "outputs": [
    {
     "name": "stdout",
     "output_type": "stream",
     "text": [
      "\u001B[1m1/1\u001B[0m \u001B[32m━━━━━━━━━━━━━━━━━━━━\u001B[0m\u001B[37m\u001B[0m \u001B[1m0s\u001B[0m 236ms/step\n"
     ]
    }
   ],
   "execution_count": 363
  },
  {
   "metadata": {
    "ExecuteTime": {
     "end_time": "2024-06-12T06:20:39.461857Z",
     "start_time": "2024-06-12T06:20:39.445053Z"
    }
   },
   "cell_type": "code",
   "source": "print(f'Precision:{pre.result()}, Recall:{re.result().numpy()}, Acuraccy:{acc.result().numpy}')",
   "id": "e2fbc90c3bc151c8",
   "outputs": [
    {
     "name": "stdout",
     "output_type": "stream",
     "text": [
      "Precision:1.0, Recall:1.0, Acuraccy:<bound method _EagerTensorBase.numpy of <tf.Tensor: shape=(), dtype=float32, numpy=1.0>>\n"
     ]
    }
   ],
   "execution_count": 364
  },
  {
   "metadata": {},
   "cell_type": "markdown",
   "source": "### Testing",
   "id": "bb819c354242bdba"
  },
  {
   "metadata": {
    "ExecuteTime": {
     "end_time": "2024-06-12T06:20:43.500093Z",
     "start_time": "2024-06-12T06:20:43.461802Z"
    }
   },
   "cell_type": "code",
   "source": "import cv2",
   "id": "76f8eb355cf42a30",
   "outputs": [],
   "execution_count": 365
  },
  {
   "metadata": {
    "ExecuteTime": {
     "end_time": "2024-06-12T06:23:00.668047Z",
     "start_time": "2024-06-12T06:23:00.001368Z"
    }
   },
   "cell_type": "code",
   "source": [
    "# Load and preprocess the image\n",
    "img = cv2.imread('intersecting.jpeg')\n",
    "img = cv2.cvtColor(img, cv2.COLOR_BGR2RGB)  # Convert from BGR to RGB\n",
    "resize = tf.image.resize(img, (256,256))\n",
    "plt.imshow(resize.numpy().astype(int))\n",
    "plt.show()\n",
    "\n",
    "# Predict the class\n",
    "predict = model.predict(np.expand_dims(resize/255, 0))\n",
    "\n",
    "class_names = ['Circular', 'Intersecting', 'Normal', 'Overlapping']\n",
    "predicted_class = np.argmax(predict)\n",
    "\n",
    "print(f'Image belong to the {class_names[predicted_class]} class')"
   ],
   "id": "af2eb9b88aa485aa",
   "outputs": [
    {
     "data": {
      "text/plain": [
       "<Figure size 640x480 with 1 Axes>"
      ],
      "image/png": "[encoded data removed]"
     },
     "metadata": {},
     "output_type": "display_data"
    },
    {
     "name": "stdout",
     "output_type": "stream",
     "text": [
      "\u001B[1m1/1\u001B[0m \u001B[32m━━━━━━━━━━━━━━━━━━━━\u001B[0m\u001B[37m\u001B[0m \u001B[1m0s\u001B[0m 92ms/step\n",
      "Image belong to the Intersecting class\n"
     ]
    }
   ],
   "execution_count": 368
  },
  {
   "metadata": {},
   "cell_type": "markdown",
   "source": "### Saving the model",
   "id": "2cd9efa0f5af772d"
  },
  {
   "metadata": {
    "ExecuteTime": {
     "end_time": "2024-06-12T06:23:16.435993Z",
     "start_time": "2024-06-12T06:23:16.430816Z"
    }
   },
   "cell_type": "code",
   "source": "from tensorflow.keras.models import load_model",
   "id": "5888971318ad4f9f",
   "outputs": [],
   "execution_count": 372
  },
  {
   "metadata": {
    "ExecuteTime": {
     "end_time": "2024-06-11T08:10:50.184421Z",
     "start_time": "2024-06-11T08:10:49.773452Z"
    }
   },
   "cell_type": "code",
   "source": "model.save('imageclassifier_4.keras')",
   "id": "78474d6688359318",
   "outputs": [],
   "execution_count": 323
  },
  {
   "metadata": {
    "ExecuteTime": {
     "end_time": "2024-06-12T06:23:35.082168Z",
     "start_time": "2024-06-12T06:23:33.645015Z"
    }
   },
   "cell_type": "code",
   "source": "prediction = tf.keras.models.load_model('imageclassifier_4.keras')",
   "id": "303ac6d46695e101",
   "outputs": [],
   "execution_count": 373
  },
  {
   "metadata": {
    "ExecuteTime": {
     "end_time": "2024-06-12T06:23:35.843888Z",
     "start_time": "2024-06-12T06:23:35.836472Z"
    }
   },
   "cell_type": "code",
   "source": "prediction",
   "id": "f0c807fe8b5a9c07",
   "outputs": [
    {
     "data": {
      "text/plain": [
       "<Sequential name=sequential_6, built=True>"
      ]
     },
     "execution_count": 374,
     "metadata": {},
     "output_type": "execute_result"
    }
   ],
   "execution_count": 374
  },
  {
   "metadata": {
    "ExecuteTime": {
     "end_time": "2024-06-12T06:23:37.689237Z",
     "start_time": "2024-06-12T06:23:37.236481Z"
    }
   },
   "cell_type": "code",
   "source": "yhatnew = prediction.predict(np.expand_dims(resize/255, 0))",
   "id": "271cffe1755d66c1",
   "outputs": [
    {
     "name": "stdout",
     "output_type": "stream",
     "text": [
      "\u001B[1m1/1\u001B[0m \u001B[32m━━━━━━━━━━━━━━━━━━━━\u001B[0m\u001B[37m\u001B[0m \u001B[1m0s\u001B[0m 351ms/step\n"
     ]
    }
   ],
   "execution_count": 375
  },
  {
   "metadata": {
    "ExecuteTime": {
     "end_time": "2024-06-12T06:23:38.446571Z",
     "start_time": "2024-06-12T06:23:38.441024Z"
    }
   },
   "cell_type": "code",
   "source": [
    "class_names = ['Circular', 'Intersecting', 'Normal', 'Overlapping']\n",
    "predicted_class = np.argmax(predict)\n",
    "\n",
    "print(f'Image belong to the {class_names[predicted_class]} class')"
   ],
   "id": "a4ddeaa96fc36ca8",
   "outputs": [
    {
     "name": "stdout",
     "output_type": "stream",
     "text": [
      "Image belong to the Intersecting class\n"
     ]
    }
   ],
   "execution_count": 376
  },
  {
   "metadata": {},
   "cell_type": "code",
   "outputs": [],
   "execution_count": null,
   "source": "",
   "id": "6ebee00928a9e444"
  }
 ],
 "metadata": {
  "kernelspec": {
   "display_name": "Python 3",
   "language": "python",
   "name": "python3"
  },
  "language_info": {
   "codemirror_mode": {
    "name": "ipython",
    "version": 2
   },
   "file_extension": ".py",
   "mimetype": "text/x-python",
   "name": "python",
   "nbconvert_exporter": "python",
   "pygments_lexer": "ipython2",
   "version": "2.7.6"
  }
 },
 "nbformat": 4,
 "nbformat_minor": 5
}
