{
 "cells": [
  {
   "cell_type": "code",
   "execution_count": 3,
   "id": "initial_id",
   "metadata": {
    "ExecuteTime": {
     "end_time": "2024-06-28T11:51:18.168330Z",
     "start_time": "2024-06-28T11:51:02.810702Z"
    }
   },
   "outputs": [],
   "source": [
    "import tensorflow as tf\n",
    "import os"
   ]
  },
  {
   "cell_type": "code",
   "execution_count": 2,
   "id": "1f08eadb2ffe8583",
   "metadata": {
    "ExecuteTime": {
     "end_time": "2024-06-25T10:37:36.675507Z",
     "start_time": "2024-06-25T10:37:36.647346Z"
    }
   },
   "outputs": [
    {
     "data": {
      "text/plain": [
       "[PhysicalDevice(name='/physical_device:CPU:0', device_type='CPU')]"
      ]
     },
     "execution_count": 2,
     "metadata": {},
     "output_type": "execute_result"
    }
   ],
   "source": [
    "cpus = tf.config.experimental.list_physical_devices('CPU')\n",
    "cpus"
   ]
  },
  {
   "cell_type": "code",
   "execution_count": 3,
   "id": "d84794e73cc8507",
   "metadata": {
    "ExecuteTime": {
     "end_time": "2024-06-25T10:37:39.495810Z",
     "start_time": "2024-06-25T10:37:39.486474Z"
    }
   },
   "outputs": [],
   "source": [
    "cpus = tf.config.experimental.list_physical_devices('GPU')\n",
    "for cpu in cpus:\n",
    "    tf.config.experimental.set_memory_growth(cpu, True)"
   ]
  },
  {
   "cell_type": "code",
   "execution_count": 4,
   "id": "92bb07d410e9c49a",
   "metadata": {
    "ExecuteTime": {
     "end_time": "2024-06-25T10:37:42.290379Z",
     "start_time": "2024-06-25T10:37:40.563712Z"
    }
   },
   "outputs": [
    {
     "name": "stderr",
     "output_type": "stream",
     "text": [
      "C:\\Users\\KIIT\\AppData\\Local\\Temp\\ipykernel_31772\\3538499753.py:2: DeprecationWarning: 'imghdr' is deprecated and slated for removal in Python 3.13\n",
      "  import imghdr\n"
     ]
    }
   ],
   "source": [
    "import cv2\n",
    "import imghdr\n",
    "import matplotlib.pyplot as plt\n",
    "import numpy as np"
   ]
  },
  {
   "cell_type": "code",
   "execution_count": 5,
   "id": "9c139bda03ceb841",
   "metadata": {
    "ExecuteTime": {
     "end_time": "2024-06-25T10:37:42.308313Z",
     "start_time": "2024-06-25T10:37:42.296943Z"
    }
   },
   "outputs": [],
   "source": [
    "data_dir = 'dataset'"
   ]
  },
  {
   "cell_type": "code",
   "execution_count": 7,
   "id": "82e3f381b426ab0f",
   "metadata": {
    "ExecuteTime": {
     "end_time": "2024-06-25T10:37:53.624581Z",
     "start_time": "2024-06-25T10:37:53.608024Z"
    }
   },
   "outputs": [
    {
     "data": {
      "text/plain": [
       "['2.png',\n",
       " '3-resized.png',\n",
       " '3.png',\n",
       " '4-resized.png',\n",
       " '4-transformed.png',\n",
       " '4.png',\n",
       " 'rect_bar_output.jpg',\n",
       " 'rect_CAB_output.jpg',\n",
       " 'row_16.png',\n",
       " 'row_17.png',\n",
       " 'row_18.png',\n",
       " 'row_19.png',\n",
       " 'row_20.png',\n",
       " 'row_21.png',\n",
       " 'row_22.png',\n",
       " 'row_23.png',\n",
       " 'row_31.png',\n",
       " 'row_32.png',\n",
       " 'row_33.png']"
      ]
     },
     "execution_count": 7,
     "metadata": {},
     "output_type": "execute_result"
    }
   ],
   "source": [
    "os.listdir(os.path.join(data_dir, 'overlapping'))"
   ]
  },
  {
   "cell_type": "code",
   "execution_count": 8,
   "id": "b0d1058ce1652ea8",
   "metadata": {
    "ExecuteTime": {
     "end_time": "2024-06-25T10:37:55.206011Z",
     "start_time": "2024-06-25T10:37:55.197462Z"
    }
   },
   "outputs": [],
   "source": [
    "image_exts = ['jpeg','jpg', 'bmp', 'png']"
   ]
  },
  {
   "cell_type": "code",
   "execution_count": 9,
   "id": "d9708eb4c5a60bdb",
   "metadata": {
    "ExecuteTime": {
     "end_time": "2024-06-25T10:37:56.401435Z",
     "start_time": "2024-06-25T10:37:56.387182Z"
    }
   },
   "outputs": [
    {
     "data": {
      "text/plain": [
       "['jpeg', 'jpg', 'bmp', 'png']"
      ]
     },
     "execution_count": 9,
     "metadata": {},
     "output_type": "execute_result"
    }
   ],
   "source": [
    "image_exts"
   ]
  },
  {
   "cell_type": "code",
   "execution_count": 10,
   "id": "24bd1dded4a40ad8",
   "metadata": {
    "ExecuteTime": {
     "end_time": "2024-06-25T10:37:57.421642Z",
     "start_time": "2024-06-25T10:37:57.235667Z"
    }
   },
   "outputs": [],
   "source": [
    "for image_class in os.listdir(data_dir):\n",
    "    for image in os.listdir(os.path.join(data_dir, image_class)):\n",
    "        image_path = os.path.join(data_dir, image_class, image)\n",
    "        try:\n",
    "            img = cv2.imread(image_path)\n",
    "            tip = imghdr.what(image_path)\n",
    "            if tip not in image_exts:\n",
    "                print('Image not in ext list {}'.format(image_path))\n",
    "                os.remove(image_path)\n",
    "        except Exception as e:\n",
    "            print('Issue with image {}'.format(image_path))\n",
    "            # os.remove(image_path)"
   ]
  },
  {
   "cell_type": "markdown",
   "id": "9d4bbbba3cada0d5",
   "metadata": {},
   "source": [
    "### Load Data"
   ]
  },
  {
   "cell_type": "code",
   "execution_count": 50,
   "id": "2d4fe6c405ef9882",
   "metadata": {
    "ExecuteTime": {
     "end_time": "2024-06-25T10:42:32.672856Z",
     "start_time": "2024-06-25T10:42:32.656686Z"
    }
   },
   "outputs": [
    {
     "data": {
      "text/plain": [
       "tensorflow.python.data.ops.dataset_ops.DatasetV2"
      ]
     },
     "execution_count": 50,
     "metadata": {},
     "output_type": "execute_result"
    }
   ],
   "source": [
    "tf.data.Dataset"
   ]
  },
  {
   "cell_type": "code",
   "execution_count": 51,
   "id": "fa17cec9a05d70db",
   "metadata": {
    "ExecuteTime": {
     "end_time": "2024-06-25T10:42:33.549130Z",
     "start_time": "2024-06-25T10:42:33.363920Z"
    }
   },
   "outputs": [
    {
     "name": "stdout",
     "output_type": "stream",
     "text": [
      "Found 63 files belonging to 4 classes.\n"
     ]
    }
   ],
   "source": [
    "# --- 1. Define 'data' ---\n",
    "data = tf.keras.utils.image_dataset_from_directory(\n",
    "    data_dir,\n",
    "    labels='inferred', \n",
    "    label_mode='categorical',\n",
    "    image_size=(256, 256),  \n",
    "    batch_size=8, \n",
    ")"
   ]
  },
  {
   "cell_type": "code",
   "execution_count": 52,
   "id": "f1424b468debe67f",
   "metadata": {
    "ExecuteTime": {
     "end_time": "2024-06-25T10:42:34.766100Z",
     "start_time": "2024-06-25T10:42:34.710127Z"
    }
   },
   "outputs": [],
   "source": [
    "data_iterator = data.as_numpy_iterator()"
   ]
  },
  {
   "cell_type": "code",
   "execution_count": 53,
   "id": "5036fb007f0b6128",
   "metadata": {
    "ExecuteTime": {
     "end_time": "2024-06-25T10:42:35.621522Z",
     "start_time": "2024-06-25T10:42:35.577441Z"
    }
   },
   "outputs": [],
   "source": [
    "batch = data_iterator.next()"
   ]
  },
  {
   "cell_type": "code",
   "execution_count": 54,
   "id": "7acf65edf06af2b0",
   "metadata": {
    "ExecuteTime": {
     "end_time": "2024-06-25T10:42:36.191628Z",
     "start_time": "2024-06-25T10:42:36.178472Z"
    }
   },
   "outputs": [
    {
     "data": {
      "text/plain": [
       "(8, 256, 256, 3)"
      ]
     },
     "execution_count": 54,
     "metadata": {},
     "output_type": "execute_result"
    }
   ],
   "source": [
    "batch[0].shape"
   ]
  },
  {
   "cell_type": "code",
   "execution_count": 55,
   "id": "b9d7df7c6837baa6",
   "metadata": {
    "ExecuteTime": {
     "end_time": "2024-06-25T10:42:38.552107Z",
     "start_time": "2024-06-25T10:42:37.106271Z"
    }
   },
   "outputs": [
    {
     "data": {
      "image/png": "[encoded data removed]",
      "text/plain": [
       "<Figure size 2000x2500 with 4 Axes>"
      ]
     },
     "metadata": {},
     "output_type": "display_data"
    }
   ],
   "source": [
    "class_names = {\n",
    "    0: \"Circular\",\n",
    "    1: \"Intersecting\",\n",
    "    2: \"Standard\",\n",
    "    3: \"Overlapping\",\n",
    "}\n",
    "\n",
    "\n",
    "fig, ax = plt.subplots(ncols=4, figsize=(20, 25))\n",
    "for idx, img in enumerate(batch[0][:4]):\n",
    "    ax[idx].imshow(img.astype(int))\n",
    "    # Convert NumPy array to a hashable type (e.g., integer)\n",
    "    label_index = np.argmax(batch[1][idx])  # Get index of the highest probability class\n",
    "    ax[idx].title.set_text(class_names.get(label_index, \"Unknown\"))\n",
    "\n",
    "    # Add x and y ticks (adjust values based on your image dimensions)\n",
    "    ax[idx].set_xticks(np.arange(0, img.shape[1], 50))  # Ticks every 50 pixels on x-axis\n",
    "    ax[idx].set_yticks(np.arange(0, img.shape[0], 50))  # Ticks every 50 pixels on y-axis\n",
    "\n",
    "    # Optionally, label the ticks with pixel values\n",
    "    ax[idx].set_xticklabels(np.arange(0, img.shape[1], 50))\n",
    "    ax[idx].set_yticklabels(np.arange(0, img.shape[0], 50))\n",
    "\n",
    "plt.show()"
   ]
  },
  {
   "cell_type": "markdown",
   "id": "f80931e505010041",
   "metadata": {},
   "source": [
    "### Scale Data"
   ]
  },
  {
   "cell_type": "code",
   "execution_count": 56,
   "id": "cf95921d3a7a2d41",
   "metadata": {
    "ExecuteTime": {
     "end_time": "2024-06-25T10:42:44.299641Z",
     "start_time": "2024-06-25T10:42:44.268640Z"
    }
   },
   "outputs": [],
   "source": [
    "data = data.map(lambda x,y: (x/255, y))\n",
    "# important since it helps to perform transformation to convert image min to 0 and max to 1\n",
    "# important while working with data pipeline"
   ]
  },
  {
   "cell_type": "code",
   "execution_count": 57,
   "id": "3666dba7457da7e1",
   "metadata": {
    "ExecuteTime": {
     "end_time": "2024-06-25T10:42:44.974967Z",
     "start_time": "2024-06-25T10:42:44.784668Z"
    },
    "scrolled": true
   },
   "outputs": [
    {
     "data": {
      "text/plain": [
       "(array([[[[0.73333335, 0.73333335, 0.73333335],\n",
       "          [0.7636106 , 0.7636106 , 0.7636106 ],\n",
       "          [0.87137717, 0.87137717, 0.87137717],\n",
       "          ...,\n",
       "          [0.9869715 , 0.9869715 , 0.9869715 ],\n",
       "          [0.9757123 , 0.9757123 , 0.9757123 ],\n",
       "          [0.972549  , 0.972549  , 0.972549  ]],\n",
       " \n",
       "         [[0.73333335, 0.73333335, 0.73333335],\n",
       "          [0.7636106 , 0.7636106 , 0.7636106 ],\n",
       "          [0.87137717, 0.87137717, 0.87137717],\n",
       "          ...,\n",
       "          [0.9869715 , 0.9869715 , 0.9869715 ],\n",
       "          [0.9757123 , 0.9757123 , 0.9757123 ],\n",
       "          [0.972549  , 0.972549  , 0.972549  ]],\n",
       " \n",
       "         [[0.73333335, 0.73333335, 0.73333335],\n",
       "          [0.7636106 , 0.7636106 , 0.7636106 ],\n",
       "          [0.87137717, 0.87137717, 0.87137717],\n",
       "          ...,\n",
       "          [0.9869715 , 0.9869715 , 0.9869715 ],\n",
       "          [0.9757123 , 0.9757123 , 0.9757123 ],\n",
       "          [0.972549  , 0.972549  , 0.972549  ]],\n",
       " \n",
       "         ...,\n",
       " \n",
       "         [[0.6901961 , 0.6901961 , 0.6901961 ],\n",
       "          [0.7258961 , 0.7258961 , 0.7258961 ],\n",
       "          [0.85296416, 0.85296416, 0.85296416],\n",
       "          ...,\n",
       "          [0.9888327 , 0.9888327 , 0.9888327 ],\n",
       "          [0.979182  , 0.979182  , 0.979182  ],\n",
       "          [0.9764706 , 0.9764706 , 0.9764706 ]],\n",
       " \n",
       "         [[0.6901961 , 0.6901961 , 0.6901961 ],\n",
       "          [0.7258961 , 0.7258961 , 0.7258961 ],\n",
       "          [0.85296416, 0.85296416, 0.85296416],\n",
       "          ...,\n",
       "          [0.9888327 , 0.9888327 , 0.9888327 ],\n",
       "          [0.979182  , 0.979182  , 0.979182  ],\n",
       "          [0.9764706 , 0.9764706 , 0.9764706 ]],\n",
       " \n",
       "         [[0.6901961 , 0.6901961 , 0.6901961 ],\n",
       "          [0.7258961 , 0.7258961 , 0.7258961 ],\n",
       "          [0.85296416, 0.85296416, 0.85296416],\n",
       "          ...,\n",
       "          [0.9888327 , 0.9888327 , 0.9888327 ],\n",
       "          [0.979182  , 0.979182  , 0.979182  ],\n",
       "          [0.9764706 , 0.9764706 , 0.9764706 ]]],\n",
       " \n",
       " \n",
       "        [[[0.7058824 , 0.7058824 , 0.7058824 ],\n",
       "          [0.7397748 , 0.7397748 , 0.7397748 ],\n",
       "          [0.860409  , 0.860409  , 0.860409  ],\n",
       "          ...,\n",
       "          [0.9869715 , 0.9869715 , 0.9869715 ],\n",
       "          [0.9757123 , 0.9757123 , 0.9757123 ],\n",
       "          [0.972549  , 0.972549  , 0.972549  ]],\n",
       " \n",
       "         [[0.7058824 , 0.7058824 , 0.7058824 ],\n",
       "          [0.7397748 , 0.7397748 , 0.7397748 ],\n",
       "          [0.860409  , 0.860409  , 0.860409  ],\n",
       "          ...,\n",
       "          [0.9869715 , 0.9869715 , 0.9869715 ],\n",
       "          [0.9757123 , 0.9757123 , 0.9757123 ],\n",
       "          [0.972549  , 0.972549  , 0.972549  ]],\n",
       " \n",
       "         [[0.7058824 , 0.7058824 , 0.7058824 ],\n",
       "          [0.7397748 , 0.7397748 , 0.7397748 ],\n",
       "          [0.860409  , 0.860409  , 0.860409  ],\n",
       "          ...,\n",
       "          [0.9869715 , 0.9869715 , 0.9869715 ],\n",
       "          [0.9757123 , 0.9757123 , 0.9757123 ],\n",
       "          [0.972549  , 0.972549  , 0.972549  ]],\n",
       " \n",
       "         ...,\n",
       " \n",
       "         [[0.69411767, 0.69411767, 0.69411767],\n",
       "          [0.7230392 , 0.7230392 , 0.7230392 ],\n",
       "          [0.82598037, 0.82598037, 0.82598037],\n",
       "          ...,\n",
       "          [0.9324678 , 0.9324678 , 0.9324678 ],\n",
       "          [0.91477484, 0.91477484, 0.91477484],\n",
       "          [0.9098039 , 0.9098039 , 0.9098039 ]],\n",
       " \n",
       "         [[0.69411767, 0.69411767, 0.69411767],\n",
       "          [0.7230392 , 0.7230392 , 0.7230392 ],\n",
       "          [0.82598037, 0.82598037, 0.82598037],\n",
       "          ...,\n",
       "          [0.9324678 , 0.9324678 , 0.9324678 ],\n",
       "          [0.91477484, 0.91477484, 0.91477484],\n",
       "          [0.9098039 , 0.9098039 , 0.9098039 ]],\n",
       " \n",
       "         [[0.69411767, 0.69411767, 0.69411767],\n",
       "          [0.7230392 , 0.7230392 , 0.7230392 ],\n",
       "          [0.82598037, 0.82598037, 0.82598037],\n",
       "          ...,\n",
       "          [0.9324678 , 0.9324678 , 0.9324678 ],\n",
       "          [0.91477484, 0.91477484, 0.91477484],\n",
       "          [0.9098039 , 0.9098039 , 0.9098039 ]]],\n",
       " \n",
       " \n",
       "        [[[0.30520833, 0.30520833, 0.30520833],\n",
       "          [0.8666667 , 0.8666667 , 0.8666667 ],\n",
       "          [0.8666667 , 0.8666667 , 0.8666667 ],\n",
       "          ...,\n",
       "          [0.8666667 , 0.8666667 , 0.8666667 ],\n",
       "          [0.8666667 , 0.8666667 , 0.8666667 ],\n",
       "          [0.8666667 , 0.8666667 , 0.8666667 ]],\n",
       " \n",
       "         [[0.30520833, 0.30520833, 0.30520833],\n",
       "          [0.8666667 , 0.8666667 , 0.8666667 ],\n",
       "          [0.8666667 , 0.8666667 , 0.8666667 ],\n",
       "          ...,\n",
       "          [0.8666667 , 0.8666667 , 0.8666667 ],\n",
       "          [0.8666667 , 0.8666667 , 0.8666667 ],\n",
       "          [0.8666667 , 0.8666667 , 0.8666667 ]],\n",
       " \n",
       "         [[0.31066996, 0.31066996, 0.31066996],\n",
       "          [0.88203126, 0.88203126, 0.88203126],\n",
       "          [0.88203126, 0.88203126, 0.88203126],\n",
       "          ...,\n",
       "          [0.88203126, 0.88203126, 0.88203126],\n",
       "          [0.88203126, 0.88203126, 0.88203126],\n",
       "          [0.88203126, 0.88203126, 0.88203126]],\n",
       " \n",
       "         ...,\n",
       " \n",
       "         [[0.35260418, 0.35260418, 0.35260418],\n",
       "          [1.        , 1.        , 1.        ],\n",
       "          [1.        , 1.        , 1.        ],\n",
       "          ...,\n",
       "          [1.        , 1.        , 1.        ],\n",
       "          [1.        , 1.        , 1.        ],\n",
       "          [1.        , 1.        , 1.        ]],\n",
       " \n",
       "         [[0.35260418, 0.35260418, 0.35260418],\n",
       "          [1.        , 1.        , 1.        ],\n",
       "          [1.        , 1.        , 1.        ],\n",
       "          ...,\n",
       "          [1.        , 1.        , 1.        ],\n",
       "          [1.        , 1.        , 1.        ],\n",
       "          [1.        , 1.        , 1.        ]],\n",
       " \n",
       "         [[0.35260418, 0.35260418, 0.35260418],\n",
       "          [1.        , 1.        , 1.        ],\n",
       "          [1.        , 1.        , 1.        ],\n",
       "          ...,\n",
       "          [1.        , 1.        , 1.        ],\n",
       "          [1.        , 1.        , 1.        ],\n",
       "          [1.        , 1.        , 1.        ]]],\n",
       " \n",
       " \n",
       "        ...,\n",
       " \n",
       " \n",
       "        [[[0.7294118 , 0.7294118 , 0.7294118 ],\n",
       "          [0.7605928 , 0.7605928 , 0.7605928 ],\n",
       "          [0.8715763 , 0.8715763 , 0.8715763 ],\n",
       "          ...,\n",
       "          [0.9962776 , 0.9962776 , 0.9962776 ],\n",
       "          [0.99306065, 0.99306065, 0.99306065],\n",
       "          [0.99215686, 0.99215686, 0.99215686]],\n",
       " \n",
       "         [[0.7294118 , 0.7294118 , 0.7294118 ],\n",
       "          [0.7605928 , 0.7605928 , 0.7605928 ],\n",
       "          [0.8715763 , 0.8715763 , 0.8715763 ],\n",
       "          ...,\n",
       "          [0.9962776 , 0.9962776 , 0.9962776 ],\n",
       "          [0.99306065, 0.99306065, 0.99306065],\n",
       "          [0.99215686, 0.99215686, 0.99215686]],\n",
       " \n",
       "         [[0.7294118 , 0.7294118 , 0.7294118 ],\n",
       "          [0.7605928 , 0.7605928 , 0.7605928 ],\n",
       "          [0.8715763 , 0.8715763 , 0.8715763 ],\n",
       "          ...,\n",
       "          [0.9962776 , 0.9962776 , 0.9962776 ],\n",
       "          [0.99306065, 0.99306065, 0.99306065],\n",
       "          [0.99215686, 0.99215686, 0.99215686]],\n",
       " \n",
       "         ...,\n",
       " \n",
       "         [[0.67058825, 0.67058825, 0.67058825],\n",
       "          [0.7085478 , 0.7085478 , 0.7085478 ],\n",
       "          [0.8436581 , 0.8436581 , 0.8436581 ],\n",
       "          ...,\n",
       "          [1.        , 1.        , 1.        ],\n",
       "          [1.        , 1.        , 1.        ],\n",
       "          [1.        , 1.        , 1.        ]],\n",
       " \n",
       "         [[0.67058825, 0.67058825, 0.67058825],\n",
       "          [0.7085478 , 0.7085478 , 0.7085478 ],\n",
       "          [0.8436581 , 0.8436581 , 0.8436581 ],\n",
       "          ...,\n",
       "          [1.        , 1.        , 1.        ],\n",
       "          [1.        , 1.        , 1.        ],\n",
       "          [1.        , 1.        , 1.        ]],\n",
       " \n",
       "         [[0.67058825, 0.67058825, 0.67058825],\n",
       "          [0.7085478 , 0.7085478 , 0.7085478 ],\n",
       "          [0.8436581 , 0.8436581 , 0.8436581 ],\n",
       "          ...,\n",
       "          [1.        , 1.        , 1.        ],\n",
       "          [1.        , 1.        , 1.        ],\n",
       "          [1.        , 1.        , 1.        ]]],\n",
       " \n",
       " \n",
       "        [[[0.9650527 , 0.9650527 , 0.9650527 ],\n",
       "          [0.9647224 , 0.9647224 , 0.9647224 ],\n",
       "          [0.96508574, 0.96508574, 0.96508574],\n",
       "          ...,\n",
       "          [0.987137  , 0.99426174, 0.98679847],\n",
       "          [0.98768204, 0.99498844, 0.9871618 ],\n",
       "          [0.9866498 , 0.99449295, 0.9866498 ]],\n",
       " \n",
       "         [[0.9662389 , 0.9662389 , 0.9662389 ],\n",
       "          [0.9679003 , 0.9679003 , 0.9679003 ],\n",
       "          [0.96841633, 0.96841633, 0.96841633],\n",
       "          ...,\n",
       "          [0.9706968 , 0.97377884, 0.96920025],\n",
       "          [0.97310585, 0.97699094, 0.9708063 ],\n",
       "          [0.9685432 , 0.9748009 , 0.9685432 ]],\n",
       " \n",
       "         [[0.96644   , 0.96644   , 0.96644   ],\n",
       "          [0.9672241 , 0.9672241 , 0.9672241 ],\n",
       "          [0.9663447 , 0.9663447 , 0.9663447 ],\n",
       "          ...,\n",
       "          [0.94893533, 0.9528569 , 0.94893533],\n",
       "          [0.94893533, 0.9528569 , 0.94893533],\n",
       "          [0.94893533, 0.9528569 , 0.94893533]],\n",
       " \n",
       "         ...,\n",
       " \n",
       "         [[0.9647059 , 0.9647059 , 0.9647059 ],\n",
       "          [0.9447917 , 0.94871324, 0.9447917 ],\n",
       "          [0.93958336, 0.9420956 , 0.93958336],\n",
       "          ...,\n",
       "          [1.        , 1.        , 1.        ],\n",
       "          [1.        , 1.        , 1.        ],\n",
       "          [1.        , 1.        , 1.        ]],\n",
       " \n",
       "         [[0.9647059 , 0.9647059 , 0.9647059 ],\n",
       "          [0.9447917 , 0.94871324, 0.9447917 ],\n",
       "          [0.93958336, 0.9420956 , 0.93958336],\n",
       "          ...,\n",
       "          [1.        , 1.        , 1.        ],\n",
       "          [1.        , 1.        , 1.        ],\n",
       "          [1.        , 1.        , 1.        ]],\n",
       " \n",
       "         [[0.9647059 , 0.9647059 , 0.9647059 ],\n",
       "          [0.9447917 , 0.94871324, 0.9447917 ],\n",
       "          [0.93958336, 0.9420956 , 0.93958336],\n",
       "          ...,\n",
       "          [1.        , 1.        , 1.        ],\n",
       "          [1.        , 1.        , 1.        ],\n",
       "          [1.        , 1.        , 1.        ]]],\n",
       " \n",
       " \n",
       "        [[[1.        , 1.        , 1.        ],\n",
       "          [1.        , 1.        , 1.        ],\n",
       "          [1.        , 1.        , 1.        ],\n",
       "          ...,\n",
       "          [1.        , 1.        , 1.        ],\n",
       "          [1.        , 1.        , 1.        ],\n",
       "          [1.        , 1.        , 1.        ]],\n",
       " \n",
       "         [[1.        , 1.        , 1.        ],\n",
       "          [1.        , 1.        , 1.        ],\n",
       "          [1.        , 1.        , 1.        ],\n",
       "          ...,\n",
       "          [1.        , 1.        , 1.        ],\n",
       "          [1.        , 1.        , 1.        ],\n",
       "          [1.        , 1.        , 1.        ]],\n",
       " \n",
       "         [[1.        , 1.        , 1.        ],\n",
       "          [1.        , 1.        , 1.        ],\n",
       "          [1.        , 1.        , 1.        ],\n",
       "          ...,\n",
       "          [1.        , 1.        , 1.        ],\n",
       "          [1.        , 1.        , 1.        ],\n",
       "          [1.        , 1.        , 1.        ]],\n",
       " \n",
       "         ...,\n",
       " \n",
       "         [[1.        , 1.        , 1.        ],\n",
       "          [1.        , 1.        , 1.        ],\n",
       "          [1.        , 1.        , 1.        ],\n",
       "          ...,\n",
       "          [1.        , 1.        , 1.        ],\n",
       "          [1.        , 1.        , 1.        ],\n",
       "          [1.        , 1.        , 1.        ]],\n",
       " \n",
       "         [[1.        , 1.        , 1.        ],\n",
       "          [1.        , 1.        , 1.        ],\n",
       "          [1.        , 1.        , 1.        ],\n",
       "          ...,\n",
       "          [1.        , 1.        , 1.        ],\n",
       "          [1.        , 1.        , 1.        ],\n",
       "          [1.        , 1.        , 1.        ]],\n",
       " \n",
       "         [[1.        , 1.        , 1.        ],\n",
       "          [1.        , 1.        , 1.        ],\n",
       "          [1.        , 1.        , 1.        ],\n",
       "          ...,\n",
       "          [1.        , 1.        , 1.        ],\n",
       "          [1.        , 1.        , 1.        ],\n",
       "          [1.        , 1.        , 1.        ]]]], dtype=float32),\n",
       " array([[0., 0., 1., 0.],\n",
       "        [0., 0., 1., 0.],\n",
       "        [0., 0., 1., 0.],\n",
       "        [1., 0., 0., 0.],\n",
       "        [1., 0., 0., 0.],\n",
       "        [0., 0., 1., 0.],\n",
       "        [0., 0., 0., 1.],\n",
       "        [0., 1., 0., 0.]], dtype=float32))"
      ]
     },
     "execution_count": 57,
     "metadata": {},
     "output_type": "execute_result"
    }
   ],
   "source": [
    "data.as_numpy_iterator().next()"
   ]
  },
  {
   "cell_type": "markdown",
   "id": "f737a5541d0c10a5",
   "metadata": {},
   "source": [
    "### Split Data"
   ]
  },
  {
   "cell_type": "code",
   "execution_count": 58,
   "id": "7721b9913f7cff37",
   "metadata": {
    "ExecuteTime": {
     "end_time": "2024-06-25T10:42:46.548592Z",
     "start_time": "2024-06-25T10:42:46.535486Z"
    }
   },
   "outputs": [
    {
     "data": {
      "text/plain": [
       "8"
      ]
     },
     "execution_count": 58,
     "metadata": {},
     "output_type": "execute_result"
    }
   ],
   "source": [
    "len(data) # num of batches"
   ]
  },
  {
   "cell_type": "code",
   "execution_count": 59,
   "id": "bac979a8e2861b07",
   "metadata": {
    "ExecuteTime": {
     "end_time": "2024-06-25T10:42:47.271153Z",
     "start_time": "2024-06-25T10:42:47.258077Z"
    }
   },
   "outputs": [],
   "source": [
    "train_size = int(len(data)*.7)-1\n",
    "val_size = int(len(data)*.2)+2\n",
    "test_size = int(len(data)*.1)+1"
   ]
  },
  {
   "cell_type": "code",
   "execution_count": 61,
   "id": "538a86bc24613503",
   "metadata": {
    "ExecuteTime": {
     "end_time": "2024-06-25T10:42:48.318815Z",
     "start_time": "2024-06-25T10:42:48.289847Z"
    }
   },
   "outputs": [],
   "source": [
    "train = data.take(train_size)\n",
    "val = data.skip(train_size).take(val_size)\n",
    "test = data.skip(train_size+val_size).take(test_size)\n",
    "\n",
    "# Established train, test and val partition"
   ]
  },
  {
   "cell_type": "code",
   "execution_count": 62,
   "id": "3c0f8b2dd9491a35",
   "metadata": {
    "ExecuteTime": {
     "end_time": "2024-06-25T10:42:49.468435Z",
     "start_time": "2024-06-25T10:42:49.037855Z"
    }
   },
   "outputs": [],
   "source": [
    "train_labels = np.concatenate([y for x, y in train], axis=0)\n",
    "val_labels = np.concatenate([y for x, y in val], axis=0)\n",
    "test_labels = np.concatenate([y for x, y in test], axis=0)\n",
    "\n",
    "# One-hot encode the labels (if needed for your model)\n",
    "train_labels = tf.keras.utils.to_categorical(train_labels)\n",
    "val_labels = tf.keras.utils.to_categorical(val_labels)\n",
    "test_labels = tf.keras.utils.to_categorical(test_labels)"
   ]
  },
  {
   "cell_type": "markdown",
   "id": "139d9905058e46a2",
   "metadata": {},
   "source": [
    "### Building the model"
   ]
  },
  {
   "cell_type": "code",
   "execution_count": 63,
   "id": "1f0c9a41bbf3b772",
   "metadata": {
    "ExecuteTime": {
     "end_time": "2024-06-25T10:42:50.299119Z",
     "start_time": "2024-06-25T10:42:50.289Z"
    }
   },
   "outputs": [],
   "source": [
    "from tensorflow.keras.models import Sequential\n",
    "from tensorflow.keras.layers import Conv2D, MaxPooling2D, Dense, Flatten"
   ]
  },
  {
   "cell_type": "code",
   "execution_count": 64,
   "id": "7a009b60149ea845",
   "metadata": {
    "ExecuteTime": {
     "end_time": "2024-06-25T10:42:51.167159Z",
     "start_time": "2024-06-25T10:42:50.983668Z"
    }
   },
   "outputs": [
    {
     "name": "stderr",
     "output_type": "stream",
     "text": [
      "C:\\Users\\KIIT\\anaconda3\\envs\\ai_env\\Lib\\site-packages\\keras\\src\\layers\\convolutional\\base_conv.py:107: UserWarning: Do not pass an `input_shape`/`input_dim` argument to a layer. When using Sequential models, prefer using an `Input(shape)` object as the first layer in the model instead.\n",
      "  super().__init__(activity_regularizer=activity_regularizer, **kwargs)\n"
     ]
    }
   ],
   "source": [
    "num_classes = 4\n",
    "model = tf.keras.models.Sequential()\n",
    "model.add(tf.keras.layers.Conv2D(16, (3,3), 1, activation='relu', input_shape=(256,256,3)))\n",
    "model.add(tf.keras.layers.MaxPooling2D())\n",
    "model.add(tf.keras.layers.Conv2D(32, (3,3), 1, activation='relu'))\n",
    "model.add(tf.keras.layers.MaxPooling2D())\n",
    "model.add(tf.keras.layers.Conv2D(16, (3,3), 1, activation='relu'))\n",
    "model.add(tf.keras.layers.MaxPooling2D())\n",
    "model.add(tf.keras.layers.Flatten())\n",
    "model.add(tf.keras.layers.Dense(256, activation='relu'))\n",
    "model.add(tf.keras.layers.Dense(num_classes, activation='softmax'))"
   ]
  },
  {
   "cell_type": "code",
   "execution_count": 65,
   "id": "edfdf4143d09ce7b",
   "metadata": {
    "ExecuteTime": {
     "end_time": "2024-06-25T10:42:51.866051Z",
     "start_time": "2024-06-25T10:42:51.847575Z"
    }
   },
   "outputs": [],
   "source": [
    "model.compile(optimizer='adam',\n",
    "              loss='categorical_crossentropy',\n",
    "              metrics=['accuracy'])"
   ]
  },
  {
   "cell_type": "code",
   "execution_count": 66,
   "id": "abd5fa2a2feccfc8",
   "metadata": {
    "ExecuteTime": {
     "end_time": "2024-06-25T10:42:52.450611Z",
     "start_time": "2024-06-25T10:42:52.379915Z"
    }
   },
   "outputs": [
    {
     "data": {
      "text/html": [
       "<pre style=\"white-space:pre;overflow-x:auto;line-height:normal;font-family:Menlo,'DejaVu Sans Mono',consolas,'Courier New',monospace\"><span style=\"font-weight: bold\">Model: \"sequential_1\"</span>\n",
       "</pre>\n"
      ],
      "text/plain": [
       "\u001b[1mModel: \"sequential_1\"\u001b[0m\n"
      ]
     },
     "metadata": {},
     "output_type": "display_data"
    },
    {
     "data": {
      "text/html": [
       "<pre style=\"white-space:pre;overflow-x:auto;line-height:normal;font-family:Menlo,'DejaVu Sans Mono',consolas,'Courier New',monospace\">┏━━━━━━━━━━━━━━━━━━━━━━━━━━━━━━━━━┳━━━━━━━━━━━━━━━━━━━━━━━━┳━━━━━━━━━━━━━━━┓\n",
       "┃<span style=\"font-weight: bold\"> Layer (type)                    </span>┃<span style=\"font-weight: bold\"> Output Shape           </span>┃<span style=\"font-weight: bold\">       Param # </span>┃\n",
       "┡━━━━━━━━━━━━━━━━━━━━━━━━━━━━━━━━━╇━━━━━━━━━━━━━━━━━━━━━━━━╇━━━━━━━━━━━━━━━┩\n",
       "│ conv2d_3 (<span style=\"color: #0087ff; text-decoration-color: #0087ff\">Conv2D</span>)               │ (<span style=\"color: #00d7ff; text-decoration-color: #00d7ff\">None</span>, <span style=\"color: #00af00; text-decoration-color: #00af00\">254</span>, <span style=\"color: #00af00; text-decoration-color: #00af00\">254</span>, <span style=\"color: #00af00; text-decoration-color: #00af00\">16</span>)   │           <span style=\"color: #00af00; text-decoration-color: #00af00\">448</span> │\n",
       "├─────────────────────────────────┼────────────────────────┼───────────────┤\n",
       "│ max_pooling2d_3 (<span style=\"color: #0087ff; text-decoration-color: #0087ff\">MaxPooling2D</span>)  │ (<span style=\"color: #00d7ff; text-decoration-color: #00d7ff\">None</span>, <span style=\"color: #00af00; text-decoration-color: #00af00\">127</span>, <span style=\"color: #00af00; text-decoration-color: #00af00\">127</span>, <span style=\"color: #00af00; text-decoration-color: #00af00\">16</span>)   │             <span style=\"color: #00af00; text-decoration-color: #00af00\">0</span> │\n",
       "├─────────────────────────────────┼────────────────────────┼───────────────┤\n",
       "│ conv2d_4 (<span style=\"color: #0087ff; text-decoration-color: #0087ff\">Conv2D</span>)               │ (<span style=\"color: #00d7ff; text-decoration-color: #00d7ff\">None</span>, <span style=\"color: #00af00; text-decoration-color: #00af00\">125</span>, <span style=\"color: #00af00; text-decoration-color: #00af00\">125</span>, <span style=\"color: #00af00; text-decoration-color: #00af00\">32</span>)   │         <span style=\"color: #00af00; text-decoration-color: #00af00\">4,640</span> │\n",
       "├─────────────────────────────────┼────────────────────────┼───────────────┤\n",
       "│ max_pooling2d_4 (<span style=\"color: #0087ff; text-decoration-color: #0087ff\">MaxPooling2D</span>)  │ (<span style=\"color: #00d7ff; text-decoration-color: #00d7ff\">None</span>, <span style=\"color: #00af00; text-decoration-color: #00af00\">62</span>, <span style=\"color: #00af00; text-decoration-color: #00af00\">62</span>, <span style=\"color: #00af00; text-decoration-color: #00af00\">32</span>)     │             <span style=\"color: #00af00; text-decoration-color: #00af00\">0</span> │\n",
       "├─────────────────────────────────┼────────────────────────┼───────────────┤\n",
       "│ conv2d_5 (<span style=\"color: #0087ff; text-decoration-color: #0087ff\">Conv2D</span>)               │ (<span style=\"color: #00d7ff; text-decoration-color: #00d7ff\">None</span>, <span style=\"color: #00af00; text-decoration-color: #00af00\">60</span>, <span style=\"color: #00af00; text-decoration-color: #00af00\">60</span>, <span style=\"color: #00af00; text-decoration-color: #00af00\">16</span>)     │         <span style=\"color: #00af00; text-decoration-color: #00af00\">4,624</span> │\n",
       "├─────────────────────────────────┼────────────────────────┼───────────────┤\n",
       "│ max_pooling2d_5 (<span style=\"color: #0087ff; text-decoration-color: #0087ff\">MaxPooling2D</span>)  │ (<span style=\"color: #00d7ff; text-decoration-color: #00d7ff\">None</span>, <span style=\"color: #00af00; text-decoration-color: #00af00\">30</span>, <span style=\"color: #00af00; text-decoration-color: #00af00\">30</span>, <span style=\"color: #00af00; text-decoration-color: #00af00\">16</span>)     │             <span style=\"color: #00af00; text-decoration-color: #00af00\">0</span> │\n",
       "├─────────────────────────────────┼────────────────────────┼───────────────┤\n",
       "│ flatten_1 (<span style=\"color: #0087ff; text-decoration-color: #0087ff\">Flatten</span>)             │ (<span style=\"color: #00d7ff; text-decoration-color: #00d7ff\">None</span>, <span style=\"color: #00af00; text-decoration-color: #00af00\">14400</span>)          │             <span style=\"color: #00af00; text-decoration-color: #00af00\">0</span> │\n",
       "├─────────────────────────────────┼────────────────────────┼───────────────┤\n",
       "│ dense_2 (<span style=\"color: #0087ff; text-decoration-color: #0087ff\">Dense</span>)                 │ (<span style=\"color: #00d7ff; text-decoration-color: #00d7ff\">None</span>, <span style=\"color: #00af00; text-decoration-color: #00af00\">256</span>)            │     <span style=\"color: #00af00; text-decoration-color: #00af00\">3,686,656</span> │\n",
       "├─────────────────────────────────┼────────────────────────┼───────────────┤\n",
       "│ dense_3 (<span style=\"color: #0087ff; text-decoration-color: #0087ff\">Dense</span>)                 │ (<span style=\"color: #00d7ff; text-decoration-color: #00d7ff\">None</span>, <span style=\"color: #00af00; text-decoration-color: #00af00\">4</span>)              │         <span style=\"color: #00af00; text-decoration-color: #00af00\">1,028</span> │\n",
       "└─────────────────────────────────┴────────────────────────┴───────────────┘\n",
       "</pre>\n"
      ],
      "text/plain": [
       "┏━━━━━━━━━━━━━━━━━━━━━━━━━━━━━━━━━┳━━━━━━━━━━━━━━━━━━━━━━━━┳━━━━━━━━━━━━━━━┓\n",
       "┃\u001b[1m \u001b[0m\u001b[1mLayer (type)                   \u001b[0m\u001b[1m \u001b[0m┃\u001b[1m \u001b[0m\u001b[1mOutput Shape          \u001b[0m\u001b[1m \u001b[0m┃\u001b[1m \u001b[0m\u001b[1m      Param #\u001b[0m\u001b[1m \u001b[0m┃\n",
       "┡━━━━━━━━━━━━━━━━━━━━━━━━━━━━━━━━━╇━━━━━━━━━━━━━━━━━━━━━━━━╇━━━━━━━━━━━━━━━┩\n",
       "│ conv2d_3 (\u001b[38;5;33mConv2D\u001b[0m)               │ (\u001b[38;5;45mNone\u001b[0m, \u001b[38;5;34m254\u001b[0m, \u001b[38;5;34m254\u001b[0m, \u001b[38;5;34m16\u001b[0m)   │           \u001b[38;5;34m448\u001b[0m │\n",
       "├─────────────────────────────────┼────────────────────────┼───────────────┤\n",
       "│ max_pooling2d_3 (\u001b[38;5;33mMaxPooling2D\u001b[0m)  │ (\u001b[38;5;45mNone\u001b[0m, \u001b[38;5;34m127\u001b[0m, \u001b[38;5;34m127\u001b[0m, \u001b[38;5;34m16\u001b[0m)   │             \u001b[38;5;34m0\u001b[0m │\n",
       "├─────────────────────────────────┼────────────────────────┼───────────────┤\n",
       "│ conv2d_4 (\u001b[38;5;33mConv2D\u001b[0m)               │ (\u001b[38;5;45mNone\u001b[0m, \u001b[38;5;34m125\u001b[0m, \u001b[38;5;34m125\u001b[0m, \u001b[38;5;34m32\u001b[0m)   │         \u001b[38;5;34m4,640\u001b[0m │\n",
       "├─────────────────────────────────┼────────────────────────┼───────────────┤\n",
       "│ max_pooling2d_4 (\u001b[38;5;33mMaxPooling2D\u001b[0m)  │ (\u001b[38;5;45mNone\u001b[0m, \u001b[38;5;34m62\u001b[0m, \u001b[38;5;34m62\u001b[0m, \u001b[38;5;34m32\u001b[0m)     │             \u001b[38;5;34m0\u001b[0m │\n",
       "├─────────────────────────────────┼────────────────────────┼───────────────┤\n",
       "│ conv2d_5 (\u001b[38;5;33mConv2D\u001b[0m)               │ (\u001b[38;5;45mNone\u001b[0m, \u001b[38;5;34m60\u001b[0m, \u001b[38;5;34m60\u001b[0m, \u001b[38;5;34m16\u001b[0m)     │         \u001b[38;5;34m4,624\u001b[0m │\n",
       "├─────────────────────────────────┼────────────────────────┼───────────────┤\n",
       "│ max_pooling2d_5 (\u001b[38;5;33mMaxPooling2D\u001b[0m)  │ (\u001b[38;5;45mNone\u001b[0m, \u001b[38;5;34m30\u001b[0m, \u001b[38;5;34m30\u001b[0m, \u001b[38;5;34m16\u001b[0m)     │             \u001b[38;5;34m0\u001b[0m │\n",
       "├─────────────────────────────────┼────────────────────────┼───────────────┤\n",
       "│ flatten_1 (\u001b[38;5;33mFlatten\u001b[0m)             │ (\u001b[38;5;45mNone\u001b[0m, \u001b[38;5;34m14400\u001b[0m)          │             \u001b[38;5;34m0\u001b[0m │\n",
       "├─────────────────────────────────┼────────────────────────┼───────────────┤\n",
       "│ dense_2 (\u001b[38;5;33mDense\u001b[0m)                 │ (\u001b[38;5;45mNone\u001b[0m, \u001b[38;5;34m256\u001b[0m)            │     \u001b[38;5;34m3,686,656\u001b[0m │\n",
       "├─────────────────────────────────┼────────────────────────┼───────────────┤\n",
       "│ dense_3 (\u001b[38;5;33mDense\u001b[0m)                 │ (\u001b[38;5;45mNone\u001b[0m, \u001b[38;5;34m4\u001b[0m)              │         \u001b[38;5;34m1,028\u001b[0m │\n",
       "└─────────────────────────────────┴────────────────────────┴───────────────┘\n"
      ]
     },
     "metadata": {},
     "output_type": "display_data"
    },
    {
     "data": {
      "text/html": [
       "<pre style=\"white-space:pre;overflow-x:auto;line-height:normal;font-family:Menlo,'DejaVu Sans Mono',consolas,'Courier New',monospace\"><span style=\"font-weight: bold\"> Total params: </span><span style=\"color: #00af00; text-decoration-color: #00af00\">3,697,396</span> (14.10 MB)\n",
       "</pre>\n"
      ],
      "text/plain": [
       "\u001b[1m Total params: \u001b[0m\u001b[38;5;34m3,697,396\u001b[0m (14.10 MB)\n"
      ]
     },
     "metadata": {},
     "output_type": "display_data"
    },
    {
     "data": {
      "text/html": [
       "<pre style=\"white-space:pre;overflow-x:auto;line-height:normal;font-family:Menlo,'DejaVu Sans Mono',consolas,'Courier New',monospace\"><span style=\"font-weight: bold\"> Trainable params: </span><span style=\"color: #00af00; text-decoration-color: #00af00\">3,697,396</span> (14.10 MB)\n",
       "</pre>\n"
      ],
      "text/plain": [
       "\u001b[1m Trainable params: \u001b[0m\u001b[38;5;34m3,697,396\u001b[0m (14.10 MB)\n"
      ]
     },
     "metadata": {},
     "output_type": "display_data"
    },
    {
     "data": {
      "text/html": [
       "<pre style=\"white-space:pre;overflow-x:auto;line-height:normal;font-family:Menlo,'DejaVu Sans Mono',consolas,'Courier New',monospace\"><span style=\"font-weight: bold\"> Non-trainable params: </span><span style=\"color: #00af00; text-decoration-color: #00af00\">0</span> (0.00 B)\n",
       "</pre>\n"
      ],
      "text/plain": [
       "\u001b[1m Non-trainable params: \u001b[0m\u001b[38;5;34m0\u001b[0m (0.00 B)\n"
      ]
     },
     "metadata": {},
     "output_type": "display_data"
    }
   ],
   "source": [
    "model.summary()"
   ]
  },
  {
   "cell_type": "code",
   "execution_count": 67,
   "id": "852f20a55c8c4831",
   "metadata": {
    "ExecuteTime": {
     "end_time": "2024-06-25T10:42:53.483291Z",
     "start_time": "2024-06-25T10:42:53.472722Z"
    }
   },
   "outputs": [],
   "source": [
    "logdir = 'logs'"
   ]
  },
  {
   "cell_type": "code",
   "execution_count": 68,
   "id": "7afaba3461ab9f26",
   "metadata": {
    "ExecuteTime": {
     "end_time": "2024-06-25T10:42:54.714494Z",
     "start_time": "2024-06-25T10:42:54.703395Z"
    }
   },
   "outputs": [],
   "source": [
    "tensorboard_callback = tf.keras.callbacks.TensorBoard(log_dir=logdir)"
   ]
  },
  {
   "cell_type": "code",
   "execution_count": 69,
   "id": "b9a43dbca7eceeb2",
   "metadata": {
    "ExecuteTime": {
     "end_time": "2024-06-25T10:43:15.120562Z",
     "start_time": "2024-06-25T10:42:55.834972Z"
    },
    "scrolled": true
   },
   "outputs": [
    {
     "name": "stdout",
     "output_type": "stream",
     "text": [
      "Epoch 1/20\n",
      "\u001b[1m4/4\u001b[0m \u001b[32m━━━━━━━━━━━━━━━━━━━━\u001b[0m\u001b[37m\u001b[0m \u001b[1m5s\u001b[0m 301ms/step - accuracy: 0.2792 - loss: 1.9572 - val_accuracy: 0.3333 - val_loss: 1.3105\n",
      "Epoch 2/20\n",
      "\u001b[1m4/4\u001b[0m \u001b[32m━━━━━━━━━━━━━━━━━━━━\u001b[0m\u001b[37m\u001b[0m \u001b[1m1s\u001b[0m 173ms/step - accuracy: 0.4292 - loss: 1.2542 - val_accuracy: 0.6667 - val_loss: 1.1708\n",
      "Epoch 3/20\n",
      "\u001b[1m4/4\u001b[0m \u001b[32m━━━━━━━━━━━━━━━━━━━━\u001b[0m\u001b[37m\u001b[0m \u001b[1m1s\u001b[0m 167ms/step - accuracy: 0.4958 - loss: 1.3034 - val_accuracy: 0.3333 - val_loss: 1.1023\n",
      "Epoch 4/20\n",
      "\u001b[1m4/4\u001b[0m \u001b[32m━━━━━━━━━━━━━━━━━━━━\u001b[0m\u001b[37m\u001b[0m \u001b[1m1s\u001b[0m 171ms/step - accuracy: 0.4417 - loss: 1.2990 - val_accuracy: 0.5000 - val_loss: 1.1794\n",
      "Epoch 5/20\n",
      "\u001b[1m4/4\u001b[0m \u001b[32m━━━━━━━━━━━━━━━━━━━━\u001b[0m\u001b[37m\u001b[0m \u001b[1m1s\u001b[0m 169ms/step - accuracy: 0.8000 - loss: 0.9461 - val_accuracy: 0.5833 - val_loss: 1.0690\n",
      "Epoch 6/20\n",
      "\u001b[1m4/4\u001b[0m \u001b[32m━━━━━━━━━━━━━━━━━━━━\u001b[0m\u001b[37m\u001b[0m \u001b[1m1s\u001b[0m 172ms/step - accuracy: 0.5458 - loss: 1.0296 - val_accuracy: 0.7917 - val_loss: 0.7830\n",
      "Epoch 7/20\n",
      "\u001b[1m4/4\u001b[0m \u001b[32m━━━━━━━━━━━━━━━━━━━━\u001b[0m\u001b[37m\u001b[0m \u001b[1m1s\u001b[0m 189ms/step - accuracy: 0.6208 - loss: 0.9050 - val_accuracy: 0.4583 - val_loss: 0.9053\n",
      "Epoch 8/20\n",
      "\u001b[1m4/4\u001b[0m \u001b[32m━━━━━━━━━━━━━━━━━━━━\u001b[0m\u001b[37m\u001b[0m \u001b[1m1s\u001b[0m 174ms/step - accuracy: 0.6667 - loss: 0.7409 - val_accuracy: 0.9167 - val_loss: 0.4069\n",
      "Epoch 9/20\n",
      "\u001b[1m4/4\u001b[0m \u001b[32m━━━━━━━━━━━━━━━━━━━━\u001b[0m\u001b[37m\u001b[0m \u001b[1m1s\u001b[0m 173ms/step - accuracy: 0.8625 - loss: 0.5774 - val_accuracy: 1.0000 - val_loss: 0.2377\n",
      "Epoch 10/20\n",
      "\u001b[1m4/4\u001b[0m \u001b[32m━━━━━━━━━━━━━━━━━━━━\u001b[0m\u001b[37m\u001b[0m \u001b[1m1s\u001b[0m 172ms/step - accuracy: 0.9000 - loss: 0.3808 - val_accuracy: 0.8333 - val_loss: 0.3230\n",
      "Epoch 11/20\n",
      "\u001b[1m4/4\u001b[0m \u001b[32m━━━━━━━━━━━━━━━━━━━━\u001b[0m\u001b[37m\u001b[0m \u001b[1m1s\u001b[0m 166ms/step - accuracy: 0.9542 - loss: 0.1987 - val_accuracy: 0.8750 - val_loss: 0.2770\n",
      "Epoch 12/20\n",
      "\u001b[1m4/4\u001b[0m \u001b[32m━━━━━━━━━━━━━━━━━━━━\u001b[0m\u001b[37m\u001b[0m \u001b[1m1s\u001b[0m 164ms/step - accuracy: 0.9292 - loss: 0.2362 - val_accuracy: 0.9583 - val_loss: 0.0986\n",
      "Epoch 13/20\n",
      "\u001b[1m4/4\u001b[0m \u001b[32m━━━━━━━━━━━━━━━━━━━━\u001b[0m\u001b[37m\u001b[0m \u001b[1m1s\u001b[0m 172ms/step - accuracy: 0.9667 - loss: 0.1124 - val_accuracy: 1.0000 - val_loss: 0.0683\n",
      "Epoch 14/20\n",
      "\u001b[1m4/4\u001b[0m \u001b[32m━━━━━━━━━━━━━━━━━━━━\u001b[0m\u001b[37m\u001b[0m \u001b[1m1s\u001b[0m 183ms/step - accuracy: 0.9292 - loss: 0.0920 - val_accuracy: 1.0000 - val_loss: 0.0922\n",
      "Epoch 15/20\n",
      "\u001b[1m4/4\u001b[0m \u001b[32m━━━━━━━━━━━━━━━━━━━━\u001b[0m\u001b[37m\u001b[0m \u001b[1m1s\u001b[0m 180ms/step - accuracy: 0.9667 - loss: 0.0896 - val_accuracy: 1.0000 - val_loss: 0.0928\n",
      "Epoch 16/20\n",
      "\u001b[1m4/4\u001b[0m \u001b[32m━━━━━━━━━━━━━━━━━━━━\u001b[0m\u001b[37m\u001b[0m \u001b[1m1s\u001b[0m 182ms/step - accuracy: 0.9667 - loss: 0.0612 - val_accuracy: 1.0000 - val_loss: 0.0595\n",
      "Epoch 17/20\n",
      "\u001b[1m4/4\u001b[0m \u001b[32m━━━━━━━━━━━━━━━━━━━━\u001b[0m\u001b[37m\u001b[0m \u001b[1m1s\u001b[0m 187ms/step - accuracy: 0.9667 - loss: 0.1208 - val_accuracy: 1.0000 - val_loss: 0.0269\n",
      "Epoch 18/20\n",
      "\u001b[1m4/4\u001b[0m \u001b[32m━━━━━━━━━━━━━━━━━━━━\u001b[0m\u001b[37m\u001b[0m \u001b[1m1s\u001b[0m 172ms/step - accuracy: 1.0000 - loss: 0.0369 - val_accuracy: 1.0000 - val_loss: 0.0120\n",
      "Epoch 19/20\n",
      "\u001b[1m4/4\u001b[0m \u001b[32m━━━━━━━━━━━━━━━━━━━━\u001b[0m\u001b[37m\u001b[0m \u001b[1m1s\u001b[0m 177ms/step - accuracy: 1.0000 - loss: 0.0062 - val_accuracy: 1.0000 - val_loss: 0.0010\n",
      "Epoch 20/20\n",
      "\u001b[1m4/4\u001b[0m \u001b[32m━━━━━━━━━━━━━━━━━━━━\u001b[0m\u001b[37m\u001b[0m \u001b[1m1s\u001b[0m 173ms/step - accuracy: 1.0000 - loss: 4.2424e-04 - val_accuracy: 1.0000 - val_loss: 1.4880e-04\n"
     ]
    }
   ],
   "source": [
    "hist = model.fit(train, epochs=20, validation_data=val, callbacks=[tensorboard_callback])"
   ]
  },
  {
   "cell_type": "code",
   "execution_count": 70,
   "id": "6cde01bd7b338a17",
   "metadata": {
    "ExecuteTime": {
     "end_time": "2024-06-25T10:43:34.169465Z",
     "start_time": "2024-06-25T10:43:34.152579Z"
    },
    "scrolled": true
   },
   "outputs": [
    {
     "data": {
      "text/plain": [
       "{'accuracy': [0.34375,\n",
       "  0.34375,\n",
       "  0.46875,\n",
       "  0.46875,\n",
       "  0.71875,\n",
       "  0.53125,\n",
       "  0.625,\n",
       "  0.78125,\n",
       "  0.875,\n",
       "  0.84375,\n",
       "  0.90625,\n",
       "  0.9375,\n",
       "  0.9375,\n",
       "  0.9375,\n",
       "  0.96875,\n",
       "  0.96875,\n",
       "  0.96875,\n",
       "  1.0,\n",
       "  1.0,\n",
       "  1.0],\n",
       " 'loss': [1.8937122821807861,\n",
       "  1.2902276515960693,\n",
       "  1.2757771015167236,\n",
       "  1.2999399900436401,\n",
       "  0.976733386516571,\n",
       "  1.0119081735610962,\n",
       "  0.9031525254249573,\n",
       "  0.597897469997406,\n",
       "  0.5641507506370544,\n",
       "  0.4970129132270813,\n",
       "  0.2666117548942566,\n",
       "  0.18016624450683594,\n",
       "  0.1786714345216751,\n",
       "  0.12179651856422424,\n",
       "  0.09892131388187408,\n",
       "  0.07162326574325562,\n",
       "  0.1028701588511467,\n",
       "  0.03863086923956871,\n",
       "  0.005186659283936024,\n",
       "  0.0004730354994535446],\n",
       " 'val_accuracy': [0.3333333432674408,\n",
       "  0.6666666865348816,\n",
       "  0.3333333432674408,\n",
       "  0.5,\n",
       "  0.5833333134651184,\n",
       "  0.7916666865348816,\n",
       "  0.4583333432674408,\n",
       "  0.9166666865348816,\n",
       "  1.0,\n",
       "  0.8333333134651184,\n",
       "  0.875,\n",
       "  0.9583333134651184,\n",
       "  1.0,\n",
       "  1.0,\n",
       "  1.0,\n",
       "  1.0,\n",
       "  1.0,\n",
       "  1.0,\n",
       "  1.0,\n",
       "  1.0],\n",
       " 'val_loss': [1.3104819059371948,\n",
       "  1.1707944869995117,\n",
       "  1.1023435592651367,\n",
       "  1.1794462203979492,\n",
       "  1.0689518451690674,\n",
       "  0.7829723358154297,\n",
       "  0.9053390026092529,\n",
       "  0.40685853362083435,\n",
       "  0.23766237497329712,\n",
       "  0.32301029562950134,\n",
       "  0.27701136469841003,\n",
       "  0.09864246100187302,\n",
       "  0.06829207390546799,\n",
       "  0.09223804622888565,\n",
       "  0.09277252107858658,\n",
       "  0.05953247472643852,\n",
       "  0.02688959240913391,\n",
       "  0.012049194425344467,\n",
       "  0.0010281787253916264,\n",
       "  0.00014880044909659773]}"
      ]
     },
     "execution_count": 70,
     "metadata": {},
     "output_type": "execute_result"
    }
   ],
   "source": [
    "hist.history"
   ]
  },
  {
   "cell_type": "code",
   "execution_count": 71,
   "id": "eee165a7b6a8729c",
   "metadata": {
    "ExecuteTime": {
     "end_time": "2024-06-25T10:43:35.790626Z",
     "start_time": "2024-06-25T10:43:35.366333Z"
    }
   },
   "outputs": [
    {
     "data": {
      "image/png": "[encoded data removed]",
      "text/plain": [
       "<Figure size 640x480 with 1 Axes>"
      ]
     },
     "metadata": {},
     "output_type": "display_data"
    }
   ],
   "source": [
    "fig = plt.figure()\n",
    "plt.plot(hist.history['loss'], color='teal', label='loss')\n",
    "plt.plot(hist.history['val_loss'], color='orange', label='val_loss')\n",
    "fig.suptitle('Loss', fontsize=20)\n",
    "plt.legend(loc=\"upper left\")\n",
    "plt.show()"
   ]
  },
  {
   "cell_type": "code",
   "execution_count": 72,
   "id": "46f7957a82bb623d",
   "metadata": {
    "ExecuteTime": {
     "end_time": "2024-06-25T10:43:37.609012Z",
     "start_time": "2024-06-25T10:43:37.109163Z"
    }
   },
   "outputs": [
    {
     "data": {
      "image/png": "[encoded data removed]",
      "text/plain": [
       "<Figure size 640x480 with 1 Axes>"
      ]
     },
     "metadata": {},
     "output_type": "display_data"
    }
   ],
   "source": [
    "fig = plt.figure()\n",
    "plt.plot(hist.history['accuracy'], color='teal', label='accuracy')\n",
    "plt.plot(hist.history['val_accuracy'], color='orange', label='val_accuracy')\n",
    "fig.suptitle('Accuracy', fontsize=20)\n",
    "plt.legend(loc=\"upper left\")\n",
    "plt.show()"
   ]
  },
  {
   "cell_type": "markdown",
   "id": "776cc5bab596c4ad",
   "metadata": {},
   "source": [
    "### Evaluation"
   ]
  },
  {
   "cell_type": "code",
   "execution_count": 73,
   "id": "d017c13a5c899f7d",
   "metadata": {
    "ExecuteTime": {
     "end_time": "2024-06-25T10:43:40.632158Z",
     "start_time": "2024-06-25T10:43:40.624087Z"
    }
   },
   "outputs": [],
   "source": [
    "from tensorflow.keras.metrics import Precision, Recall, BinaryAccuracy"
   ]
  },
  {
   "cell_type": "code",
   "execution_count": 74,
   "id": "ff991a3eb179c570",
   "metadata": {
    "ExecuteTime": {
     "end_time": "2024-06-25T10:43:41.092638Z",
     "start_time": "2024-06-25T10:43:41.062939Z"
    }
   },
   "outputs": [],
   "source": [
    "# Establishing instances\n",
    "pre = Precision()\n",
    "re = Recall()\n",
    "acc = BinaryAccuracy()"
   ]
  },
  {
   "cell_type": "code",
   "execution_count": 75,
   "id": "a71887bd5590185e",
   "metadata": {
    "ExecuteTime": {
     "end_time": "2024-06-25T10:43:42.180100Z",
     "start_time": "2024-06-25T10:43:41.638941Z"
    }
   },
   "outputs": [
    {
     "name": "stdout",
     "output_type": "stream",
     "text": [
      "\u001b[1m1/1\u001b[0m \u001b[32m━━━━━━━━━━━━━━━━━━━━\u001b[0m\u001b[37m\u001b[0m \u001b[1m0s\u001b[0m 243ms/step\n"
     ]
    }
   ],
   "source": [
    "for batch in test.as_numpy_iterator():\n",
    "    X, y = batch\n",
    "    yhat = model.predict(X)\n",
    "    pre.update_state(y, yhat)\n",
    "    re.update_state(y, yhat)\n",
    "    acc.update_state(y, yhat)"
   ]
  },
  {
   "cell_type": "code",
   "execution_count": 76,
   "id": "e2fbc90c3bc151c8",
   "metadata": {
    "ExecuteTime": {
     "end_time": "2024-06-25T10:43:43.100707Z",
     "start_time": "2024-06-25T10:43:43.081814Z"
    }
   },
   "outputs": [
    {
     "name": "stdout",
     "output_type": "stream",
     "text": [
      "Precision:1.0, Recall:1.0, Acuraccy:<bound method _EagerTensorBase.numpy of <tf.Tensor: shape=(), dtype=float32, numpy=1.0>>\n"
     ]
    }
   ],
   "source": [
    "print(f'Precision:{pre.result()}, Recall:{re.result().numpy()}, Acuraccy:{acc.result().numpy}')"
   ]
  },
  {
   "cell_type": "markdown",
   "id": "bb819c354242bdba",
   "metadata": {},
   "source": [
    "### Testing"
   ]
  },
  {
   "cell_type": "code",
   "execution_count": 1,
   "id": "76f8eb355cf42a30",
   "metadata": {
    "ExecuteTime": {
     "end_time": "2024-06-28T11:50:46.722633Z",
     "start_time": "2024-06-28T11:50:46.068505Z"
    }
   },
   "outputs": [],
   "source": [
    "import cv2"
   ]
  },
  {
   "cell_type": "code",
   "execution_count": 81,
   "id": "af2eb9b88aa485aa",
   "metadata": {
    "ExecuteTime": {
     "end_time": "2024-06-25T10:44:52.858744Z",
     "start_time": "2024-06-25T10:44:52.220429Z"
    }
   },
   "outputs": [
    {
     "data": {
      "image/png": "[encoded data removed]",
      "text/plain": [
       "<Figure size 640x480 with 1 Axes>"
      ]
     },
     "metadata": {},
     "output_type": "display_data"
    },
    {
     "name": "stdout",
     "output_type": "stream",
     "text": [
      "\u001b[1m1/1\u001b[0m \u001b[32m━━━━━━━━━━━━━━━━━━━━\u001b[0m\u001b[37m\u001b[0m \u001b[1m0s\u001b[0m 74ms/step\n",
      "Image belong to the Overlapping class\n"
     ]
    }
   ],
   "source": [
    "# Load and preprocess the image\n",
    "img = cv2.imread('Shapes/row_32.png')\n",
    "img = cv2.cvtColor(img, cv2.COLOR_BGR2RGB)  # Convert from BGR to RGB\n",
    "resize = tf.image.resize(img, (256,256))\n",
    "plt.imshow(resize.numpy().astype(int))\n",
    "plt.show()\n",
    "\n",
    "# Predict the class\n",
    "predict = model.predict(np.expand_dims(resize/255, 0))\n",
    "\n",
    "class_names = ['Circular', 'Intersecting', 'Standard', 'Overlapping']\n",
    "predicted_class = np.argmax(predict)\n",
    "\n",
    "print(f'Image belong to the {class_names[predicted_class]} class')"
   ]
  },
  {
   "cell_type": "markdown",
   "id": "2cd9efa0f5af772d",
   "metadata": {},
   "source": [
    "### Saving the model"
   ]
  },
  {
   "cell_type": "code",
   "execution_count": 82,
   "id": "5888971318ad4f9f",
   "metadata": {
    "ExecuteTime": {
     "end_time": "2024-06-25T10:45:01.993Z",
     "start_time": "2024-06-25T10:45:01.984288Z"
    }
   },
   "outputs": [],
   "source": [
    "from tensorflow.keras.models import load_model"
   ]
  },
  {
   "cell_type": "code",
   "execution_count": 85,
   "id": "78474d6688359318",
   "metadata": {
    "ExecuteTime": {
     "end_time": "2024-06-25T10:45:49.542015Z",
     "start_time": "2024-06-25T10:45:49.211877Z"
    }
   },
   "outputs": [],
   "source": [
    "model.save('4_class_improved.keras')"
   ]
  },
  {
   "cell_type": "code",
   "execution_count": 2,
   "id": "303ac6d46695e101",
   "metadata": {
    "ExecuteTime": {
     "end_time": "2024-06-28T11:50:54.667349Z",
     "start_time": "2024-06-28T11:50:52.330319Z"
    }
   },
   "outputs": [
    {
     "ename": "NameError",
     "evalue": "name 'tf' is not defined",
     "output_type": "error",
     "traceback": [
      "\u001b[1;31m---------------------------------------------------------------------------\u001b[0m",
      "\u001b[1;31mNameError\u001b[0m                                 Traceback (most recent call last)",
      "Cell \u001b[1;32mIn[2], line 1\u001b[0m\n\u001b[1;32m----> 1\u001b[0m prediction \u001b[38;5;241m=\u001b[39m tf\u001b[38;5;241m.\u001b[39mkeras\u001b[38;5;241m.\u001b[39mmodels\u001b[38;5;241m.\u001b[39mload_model(\u001b[38;5;124m'\u001b[39m\u001b[38;5;124m4_class_improved.keras\u001b[39m\u001b[38;5;124m'\u001b[39m)\n",
      "\u001b[1;31mNameError\u001b[0m: name 'tf' is not defined"
     ]
    }
   ],
   "source": [
    "prediction = tf.keras.models.load_model('4_class_improved.keras')"
   ]
  },
  {
   "cell_type": "code",
   "execution_count": 87,
   "id": "f0c807fe8b5a9c07",
   "metadata": {
    "ExecuteTime": {
     "end_time": "2024-06-25T10:46:04.707355Z",
     "start_time": "2024-06-25T10:46:04.691033Z"
    }
   },
   "outputs": [
    {
     "data": {
      "text/plain": [
       "<Sequential name=sequential_1, built=True>"
      ]
     },
     "execution_count": 87,
     "metadata": {},
     "output_type": "execute_result"
    }
   ],
   "source": [
    "prediction"
   ]
  },
  {
   "cell_type": "code",
   "execution_count": 88,
   "id": "271cffe1755d66c1",
   "metadata": {
    "ExecuteTime": {
     "end_time": "2024-06-25T10:46:07.152842Z",
     "start_time": "2024-06-25T10:46:06.748809Z"
    }
   },
   "outputs": [
    {
     "name": "stdout",
     "output_type": "stream",
     "text": [
      "\u001b[1m1/1\u001b[0m \u001b[32m━━━━━━━━━━━━━━━━━━━━\u001b[0m\u001b[37m\u001b[0m \u001b[1m0s\u001b[0m 264ms/step\n"
     ]
    }
   ],
   "source": [
    "yhatnew = prediction.predict(np.expand_dims(resize/255, 0))"
   ]
  },
  {
   "cell_type": "code",
   "execution_count": 89,
   "id": "a4ddeaa96fc36ca8",
   "metadata": {
    "ExecuteTime": {
     "end_time": "2024-06-25T10:46:11.393733Z",
     "start_time": "2024-06-25T10:46:11.381025Z"
    }
   },
   "outputs": [
    {
     "name": "stdout",
     "output_type": "stream",
     "text": [
      "Image belong to the Overlapping class\n"
     ]
    }
   ],
   "source": [
    "class_names = ['Circular', 'Intersecting', 'Normal', 'Overlapping']\n",
    "predicted_class = np.argmax(predict)\n",
    "\n",
    "print(f'Image belong to the {class_names[predicted_class]} class')"
   ]
  },
  {
   "cell_type": "code",
   "execution_count": null,
   "id": "6ebee00928a9e444",
   "metadata": {},
   "outputs": [],
   "source": []
  }
 ],
 "metadata": {
  "kernelspec": {
   "display_name": "Python 3 (ipykernel)",
   "language": "python",
   "name": "python3"
  },
  "language_info": {
   "codemirror_mode": {
    "name": "ipython",
    "version": 3
   },
   "file_extension": ".py",
   "mimetype": "text/x-python",
   "name": "python",
   "nbconvert_exporter": "python",
   "pygments_lexer": "ipython3",
   "version": "3.12.3"
  }
 },
 "nbformat": 4,
 "nbformat_minor": 5
}
