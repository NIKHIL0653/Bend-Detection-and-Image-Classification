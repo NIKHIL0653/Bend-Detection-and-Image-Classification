{
 "cells": [
  {
   "cell_type": "code",
   "id": "initial_id",
   "metadata": {
    "collapsed": true,
    "ExecuteTime": {
     "end_time": "2024-06-11T08:00:05.867213Z",
     "start_time": "2024-06-11T08:00:05.856271Z"
    }
   },
   "source": [
    "import tensorflow as tf\n",
    "import os"
   ],
   "outputs": [],
   "execution_count": 241
  },
  {
   "metadata": {
    "ExecuteTime": {
     "end_time": "2024-06-11T08:00:06.561042Z",
     "start_time": "2024-06-11T08:00:06.542466Z"
    }
   },
   "cell_type": "code",
   "source": [
    "cpus = tf.config.experimental.list_physical_devices('CPU')\n",
    "cpus"
   ],
   "id": "1f08eadb2ffe8583",
   "outputs": [
    {
     "data": {
      "text/plain": [
       "[PhysicalDevice(name='/physical_device:CPU:0', device_type='CPU')]"
      ]
     },
     "execution_count": 242,
     "metadata": {},
     "output_type": "execute_result"
    }
   ],
   "execution_count": 242
  },
  {
   "metadata": {
    "ExecuteTime": {
     "end_time": "2024-06-11T08:00:07.175758Z",
     "start_time": "2024-06-11T08:00:07.164592Z"
    }
   },
   "cell_type": "code",
   "source": [
    "cpus = tf.config.experimental.list_physical_devices('GPU')\n",
    "for cpu in cpus:\n",
    "    tf.config.experimental.set_memory_growth(cpu, True)"
   ],
   "id": "d84794e73cc8507",
   "outputs": [],
   "execution_count": 243
  },
  {
   "metadata": {
    "ExecuteTime": {
     "end_time": "2024-06-11T08:00:07.953225Z",
     "start_time": "2024-06-11T08:00:07.943753Z"
    }
   },
   "cell_type": "code",
   "source": [
    "import cv2\n",
    "import imghdr\n",
    "import matplotlib.pyplot as plt\n",
    "import numpy as np"
   ],
   "id": "92bb07d410e9c49a",
   "outputs": [],
   "execution_count": 244
  },
  {
   "metadata": {
    "ExecuteTime": {
     "end_time": "2024-06-11T08:00:08.636658Z",
     "start_time": "2024-06-11T08:00:08.627631Z"
    }
   },
   "cell_type": "code",
   "source": "data_dir = 'dataset'",
   "id": "9c139bda03ceb841",
   "outputs": [],
   "execution_count": 245
  },
  {
   "metadata": {
    "ExecuteTime": {
     "end_time": "2024-06-11T08:00:09.375294Z",
     "start_time": "2024-06-11T08:00:09.358257Z"
    }
   },
   "cell_type": "code",
   "source": "os.listdir(os.path.join(data_dir, 'intersecting'))",
   "id": "82e3f381b426ab0f",
   "outputs": [
    {
     "data": {
      "text/plain": [
       "['intersecting2.png',\n",
       " 'Screenshot 2024-06-11 130058.png',\n",
       " 'Screenshot 2024-06-11 130058_cleanup.png',\n",
       " 'Screenshot 2024-06-11 130208.png',\n",
       " 'Screenshot 2024-06-11 130208_cleanup.png',\n",
       " 'Screenshot 2024-06-11 130337.png',\n",
       " 'Screenshot 2024-06-11 130429.png',\n",
       " 'WhatsApp Image 2024-05-10 at 16.10.31.jpeg']"
      ]
     },
     "execution_count": 246,
     "metadata": {},
     "output_type": "execute_result"
    }
   ],
   "execution_count": 246
  },
  {
   "metadata": {
    "ExecuteTime": {
     "end_time": "2024-06-11T08:00:10.182889Z",
     "start_time": "2024-06-11T08:00:10.173010Z"
    }
   },
   "cell_type": "code",
   "source": "image_exts = ['jpeg','jpg', 'bmp', 'png']",
   "id": "b0d1058ce1652ea8",
   "outputs": [],
   "execution_count": 247
  },
  {
   "metadata": {
    "ExecuteTime": {
     "end_time": "2024-06-11T08:00:10.965584Z",
     "start_time": "2024-06-11T08:00:10.950593Z"
    }
   },
   "cell_type": "code",
   "source": "image_exts",
   "id": "d9708eb4c5a60bdb",
   "outputs": [
    {
     "data": {
      "text/plain": [
       "['jpeg', 'jpg', 'bmp', 'png']"
      ]
     },
     "execution_count": 248,
     "metadata": {},
     "output_type": "execute_result"
    }
   ],
   "execution_count": 248
  },
  {
   "metadata": {
    "ExecuteTime": {
     "end_time": "2024-06-11T08:00:11.699425Z",
     "start_time": "2024-06-11T08:00:11.568058Z"
    }
   },
   "cell_type": "code",
   "source": [
    "for image_class in os.listdir(data_dir):\n",
    "    for image in os.listdir(os.path.join(data_dir, image_class)):\n",
    "        image_path = os.path.join(data_dir, image_class, image)\n",
    "        try:\n",
    "            img = cv2.imread(image_path)\n",
    "            tip = imghdr.what(image_path)\n",
    "            if tip not in image_exts:\n",
    "                print('Image not in ext list {}'.format(image_path))\n",
    "                os.remove(image_path)\n",
    "        except Exception as e:\n",
    "            print('Issue with image {}'.format(image_path))\n",
    "            # os.remove(image_path)"
   ],
   "id": "24bd1dded4a40ad8",
   "outputs": [],
   "execution_count": 249
  },
  {
   "metadata": {},
   "cell_type": "markdown",
   "source": "### Load Data",
   "id": "9d4bbbba3cada0d5"
  },
  {
   "metadata": {
    "ExecuteTime": {
     "end_time": "2024-06-11T08:00:12.771677Z",
     "start_time": "2024-06-11T08:00:12.759334Z"
    }
   },
   "cell_type": "code",
   "source": "tf.data.Dataset",
   "id": "2d4fe6c405ef9882",
   "outputs": [
    {
     "data": {
      "text/plain": [
       "tensorflow.python.data.ops.dataset_ops.DatasetV2"
      ]
     },
     "execution_count": 250,
     "metadata": {},
     "output_type": "execute_result"
    }
   ],
   "execution_count": 250
  },
  {
   "metadata": {
    "ExecuteTime": {
     "end_time": "2024-06-11T08:00:13.502188Z",
     "start_time": "2024-06-11T08:00:13.377083Z"
    }
   },
   "cell_type": "code",
   "source": [
    "# --- 1. Define 'data' ---\n",
    "data = tf.keras.utils.image_dataset_from_directory(\n",
    "    data_dir,\n",
    "    labels='inferred',  # Infers labels from directory structure\n",
    "    label_mode='categorical',  # One-hot encoded labels\n",
    "    image_size=(256, 256),  # Adjust if your images have different dimensions\n",
    "    batch_size=8,  # Adjust based on your memory constraints\n",
    ")"
   ],
   "id": "fa17cec9a05d70db",
   "outputs": [
    {
     "name": "stdout",
     "output_type": "stream",
     "text": [
      "Found 53 files belonging to 4 classes.\n"
     ]
    }
   ],
   "execution_count": 251
  },
  {
   "metadata": {
    "ExecuteTime": {
     "end_time": "2024-06-11T08:00:14.042439Z",
     "start_time": "2024-06-11T08:00:13.983019Z"
    }
   },
   "cell_type": "code",
   "source": "data_iterator = data.as_numpy_iterator()",
   "id": "f1424b468debe67f",
   "outputs": [],
   "execution_count": 252
  },
  {
   "metadata": {
    "ExecuteTime": {
     "end_time": "2024-06-11T08:00:14.562997Z",
     "start_time": "2024-06-11T08:00:14.496142Z"
    }
   },
   "cell_type": "code",
   "source": "batch = data_iterator.next()",
   "id": "5036fb007f0b6128",
   "outputs": [],
   "execution_count": 253
  },
  {
   "metadata": {
    "ExecuteTime": {
     "end_time": "2024-06-11T08:00:14.970151Z",
     "start_time": "2024-06-11T08:00:14.956714Z"
    }
   },
   "cell_type": "code",
   "source": "batch[0].shape",
   "id": "7acf65edf06af2b0",
   "outputs": [
    {
     "data": {
      "text/plain": [
       "(8, 256, 256, 3)"
      ]
     },
     "execution_count": 254,
     "metadata": {},
     "output_type": "execute_result"
    }
   ],
   "execution_count": 254
  },
  {
   "metadata": {
    "ExecuteTime": {
     "end_time": "2024-06-11T08:00:17.099835Z",
     "start_time": "2024-06-11T08:00:15.484996Z"
    }
   },
   "cell_type": "code",
   "source": [
    "class_names = {\n",
    "    0: \"Circular\",\n",
    "    1: \"Intersecting\",\n",
    "    2: \"Normal\",\n",
    "    3: \"Overlapping\",\n",
    "}\n",
    "\n",
    "\n",
    "fig, ax = plt.subplots(ncols=4, figsize=(20, 25))\n",
    "for idx, img in enumerate(batch[0][:4]):\n",
    "    ax[idx].imshow(img.astype(int))\n",
    "    # Convert NumPy array to a hashable type (e.g., integer)\n",
    "    label_index = np.argmax(batch[1][idx])  # Get index of the highest probability class\n",
    "    ax[idx].title.set_text(class_names.get(label_index, \"Unknown\"))\n",
    "\n",
    "    # Add x and y ticks (adjust values based on your image dimensions)\n",
    "    ax[idx].set_xticks(np.arange(0, img.shape[1], 50))  # Ticks every 50 pixels on x-axis\n",
    "    ax[idx].set_yticks(np.arange(0, img.shape[0], 50))  # Ticks every 50 pixels on y-axis\n",
    "\n",
    "    # Optionally, label the ticks with pixel values\n",
    "    ax[idx].set_xticklabels(np.arange(0, img.shape[1], 50))\n",
    "    ax[idx].set_yticklabels(np.arange(0, img.shape[0], 50))\n",
    "\n",
    "plt.show()"
   ],
   "id": "b9d7df7c6837baa6",
   "outputs": [
    {
     "data": {
      "text/plain": [
       "<Figure size 2000x2500 with 4 Axes>"
      ],
      "image/png": "[encoded data removed]"
     },
     "metadata": {},
     "output_type": "display_data"
    }
   ],
   "execution_count": 255
  },
  {
   "metadata": {},
   "cell_type": "markdown",
   "source": "### Scale Data",
   "id": "f80931e505010041"
  },
  {
   "metadata": {
    "ExecuteTime": {
     "end_time": "2024-06-11T08:00:17.135046Z",
     "start_time": "2024-06-11T08:00:17.105392Z"
    }
   },
   "cell_type": "code",
   "source": [
    "data = data.map(lambda x,y: (x/255, y))\n",
    "# important since it helps to perform transformation to convert image min to 0 and max to 1\n",
    "# important while working with data pipeline"
   ],
   "id": "cf95921d3a7a2d41",
   "outputs": [],
   "execution_count": 256
  },
  {
   "metadata": {
    "ExecuteTime": {
     "end_time": "2024-06-11T08:00:17.649355Z",
     "start_time": "2024-06-11T08:00:17.487083Z"
    }
   },
   "cell_type": "code",
   "source": "data.as_numpy_iterator().next()",
   "id": "3666dba7457da7e1",
   "outputs": [
    {
     "data": {
      "text/plain": [
       "(array([[[[0.7137255 , 0.7137255 , 0.7137255 ],\n",
       "          [0.7467142 , 0.7467142 , 0.7467142 ],\n",
       "          [0.86413145, 0.86413145, 0.86413145],\n",
       "          ...,\n",
       "          [0.9962776 , 0.9962776 , 0.9962776 ],\n",
       "          [0.99306065, 0.99306065, 0.99306065],\n",
       "          [0.99215686, 0.99215686, 0.99215686]],\n",
       " \n",
       "         [[0.7137255 , 0.7137255 , 0.7137255 ],\n",
       "          [0.7467142 , 0.7467142 , 0.7467142 ],\n",
       "          [0.86413145, 0.86413145, 0.86413145],\n",
       "          ...,\n",
       "          [0.9962776 , 0.9962776 , 0.9962776 ],\n",
       "          [0.99306065, 0.99306065, 0.99306065],\n",
       "          [0.99215686, 0.99215686, 0.99215686]],\n",
       " \n",
       "         [[0.7137255 , 0.7137255 , 0.7137255 ],\n",
       "          [0.7467142 , 0.7467142 , 0.7467142 ],\n",
       "          [0.86413145, 0.86413145, 0.86413145],\n",
       "          ...,\n",
       "          [0.9962776 , 0.9962776 , 0.9962776 ],\n",
       "          [0.99306065, 0.99306065, 0.99306065],\n",
       "          [0.99215686, 0.99215686, 0.99215686]],\n",
       " \n",
       "         ...,\n",
       " \n",
       "         [[0.7137255 , 0.7137255 , 0.7137255 ],\n",
       "          [0.7467142 , 0.7467142 , 0.7467142 ],\n",
       "          [0.86413145, 0.86413145, 0.86413145],\n",
       "          ...,\n",
       "          [0.9888327 , 0.9888327 , 0.9888327 ],\n",
       "          [0.979182  , 0.979182  , 0.979182  ],\n",
       "          [0.9764706 , 0.9764706 , 0.9764706 ]],\n",
       " \n",
       "         [[0.7137255 , 0.7137255 , 0.7137255 ],\n",
       "          [0.7467142 , 0.7467142 , 0.7467142 ],\n",
       "          [0.86413145, 0.86413145, 0.86413145],\n",
       "          ...,\n",
       "          [0.9888327 , 0.9888327 , 0.9888327 ],\n",
       "          [0.979182  , 0.979182  , 0.979182  ],\n",
       "          [0.9764706 , 0.9764706 , 0.9764706 ]],\n",
       " \n",
       "         [[0.7137255 , 0.7137255 , 0.7137255 ],\n",
       "          [0.7467142 , 0.7467142 , 0.7467142 ],\n",
       "          [0.86413145, 0.86413145, 0.86413145],\n",
       "          ...,\n",
       "          [0.9888327 , 0.9888327 , 0.9888327 ],\n",
       "          [0.979182  , 0.979182  , 0.979182  ],\n",
       "          [0.9764706 , 0.9764706 , 0.9764706 ]]],\n",
       " \n",
       " \n",
       "        [[[1.        , 1.        , 1.        ],\n",
       "          [1.        , 1.        , 1.        ],\n",
       "          [1.        , 1.        , 1.        ],\n",
       "          ...,\n",
       "          [1.        , 1.        , 1.        ],\n",
       "          [1.        , 1.        , 1.        ],\n",
       "          [1.        , 1.        , 1.        ]],\n",
       " \n",
       "         [[1.        , 1.        , 1.        ],\n",
       "          [1.        , 1.        , 1.        ],\n",
       "          [1.        , 1.        , 1.        ],\n",
       "          ...,\n",
       "          [1.        , 1.        , 1.        ],\n",
       "          [1.        , 1.        , 1.        ],\n",
       "          [1.        , 1.        , 1.        ]],\n",
       " \n",
       "         [[1.        , 1.        , 1.        ],\n",
       "          [1.        , 1.        , 1.        ],\n",
       "          [1.        , 1.        , 1.        ],\n",
       "          ...,\n",
       "          [1.        , 1.        , 1.        ],\n",
       "          [1.        , 1.        , 1.        ],\n",
       "          [1.        , 1.        , 1.        ]],\n",
       " \n",
       "         ...,\n",
       " \n",
       "         [[1.        , 1.        , 1.        ],\n",
       "          [1.        , 1.        , 1.        ],\n",
       "          [1.        , 1.        , 1.        ],\n",
       "          ...,\n",
       "          [1.        , 1.        , 1.        ],\n",
       "          [1.        , 1.        , 1.        ],\n",
       "          [1.        , 1.        , 1.        ]],\n",
       " \n",
       "         [[1.        , 1.        , 1.        ],\n",
       "          [1.        , 1.        , 1.        ],\n",
       "          [1.        , 1.        , 1.        ],\n",
       "          ...,\n",
       "          [1.        , 1.        , 1.        ],\n",
       "          [1.        , 1.        , 1.        ],\n",
       "          [1.        , 1.        , 1.        ]],\n",
       " \n",
       "         [[1.        , 1.        , 1.        ],\n",
       "          [1.        , 1.        , 1.        ],\n",
       "          [1.        , 1.        , 1.        ],\n",
       "          ...,\n",
       "          [1.        , 1.        , 1.        ],\n",
       "          [1.        , 1.        , 1.        ],\n",
       "          [1.        , 1.        , 1.        ]]],\n",
       " \n",
       " \n",
       "        [[[1.        , 1.        , 1.        ],\n",
       "          [1.        , 1.        , 1.        ],\n",
       "          [1.        , 1.        , 1.        ],\n",
       "          ...,\n",
       "          [1.        , 1.        , 1.        ],\n",
       "          [1.        , 1.        , 1.        ],\n",
       "          [1.        , 1.        , 1.        ]],\n",
       " \n",
       "         [[1.        , 1.        , 1.        ],\n",
       "          [1.        , 1.        , 1.        ],\n",
       "          [1.        , 1.        , 1.        ],\n",
       "          ...,\n",
       "          [1.        , 1.        , 1.        ],\n",
       "          [1.        , 1.        , 1.        ],\n",
       "          [1.        , 1.        , 1.        ]],\n",
       " \n",
       "         [[1.        , 1.        , 1.        ],\n",
       "          [1.        , 1.        , 1.        ],\n",
       "          [1.        , 1.        , 1.        ],\n",
       "          ...,\n",
       "          [1.        , 1.        , 1.        ],\n",
       "          [1.        , 1.        , 1.        ],\n",
       "          [1.        , 1.        , 1.        ]],\n",
       " \n",
       "         ...,\n",
       " \n",
       "         [[1.        , 1.        , 1.        ],\n",
       "          [1.        , 1.        , 1.        ],\n",
       "          [1.        , 1.        , 1.        ],\n",
       "          ...,\n",
       "          [1.        , 1.        , 1.        ],\n",
       "          [1.        , 1.        , 1.        ],\n",
       "          [1.        , 1.        , 1.        ]],\n",
       " \n",
       "         [[1.        , 1.        , 1.        ],\n",
       "          [1.        , 1.        , 1.        ],\n",
       "          [1.        , 1.        , 1.        ],\n",
       "          ...,\n",
       "          [1.        , 1.        , 1.        ],\n",
       "          [1.        , 1.        , 1.        ],\n",
       "          [1.        , 1.        , 1.        ]],\n",
       " \n",
       "         [[1.        , 1.        , 1.        ],\n",
       "          [1.        , 1.        , 1.        ],\n",
       "          [1.        , 1.        , 1.        ],\n",
       "          ...,\n",
       "          [1.        , 1.        , 1.        ],\n",
       "          [1.        , 1.        , 1.        ],\n",
       "          [1.        , 1.        , 1.        ]]],\n",
       " \n",
       " \n",
       "        ...,\n",
       " \n",
       " \n",
       "        [[[0.72156864, 0.72156864, 0.72156864],\n",
       "          [0.75365347, 0.75365347, 0.75365347],\n",
       "          [0.8678539 , 0.8678539 , 0.8678539 ],\n",
       "          ...,\n",
       "          [0.97952664, 0.97952664, 0.97952664],\n",
       "          [0.96183366, 0.96183366, 0.96183366],\n",
       "          [0.95686275, 0.95686275, 0.95686275]],\n",
       " \n",
       "         [[0.72156864, 0.72156864, 0.72156864],\n",
       "          [0.75365347, 0.75365347, 0.75365347],\n",
       "          [0.8678539 , 0.8678539 , 0.8678539 ],\n",
       "          ...,\n",
       "          [0.97952664, 0.97952664, 0.97952664],\n",
       "          [0.96183366, 0.96183366, 0.96183366],\n",
       "          [0.95686275, 0.95686275, 0.95686275]],\n",
       " \n",
       "         [[0.72156864, 0.72156864, 0.72156864],\n",
       "          [0.75365347, 0.75365347, 0.75365347],\n",
       "          [0.8678539 , 0.8678539 , 0.8678539 ],\n",
       "          ...,\n",
       "          [0.97952664, 0.97952664, 0.97952664],\n",
       "          [0.96183366, 0.96183366, 0.96183366],\n",
       "          [0.95686275, 0.95686275, 0.95686275]],\n",
       " \n",
       "         ...,\n",
       " \n",
       "         [[0.7176471 , 0.7176471 , 0.7176471 ],\n",
       "          [0.7501838 , 0.7501838 , 0.7501838 ],\n",
       "          [0.86599267, 0.86599267, 0.86599267],\n",
       "          ...,\n",
       "          [0.99255514, 0.99255514, 0.99255514],\n",
       "          [0.9861213 , 0.9861213 , 0.9861213 ],\n",
       "          [0.9843137 , 0.9843137 , 0.9843137 ]],\n",
       " \n",
       "         [[0.7176471 , 0.7176471 , 0.7176471 ],\n",
       "          [0.7501838 , 0.7501838 , 0.7501838 ],\n",
       "          [0.86599267, 0.86599267, 0.86599267],\n",
       "          ...,\n",
       "          [0.99255514, 0.99255514, 0.99255514],\n",
       "          [0.9861213 , 0.9861213 , 0.9861213 ],\n",
       "          [0.9843137 , 0.9843137 , 0.9843137 ]],\n",
       " \n",
       "         [[0.7176471 , 0.7176471 , 0.7176471 ],\n",
       "          [0.7501838 , 0.7501838 , 0.7501838 ],\n",
       "          [0.86599267, 0.86599267, 0.86599267],\n",
       "          ...,\n",
       "          [0.99255514, 0.99255514, 0.99255514],\n",
       "          [0.9861213 , 0.9861213 , 0.9861213 ],\n",
       "          [0.9843137 , 0.9843137 , 0.9843137 ]]],\n",
       " \n",
       " \n",
       "        [[[0.65882355, 0.65882355, 0.65882355],\n",
       "          [0.6981388 , 0.6981388 , 0.6981388 ],\n",
       "          [0.83807445, 0.83807445, 0.83807445],\n",
       "          ...,\n",
       "          [0.9851103 , 0.9851103 , 0.9851103 ],\n",
       "          [0.97224265, 0.97224265, 0.97224265],\n",
       "          [0.96862745, 0.96862745, 0.96862745]],\n",
       " \n",
       "         [[0.65882355, 0.65882355, 0.65882355],\n",
       "          [0.6981388 , 0.6981388 , 0.6981388 ],\n",
       "          [0.83807445, 0.83807445, 0.83807445],\n",
       "          ...,\n",
       "          [0.9851103 , 0.9851103 , 0.9851103 ],\n",
       "          [0.97224265, 0.97224265, 0.97224265],\n",
       "          [0.96862745, 0.96862745, 0.96862745]],\n",
       " \n",
       "         [[0.65882355, 0.65882355, 0.65882355],\n",
       "          [0.6981388 , 0.6981388 , 0.6981388 ],\n",
       "          [0.83807445, 0.83807445, 0.83807445],\n",
       "          ...,\n",
       "          [0.9851103 , 0.9851103 , 0.9851103 ],\n",
       "          [0.97224265, 0.97224265, 0.97224265],\n",
       "          [0.96862745, 0.96862745, 0.96862745]],\n",
       " \n",
       "         ...,\n",
       " \n",
       "         [[0.73333335, 0.73333335, 0.73333335],\n",
       "          [0.7640625 , 0.7640625 , 0.7640625 ],\n",
       "          [0.8734375 , 0.8734375 , 0.8734375 ],\n",
       "          ...,\n",
       "          [0.9904948 , 0.9904948 , 0.9904948 ],\n",
       "          [0.98566943, 0.98566943, 0.98566943],\n",
       "          [0.9843137 , 0.9843137 , 0.9843137 ]],\n",
       " \n",
       "         [[0.73333335, 0.73333335, 0.73333335],\n",
       "          [0.7640625 , 0.7640625 , 0.7640625 ],\n",
       "          [0.8734375 , 0.8734375 , 0.8734375 ],\n",
       "          ...,\n",
       "          [0.9904948 , 0.9904948 , 0.9904948 ],\n",
       "          [0.98566943, 0.98566943, 0.98566943],\n",
       "          [0.9843137 , 0.9843137 , 0.9843137 ]],\n",
       " \n",
       "         [[0.73333335, 0.73333335, 0.73333335],\n",
       "          [0.7640625 , 0.7640625 , 0.7640625 ],\n",
       "          [0.8734375 , 0.8734375 , 0.8734375 ],\n",
       "          ...,\n",
       "          [0.9904948 , 0.9904948 , 0.9904948 ],\n",
       "          [0.98566943, 0.98566943, 0.98566943],\n",
       "          [0.9843137 , 0.9843137 , 0.9843137 ]]],\n",
       " \n",
       " \n",
       "        [[[1.        , 1.        , 1.        ],\n",
       "          [1.        , 1.        , 1.        ],\n",
       "          [1.        , 1.        , 1.        ],\n",
       "          ...,\n",
       "          [1.        , 1.        , 1.        ],\n",
       "          [1.        , 1.        , 1.        ],\n",
       "          [1.        , 1.        , 1.        ]],\n",
       " \n",
       "         [[1.        , 1.        , 1.        ],\n",
       "          [1.        , 1.        , 1.        ],\n",
       "          [1.        , 1.        , 1.        ],\n",
       "          ...,\n",
       "          [1.        , 1.        , 1.        ],\n",
       "          [1.        , 1.        , 1.        ],\n",
       "          [1.        , 1.        , 1.        ]],\n",
       " \n",
       "         [[1.        , 1.        , 1.        ],\n",
       "          [1.        , 1.        , 1.        ],\n",
       "          [1.        , 1.        , 1.        ],\n",
       "          ...,\n",
       "          [1.        , 1.        , 1.        ],\n",
       "          [1.        , 1.        , 1.        ],\n",
       "          [1.        , 1.        , 1.        ]],\n",
       " \n",
       "         ...,\n",
       " \n",
       "         [[1.        , 1.        , 1.        ],\n",
       "          [1.        , 1.        , 1.        ],\n",
       "          [1.        , 1.        , 1.        ],\n",
       "          ...,\n",
       "          [1.        , 1.        , 1.        ],\n",
       "          [1.        , 1.        , 1.        ],\n",
       "          [1.        , 1.        , 1.        ]],\n",
       " \n",
       "         [[1.        , 1.        , 1.        ],\n",
       "          [1.        , 1.        , 1.        ],\n",
       "          [1.        , 1.        , 1.        ],\n",
       "          ...,\n",
       "          [1.        , 1.        , 1.        ],\n",
       "          [1.        , 1.        , 1.        ],\n",
       "          [1.        , 1.        , 1.        ]],\n",
       " \n",
       "         [[1.        , 1.        , 1.        ],\n",
       "          [1.        , 1.        , 1.        ],\n",
       "          [1.        , 1.        , 1.        ],\n",
       "          ...,\n",
       "          [1.        , 1.        , 1.        ],\n",
       "          [1.        , 1.        , 1.        ],\n",
       "          [1.        , 1.        , 1.        ]]]], dtype=float32),\n",
       " array([[0., 0., 0., 1.],\n",
       "        [0., 1., 0., 0.],\n",
       "        [0., 0., 0., 1.],\n",
       "        [0., 0., 1., 0.],\n",
       "        [0., 0., 1., 0.],\n",
       "        [0., 0., 1., 0.],\n",
       "        [0., 0., 0., 1.],\n",
       "        [0., 0., 1., 0.]], dtype=float32))"
      ]
     },
     "execution_count": 257,
     "metadata": {},
     "output_type": "execute_result"
    }
   ],
   "execution_count": 257
  },
  {
   "metadata": {},
   "cell_type": "markdown",
   "source": "### Split Data",
   "id": "f737a5541d0c10a5"
  },
  {
   "metadata": {
    "ExecuteTime": {
     "end_time": "2024-06-11T08:00:26.123909Z",
     "start_time": "2024-06-11T08:00:26.108380Z"
    }
   },
   "cell_type": "code",
   "source": "len(data) # num of batches",
   "id": "7721b9913f7cff37",
   "outputs": [
    {
     "data": {
      "text/plain": [
       "7"
      ]
     },
     "execution_count": 258,
     "metadata": {},
     "output_type": "execute_result"
    }
   ],
   "execution_count": 258
  },
  {
   "metadata": {
    "ExecuteTime": {
     "end_time": "2024-06-11T08:05:37.024031Z",
     "start_time": "2024-06-11T08:05:37.011634Z"
    }
   },
   "cell_type": "code",
   "source": [
    "train_size = int(len(data)*.7)-1\n",
    "val_size = int(len(data)*.2)+2\n",
    "test_size = int(len(data)*.1)+1"
   ],
   "id": "bac979a8e2861b07",
   "outputs": [],
   "execution_count": 296
  },
  {
   "metadata": {
    "ExecuteTime": {
     "end_time": "2024-06-11T08:05:37.384274Z",
     "start_time": "2024-06-11T08:05:37.370172Z"
    }
   },
   "cell_type": "code",
   "source": "train_size",
   "id": "2ee0f1086ecb09af",
   "outputs": [
    {
     "data": {
      "text/plain": [
       "3"
      ]
     },
     "execution_count": 297,
     "metadata": {},
     "output_type": "execute_result"
    }
   ],
   "execution_count": 297
  },
  {
   "metadata": {
    "ExecuteTime": {
     "end_time": "2024-06-11T08:05:39.691909Z",
     "start_time": "2024-06-11T08:05:39.664920Z"
    }
   },
   "cell_type": "code",
   "source": [
    "train = data.take(train_size)\n",
    "val = data.skip(train_size).take(val_size)\n",
    "test = data.skip(train_size+val_size).take(test_size)\n",
    "\n",
    "# Established train, test and val partition"
   ],
   "id": "538a86bc24613503",
   "outputs": [],
   "execution_count": 298
  },
  {
   "metadata": {
    "ExecuteTime": {
     "end_time": "2024-06-11T08:05:40.708360Z",
     "start_time": "2024-06-11T08:05:40.227948Z"
    }
   },
   "cell_type": "code",
   "source": [
    "train_labels = np.concatenate([y for x, y in train], axis=0)\n",
    "val_labels = np.concatenate([y for x, y in val], axis=0)\n",
    "test_labels = np.concatenate([y for x, y in test], axis=0)\n",
    "\n",
    "# One-hot encode the labels (if needed for your model)\n",
    "train_labels = tf.keras.utils.to_categorical(train_labels)\n",
    "val_labels = tf.keras.utils.to_categorical(val_labels)\n",
    "test_labels = tf.keras.utils.to_categorical(test_labels)"
   ],
   "id": "3c0f8b2dd9491a35",
   "outputs": [],
   "execution_count": 299
  },
  {
   "metadata": {},
   "cell_type": "markdown",
   "source": "### Building the model",
   "id": "139d9905058e46a2"
  },
  {
   "metadata": {
    "ExecuteTime": {
     "end_time": "2024-06-11T08:05:41.167313Z",
     "start_time": "2024-06-11T08:05:41.156908Z"
    }
   },
   "cell_type": "code",
   "source": [
    "from tensorflow.keras.models import Sequential\n",
    "from tensorflow.keras.layers import Conv2D, MaxPooling2D, Dense, Flatten"
   ],
   "id": "1f0c9a41bbf3b772",
   "outputs": [],
   "execution_count": 300
  },
  {
   "metadata": {
    "ExecuteTime": {
     "end_time": "2024-06-11T08:05:41.827711Z",
     "start_time": "2024-06-11T08:05:41.612624Z"
    }
   },
   "cell_type": "code",
   "source": [
    "num_classes = 4\n",
    "model = tf.keras.models.Sequential()\n",
    "model.add(tf.keras.layers.Conv2D(16, (3,3), 1, activation='relu', input_shape=(256,256,3)))\n",
    "model.add(tf.keras.layers.MaxPooling2D())\n",
    "model.add(tf.keras.layers.Conv2D(32, (3,3), 1, activation='relu'))\n",
    "model.add(tf.keras.layers.MaxPooling2D())\n",
    "model.add(tf.keras.layers.Conv2D(16, (3,3), 1, activation='relu'))\n",
    "model.add(tf.keras.layers.MaxPooling2D())\n",
    "model.add(tf.keras.layers.Flatten())\n",
    "model.add(tf.keras.layers.Dense(256, activation='relu'))\n",
    "model.add(tf.keras.layers.Dense(num_classes, activation='softmax'))"
   ],
   "id": "7a009b60149ea845",
   "outputs": [],
   "execution_count": 301
  },
  {
   "metadata": {
    "ExecuteTime": {
     "end_time": "2024-06-11T08:05:42.079173Z",
     "start_time": "2024-06-11T08:05:42.060273Z"
    }
   },
   "cell_type": "code",
   "source": [
    "model.compile(optimizer='adam',\n",
    "              loss='categorical_crossentropy',\n",
    "              metrics=['accuracy'])"
   ],
   "id": "edfdf4143d09ce7b",
   "outputs": [],
   "execution_count": 302
  },
  {
   "metadata": {
    "ExecuteTime": {
     "end_time": "2024-06-11T08:05:42.497646Z",
     "start_time": "2024-06-11T08:05:42.437355Z"
    }
   },
   "cell_type": "code",
   "source": "model.summary()",
   "id": "abd5fa2a2feccfc8",
   "outputs": [
    {
     "data": {
      "text/plain": [
       "\u001B[1mModel: \"sequential_6\"\u001B[0m\n"
      ],
      "text/html": [
       "<pre style=\"white-space:pre;overflow-x:auto;line-height:normal;font-family:Menlo,'DejaVu Sans Mono',consolas,'Courier New',monospace\"><span style=\"font-weight: bold\">Model: \"sequential_6\"</span>\n",
       "</pre>\n"
      ]
     },
     "metadata": {},
     "output_type": "display_data"
    },
    {
     "data": {
      "text/plain": [
       "┏━━━━━━━━━━━━━━━━━━━━━━━━━━━━━━━━━┳━━━━━━━━━━━━━━━━━━━━━━━━┳━━━━━━━━━━━━━━━┓\n",
       "┃\u001B[1m \u001B[0m\u001B[1mLayer (type)                   \u001B[0m\u001B[1m \u001B[0m┃\u001B[1m \u001B[0m\u001B[1mOutput Shape          \u001B[0m\u001B[1m \u001B[0m┃\u001B[1m \u001B[0m\u001B[1m      Param #\u001B[0m\u001B[1m \u001B[0m┃\n",
       "┡━━━━━━━━━━━━━━━━━━━━━━━━━━━━━━━━━╇━━━━━━━━━━━━━━━━━━━━━━━━╇━━━━━━━━━━━━━━━┩\n",
       "│ conv2d_18 (\u001B[38;5;33mConv2D\u001B[0m)              │ (\u001B[38;5;45mNone\u001B[0m, \u001B[38;5;34m254\u001B[0m, \u001B[38;5;34m254\u001B[0m, \u001B[38;5;34m16\u001B[0m)   │           \u001B[38;5;34m448\u001B[0m │\n",
       "├─────────────────────────────────┼────────────────────────┼───────────────┤\n",
       "│ max_pooling2d_18 (\u001B[38;5;33mMaxPooling2D\u001B[0m) │ (\u001B[38;5;45mNone\u001B[0m, \u001B[38;5;34m127\u001B[0m, \u001B[38;5;34m127\u001B[0m, \u001B[38;5;34m16\u001B[0m)   │             \u001B[38;5;34m0\u001B[0m │\n",
       "├─────────────────────────────────┼────────────────────────┼───────────────┤\n",
       "│ conv2d_19 (\u001B[38;5;33mConv2D\u001B[0m)              │ (\u001B[38;5;45mNone\u001B[0m, \u001B[38;5;34m125\u001B[0m, \u001B[38;5;34m125\u001B[0m, \u001B[38;5;34m32\u001B[0m)   │         \u001B[38;5;34m4,640\u001B[0m │\n",
       "├─────────────────────────────────┼────────────────────────┼───────────────┤\n",
       "│ max_pooling2d_19 (\u001B[38;5;33mMaxPooling2D\u001B[0m) │ (\u001B[38;5;45mNone\u001B[0m, \u001B[38;5;34m62\u001B[0m, \u001B[38;5;34m62\u001B[0m, \u001B[38;5;34m32\u001B[0m)     │             \u001B[38;5;34m0\u001B[0m │\n",
       "├─────────────────────────────────┼────────────────────────┼───────────────┤\n",
       "│ conv2d_20 (\u001B[38;5;33mConv2D\u001B[0m)              │ (\u001B[38;5;45mNone\u001B[0m, \u001B[38;5;34m60\u001B[0m, \u001B[38;5;34m60\u001B[0m, \u001B[38;5;34m16\u001B[0m)     │         \u001B[38;5;34m4,624\u001B[0m │\n",
       "├─────────────────────────────────┼────────────────────────┼───────────────┤\n",
       "│ max_pooling2d_20 (\u001B[38;5;33mMaxPooling2D\u001B[0m) │ (\u001B[38;5;45mNone\u001B[0m, \u001B[38;5;34m30\u001B[0m, \u001B[38;5;34m30\u001B[0m, \u001B[38;5;34m16\u001B[0m)     │             \u001B[38;5;34m0\u001B[0m │\n",
       "├─────────────────────────────────┼────────────────────────┼───────────────┤\n",
       "│ flatten_6 (\u001B[38;5;33mFlatten\u001B[0m)             │ (\u001B[38;5;45mNone\u001B[0m, \u001B[38;5;34m14400\u001B[0m)          │             \u001B[38;5;34m0\u001B[0m │\n",
       "├─────────────────────────────────┼────────────────────────┼───────────────┤\n",
       "│ dense_12 (\u001B[38;5;33mDense\u001B[0m)                │ (\u001B[38;5;45mNone\u001B[0m, \u001B[38;5;34m256\u001B[0m)            │     \u001B[38;5;34m3,686,656\u001B[0m │\n",
       "├─────────────────────────────────┼────────────────────────┼───────────────┤\n",
       "│ dense_13 (\u001B[38;5;33mDense\u001B[0m)                │ (\u001B[38;5;45mNone\u001B[0m, \u001B[38;5;34m4\u001B[0m)              │         \u001B[38;5;34m1,028\u001B[0m │\n",
       "└─────────────────────────────────┴────────────────────────┴───────────────┘\n"
      ],
      "text/html": [
       "<pre style=\"white-space:pre;overflow-x:auto;line-height:normal;font-family:Menlo,'DejaVu Sans Mono',consolas,'Courier New',monospace\">┏━━━━━━━━━━━━━━━━━━━━━━━━━━━━━━━━━┳━━━━━━━━━━━━━━━━━━━━━━━━┳━━━━━━━━━━━━━━━┓\n",
       "┃<span style=\"font-weight: bold\"> Layer (type)                    </span>┃<span style=\"font-weight: bold\"> Output Shape           </span>┃<span style=\"font-weight: bold\">       Param # </span>┃\n",
       "┡━━━━━━━━━━━━━━━━━━━━━━━━━━━━━━━━━╇━━━━━━━━━━━━━━━━━━━━━━━━╇━━━━━━━━━━━━━━━┩\n",
       "│ conv2d_18 (<span style=\"color: #0087ff; text-decoration-color: #0087ff\">Conv2D</span>)              │ (<span style=\"color: #00d7ff; text-decoration-color: #00d7ff\">None</span>, <span style=\"color: #00af00; text-decoration-color: #00af00\">254</span>, <span style=\"color: #00af00; text-decoration-color: #00af00\">254</span>, <span style=\"color: #00af00; text-decoration-color: #00af00\">16</span>)   │           <span style=\"color: #00af00; text-decoration-color: #00af00\">448</span> │\n",
       "├─────────────────────────────────┼────────────────────────┼───────────────┤\n",
       "│ max_pooling2d_18 (<span style=\"color: #0087ff; text-decoration-color: #0087ff\">MaxPooling2D</span>) │ (<span style=\"color: #00d7ff; text-decoration-color: #00d7ff\">None</span>, <span style=\"color: #00af00; text-decoration-color: #00af00\">127</span>, <span style=\"color: #00af00; text-decoration-color: #00af00\">127</span>, <span style=\"color: #00af00; text-decoration-color: #00af00\">16</span>)   │             <span style=\"color: #00af00; text-decoration-color: #00af00\">0</span> │\n",
       "├─────────────────────────────────┼────────────────────────┼───────────────┤\n",
       "│ conv2d_19 (<span style=\"color: #0087ff; text-decoration-color: #0087ff\">Conv2D</span>)              │ (<span style=\"color: #00d7ff; text-decoration-color: #00d7ff\">None</span>, <span style=\"color: #00af00; text-decoration-color: #00af00\">125</span>, <span style=\"color: #00af00; text-decoration-color: #00af00\">125</span>, <span style=\"color: #00af00; text-decoration-color: #00af00\">32</span>)   │         <span style=\"color: #00af00; text-decoration-color: #00af00\">4,640</span> │\n",
       "├─────────────────────────────────┼────────────────────────┼───────────────┤\n",
       "│ max_pooling2d_19 (<span style=\"color: #0087ff; text-decoration-color: #0087ff\">MaxPooling2D</span>) │ (<span style=\"color: #00d7ff; text-decoration-color: #00d7ff\">None</span>, <span style=\"color: #00af00; text-decoration-color: #00af00\">62</span>, <span style=\"color: #00af00; text-decoration-color: #00af00\">62</span>, <span style=\"color: #00af00; text-decoration-color: #00af00\">32</span>)     │             <span style=\"color: #00af00; text-decoration-color: #00af00\">0</span> │\n",
       "├─────────────────────────────────┼────────────────────────┼───────────────┤\n",
       "│ conv2d_20 (<span style=\"color: #0087ff; text-decoration-color: #0087ff\">Conv2D</span>)              │ (<span style=\"color: #00d7ff; text-decoration-color: #00d7ff\">None</span>, <span style=\"color: #00af00; text-decoration-color: #00af00\">60</span>, <span style=\"color: #00af00; text-decoration-color: #00af00\">60</span>, <span style=\"color: #00af00; text-decoration-color: #00af00\">16</span>)     │         <span style=\"color: #00af00; text-decoration-color: #00af00\">4,624</span> │\n",
       "├─────────────────────────────────┼────────────────────────┼───────────────┤\n",
       "│ max_pooling2d_20 (<span style=\"color: #0087ff; text-decoration-color: #0087ff\">MaxPooling2D</span>) │ (<span style=\"color: #00d7ff; text-decoration-color: #00d7ff\">None</span>, <span style=\"color: #00af00; text-decoration-color: #00af00\">30</span>, <span style=\"color: #00af00; text-decoration-color: #00af00\">30</span>, <span style=\"color: #00af00; text-decoration-color: #00af00\">16</span>)     │             <span style=\"color: #00af00; text-decoration-color: #00af00\">0</span> │\n",
       "├─────────────────────────────────┼────────────────────────┼───────────────┤\n",
       "│ flatten_6 (<span style=\"color: #0087ff; text-decoration-color: #0087ff\">Flatten</span>)             │ (<span style=\"color: #00d7ff; text-decoration-color: #00d7ff\">None</span>, <span style=\"color: #00af00; text-decoration-color: #00af00\">14400</span>)          │             <span style=\"color: #00af00; text-decoration-color: #00af00\">0</span> │\n",
       "├─────────────────────────────────┼────────────────────────┼───────────────┤\n",
       "│ dense_12 (<span style=\"color: #0087ff; text-decoration-color: #0087ff\">Dense</span>)                │ (<span style=\"color: #00d7ff; text-decoration-color: #00d7ff\">None</span>, <span style=\"color: #00af00; text-decoration-color: #00af00\">256</span>)            │     <span style=\"color: #00af00; text-decoration-color: #00af00\">3,686,656</span> │\n",
       "├─────────────────────────────────┼────────────────────────┼───────────────┤\n",
       "│ dense_13 (<span style=\"color: #0087ff; text-decoration-color: #0087ff\">Dense</span>)                │ (<span style=\"color: #00d7ff; text-decoration-color: #00d7ff\">None</span>, <span style=\"color: #00af00; text-decoration-color: #00af00\">4</span>)              │         <span style=\"color: #00af00; text-decoration-color: #00af00\">1,028</span> │\n",
       "└─────────────────────────────────┴────────────────────────┴───────────────┘\n",
       "</pre>\n"
      ]
     },
     "metadata": {},
     "output_type": "display_data"
    },
    {
     "data": {
      "text/plain": [
       "\u001B[1m Total params: \u001B[0m\u001B[38;5;34m3,697,396\u001B[0m (14.10 MB)\n"
      ],
      "text/html": [
       "<pre style=\"white-space:pre;overflow-x:auto;line-height:normal;font-family:Menlo,'DejaVu Sans Mono',consolas,'Courier New',monospace\"><span style=\"font-weight: bold\"> Total params: </span><span style=\"color: #00af00; text-decoration-color: #00af00\">3,697,396</span> (14.10 MB)\n",
       "</pre>\n"
      ]
     },
     "metadata": {},
     "output_type": "display_data"
    },
    {
     "data": {
      "text/plain": [
       "\u001B[1m Trainable params: \u001B[0m\u001B[38;5;34m3,697,396\u001B[0m (14.10 MB)\n"
      ],
      "text/html": [
       "<pre style=\"white-space:pre;overflow-x:auto;line-height:normal;font-family:Menlo,'DejaVu Sans Mono',consolas,'Courier New',monospace\"><span style=\"font-weight: bold\"> Trainable params: </span><span style=\"color: #00af00; text-decoration-color: #00af00\">3,697,396</span> (14.10 MB)\n",
       "</pre>\n"
      ]
     },
     "metadata": {},
     "output_type": "display_data"
    },
    {
     "data": {
      "text/plain": [
       "\u001B[1m Non-trainable params: \u001B[0m\u001B[38;5;34m0\u001B[0m (0.00 B)\n"
      ],
      "text/html": [
       "<pre style=\"white-space:pre;overflow-x:auto;line-height:normal;font-family:Menlo,'DejaVu Sans Mono',consolas,'Courier New',monospace\"><span style=\"font-weight: bold\"> Non-trainable params: </span><span style=\"color: #00af00; text-decoration-color: #00af00\">0</span> (0.00 B)\n",
       "</pre>\n"
      ]
     },
     "metadata": {},
     "output_type": "display_data"
    }
   ],
   "execution_count": 303
  },
  {
   "metadata": {
    "ExecuteTime": {
     "end_time": "2024-06-11T08:05:42.939557Z",
     "start_time": "2024-06-11T08:05:42.930836Z"
    }
   },
   "cell_type": "code",
   "source": "logdir = 'logs'",
   "id": "852f20a55c8c4831",
   "outputs": [],
   "execution_count": 304
  },
  {
   "metadata": {
    "ExecuteTime": {
     "end_time": "2024-06-11T08:05:43.585560Z",
     "start_time": "2024-06-11T08:05:43.577056Z"
    }
   },
   "cell_type": "code",
   "source": "tensorboard_callback = tf.keras.callbacks.TensorBoard(log_dir=logdir)",
   "id": "7afaba3461ab9f26",
   "outputs": [],
   "execution_count": 305
  },
  {
   "metadata": {
    "ExecuteTime": {
     "end_time": "2024-06-11T08:06:01.787554Z",
     "start_time": "2024-06-11T08:05:44.560129Z"
    }
   },
   "cell_type": "code",
   "source": "hist = model.fit(train, epochs=20, validation_data=val, callbacks=[tensorboard_callback])",
   "id": "b9a43dbca7eceeb2",
   "outputs": [
    {
     "name": "stdout",
     "output_type": "stream",
     "text": [
      "Epoch 1/20\n",
      "\u001B[1m3/3\u001B[0m \u001B[32m━━━━━━━━━━━━━━━━━━━━\u001B[0m\u001B[37m\u001B[0m \u001B[1m6s\u001B[0m 411ms/step - accuracy: 0.1823 - loss: 1.9523 - val_accuracy: 0.3333 - val_loss: 1.4030\n",
      "Epoch 2/20\n",
      "\u001B[1m3/3\u001B[0m \u001B[32m━━━━━━━━━━━━━━━━━━━━\u001B[0m\u001B[37m\u001B[0m \u001B[1m1s\u001B[0m 195ms/step - accuracy: 0.2344 - loss: 1.3995 - val_accuracy: 0.2917 - val_loss: 1.3045\n",
      "Epoch 3/20\n",
      "\u001B[1m3/3\u001B[0m \u001B[32m━━━━━━━━━━━━━━━━━━━━\u001B[0m\u001B[37m\u001B[0m \u001B[1m1s\u001B[0m 201ms/step - accuracy: 0.4271 - loss: 1.1196 - val_accuracy: 0.6667 - val_loss: 0.9480\n",
      "Epoch 4/20\n",
      "\u001B[1m3/3\u001B[0m \u001B[32m━━━━━━━━━━━━━━━━━━━━\u001B[0m\u001B[37m\u001B[0m \u001B[1m1s\u001B[0m 215ms/step - accuracy: 0.5625 - loss: 1.2616 - val_accuracy: 0.7500 - val_loss: 1.2222\n",
      "Epoch 5/20\n",
      "\u001B[1m3/3\u001B[0m \u001B[32m━━━━━━━━━━━━━━━━━━━━\u001B[0m\u001B[37m\u001B[0m \u001B[1m1s\u001B[0m 191ms/step - accuracy: 0.7552 - loss: 0.9715 - val_accuracy: 0.6667 - val_loss: 1.0997\n",
      "Epoch 6/20\n",
      "\u001B[1m3/3\u001B[0m \u001B[32m━━━━━━━━━━━━━━━━━━━━\u001B[0m\u001B[37m\u001B[0m \u001B[1m1s\u001B[0m 199ms/step - accuracy: 0.6510 - loss: 0.9927 - val_accuracy: 0.8333 - val_loss: 0.7619\n",
      "Epoch 7/20\n",
      "\u001B[1m3/3\u001B[0m \u001B[32m━━━━━━━━━━━━━━━━━━━━\u001B[0m\u001B[37m\u001B[0m \u001B[1m1s\u001B[0m 202ms/step - accuracy: 0.7083 - loss: 0.7706 - val_accuracy: 0.8750 - val_loss: 0.3411\n",
      "Epoch 8/20\n",
      "\u001B[1m3/3\u001B[0m \u001B[32m━━━━━━━━━━━━━━━━━━━━\u001B[0m\u001B[37m\u001B[0m \u001B[1m1s\u001B[0m 218ms/step - accuracy: 0.7812 - loss: 0.7486 - val_accuracy: 0.7917 - val_loss: 0.5564\n",
      "Epoch 9/20\n",
      "\u001B[1m3/3\u001B[0m \u001B[32m━━━━━━━━━━━━━━━━━━━━\u001B[0m\u001B[37m\u001B[0m \u001B[1m1s\u001B[0m 221ms/step - accuracy: 0.6823 - loss: 0.5717 - val_accuracy: 0.7500 - val_loss: 0.5911\n",
      "Epoch 10/20\n",
      "\u001B[1m3/3\u001B[0m \u001B[32m━━━━━━━━━━━━━━━━━━━━\u001B[0m\u001B[37m\u001B[0m \u001B[1m1s\u001B[0m 197ms/step - accuracy: 0.6719 - loss: 0.8438 - val_accuracy: 0.9583 - val_loss: 0.3902\n",
      "Epoch 11/20\n",
      "\u001B[1m3/3\u001B[0m \u001B[32m━━━━━━━━━━━━━━━━━━━━\u001B[0m\u001B[37m\u001B[0m \u001B[1m1s\u001B[0m 199ms/step - accuracy: 0.9062 - loss: 0.4163 - val_accuracy: 0.8750 - val_loss: 0.4542\n",
      "Epoch 12/20\n",
      "\u001B[1m3/3\u001B[0m \u001B[32m━━━━━━━━━━━━━━━━━━━━\u001B[0m\u001B[37m\u001B[0m \u001B[1m1s\u001B[0m 201ms/step - accuracy: 1.0000 - loss: 0.1767 - val_accuracy: 0.9167 - val_loss: 0.2198\n",
      "Epoch 13/20\n",
      "\u001B[1m3/3\u001B[0m \u001B[32m━━━━━━━━━━━━━━━━━━━━\u001B[0m\u001B[37m\u001B[0m \u001B[1m1s\u001B[0m 220ms/step - accuracy: 0.9635 - loss: 0.1918 - val_accuracy: 0.8750 - val_loss: 0.5159\n",
      "Epoch 14/20\n",
      "\u001B[1m3/3\u001B[0m \u001B[32m━━━━━━━━━━━━━━━━━━━━\u001B[0m\u001B[37m\u001B[0m \u001B[1m1s\u001B[0m 197ms/step - accuracy: 0.8646 - loss: 0.4684 - val_accuracy: 0.9583 - val_loss: 0.1793\n",
      "Epoch 15/20\n",
      "\u001B[1m3/3\u001B[0m \u001B[32m━━━━━━━━━━━━━━━━━━━━\u001B[0m\u001B[37m\u001B[0m \u001B[1m1s\u001B[0m 191ms/step - accuracy: 0.9427 - loss: 0.1154 - val_accuracy: 1.0000 - val_loss: 0.1098\n",
      "Epoch 16/20\n",
      "\u001B[1m3/3\u001B[0m \u001B[32m━━━━━━━━━━━━━━━━━━━━\u001B[0m\u001B[37m\u001B[0m \u001B[1m1s\u001B[0m 215ms/step - accuracy: 0.8958 - loss: 0.2244 - val_accuracy: 1.0000 - val_loss: 0.0615\n",
      "Epoch 17/20\n",
      "\u001B[1m3/3\u001B[0m \u001B[32m━━━━━━━━━━━━━━━━━━━━\u001B[0m\u001B[37m\u001B[0m \u001B[1m1s\u001B[0m 195ms/step - accuracy: 1.0000 - loss: 0.0308 - val_accuracy: 0.9583 - val_loss: 0.0560\n",
      "Epoch 18/20\n",
      "\u001B[1m3/3\u001B[0m \u001B[32m━━━━━━━━━━━━━━━━━━━━\u001B[0m\u001B[37m\u001B[0m \u001B[1m1s\u001B[0m 199ms/step - accuracy: 1.0000 - loss: 0.0462 - val_accuracy: 1.0000 - val_loss: 0.0091\n",
      "Epoch 19/20\n",
      "\u001B[1m3/3\u001B[0m \u001B[32m━━━━━━━━━━━━━━━━━━━━\u001B[0m\u001B[37m\u001B[0m \u001B[1m1s\u001B[0m 196ms/step - accuracy: 1.0000 - loss: 0.0102 - val_accuracy: 1.0000 - val_loss: 0.0130\n",
      "Epoch 20/20\n",
      "\u001B[1m3/3\u001B[0m \u001B[32m━━━━━━━━━━━━━━━━━━━━\u001B[0m\u001B[37m\u001B[0m \u001B[1m1s\u001B[0m 210ms/step - accuracy: 1.0000 - loss: 0.0071 - val_accuracy: 1.0000 - val_loss: 0.0104\n"
     ]
    }
   ],
   "execution_count": 306
  },
  {
   "metadata": {
    "ExecuteTime": {
     "end_time": "2024-06-11T08:06:01.806856Z",
     "start_time": "2024-06-11T08:06:01.792668Z"
    }
   },
   "cell_type": "code",
   "source": "hist.history",
   "id": "6cde01bd7b338a17",
   "outputs": [
    {
     "data": {
      "text/plain": [
       "{'accuracy': [0.2083333283662796,\n",
       "  0.25,\n",
       "  0.4166666567325592,\n",
       "  0.5,\n",
       "  0.6666666865348816,\n",
       "  0.7083333134651184,\n",
       "  0.6666666865348816,\n",
       "  0.75,\n",
       "  0.7083333134651184,\n",
       "  0.75,\n",
       "  0.875,\n",
       "  1.0,\n",
       "  0.9583333134651184,\n",
       "  0.9166666865348816,\n",
       "  0.9166666865348816,\n",
       "  0.9166666865348816,\n",
       "  1.0,\n",
       "  1.0,\n",
       "  1.0,\n",
       "  1.0],\n",
       " 'loss': [2.03226637840271,\n",
       "  1.35968816280365,\n",
       "  1.1195017099380493,\n",
       "  1.284528374671936,\n",
       "  1.0873180627822876,\n",
       "  1.02902352809906,\n",
       "  0.7637112736701965,\n",
       "  0.8796212077140808,\n",
       "  0.5740360617637634,\n",
       "  0.688976526260376,\n",
       "  0.46046969294548035,\n",
       "  0.14113132655620575,\n",
       "  0.1967957764863968,\n",
       "  0.32870328426361084,\n",
       "  0.15269289910793304,\n",
       "  0.1855260729789734,\n",
       "  0.033502835780382156,\n",
       "  0.03847416117787361,\n",
       "  0.008192985318601131,\n",
       "  0.009224948473274708],\n",
       " 'val_accuracy': [0.3333333432674408,\n",
       "  0.2916666567325592,\n",
       "  0.6666666865348816,\n",
       "  0.75,\n",
       "  0.6666666865348816,\n",
       "  0.8333333134651184,\n",
       "  0.875,\n",
       "  0.7916666865348816,\n",
       "  0.75,\n",
       "  0.9583333134651184,\n",
       "  0.875,\n",
       "  0.9166666865348816,\n",
       "  0.875,\n",
       "  0.9583333134651184,\n",
       "  1.0,\n",
       "  1.0,\n",
       "  0.9583333134651184,\n",
       "  1.0,\n",
       "  1.0,\n",
       "  1.0],\n",
       " 'val_loss': [1.4030107259750366,\n",
       "  1.3044508695602417,\n",
       "  0.9480341076850891,\n",
       "  1.2222250699996948,\n",
       "  1.0996887683868408,\n",
       "  0.7619171142578125,\n",
       "  0.34108075499534607,\n",
       "  0.5563717484474182,\n",
       "  0.5911188721656799,\n",
       "  0.3902147710323334,\n",
       "  0.45423439145088196,\n",
       "  0.21983782947063446,\n",
       "  0.5158641338348389,\n",
       "  0.17930567264556885,\n",
       "  0.10984184592962265,\n",
       "  0.06145184114575386,\n",
       "  0.05604756250977516,\n",
       "  0.009050742723047733,\n",
       "  0.012978109531104565,\n",
       "  0.010390262119472027]}"
      ]
     },
     "execution_count": 307,
     "metadata": {},
     "output_type": "execute_result"
    }
   ],
   "execution_count": 307
  },
  {
   "metadata": {
    "ExecuteTime": {
     "end_time": "2024-06-11T08:06:07.332359Z",
     "start_time": "2024-06-11T08:06:06.557752Z"
    }
   },
   "cell_type": "code",
   "source": [
    "fig = plt.figure()\n",
    "plt.plot(hist.history['loss'], color='teal', label='loss')\n",
    "plt.plot(hist.history['val_loss'], color='orange', label='val_loss')\n",
    "fig.suptitle('Loss', fontsize=20)\n",
    "plt.legend(loc=\"upper left\")\n",
    "plt.show()"
   ],
   "id": "eee165a7b6a8729c",
   "outputs": [
    {
     "data": {
      "text/plain": [
       "<Figure size 640x480 with 1 Axes>"
      ],
      "image/png": "[encoded data removed]"
     },
     "metadata": {},
     "output_type": "display_data"
    }
   ],
   "execution_count": 308
  },
  {
   "metadata": {
    "ExecuteTime": {
     "end_time": "2024-06-11T08:06:09.995071Z",
     "start_time": "2024-06-11T08:06:09.536975Z"
    }
   },
   "cell_type": "code",
   "source": [
    "fig = plt.figure()\n",
    "plt.plot(hist.history['accuracy'], color='teal', label='accuracy')\n",
    "plt.plot(hist.history['val_accuracy'], color='orange', label='val_accuracy')\n",
    "fig.suptitle('Accuracy', fontsize=20)\n",
    "plt.legend(loc=\"upper left\")\n",
    "plt.show()"
   ],
   "id": "46f7957a82bb623d",
   "outputs": [
    {
     "data": {
      "text/plain": [
       "<Figure size 640x480 with 1 Axes>"
      ],
      "image/png": "[encoded data removed]"
     },
     "metadata": {},
     "output_type": "display_data"
    }
   ],
   "execution_count": 309
  },
  {
   "metadata": {},
   "cell_type": "markdown",
   "source": "### Evaluation",
   "id": "776cc5bab596c4ad"
  },
  {
   "metadata": {
    "ExecuteTime": {
     "end_time": "2024-06-11T08:06:13.247619Z",
     "start_time": "2024-06-11T08:06:13.237962Z"
    }
   },
   "cell_type": "code",
   "source": "from tensorflow.keras.metrics import Precision, Recall, BinaryAccuracy",
   "id": "d017c13a5c899f7d",
   "outputs": [],
   "execution_count": 310
  },
  {
   "metadata": {
    "ExecuteTime": {
     "end_time": "2024-06-11T08:06:14.111594Z",
     "start_time": "2024-06-11T08:06:14.077031Z"
    }
   },
   "cell_type": "code",
   "source": [
    "# Establishing instances\n",
    "pre = Precision()\n",
    "re = Recall()\n",
    "acc = BinaryAccuracy()"
   ],
   "id": "ff991a3eb179c570",
   "outputs": [],
   "execution_count": 311
  },
  {
   "metadata": {
    "ExecuteTime": {
     "end_time": "2024-06-11T08:06:15.484257Z",
     "start_time": "2024-06-11T08:06:14.698553Z"
    }
   },
   "cell_type": "code",
   "source": [
    "for batch in test.as_numpy_iterator():\n",
    "    X, y = batch\n",
    "    yhat = model.predict(X)\n",
    "    pre.update_state(y, yhat)\n",
    "    re.update_state(y, yhat)\n",
    "    acc.update_state(y, yhat)"
   ],
   "id": "a71887bd5590185e",
   "outputs": [
    {
     "name": "stdout",
     "output_type": "stream",
     "text": [
      "\u001B[1m1/1\u001B[0m \u001B[32m━━━━━━━━━━━━━━━━━━━━\u001B[0m\u001B[37m\u001B[0m \u001B[1m1s\u001B[0m 514ms/step\n"
     ]
    }
   ],
   "execution_count": 312
  },
  {
   "metadata": {
    "ExecuteTime": {
     "end_time": "2024-06-11T08:06:16.656679Z",
     "start_time": "2024-06-11T08:06:16.640748Z"
    }
   },
   "cell_type": "code",
   "source": "print(f'Precision:{pre.result()}, Recall:{re.result().numpy()}, Acuraccy:{acc.result().numpy}')",
   "id": "e2fbc90c3bc151c8",
   "outputs": [
    {
     "name": "stdout",
     "output_type": "stream",
     "text": [
      "Precision:1.0, Recall:1.0, Acuraccy:<bound method _EagerTensorBase.numpy of <tf.Tensor: shape=(), dtype=float32, numpy=1.0>>\n"
     ]
    }
   ],
   "execution_count": 313
  },
  {
   "metadata": {},
   "cell_type": "markdown",
   "source": "### Testing",
   "id": "bb819c354242bdba"
  },
  {
   "metadata": {
    "ExecuteTime": {
     "end_time": "2024-06-11T08:06:18.341004Z",
     "start_time": "2024-06-11T08:06:18.331657Z"
    }
   },
   "cell_type": "code",
   "source": "import cv2",
   "id": "76f8eb355cf42a30",
   "outputs": [],
   "execution_count": 314
  },
  {
   "metadata": {
    "ExecuteTime": {
     "end_time": "2024-06-11T08:07:49.299973Z",
     "start_time": "2024-06-11T08:07:48.646465Z"
    }
   },
   "cell_type": "code",
   "source": [
    "# Load and preprocess the image\n",
    "img = cv2.imread('eval3.png')\n",
    "img = cv2.cvtColor(img, cv2.COLOR_BGR2RGB)  # Convert from BGR to RGB\n",
    "resize = tf.image.resize(img, (256,256))\n",
    "plt.imshow(resize.numpy().astype(int))\n",
    "plt.show()\n",
    "\n",
    "# Predict the class\n",
    "predict = model.predict(np.expand_dims(resize/255, 0))\n",
    "\n",
    "class_names = ['Circular', 'Intersecting', 'Normal', 'Overlapping']\n",
    "predicted_class = np.argmax(predict)\n",
    "\n",
    "print(f'Image belong to the {class_names[predicted_class]} class')"
   ],
   "id": "af2eb9b88aa485aa",
   "outputs": [
    {
     "data": {
      "text/plain": [
       "<Figure size 640x480 with 1 Axes>"
      ],
      "image/png": "[encoded data removed]"
     },
     "metadata": {},
     "output_type": "display_data"
    },
    {
     "name": "stdout",
     "output_type": "stream",
     "text": [
      "\u001B[1m1/1\u001B[0m \u001B[32m━━━━━━━━━━━━━━━━━━━━\u001B[0m\u001B[37m\u001B[0m \u001B[1m0s\u001B[0m 84ms/step\n",
      "Image belong to the Overlapping class\n"
     ]
    }
   ],
   "execution_count": 321
  },
  {
   "metadata": {},
   "cell_type": "markdown",
   "source": "### Saving the model",
   "id": "2cd9efa0f5af772d"
  },
  {
   "metadata": {
    "ExecuteTime": {
     "end_time": "2024-06-11T08:10:15.309806Z",
     "start_time": "2024-06-11T08:10:15.300544Z"
    }
   },
   "cell_type": "code",
   "source": "from tensorflow.keras.models import load_model",
   "id": "5888971318ad4f9f",
   "outputs": [],
   "execution_count": 322
  },
  {
   "metadata": {
    "ExecuteTime": {
     "end_time": "2024-06-11T08:10:50.184421Z",
     "start_time": "2024-06-11T08:10:49.773452Z"
    }
   },
   "cell_type": "code",
   "source": "model.save('imageclassifier_4.keras')",
   "id": "78474d6688359318",
   "outputs": [],
   "execution_count": 323
  },
  {
   "metadata": {
    "ExecuteTime": {
     "end_time": "2024-06-11T08:11:12.503167Z",
     "start_time": "2024-06-11T08:11:11.353700Z"
    }
   },
   "cell_type": "code",
   "source": "prediction = tf.keras.models.load_model('imageclassifier_4.keras')",
   "id": "303ac6d46695e101",
   "outputs": [],
   "execution_count": 324
  },
  {
   "metadata": {
    "ExecuteTime": {
     "end_time": "2024-06-11T08:11:20.804156Z",
     "start_time": "2024-06-11T08:11:20.790670Z"
    }
   },
   "cell_type": "code",
   "source": "prediction",
   "id": "f0c807fe8b5a9c07",
   "outputs": [
    {
     "data": {
      "text/plain": [
       "<Sequential name=sequential_6, built=True>"
      ]
     },
     "execution_count": 325,
     "metadata": {},
     "output_type": "execute_result"
    }
   ],
   "execution_count": 325
  },
  {
   "metadata": {
    "ExecuteTime": {
     "end_time": "2024-06-11T08:11:31.787076Z",
     "start_time": "2024-06-11T08:11:31.453627Z"
    }
   },
   "cell_type": "code",
   "source": "yhatnew = prediction.predict(np.expand_dims(resize/255, 0))",
   "id": "271cffe1755d66c1",
   "outputs": [
    {
     "name": "stdout",
     "output_type": "stream",
     "text": [
      "\u001B[1m1/1\u001B[0m \u001B[32m━━━━━━━━━━━━━━━━━━━━\u001B[0m\u001B[37m\u001B[0m \u001B[1m0s\u001B[0m 225ms/step\n"
     ]
    }
   ],
   "execution_count": 326
  },
  {
   "metadata": {
    "ExecuteTime": {
     "end_time": "2024-06-11T08:12:42.360951Z",
     "start_time": "2024-06-11T08:12:42.347524Z"
    }
   },
   "cell_type": "code",
   "source": [
    "class_names = ['Circular', 'Intersecting', 'Normal', 'Overlapping']\n",
    "predicted_class = np.argmax(predict)\n",
    "\n",
    "print(f'Image belong to the {class_names[predicted_class]} class')"
   ],
   "id": "a4ddeaa96fc36ca8",
   "outputs": [
    {
     "name": "stdout",
     "output_type": "stream",
     "text": [
      "Image belong to the Overlapping class\n"
     ]
    }
   ],
   "execution_count": 328
  },
  {
   "metadata": {},
   "cell_type": "code",
   "outputs": [],
   "execution_count": null,
   "source": "",
   "id": "6ebee00928a9e444"
  }
 ],
 "metadata": {
  "kernelspec": {
   "display_name": "Python 3",
   "language": "python",
   "name": "python3"
  },
  "language_info": {
   "codemirror_mode": {
    "name": "ipython",
    "version": 2
   },
   "file_extension": ".py",
   "mimetype": "text/x-python",
   "name": "python",
   "nbconvert_exporter": "python",
   "pygments_lexer": "ipython2",
   "version": "2.7.6"
  }
 },
 "nbformat": 4,
 "nbformat_minor": 5
}
