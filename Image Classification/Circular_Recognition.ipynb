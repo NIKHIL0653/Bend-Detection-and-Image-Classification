{
 "cells": [
  {
   "cell_type": "code",
   "id": "initial_id",
   "metadata": {
    "collapsed": true,
    "ExecuteTime": {
     "end_time": "2024-05-29T03:57:07.098136Z",
     "start_time": "2024-05-29T03:57:05.327862Z"
    }
   },
   "source": [
    "import cv2\n",
    "import numpy as np\n",
    "import matplotlib.pyplot as plt\n",
    "import os"
   ],
   "execution_count": 1,
   "outputs": []
  },
  {
   "metadata": {
    "ExecuteTime": {
     "end_time": "2024-05-29T04:08:01.605750Z",
     "start_time": "2024-05-29T04:07:45.222740Z"
    }
   },
   "cell_type": "code",
   "source": [
    "import tensorflow as tf\n",
    "from tensorflow.keras.preprocessing.image import ImageDataGenerator\n",
    "from sklearn.model_selection import train_test_split\n",
    "import numpy as np\n",
    "import os\n",
    "\n",
    "# Load your dataset\n",
    "# This is a placeholder step. You need to replace it with your actual data loading logic.\n",
    "# For example, if your images are stored in a directory and labeled by folder names, you could use ImageDataGenerator.flow_from_directory\n",
    "# Assuming 'images' is a numpy array of your images and 'labels' is a binary array indicating whether each image has curved/circular bends\n",
    "images = np.load('upscaled_images.npy')  # Placeholder for actual image data loading\n",
    "labels = np.load('labels.npy')  # Placeholder for actual labels loading\n",
    "\n",
    "# Split the dataset into training and testing sets\n",
    "X_train, X_test, y_train, y_test = train_test_split(images, labels, test_size=0.2, random_state=42)\n",
    "\n",
    "# Define your CNN model\n",
    "model = tf.keras.models.Sequential([\n",
    "    tf.keras.layers.Conv2D(32, (3, 3), activation='relu', input_shape=X_train.shape[1:]),\n",
    "    tf.keras.layers.MaxPooling2D(2, 2),\n",
    "    tf.keras.layers.Conv2D(64, (3, 3), activation='relu'),\n",
    "    tf.keras.layers.MaxPooling2D(2, 2),\n",
    "    tf.keras.layers.Flatten(),\n",
    "    tf.keras.layers.Dense(64, activation='relu'),\n",
    "    tf.keras.layers.Dense(1, activation='sigmoid')\n",
    "])\n",
    "\n",
    "# Compile the model\n",
    "model.compile(optimizer='adam', loss='binary_crossentropy', metrics=['accuracy'])\n",
    "\n",
    "# Train the model\n",
    "model.fit(X_train, y_train, epochs=10, validation_data=(X_test, y_test))\n",
    "\n",
    "# Assuming 'curved_bends_final' is a function that processes images categorized as having curved/circular bends\n",
    "# Let's define a placeholder for 'curved_bends_final'\n",
    "def curved_bends_final(image):\n",
    "    # Placeholder for processing an image\n",
    "    pass\n",
    "\n",
    "# Predict and process images with curved/circular bends\n",
    "predictions = model.predict(X_test)\n",
    "for i, prediction in enumerate(predictions):\n",
    "    if prediction > 0.5:  # Assuming the model outputs probabilities and using 0.5 as a threshold\n",
    "        curved_bends_final(X_test[i])\n",
    "\n",
    "print(\"Processing complete.\")"
   ],
   "id": "bd98aabe72decf1f",
   "execution_count": 2,
   "outputs": []
  },
  {
   "metadata": {},
   "cell_type": "code",
   "execution_count": null,
   "source": "",
   "id": "f4a87cd009a7b9f7",
   "outputs": []
  }
 ],
 "metadata": {
  "kernelspec": {
   "display_name": "Python 3",
   "language": "python",
   "name": "python3"
  },
  "language_info": {
   "codemirror_mode": {
    "name": "ipython",
    "version": 2
   },
   "file_extension": ".py",
   "mimetype": "text/x-python",
   "name": "python",
   "nbconvert_exporter": "python",
   "pygments_lexer": "ipython2",
   "version": "2.7.6"
  }
 },
 "nbformat": 4,
 "nbformat_minor": 5
}
