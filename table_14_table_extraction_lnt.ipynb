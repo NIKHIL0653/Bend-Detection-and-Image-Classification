{
 "cells": [
  {
   "cell_type": "code",
   "metadata": {
    "ExecuteTime": {
     "end_time": "2024-06-15T12:42:47.443391Z",
     "start_time": "2024-06-15T12:42:47.424282Z"
    }
   },
   "source": [
    "import fitz\n",
    "from PIL import Image"
   ],
   "outputs": [],
   "execution_count": 18
  },
  {
   "cell_type": "code",
   "metadata": {
    "ExecuteTime": {
     "end_time": "2024-06-15T12:42:47.801106Z",
     "start_time": "2024-06-15T12:42:47.741026Z"
    }
   },
   "source": [
    "doc = fitz.open(\"table.pdf\")\n",
    "page = doc[0]\n",
    "paths = page.get_drawings()  # extract existing drawings\n",
    "# this is a list of \"paths\", which can directly be drawn again using Shape\n",
    "# -------------------------------------------------------------------------"
   ],
   "outputs": [],
   "execution_count": 19
  },
  {
   "cell_type": "code",
   "metadata": {
    "ExecuteTime": {
     "end_time": "2024-06-15T12:42:48.278473Z",
     "start_time": "2024-06-15T12:42:48.256600Z"
    }
   },
   "source": [
    "# define some output page with the same dimensions\n",
    "outpdf = fitz.open()\n",
    "outpage = outpdf.new_page(width=page.rect.width, height=page.rect.height)\n",
    "shape = outpage.new_shape()  # make a drawing canvas for the output page"
   ],
   "outputs": [],
   "execution_count": 20
  },
  {
   "cell_type": "code",
   "metadata": {
    "ExecuteTime": {
     "end_time": "2024-06-15T12:42:48.746565Z",
     "start_time": "2024-06-15T12:42:48.704369Z"
    }
   },
   "source": [
    "# --------------------------------------\n",
    "# loop through the paths and draw them\n",
    "# --------------------------------------\n",
    "for path in paths:\n",
    "    # ------------------------------------\n",
    "    # draw each entry of the 'items' list\n",
    "    # ------------------------------------\n",
    "    for item in path[\"items\"]:  # these are the draw commands\n",
    "        if item[0] == \"l\":  # line\n",
    "            shape.draw_line(item[1], item[2])\n",
    "        elif item[0] == \"re\":  # rectangle\n",
    "            shape.draw_rect(item[1])\n",
    "        elif item[0] == \"qu\":  # quad\n",
    "            shape.draw_quad(item[1])\n",
    "        elif item[0] == \"c\":  # curve\n",
    "            shape.draw_bezier(item[1], item[2], item[3], item[4])\n",
    "        else:\n",
    "            raise ValueError(\"unhandled drawing\", item)\n",
    "    # ------------------------------------------------------\n",
    "    # all items are drawn, now apply the common properties\n",
    "    # to finish the path\n",
    "    # ------------------------------------------------------\n",
    "    shape.finish()"
   ],
   "outputs": [],
   "execution_count": 21
  },
  {
   "cell_type": "code",
   "metadata": {
    "ExecuteTime": {
     "end_time": "2024-06-15T12:42:49.825643Z",
     "start_time": "2024-06-15T12:42:49.687885Z"
    }
   },
   "source": [
    "# all paths processed - commit the shape to its page\n",
    "shape.commit()\n",
    "outpdf.save(\"test_file_extracted.pdf\")"
   ],
   "outputs": [
    {
     "ename": "FzErrorSystem",
     "evalue": "code=2: cannot remove file 'test_file_extracted.pdf': Permission denied",
     "output_type": "error",
     "traceback": [
      "\u001B[1;31m---------------------------------------------------------------------------\u001B[0m",
      "\u001B[1;31mFzErrorSystem\u001B[0m                             Traceback (most recent call last)",
      "\u001B[1;32m~\\AppData\\Local\\Temp\\ipykernel_5700\\402343194.py\u001B[0m in \u001B[0;36m?\u001B[1;34m()\u001B[0m\n\u001B[0;32m      1\u001B[0m \u001B[1;31m# all paths processed - commit the shape to its page\u001B[0m\u001B[1;33m\u001B[0m\u001B[1;33m\u001B[0m\u001B[0m\n\u001B[0;32m      2\u001B[0m \u001B[0mshape\u001B[0m\u001B[1;33m.\u001B[0m\u001B[0mcommit\u001B[0m\u001B[1;33m(\u001B[0m\u001B[1;33m)\u001B[0m\u001B[1;33m\u001B[0m\u001B[1;33m\u001B[0m\u001B[0m\n\u001B[1;32m----> 3\u001B[1;33m \u001B[0moutpdf\u001B[0m\u001B[1;33m.\u001B[0m\u001B[0msave\u001B[0m\u001B[1;33m(\u001B[0m\u001B[1;34m\"test_file_extracted.pdf\"\u001B[0m\u001B[1;33m)\u001B[0m\u001B[1;33m\u001B[0m\u001B[1;33m\u001B[0m\u001B[0m\n\u001B[0m",
      "\u001B[1;32m~\\anaconda3\\envs\\ai_env\\Lib\\site-packages\\pymupdf\\__init__.py\u001B[0m in \u001B[0;36m?\u001B[1;34m(self, filename, garbage, clean, deflate, deflate_images, deflate_fonts, incremental, ascii, expand, linear, no_new_id, appearance, pretty, encryption, permissions, owner_pw, user_pw, preserve_metadata, use_objstms, compression_effort)\u001B[0m\n\u001B[0;32m   5451\u001B[0m         \u001B[1;32mif\u001B[0m \u001B[0mno_new_id\u001B[0m \u001B[1;33m==\u001B[0m \u001B[1;36m0\u001B[0m\u001B[1;33m:\u001B[0m\u001B[1;33m\u001B[0m\u001B[1;33m\u001B[0m\u001B[0m\n\u001B[0;32m   5452\u001B[0m             \u001B[0mJM_ensure_identity\u001B[0m\u001B[1;33m(\u001B[0m\u001B[0mpdf\u001B[0m\u001B[1;33m)\u001B[0m\u001B[1;33m\u001B[0m\u001B[1;33m\u001B[0m\u001B[0m\n\u001B[0;32m   5453\u001B[0m         \u001B[1;32mif\u001B[0m \u001B[0misinstance\u001B[0m\u001B[1;33m(\u001B[0m\u001B[0mfilename\u001B[0m\u001B[1;33m,\u001B[0m \u001B[0mstr\u001B[0m\u001B[1;33m)\u001B[0m\u001B[1;33m:\u001B[0m\u001B[1;33m\u001B[0m\u001B[1;33m\u001B[0m\u001B[0m\n\u001B[0;32m   5454\u001B[0m             \u001B[1;31m#log( 'calling mupdf.pdf_save_document()')\u001B[0m\u001B[1;33m\u001B[0m\u001B[1;33m\u001B[0m\u001B[0m\n\u001B[1;32m-> 5455\u001B[1;33m             \u001B[0mmupdf\u001B[0m\u001B[1;33m.\u001B[0m\u001B[0mpdf_save_document\u001B[0m\u001B[1;33m(\u001B[0m\u001B[0mpdf\u001B[0m\u001B[1;33m,\u001B[0m \u001B[0mfilename\u001B[0m\u001B[1;33m,\u001B[0m \u001B[0mopts\u001B[0m\u001B[1;33m)\u001B[0m\u001B[1;33m\u001B[0m\u001B[1;33m\u001B[0m\u001B[0m\n\u001B[0m\u001B[0;32m   5456\u001B[0m         \u001B[1;32melse\u001B[0m\u001B[1;33m:\u001B[0m\u001B[1;33m\u001B[0m\u001B[1;33m\u001B[0m\u001B[0m\n\u001B[0;32m   5457\u001B[0m             \u001B[0mout\u001B[0m \u001B[1;33m=\u001B[0m \u001B[0mJM_new_output_fileptr\u001B[0m\u001B[1;33m(\u001B[0m\u001B[0mfilename\u001B[0m\u001B[1;33m)\u001B[0m\u001B[1;33m\u001B[0m\u001B[1;33m\u001B[0m\u001B[0m\n\u001B[0;32m   5458\u001B[0m             \u001B[1;31m#log( f'{type(out)=} {type(out.this)=}')\u001B[0m\u001B[1;33m\u001B[0m\u001B[1;33m\u001B[0m\u001B[0m\n",
      "\u001B[1;32m~\\anaconda3\\envs\\ai_env\\Lib\\site-packages\\pymupdf\\mupdf.py\u001B[0m in \u001B[0;36m?\u001B[1;34m(doc, filename, opts)\u001B[0m\n\u001B[0;32m  50468\u001B[0m \u001B[1;32mdef\u001B[0m \u001B[0mpdf_save_document\u001B[0m\u001B[1;33m(\u001B[0m\u001B[0mdoc\u001B[0m\u001B[1;33m,\u001B[0m \u001B[0mfilename\u001B[0m\u001B[1;33m,\u001B[0m \u001B[0mopts\u001B[0m\u001B[1;33m)\u001B[0m\u001B[1;33m:\u001B[0m\u001B[1;33m\u001B[0m\u001B[1;33m\u001B[0m\u001B[0m\n\u001B[0;32m  50469\u001B[0m     \u001B[1;34mr\"\"\" Class-aware wrapper for `::pdf_save_document()`.\"\"\"\u001B[0m\u001B[1;33m\u001B[0m\u001B[1;33m\u001B[0m\u001B[0m\n\u001B[1;32m> 50470\u001B[1;33m     \u001B[1;32mreturn\u001B[0m \u001B[0m_mupdf\u001B[0m\u001B[1;33m.\u001B[0m\u001B[0mpdf_save_document\u001B[0m\u001B[1;33m(\u001B[0m\u001B[0mdoc\u001B[0m\u001B[1;33m,\u001B[0m \u001B[0mfilename\u001B[0m\u001B[1;33m,\u001B[0m \u001B[0mopts\u001B[0m\u001B[1;33m)\u001B[0m\u001B[1;33m\u001B[0m\u001B[1;33m\u001B[0m\u001B[0m\n\u001B[0m",
      "\u001B[1;31mFzErrorSystem\u001B[0m: code=2: cannot remove file 'test_file_extracted.pdf': Permission denied"
     ]
    }
   ],
   "execution_count": 22
  },
  {
   "cell_type": "code",
   "metadata": {
    "ExecuteTime": {
     "end_time": "2024-06-15T12:42:53.232312Z",
     "start_time": "2024-06-15T12:42:53.223558Z"
    }
   },
   "source": [],
   "outputs": [],
   "execution_count": 22
  },
  {
   "cell_type": "code",
   "metadata": {
    "ExecuteTime": {
     "end_time": "2024-06-15T12:42:53.697615Z",
     "start_time": "2024-06-15T12:42:53.690150Z"
    }
   },
   "source": [],
   "outputs": [],
   "execution_count": 22
  },
  {
   "cell_type": "code",
   "metadata": {
    "ExecuteTime": {
     "end_time": "2024-06-15T12:42:54.245883Z",
     "start_time": "2024-06-15T12:42:54.235506Z"
    }
   },
   "source": [
    "import PIL"
   ],
   "outputs": [],
   "execution_count": 23
  },
  {
   "cell_type": "code",
   "metadata": {
    "ExecuteTime": {
     "end_time": "2024-06-15T12:42:55.087270Z",
     "start_time": "2024-06-15T12:42:55.022826Z"
    }
   },
   "source": [
    "doc = fitz.open('test_file_extracted.pdf')\n",
    "page = doc.load_page(0)\n",
    "pix = page.get_pixmap()\n",
    "img = pix.save('h.jpg')"
   ],
   "outputs": [],
   "execution_count": 24
  },
  {
   "metadata": {
    "ExecuteTime": {
     "end_time": "2024-06-14T10:13:04.643610Z",
     "start_time": "2024-06-14T10:13:04.604588Z"
    }
   },
   "cell_type": "code",
   "source": [
    "import fitz\n",
    "from PIL import Image\n",
    "\n",
    "# Open the PDF file\n",
    "doc = fitz.open('test_file_extracted.pdf')\n",
    "\n",
    "# Load the desired page\n",
    "page = doc.load_page(0)\n",
    "\n",
    "# Get the pixel map of the page\n",
    "pix = page.get_pixmap()\n",
    "\n",
    "# Get the pixel width and height of the page\n",
    "width = pix.width\n",
    "height = pix.height\n",
    "\n",
    "# Convert the pixel map to an Image object\n",
    "image = Image.frombytes(\"RGB\", (width, height), pix.samples)\n",
    "\n",
    "# Get the quality of the original PDF file\n",
    "pdf_quality = doc.metadata.get('pdf:PDFVersion')\n",
    "\n",
    "# Check if pdf_quality is not None before converting it to an integer\n",
    "if pdf_quality is not None:\n",
    "    # Convert the PDF version to an integer and save the image as JPEG with the same quality\n",
    "    image.save('h1.jpg', quality=int(pdf_quality))\n",
    "else:\n",
    "    # Save the image as JPEG with a default quality if pdf_quality is None\n",
    "    image.save('h1.jpg', quality=100)  # Set a default quality of 100"
   ],
   "outputs": [],
   "execution_count": 44
  },
  {
   "metadata": {
    "ExecuteTime": {
     "end_time": "2024-06-14T11:03:03.670514Z",
     "start_time": "2024-06-14T11:03:01.798150Z"
    }
   },
   "cell_type": "code",
   "source": [
    "from pdf2image import convert_from_path\n",
    "\n",
    "# Specify the path to the PDF file\n",
    "pdf_path = 'test_file_extracted.pdf'\n",
    "\n",
    "# Convert the PDF file to a list of images\n",
    "images = convert_from_path(pdf_path)\n",
    "\n",
    "# Save each image as a JPEG file\n",
    "for i, image in enumerate(images):\n",
    "    image.save(f'page_{i+1}.jpg', 'JPEG')"
   ],
   "outputs": [],
   "execution_count": 13
  },
  {
   "metadata": {
    "ExecuteTime": {
     "end_time": "2024-06-17T07:09:08.807626Z",
     "start_time": "2024-06-17T07:09:08.406633Z"
    }
   },
   "cell_type": "code",
   "source": [
    "import fitz\n",
    "from pdf2image import convert_from_path\n",
    "\n",
    "# Specify the path to the PDF file\n",
    "pdf_path = 'test_file_extracted.pdf'\n",
    "\n",
    "# Open the PDF file using PyMuPDF\n",
    "doc = fitz.open(pdf_path)\n",
    "\n",
    "# Get the page count\n",
    "page_count = len(doc)\n",
    "\n",
    "# Convert the PDF file to a list of images\n",
    "images = convert_from_path(pdf_path)\n",
    "\n",
    "# Save each image as a JPEG file\n",
    "for i, image in enumerate(images):\n",
    "    image.save(f'page_{i+1}.jpg', 'JPEG')"
   ],
   "outputs": [],
   "execution_count": 3
  }
 ],
 "metadata": {
  "kernelspec": {
   "display_name": "Python 3 (ipykernel)",
   "language": "python",
   "name": "python3"
  },
  "language_info": {
   "codemirror_mode": {
    "name": "ipython",
    "version": 3
   },
   "file_extension": ".py",
   "mimetype": "text/x-python",
   "name": "python",
   "nbconvert_exporter": "python",
   "pygments_lexer": "ipython3",
   "version": "3.12.3"
  }
 },
 "nbformat": 4,
 "nbformat_minor": 4
}
