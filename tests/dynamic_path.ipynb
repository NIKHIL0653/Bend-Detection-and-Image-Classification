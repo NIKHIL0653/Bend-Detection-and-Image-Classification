{
 "cells": [
  {
   "cell_type": "code",
   "id": "initial_id",
   "metadata": {
    "collapsed": true,
    "ExecuteTime": {
     "end_time": "2024-06-18T08:39:26.043664Z",
     "start_time": "2024-06-18T08:39:15.006616Z"
    }
   },
   "source": [
    "import fitz\n",
    "from PIL import Image\n",
    "import wget\n",
    "import os\n",
    "from pdf2image import convert_from_path\n",
    "\n",
    "# this will install poppler file\n",
    "zip_url = \"https://github.com/oschwartz10612/poppler-windows/releases/download/v24.02.0-0/Release-24.02.0-0.zip\"\n",
    "zip_filename = wget.download(zip_url)\n",
    "\n",
    "# unzips poppler file\n",
    "!unzip -o {zip_filename}\n",
    "\n",
    "doc = fitz.open(\"table.pdf\")\n",
    "page = doc[0]\n",
    "paths = page.get_drawings()  # extract existing drawings\n",
    "# this is a list of \"paths\", which can directly be drawn again using Shape\n",
    "# -------------------------------------------------------------------------\n",
    "# define some output page with the same dimensions\n",
    "outpdf = fitz.open()\n",
    "outpage = outpdf.new_page(width=page.rect.width, height=page.rect.height)\n",
    "shape = outpage.new_shape()  # make a drawing canvas for the output page\n",
    "# --------------------------------------\n",
    "# loop through the paths and draw them\n",
    "# --------------------------------------\n",
    "for path in paths:\n",
    "    # ------------------------------------\n",
    "    # draw each entry of the 'items' list\n",
    "    # ------------------------------------\n",
    "    for item in path[\"items\"]:  # these are the draw commands\n",
    "        if item[0] == \"l\":  # line\n",
    "            shape.draw_line(item[1], item[2])\n",
    "        elif item[0] == \"re\":  # rectangle\n",
    "            shape.draw_rect(item[1])\n",
    "        elif item[0] == \"qu\":  # quad\n",
    "            shape.draw_quad(item[1])\n",
    "        elif item[0] == \"c\":  # curve\n",
    "            shape.draw_bezier(item[1], item[2], item[3], item[4])\n",
    "        else:\n",
    "            raise ValueError(\"unhandled drawing\", item)\n",
    "    # ------------------------------------------------------\n",
    "    # all items are drawn, now apply the common properties\n",
    "    # to finish the path\n",
    "    # ------------------------------------------------------\n",
    "    shape.finish()\n",
    "shape.commit()\n",
    "outpdf.save(\"test_file_ext2.pdf\")\n",
    "pdf_path = 'test_file_ext2.pdf'\n",
    "doc = fitz.open(pdf_path)\n",
    "\n",
    "# Get the poppler executable path dynamically\n",
    "!which poppler > poppler_path.txt\n",
    "with open('poppler_path.txt', 'r') as f:\n",
    "    poppler_path = f.read().strip()\n",
    "\n",
    "# Use the dynamic poppler path\n",
    "images = convert_from_path(pdf_path, poppler_path=poppler_path)\n",
    "\n",
    "# Save each image as a JPEG file\n",
    "for i, image in enumerate(images):\n",
    "    image.save(f'extracted_image{i+1}.jpg', 'JPEG')"
   ],
   "execution_count": 1,
   "outputs": []
  }
 ],
 "metadata": {
  "kernelspec": {
   "display_name": "Python 3",
   "language": "python",
   "name": "python3"
  },
  "language_info": {
   "codemirror_mode": {
    "name": "ipython",
    "version": 2
   },
   "file_extension": ".py",
   "mimetype": "text/x-python",
   "name": "python",
   "nbconvert_exporter": "python",
   "pygments_lexer": "ipython2",
   "version": "2.7.6"
  }
 },
 "nbformat": 4,
 "nbformat_minor": 5
}
