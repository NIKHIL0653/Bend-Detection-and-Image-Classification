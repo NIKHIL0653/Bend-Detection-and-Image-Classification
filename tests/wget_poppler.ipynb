{
 "cells": [
  {
   "cell_type": "code",
   "id": "e195cc2c0408bdda",
   "metadata": {
    "collapsed": true,
    "ExecuteTime": {
     "end_time": "2024-06-17T09:35:50.747370Z",
     "start_time": "2024-06-17T09:35:50.738370Z"
    }
   },
   "source": [
    "import fitz\n",
    "from PIL import Image\n",
    "import subprocess\n",
    "import os"
   ],
   "execution_count": 6,
   "outputs": []
  },
  {
   "metadata": {
    "ExecuteTime": {
     "end_time": "2024-06-17T09:35:51.274992Z",
     "start_time": "2024-06-17T09:35:51.242939Z"
    }
   },
   "cell_type": "code",
   "source": [
    "doc = fitz.open(\"table.pdf\")\n",
    "page = doc[0]\n",
    "paths = page.get_drawings()  # extract existing drawings\n",
    "# this is a list of \"paths\", which can directly be drawn again using Shape\n",
    "# -------------------------------------------------------------------------"
   ],
   "id": "b68600d2cdc6fd20",
   "execution_count": 7,
   "outputs": []
  },
  {
   "metadata": {
    "ExecuteTime": {
     "end_time": "2024-06-17T09:35:51.855289Z",
     "start_time": "2024-06-17T09:35:51.841009Z"
    }
   },
   "cell_type": "code",
   "source": [
    "# define some output page with the same dimensions\n",
    "outpdf = fitz.open()\n",
    "outpage = outpdf.new_page(width=page.rect.width, height=page.rect.height)\n",
    "shape = outpage.new_shape()  # make a drawing canvas for the output page"
   ],
   "id": "1d9d03c5e807aa45",
   "execution_count": 8,
   "outputs": []
  },
  {
   "metadata": {
    "ExecuteTime": {
     "end_time": "2024-06-17T09:35:52.276903Z",
     "start_time": "2024-06-17T09:35:52.254550Z"
    }
   },
   "cell_type": "code",
   "source": [
    "# --------------------------------------\n",
    "# loop through the paths and draw them\n",
    "# --------------------------------------\n",
    "for path in paths:\n",
    "    # ------------------------------------\n",
    "    # draw each entry of the 'items' list\n",
    "    # ------------------------------------\n",
    "    for item in path[\"items\"]:  # these are the draw commands\n",
    "        if item[0] == \"l\":  # line\n",
    "            shape.draw_line(item[1], item[2])\n",
    "        elif item[0] == \"re\":  # rectangle\n",
    "            shape.draw_rect(item[1])\n",
    "        elif item[0] == \"qu\":  # quad\n",
    "            shape.draw_quad(item[1])\n",
    "        elif item[0] == \"c\":  # curve\n",
    "            shape.draw_bezier(item[1], item[2], item[3], item[4])\n",
    "        else:\n",
    "            raise ValueError(\"unhandled drawing\", item)\n",
    "    # ------------------------------------------------------\n",
    "    # all items are drawn, now apply the common properties\n",
    "    # to finish the path\n",
    "    # ------------------------------------------------------\n",
    "    shape.finish()\n",
    "# all paths processed - commit the shape to its page"
   ],
   "id": "152cd2335de66180",
   "execution_count": 9,
   "outputs": []
  },
  {
   "metadata": {
    "ExecuteTime": {
     "end_time": "2024-06-17T09:35:53.107504Z",
     "start_time": "2024-06-17T09:35:53.098599Z"
    }
   },
   "cell_type": "code",
   "source": [
    "shape.commit()\n",
    "outpdf.save(\"test_file_ext.pdf\")"
   ],
   "id": "7a8290f46267d611",
   "execution_count": 10,
   "outputs": []
  },
  {
   "metadata": {
    "ExecuteTime": {
     "end_time": "2024-06-17T09:35:58.209971Z",
     "start_time": "2024-06-17T09:35:58.176221Z"
    }
   },
   "cell_type": "code",
   "source": [
    "import fitz\n",
    "from pdf2image import convert_from_path\n",
    "\n",
    "pdf_path = 'test_file_ext.pdf'\n",
    "doc = fitz.open(pdf_path)"
   ],
   "id": "aa473853fd0f1eca",
   "execution_count": 11,
   "outputs": []
  },
  {
   "metadata": {
    "ExecuteTime": {
     "end_time": "2024-06-17T09:36:31.795717Z",
     "start_time": "2024-06-17T09:36:31.644740Z"
    }
   },
   "cell_type": "code",
   "source": [
    "# Install Poppler using wget and save the files in Program Files\n",
    "poppler_version = '24.02.0'\n",
    "poppler_url = f'https://dl.bintray.com/gildor/poppler/poppler-{poppler_version}-windows_x86_64.zip'\n",
    "poppler_zip_path = os.path.join(os.environ['ProgramFiles'], f'poppler-{poppler_version}.zip')\n",
    "poppler_path = os.path.join(os.environ['ProgramFiles'], f'poppler-{poppler_version}')\n",
    "\n",
    "# Download Poppler\n",
    "subprocess.run(['wget', '-O', poppler_zip_path, poppler_url])\n",
    "\n",
    "# Extract Poppler\n",
    "subprocess.run(['unzip', '-o', poppler_zip_path, '-d', os.environ['ProgramFiles']])"
   ],
   "id": "c4c6d7ff9caad0db",
   "execution_count": 12,
   "outputs": []
  },
  {
   "metadata": {
    "ExecuteTime": {
     "end_time": "2024-06-17T09:36:48.401356Z",
     "start_time": "2024-06-17T09:36:46.072397Z"
    }
   },
   "cell_type": "code",
   "source": [
    "# Convert PDF to images using pdf2image\n",
    "images = convert_from_path(pdf_path, poppler_path=poppler_path)\n",
    "\n",
    "# Save each image as a JPEG file\n",
    "for image in images:\n",
    "    image.save('extracted_image1.jpg', 'JPEG')"
   ],
   "id": "initial_id",
   "execution_count": 13,
   "outputs": []
  },
  {
   "metadata": {},
   "cell_type": "code",
   "execution_count": null,
   "source": "",
   "id": "1cb72e8483dc7805",
   "outputs": []
  }
 ],
 "metadata": {
  "kernelspec": {
   "display_name": "Python 3",
   "language": "python",
   "name": "python3"
  },
  "language_info": {
   "codemirror_mode": {
    "name": "ipython",
    "version": 2
   },
   "file_extension": ".py",
   "mimetype": "text/x-python",
   "name": "python",
   "nbconvert_exporter": "python",
   "pygments_lexer": "ipython2",
   "version": "2.7.6"
  }
 },
 "nbformat": 4,
 "nbformat_minor": 5
}
