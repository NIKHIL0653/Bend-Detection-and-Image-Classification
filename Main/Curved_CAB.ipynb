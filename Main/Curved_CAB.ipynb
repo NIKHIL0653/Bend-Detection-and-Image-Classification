{
 "cells": [
  {
   "cell_type": "code",
   "execution_count": 15,
   "id": "8ed68bc2-a772-422a-a11e-b585f8f95edd",
   "metadata": {},
   "outputs": [],
   "source": [
    "import cv2\n",
    "import numpy as np\n",
    "import matplotlib.pyplot as plt\n",
    "\n",
    "# Read the image\n",
    "image = cv2.imread('Shapes/row_30.png', cv2.IMREAD_GRAYSCALE)\n",
    "\n",
    "# Apply Gaussian Blur to smooth the image\n",
    "blurred_image = cv2.GaussianBlur(image, (5, 5), 0)\n",
    "\n",
    "# Threshold the image to get a binary image\n",
    "_, thresholded = cv2.threshold(blurred_image, 127, 255, cv2.THRESH_BINARY)\n",
    "\n",
    "# Find contours\n",
    "contours, _ = cv2.findContours(thresholded, cv2.RETR_TREE, cv2.CHAIN_APPROX_SIMPLE)\n",
    "\n",
    "# Function to approximate contours\n",
    "def approximate_contours(contours, epsilon_factor=0.01):\n",
    "    approx_contours = []\n",
    "    for contour in contours:\n",
    "        epsilon = epsilon_factor * cv2.arcLength(contour, True)\n",
    "        approx = cv2.approxPolyDP(contour, epsilon, True)\n",
    "        approx_contours.append(approx)\n",
    "    return approx_contours\n",
    "\n",
    "# Approximate the contours\n",
    "approx_contours = approximate_contours(contours)"
   ]
  },
  {
   "cell_type": "code",
   "execution_count": 11,
   "id": "ac30e54a-c0e5-4344-96ca-968ac3645996",
   "metadata": {},
   "outputs": [],
   "source": [
    "# Function to detect arcs in the approximated contours\n",
    "def detect_arcs(contours, min_arc_length=50, circularity_threshold=0.7):\n",
    "    arcs = []\n",
    "    for contour in contours:\n",
    "        for i in range(len(contour)):\n",
    "            for j in range(i + 2, len(contour)):\n",
    "                segment = contour[i:j]\n",
    "                if len(segment) < 5:  # Not enough points to fit an ellipse\n",
    "                    continue\n",
    "                \n",
    "                (x, y), (MA, ma), angle = cv2.fitEllipse(segment)\n",
    "                ellipse_aspect_ratio = min(MA, ma) / max(MA, ma)\n",
    "                \n",
    "                if 0.5 < ellipse_aspect_ratio < 1.0:  # Roughly circular\n",
    "                    arc_length = cv2.arcLength(segment, False)\n",
    "                    if arc_length > min_arc_length:\n",
    "                        circularity = (4 * np.pi * cv2.contourArea(segment)) / (arc_length ** 2)\n",
    "                        if circularity > circularity_threshold:\n",
    "                            arcs.append(segment)\n",
    "    return arcs\n",
    "\n",
    "# Detect arcs\n",
    "arcs = detect_arcs(approx_contours)\n"
   ]
  },
  {
   "cell_type": "code",
   "execution_count": 12,
   "id": "aabcb86c-15d5-4549-b868-572047bdf325",
   "metadata": {},
   "outputs": [],
   "source": [
    "def calculate_tangents(arc):\n",
    "    # Fit a circle to the arc\n",
    "    (x, y), radius = cv2.minEnclosingCircle(arc)\n",
    "    center = (int(x), int(y))\n",
    "\n",
    "    # Get the endpoints of the arc\n",
    "    pt1 = tuple(arc[0][0])\n",
    "    pt2 = tuple(arc[-1][0])\n",
    "\n",
    "    # Calculate the tangents\n",
    "    def tangent_point(pt):\n",
    "        vec = np.array(pt) - np.array(center)\n",
    "        tangent_vec = np.array([-vec[1], vec[0]])\n",
    "        tangent_vec = tangent_vec / np.linalg.norm(tangent_vec) * radius\n",
    "        tangent_pt = tuple((np.array(center) + tangent_vec).astype(int))\n",
    "        return tangent_pt\n",
    "\n",
    "    tangent1 = tangent_point(pt1)\n",
    "    tangent2 = tangent_point(pt2)\n",
    "\n",
    "    return (pt1, tangent1), (pt2, tangent2)\n",
    "\n",
    "# Calculate tangents for all arcs\n",
    "tangents = []\n",
    "for arc in arcs:\n",
    "    tangents.extend(calculate_tangents(arc))\n"
   ]
  },
  {
   "cell_type": "code",
   "execution_count": 13,
   "id": "28825473-190e-451e-85d9-5d61c990c5ea",
   "metadata": {},
   "outputs": [],
   "source": [
    "def line_intersection(line1, line2):\n",
    "    xdiff = (line1[0][0] - line1[1][0], line2[0][0] - line2[1][0])\n",
    "    ydiff = (line1[0][1] - line1[1][1], line2[0][1] - line2[1][1])\n",
    "\n",
    "    def det(a, b):\n",
    "        return a[0] * b[1] - a[1] * b[0]\n",
    "\n",
    "    div = det(xdiff, ydiff)\n",
    "    if div == 0:\n",
    "        return None  # Lines don't intersect\n",
    "\n",
    "    d = (det(*line1), det(*line2))\n",
    "    x = det(d, xdiff) / div\n",
    "    y = det(d, ydiff) / div\n",
    "    return x, y\n",
    "\n",
    "# Find intersections\n",
    "intersection_points = []\n",
    "for i in range(0, len(tangents), 2):\n",
    "    if i + 1 < len(tangents):\n",
    "        intersect_point = line_intersection(tangents[i], tangents[i + 1])\n",
    "        if intersect_point:\n",
    "            intersection_points.append(intersect_point)\n"
   ]
  },
  {
   "cell_type": "code",
   "execution_count": 14,
   "id": "9de796c0-8ee9-4fea-b3f2-3c2beb53b297",
   "metadata": {},
   "outputs": [
    {
     "data": {
      "text/plain": [
       "<matplotlib.image.AxesImage at 0x18b27756de0>"
      ]
     },
     "execution_count": 14,
     "metadata": {},
     "output_type": "execute_result"
    },
    {
     "data": {
      "image/png": "[encoded data removed]",
      "text/plain": [
       "<Figure size 640x480 with 1 Axes>"
      ]
     },
     "metadata": {},
     "output_type": "display_data"
    }
   ],
   "source": [
    "# Draw detected arcs\n",
    "output_image = cv2.cvtColor(image, cv2.COLOR_GRAY2BGR)\n",
    "\n",
    "# Draw tangents and intersection points\n",
    "for line in tangents:\n",
    "    cv2.line(output_image, line[0], line[1], (0, 255, 0), 2)\n",
    "\n",
    "for point in intersection_points:\n",
    "    cv2.circle(output_image, (int(point[0]), int(point[1])), 5, (0, 0, 255), -1)\n",
    "\n",
    "# Display the result\n",
    "plt.imshow(output_image)"
   ]
  },
  {
   "cell_type": "code",
   "execution_count": 22,
   "id": "e9554962-6948-4b46-a3a4-8f6419b58b12",
   "metadata": {},
   "outputs": [],
   "source": [
    "import cv2\n",
    "import numpy as np\n",
    "import matplotlib.pyplot as plt\n",
    "\n",
    "# Read the image\n",
    "image = cv2.imread('Shapes/row_30.png', cv2.IMREAD_GRAYSCALE)\n",
    "\n",
    "# Apply Gaussian Blur to smooth the image\n",
    "blurred_image = cv2.GaussianBlur(image, (5, 5), 0)\n",
    "\n",
    "# Threshold the image to get a binary image\n",
    "_, thresholded = cv2.threshold(blurred_image, 127, 255, cv2.THRESH_BINARY)\n",
    "\n",
    "# Find contours\n",
    "contours, _ = cv2.findContours(thresholded, cv2.RETR_TREE, cv2.CHAIN_APPROX_SIMPLE)\n"
   ]
  },
  {
   "cell_type": "code",
   "execution_count": 23,
   "id": "37d377ba-f9d0-47a6-8a45-057429b2dec5",
   "metadata": {},
   "outputs": [],
   "source": [
    "def estimate_curvature(contour, k=5):\n",
    "    curvature = []\n",
    "    for i in range(len(contour)):\n",
    "        # Get k neighbors on either side\n",
    "        p1 = contour[i - k][0] if i - k >= 0 else contour[0][0]\n",
    "        p2 = contour[i][0]\n",
    "        p3 = contour[(i + k) % len(contour)][0]\n",
    "\n",
    "        # Calculate the curvature using the circle fitting method\n",
    "        area = 0.5 * abs(p1[0]*p2[1] + p2[0]*p3[1] + p3[0]*p1[1] - p1[1]*p2[0] - p2[1]*p3[0] - p3[1]*p1[0])\n",
    "        side_a = np.linalg.norm(p1 - p2)\n",
    "        side_b = np.linalg.norm(p2 - p3)\n",
    "        side_c = np.linalg.norm(p3 - p1)\n",
    "        if side_a * side_b * side_c == 0:\n",
    "            curvature.append(0)\n",
    "        else:\n",
    "            radius = (side_a * side_b * side_c) / (4 * area)\n",
    "            curvature.append(1 / radius)\n",
    "\n",
    "    return np.array(curvature)\n",
    "\n",
    "# Estimate curvature for all contours\n",
    "curvature_list = []\n",
    "for contour in contours:\n",
    "    curvature = estimate_curvature(contour)\n",
    "    curvature_list.append(curvature)\n"
   ]
  },
  {
   "cell_type": "code",
   "execution_count": 24,
   "id": "35a4807f-d0bd-41c6-97b4-5f54d5725378",
   "metadata": {},
   "outputs": [],
   "source": [
    "def identify_bends(curvature, threshold=0.01):\n",
    "    bends = []\n",
    "    for i in range(len(curvature)):\n",
    "        if curvature[i] > threshold:\n",
    "            bends.append(i)\n",
    "    return bends\n",
    "\n",
    "# Identify bends for all contours\n",
    "bends_list = []\n",
    "for curvature in curvature_list:\n",
    "    bends = identify_bends(curvature)\n",
    "    bends_list.append(bends)\n"
   ]
  },
  {
   "cell_type": "code",
   "execution_count": 28,
   "id": "c4c52412-4e0b-4d58-a9dc-c96063cd2637",
   "metadata": {},
   "outputs": [
    {
     "data": {
      "text/plain": [
       "<matplotlib.image.AxesImage at 0x18b2c36cfb0>"
      ]
     },
     "execution_count": 28,
     "metadata": {},
     "output_type": "execute_result"
    },
    {
     "data": {
      "image/png": "[encoded data removed]",
      "text/plain": [
       "<Figure size 640x480 with 1 Axes>"
      ]
     },
     "metadata": {},
     "output_type": "display_data"
    }
   ],
   "source": [
    "# Convert the image to color to draw colored points\n",
    "output_image = cv2.cvtColor(image, cv2.COLOR_GRAY2BGR)\n",
    "\n",
    "# Draw the bends on the image\n",
    "for contour, bends in zip(contours, bends_list):\n",
    "    for bend in bends:\n",
    "        point = tuple(contour[bend][0])\n",
    "        cv2.circle(output_image, point, 5, (0, 0, 255), -1)\n",
    "\n",
    "# Display the result\n",
    "plt.imshow(output_image)"
   ]
  },
  {
   "cell_type": "markdown",
   "id": "9f909b95-77d2-44a2-b973-1c4b1c419f2a",
   "metadata": {},
   "source": [
    "### Preprocessing the image"
   ]
  },
  {
   "cell_type": "code",
   "execution_count": 9,
   "outputs": [
    {
     "data": {
      "text/plain": "<matplotlib.image.AxesImage at 0x264473acc80>"
     },
     "execution_count": 9,
     "metadata": {},
     "output_type": "execute_result"
    },
    {
     "data": {
      "text/plain": "<Figure size 640x480 with 1 Axes>",
      "image/png": "[encoded data removed]"
     },
     "metadata": {},
     "output_type": "display_data"
    }
   ],
   "source": [
    "import cv2\n",
    "import numpy as np\n",
    "import matplotlib.pyplot as plt\n",
    "\n",
    "# Read the image\n",
    "image_path = \"Shapes/row_30.png\"\n",
    "\n",
    "# Load the image\n",
    "img = cv2.imread(image_path)\n",
    "\n",
    "plt.imshow(img)"
   ],
   "metadata": {
    "collapsed": false
   }
  },
  {
   "cell_type": "code",
   "execution_count": 25,
   "outputs": [
    {
     "name": "stdout",
     "output_type": "stream",
     "text": [
      "\n",
      "Total No. of bends: 24\n"
     ]
    },
    {
     "data": {
      "text/plain": "<Figure size 640x480 with 1 Axes>",
      "image/png": "[encoded data removed]"
     },
     "metadata": {},
     "output_type": "display_data"
    }
   ],
   "source": [
    "# Grayscale Image\n",
    "gray = cv2.cvtColor(img, cv2.COLOR_BGR2GRAY)\n",
    "\n",
    "# Apply Gaussian Blur\n",
    "blurred_img = cv2.GaussianBlur(gray, (1, 1), 0)\n",
    "\n",
    "# canny image\n",
    "canny_image = cv2.Canny(blurred_img, 90, 80)\n",
    "\n",
    "# Dilation kernel and iterations\n",
    "dilation_kernel = np.ones((1, 1), np.uint8)\n",
    "dilation_iterations = 10 # Number of dilation iterations\n",
    "\n",
    "dilated_img = cv2.dilate(blurred_img, dilation_kernel, dilation_iterations)\n",
    "\n",
    "# Thresholding\n",
    "_, thresh = cv2.threshold(dilated_img, 150, 255, cv2.THRESH_BINARY)\n",
    "\n",
    "# Find Contours\n",
    "contours, _ = cv2.findContours(thresh, cv2.RETR_EXTERNAL, cv2.CHAIN_APPROX_SIMPLE)\n",
    "\n",
    "def estimate_curvature(contour, k=5):\n",
    "    \"\"\"Estimates curvature of a contour using circle fitting method.\"\"\"\n",
    "    curvature = []\n",
    "    for i in range(len(contour)):\n",
    "        p1 = contour[i - k][0] if i - k >= 0 else contour[0][0]\n",
    "        p2 = contour[i][0]\n",
    "        p3 = contour[(i + k) % len(contour)][0]\n",
    "        area = 0.5 * abs(\n",
    "            (p1[0] * p2[1] + p2[0] * p3[1] + p3[0] * p1[1])\n",
    "            - (p1[1] * p2[0] + p2[1] * p3[0] + p3[1] * p1[0])\n",
    "        )\n",
    "        side_a, side_b, side_c = (\n",
    "            np.linalg.norm(p1 - p2),\n",
    "            np.linalg.norm(p2 - p3),\n",
    "            np.linalg.norm(p3 - p1),\n",
    "        )\n",
    "        radius = (side_a * side_b * side_c) / (4 * area) if area != 0 else 0\n",
    "        curvature.append(1 / radius if radius != 0 else 0)\n",
    "    return np.array(curvature)\n",
    "\n",
    "def identify_bends(curvature, threshold=0.01):\n",
    "    \"\"\"Identifies bends in a curvature array based on a threshold.\"\"\"\n",
    "    return [i for i, val in enumerate(curvature) if val > threshold]\n",
    "\n",
    "# Process Contours and Display Results\n",
    "total_bends = 0\n",
    "output_image = cv2.cvtColor(thresh, cv2.COLOR_GRAY2BGR)\n",
    "\n",
    "for contour in contours:\n",
    "    if len(contour) > 5:  # Filter out small contours\n",
    "        curvature = estimate_curvature(contour)\n",
    "        curvature = np.convolve(curvature, np.ones(5)/5, mode='same')  # Smooth curvature\n",
    "        bends = identify_bends(curvature)\n",
    "\n",
    "        for bend in bends:\n",
    "            point = tuple(contour[bend][0])\n",
    "            cv2.circle(output_image, point, 5, (0, 0, 255), -1)  # Red circles\n",
    "\n",
    "        total_bends += len(bends)\n",
    "\n",
    "        # # Display bend count for each contour\n",
    "        # print(f\"No. of bends in this contour: {len(bends)}\")\n",
    "        #\n",
    "        # # Plot curvature for each contour\n",
    "        # plt.figure()\n",
    "        # plt.plot(curvature)\n",
    "        # plt.title(\"Curvature Plot\")\n",
    "        # plt.xlabel(\"Point Index\")\n",
    "        # plt.ylabel(\"Curvature\")\n",
    "        # plt.show()\n",
    "\n",
    "# Display total bend count and final image\n",
    "print(f\"\\nTotal No. of bends: {total_bends}\")\n",
    "plt.figure()\n",
    "plt.imshow(output_image)\n",
    "plt.title(\"Detected Bends\")\n",
    "plt.show()\n"
   ],
   "metadata": {
    "collapsed": false
   }
  },
  {
   "cell_type": "code",
   "execution_count": 26,
   "outputs": [
    {
     "name": "stderr",
     "output_type": "stream",
     "text": [
      "C:\\Users\\KIIT\\AppData\\Local\\Temp\\ipykernel_13916\\1954467782.py:42: DeprecationWarning: `np.int0` is a deprecated alias for `np.intp`.  (Deprecated NumPy 1.24)\n",
      "  corners = np.int0(corners)\n"
     ]
    },
    {
     "data": {
      "text/plain": "<Figure size 1000x600 with 1 Axes>",
      "image/png": "[encoded data removed]"
     },
     "metadata": {},
     "output_type": "display_data"
    },
    {
     "name": "stdout",
     "output_type": "stream",
     "text": [
      "\n",
      "Total No. of bends: 1\n"
     ]
    }
   ],
   "source": [
    "import cv2\n",
    "import numpy as np\n",
    "import matplotlib.pyplot as plt\n",
    "\n",
    "# Read the image\n",
    "img = cv2.imread('Shapes/row_30.png')\n",
    "\n",
    "# Grayscale Image\n",
    "gray = cv2.cvtColor(img, cv2.COLOR_BGR2GRAY)\n",
    "\n",
    "# Apply Gaussian Blur\n",
    "blurred = cv2.GaussianBlur(gray, (5, 5), 0)\n",
    "\n",
    "# Canny Edge Detection\n",
    "canny = cv2.Canny(blurred, 100, 200)\n",
    "\n",
    "# Dilation\n",
    "kernel = np.ones((5, 5), np.uint8)\n",
    "dilated = cv2.dilate(canny, kernel, iterations=1)\n",
    "\n",
    "# Find Contours\n",
    "contours, _ = cv2.findContours(dilated.copy(), cv2.RETR_EXTERNAL, cv2.CHAIN_APPROX_SIMPLE)\n",
    "\n",
    "def find_tangent_intersection(contour, start_idx, end_idx):\n",
    "    \"\"\"Finds intersection of tangents drawn from start and end points of a contour segment.\"\"\"\n",
    "    p1 = contour[start_idx][0]\n",
    "    p2 = contour[end_idx][0]\n",
    "    v1 = contour[(start_idx + 5) % len(contour)][0] - p1\n",
    "    v2 = contour[(end_idx - 5) % len(contour)][0] - p2\n",
    "\n",
    "    # Solve for intersection using line equations\n",
    "    A = np.array([v1, -v2]).T\n",
    "    b = np.array([p2 - p1]).T\n",
    "    try:\n",
    "        x = np.linalg.solve(A, b)\n",
    "        intersection = p1 + x[0] * v1\n",
    "        return intersection.astype(int)\n",
    "    except np.linalg.LinAlgError:\n",
    "        return None\n",
    "\n",
    "corners = cv2.goodFeaturesToTrack(gray, maxCorners=100, qualityLevel=0.01, minDistance=10)\n",
    "corners = np.int0(corners)\n",
    "\n",
    "bend_points = []\n",
    "for i in range(len(contours)):\n",
    "    contour = contours[i]\n",
    "    if len(contour) < 10:\n",
    "        continue  # Skip small contours\n",
    "    for j in range(0, len(contour) - 10, 10):  # Step through contour\n",
    "        intersection = find_tangent_intersection(contour, j, j + 10)\n",
    "        if intersection is not None:\n",
    "            bend_points.append(intersection)\n",
    "\n",
    "# Draw bends on the image\n",
    "output_image = cv2.cvtColor(img, cv2.COLOR_BGR2RGB)\n",
    "for corner in corners:\n",
    "    x, y = corner.ravel()\n",
    "    cv2.circle(output_image, (x, y), 3, (0, 255, 0), -1)\n",
    "for point in bend_points:\n",
    "    x, y = point\n",
    "    cv2.circle(output_image, (x, y), 5, (0, 0, 255), -1)\n",
    "\n",
    "# Display the output image\n",
    "plt.figure(figsize=(10, 6))\n",
    "plt.imshow(output_image)\n",
    "plt.title('Bends Detected Using Tangents and Shi-Tomasi Corners')\n",
    "plt.axis('off')\n",
    "plt.show()\n",
    "\n",
    "print(f\"\\nTotal No. of bends: {len(bend_points)}\")\n"
   ],
   "metadata": {
    "collapsed": false
   }
  }
 ],
 "metadata": {
  "kernelspec": {
   "display_name": "Python 3 (ipykernel)",
   "language": "python",
   "name": "python3"
  },
  "language_info": {
   "codemirror_mode": {
    "name": "ipython",
    "version": 3
   },
   "file_extension": ".py",
   "mimetype": "text/x-python",
   "name": "python",
   "nbconvert_exporter": "python",
   "pygments_lexer": "ipython3",
   "version": "3.12.3"
  }
 },
 "nbformat": 4,
 "nbformat_minor": 5
}
