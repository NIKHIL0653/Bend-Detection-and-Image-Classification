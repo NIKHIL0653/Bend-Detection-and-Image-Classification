{
 "cells": [
  {
   "cell_type": "code",
   "execution_count": 15,
   "id": "8ed68bc2-a772-422a-a11e-b585f8f95edd",
   "metadata": {},
   "outputs": [],
   "source": [
    "import cv2\n",
    "import numpy as np\n",
    "import matplotlib.pyplot as plt\n",
    "\n",
    "# Read the image\n",
    "image = cv2.imread('Shapes/row_30.png', cv2.IMREAD_GRAYSCALE)\n",
    "\n",
    "# Apply Gaussian Blur to smooth the image\n",
    "blurred_image = cv2.GaussianBlur(image, (5, 5), 0)\n",
    "\n",
    "# Threshold the image to get a binary image\n",
    "_, thresholded = cv2.threshold(blurred_image, 127, 255, cv2.THRESH_BINARY)\n",
    "\n",
    "# Find contours\n",
    "contours, _ = cv2.findContours(thresholded, cv2.RETR_TREE, cv2.CHAIN_APPROX_SIMPLE)\n",
    "\n",
    "# Function to approximate contours\n",
    "def approximate_contours(contours, epsilon_factor=0.01):\n",
    "    approx_contours = []\n",
    "    for contour in contours:\n",
    "        epsilon = epsilon_factor * cv2.arcLength(contour, True)\n",
    "        approx = cv2.approxPolyDP(contour, epsilon, True)\n",
    "        approx_contours.append(approx)\n",
    "    return approx_contours\n",
    "\n",
    "# Approximate the contours\n",
    "approx_contours = approximate_contours(contours)"
   ]
  },
  {
   "cell_type": "code",
   "execution_count": 11,
   "id": "ac30e54a-c0e5-4344-96ca-968ac3645996",
   "metadata": {},
   "outputs": [],
   "source": [
    "# Function to detect arcs in the approximated contours\n",
    "def detect_arcs(contours, min_arc_length=50, circularity_threshold=0.7):\n",
    "    arcs = []\n",
    "    for contour in contours:\n",
    "        for i in range(len(contour)):\n",
    "            for j in range(i + 2, len(contour)):\n",
    "                segment = contour[i:j]\n",
    "                if len(segment) < 5:  # Not enough points to fit an ellipse\n",
    "                    continue\n",
    "                \n",
    "                (x, y), (MA, ma), angle = cv2.fitEllipse(segment)\n",
    "                ellipse_aspect_ratio = min(MA, ma) / max(MA, ma)\n",
    "                \n",
    "                if 0.5 < ellipse_aspect_ratio < 1.0:  # Roughly circular\n",
    "                    arc_length = cv2.arcLength(segment, False)\n",
    "                    if arc_length > min_arc_length:\n",
    "                        circularity = (4 * np.pi * cv2.contourArea(segment)) / (arc_length ** 2)\n",
    "                        if circularity > circularity_threshold:\n",
    "                            arcs.append(segment)\n",
    "    return arcs\n",
    "\n",
    "# Detect arcs\n",
    "arcs = detect_arcs(approx_contours)\n"
   ]
  },
  {
   "cell_type": "code",
   "execution_count": 12,
   "id": "aabcb86c-15d5-4549-b868-572047bdf325",
   "metadata": {},
   "outputs": [],
   "source": [
    "def calculate_tangents(arc):\n",
    "    # Fit a circle to the arc\n",
    "    (x, y), radius = cv2.minEnclosingCircle(arc)\n",
    "    center = (int(x), int(y))\n",
    "\n",
    "    # Get the endpoints of the arc\n",
    "    pt1 = tuple(arc[0][0])\n",
    "    pt2 = tuple(arc[-1][0])\n",
    "\n",
    "    # Calculate the tangents\n",
    "    def tangent_point(pt):\n",
    "        vec = np.array(pt) - np.array(center)\n",
    "        tangent_vec = np.array([-vec[1], vec[0]])\n",
    "        tangent_vec = tangent_vec / np.linalg.norm(tangent_vec) * radius\n",
    "        tangent_pt = tuple((np.array(center) + tangent_vec).astype(int))\n",
    "        return tangent_pt\n",
    "\n",
    "    tangent1 = tangent_point(pt1)\n",
    "    tangent2 = tangent_point(pt2)\n",
    "\n",
    "    return (pt1, tangent1), (pt2, tangent2)\n",
    "\n",
    "# Calculate tangents for all arcs\n",
    "tangents = []\n",
    "for arc in arcs:\n",
    "    tangents.extend(calculate_tangents(arc))\n"
   ]
  },
  {
   "cell_type": "code",
   "execution_count": 13,
   "id": "28825473-190e-451e-85d9-5d61c990c5ea",
   "metadata": {},
   "outputs": [],
   "source": [
    "def line_intersection(line1, line2):\n",
    "    xdiff = (line1[0][0] - line1[1][0], line2[0][0] - line2[1][0])\n",
    "    ydiff = (line1[0][1] - line1[1][1], line2[0][1] - line2[1][1])\n",
    "\n",
    "    def det(a, b):\n",
    "        return a[0] * b[1] - a[1] * b[0]\n",
    "\n",
    "    div = det(xdiff, ydiff)\n",
    "    if div == 0:\n",
    "        return None  # Lines don't intersect\n",
    "\n",
    "    d = (det(*line1), det(*line2))\n",
    "    x = det(d, xdiff) / div\n",
    "    y = det(d, ydiff) / div\n",
    "    return x, y\n",
    "\n",
    "# Find intersections\n",
    "intersection_points = []\n",
    "for i in range(0, len(tangents), 2):\n",
    "    if i + 1 < len(tangents):\n",
    "        intersect_point = line_intersection(tangents[i], tangents[i + 1])\n",
    "        if intersect_point:\n",
    "            intersection_points.append(intersect_point)\n"
   ]
  },
  {
   "cell_type": "code",
   "execution_count": 14,
   "id": "9de796c0-8ee9-4fea-b3f2-3c2beb53b297",
   "metadata": {},
   "outputs": [
    {
     "data": {
      "text/plain": [
       "<matplotlib.image.AxesImage at 0x18b27756de0>"
      ]
     },
     "execution_count": 14,
     "metadata": {},
     "output_type": "execute_result"
    },
    {
     "data": {
      "image/png": "[encoded data removed]",
      "text/plain": [
       "<Figure size 640x480 with 1 Axes>"
      ]
     },
     "metadata": {},
     "output_type": "display_data"
    }
   ],
   "source": [
    "# Draw detected arcs\n",
    "output_image = cv2.cvtColor(image, cv2.COLOR_GRAY2BGR)\n",
    "\n",
    "# Draw tangents and intersection points\n",
    "for line in tangents:\n",
    "    cv2.line(output_image, line[0], line[1], (0, 255, 0), 2)\n",
    "\n",
    "for point in intersection_points:\n",
    "    cv2.circle(output_image, (int(point[0]), int(point[1])), 5, (0, 0, 255), -1)\n",
    "\n",
    "# Display the result\n",
    "plt.imshow(output_image)"
   ]
  },
  {
   "cell_type": "code",
   "execution_count": 22,
   "id": "e9554962-6948-4b46-a3a4-8f6419b58b12",
   "metadata": {},
   "outputs": [],
   "source": [
    "import cv2\n",
    "import numpy as np\n",
    "import matplotlib.pyplot as plt\n",
    "\n",
    "# Read the image\n",
    "image = cv2.imread('Shapes/row_30.png', cv2.IMREAD_GRAYSCALE)\n",
    "\n",
    "# Apply Gaussian Blur to smooth the image\n",
    "blurred_image = cv2.GaussianBlur(image, (5, 5), 0)\n",
    "\n",
    "# Threshold the image to get a binary image\n",
    "_, thresholded = cv2.threshold(blurred_image, 127, 255, cv2.THRESH_BINARY)\n",
    "\n",
    "# Find contours\n",
    "contours, _ = cv2.findContours(thresholded, cv2.RETR_TREE, cv2.CHAIN_APPROX_SIMPLE)\n"
   ]
  },
  {
   "cell_type": "code",
   "execution_count": 23,
   "id": "37d377ba-f9d0-47a6-8a45-057429b2dec5",
   "metadata": {},
   "outputs": [],
   "source": [
    "def estimate_curvature(contour, k=5):\n",
    "    curvature = []\n",
    "    for i in range(len(contour)):\n",
    "        # Get k neighbors on either side\n",
    "        p1 = contour[i - k][0] if i - k >= 0 else contour[0][0]\n",
    "        p2 = contour[i][0]\n",
    "        p3 = contour[(i + k) % len(contour)][0]\n",
    "\n",
    "        # Calculate the curvature using the circle fitting method\n",
    "        area = 0.5 * abs(p1[0]*p2[1] + p2[0]*p3[1] + p3[0]*p1[1] - p1[1]*p2[0] - p2[1]*p3[0] - p3[1]*p1[0])\n",
    "        side_a = np.linalg.norm(p1 - p2)\n",
    "        side_b = np.linalg.norm(p2 - p3)\n",
    "        side_c = np.linalg.norm(p3 - p1)\n",
    "        if side_a * side_b * side_c == 0:\n",
    "            curvature.append(0)\n",
    "        else:\n",
    "            radius = (side_a * side_b * side_c) / (4 * area)\n",
    "            curvature.append(1 / radius)\n",
    "\n",
    "    return np.array(curvature)\n",
    "\n",
    "# Estimate curvature for all contours\n",
    "curvature_list = []\n",
    "for contour in contours:\n",
    "    curvature = estimate_curvature(contour)\n",
    "    curvature_list.append(curvature)\n"
   ]
  },
  {
   "cell_type": "code",
   "execution_count": 24,
   "id": "35a4807f-d0bd-41c6-97b4-5f54d5725378",
   "metadata": {},
   "outputs": [],
   "source": [
    "def identify_bends(curvature, threshold=0.01):\n",
    "    bends = []\n",
    "    for i in range(len(curvature)):\n",
    "        if curvature[i] > threshold:\n",
    "            bends.append(i)\n",
    "    return bends\n",
    "\n",
    "# Identify bends for all contours\n",
    "bends_list = []\n",
    "for curvature in curvature_list:\n",
    "    bends = identify_bends(curvature)\n",
    "    bends_list.append(bends)\n"
   ]
  },
  {
   "cell_type": "code",
   "execution_count": 28,
   "id": "c4c52412-4e0b-4d58-a9dc-c96063cd2637",
   "metadata": {},
   "outputs": [
    {
     "data": {
      "text/plain": [
       "<matplotlib.image.AxesImage at 0x18b2c36cfb0>"
      ]
     },
     "execution_count": 28,
     "metadata": {},
     "output_type": "execute_result"
    },
    {
     "data": {
      "image/png": "[encoded data removed]",
      "text/plain": [
       "<Figure size 640x480 with 1 Axes>"
      ]
     },
     "metadata": {},
     "output_type": "display_data"
    }
   ],
   "source": [
    "# Convert the image to color to draw colored points\n",
    "output_image = cv2.cvtColor(image, cv2.COLOR_GRAY2BGR)\n",
    "\n",
    "# Draw the bends on the image\n",
    "for contour, bends in zip(contours, bends_list):\n",
    "    for bend in bends:\n",
    "        point = tuple(contour[bend][0])\n",
    "        cv2.circle(output_image, point, 5, (0, 0, 255), -1)\n",
    "\n",
    "# Display the result\n",
    "plt.imshow(output_image)"
   ]
  },
  {
   "cell_type": "markdown",
   "id": "9f909b95-77d2-44a2-b973-1c4b1c419f2a",
   "metadata": {},
   "source": [
    "### Preprocessing the image "
   ]
  },
  {
   "cell_type": "code",
   "execution_count": 29,
   "id": "44c9b6b8-776d-4cd8-890b-c2175976dd85",
   "metadata": {},
   "outputs": [],
   "source": [
    "import cv2\n",
    "import numpy as np\n",
    "import matplotlib.pyplot as plt"
   ]
  },
  {
   "cell_type": "code",
   "execution_count": null,
   "id": "5eb8621c-85b9-4a46-8caf-bad36ab7cfcb",
   "metadata": {},
   "outputs": [],
   "source": [
    "image_path = \"4.png\"\n",
    "\n",
    "# Load the image\n",
    "img = cv2.imread(image_path)\n",
    "\n",
    "# Grayscale Image\n",
    "gray = cv2.cvtColor(img, cv2.COLOR_BGR2GRAY)\n",
    "gray = cv2.bilateralFilter(gray, 30, 63, 3)\n",
    "#30,70,60 - 60\n",
    "\n",
    "# Laplacian\n",
    "lap = cv2.Laplacian(gray, cv2.CV_64F)\n",
    "lap = np.uint8(np.absolute(lap))\n",
    "           \n",
    "# Contour Detection\n",
    "contours, hierarchy = cv2.findContours(lap, cv2.RETR_EXTERNAL, cv2.CHAIN_APPROX_SIMPLE)\n",
    "\n",
    "# Draw contours on a white background\n",
    "white_background = np.ones_like(img) * 255\n",
    "contour_image = cv2.drawContours(white_background, filtered_contours, -1, (0, 0, 0), 2)\n",
    "\n",
    "# Threshold\n",
    "threshold_value = 65\n",
    "_, thresh = cv2.threshold(gray, threshold_value, 255, cv2.THRESH_BINARY_INV)\n",
    "\n",
    "# Remove noise\n",
    "kernel = cv2.getStructuringElement(cv2.MORPH_RECT, (1, 1))\n",
    "thresh = cv2.morphologyEx(thresh, cv2.MORPH_OPEN, kernel)\n",
    "\n",
    "kernel = np.ones((1, 1), dtype=np.uint8)\n",
    "closed_binary = cv2.morphologyEx(thresh, cv2.MORPH_CLOSE, kernel, iterations=2)"
   ]
  }
 ],
 "metadata": {
  "kernelspec": {
   "display_name": "Python 3 (ipykernel)",
   "language": "python",
   "name": "python3"
  },
  "language_info": {
   "codemirror_mode": {
    "name": "ipython",
    "version": 3
   },
   "file_extension": ".py",
   "mimetype": "text/x-python",
   "name": "python",
   "nbconvert_exporter": "python",
   "pygments_lexer": "ipython3",
   "version": "3.12.3"
  }
 },
 "nbformat": 4,
 "nbformat_minor": 5
}
