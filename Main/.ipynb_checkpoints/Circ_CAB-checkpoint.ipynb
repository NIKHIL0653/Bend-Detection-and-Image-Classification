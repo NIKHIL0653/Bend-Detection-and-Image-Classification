{
 "cells": [
  {
   "cell_type": "markdown",
   "metadata": {
    "collapsed": false,
    "jupyter": {
     "outputs_hidden": false
    }
   },
   "source": [
    "### Finding bends using arc detection on clean images"
   ]
  },
  {
   "cell_type": "code",
   "execution_count": 182,
   "metadata": {
    "collapsed": false,
    "jupyter": {
     "outputs_hidden": false
    }
   },
   "outputs": [
    {
     "name": "stdout",
     "output_type": "stream",
     "text": [
      "No. of bends = 1\n"
     ]
    }
   ],
   "source": [
    "import cv2\n",
    "import numpy as np\n",
    "\n",
    "def find_arcs(image_path):\n",
    "    # Load the image\n",
    "    image = cv2.imread(image_path)\n",
    "    if image is None:\n",
    "        print(\"Error: Could not load image.\")\n",
    "        return\n",
    "\n",
    "    # Convert to grayscale\n",
    "    gray = cv2.cvtColor(image, cv2.COLOR_BGR2GRAY)\n",
    "\n",
    "    # Apply Gaussian blur to reduce noise and improve edge detection\n",
    "    blurred = cv2.GaussianBlur(gray, (5, 5), 0)\n",
    "\n",
    "    # Perform edge detection using Canny\n",
    "    edges = cv2.Canny(blurred, 20, 100)\n",
    "\n",
    "    # Find contours in the edge map\n",
    "    contours, _ = cv2.findContours(edges.copy(), cv2.RETR_EXTERNAL, cv2.CHAIN_APPROX_SIMPLE)\n",
    "\n",
    "    # Function to check if a contour is an arc\n",
    "    def is_arc(contour, epsilon=0.02):\n",
    "        arc_length = cv2.arcLength(contour, True)\n",
    "        approx = cv2.approxPolyDP(contour, epsilon * arc_length, True)\n",
    "        return len(approx) > 4  # More than 4 points indicates a curve\n",
    "\n",
    "    num_arcs = 0\n",
    "    for contour in contours:\n",
    "        if is_arc(contour):\n",
    "            num_arcs += 1\n",
    "            cv2.drawContours(image, [contour], -1, (0, 255, 0), 2)\n",
    "\n",
    "    # Display the result\n",
    "    print(f\"No. of bends = {num_arcs}\")\n",
    "    cv2.imshow(\"Detected Arcs\", image)\n",
    "    cv2.waitKey(0)\n",
    "    cv2.destroyAllWindows()\n",
    "\n",
    "# Example usage\n",
    "find_arcs('circ_cab1_big.png')\n"
   ]
  },
  {
   "cell_type": "code",
   "execution_count": 181,
   "metadata": {
    "collapsed": false,
    "jupyter": {
     "outputs_hidden": false
    }
   },
   "outputs": [
    {
     "name": "stdout",
     "output_type": "stream",
     "text": [
      "No. of bends = 87\n"
     ]
    }
   ],
   "source": [
    "import cv2\n",
    "import numpy as np\n",
    "\n",
    "def find_arcs(image_path):\n",
    "    # Load the image\n",
    "    image = cv2.imread(image_path)\n",
    "    if image is None:\n",
    "        print(\"Error: Could not load image.\")\n",
    "        return\n",
    "\n",
    "    # Convert to grayscale\n",
    "    gray = cv2.cvtColor(image, cv2.COLOR_BGR2GRAY)\n",
    "\n",
    "    # Apply Gaussian blur to reduce noise and improve edge detection\n",
    "    blurred = cv2.GaussianBlur(gray, (5, 5), 0)\n",
    "\n",
    "    # Perform edge detection using Canny\n",
    "    edges = cv2.Canny(blurred, 50, 150)\n",
    "\n",
    "    # Find contours in the edge map\n",
    "    contours, _ = cv2.findContours(edges.copy(), cv2.RETR_EXTERNAL, cv2.CHAIN_APPROX_SIMPLE)\n",
    "\n",
    "    def detect_bends(contour, curvature_threshold=0.04):\n",
    "        bends = 0\n",
    "        for i in range(1, len(contour) - 1):\n",
    "            prev_point = contour[i - 1][0]\n",
    "            current_point = contour[i][0]\n",
    "            next_point = contour[i + 1][0]\n",
    "\n",
    "            # Calculate vectors\n",
    "            vector1 = np.array([current_point[0] - prev_point[0], current_point[1] - prev_point[1]])\n",
    "            vector2 = np.array([next_point[0] - current_point[0], next_point[1] - current_point[1]])\n",
    "\n",
    "            # Normalize vectors\n",
    "            norm1 = np.linalg.norm(vector1)\n",
    "            norm2 = np.linalg.norm(vector2)\n",
    "            if norm1 == 0 or norm2 == 0:\n",
    "                continue\n",
    "\n",
    "            vector1 = vector1 / norm1\n",
    "            vector2 = vector2 / norm2\n",
    "\n",
    "            # Calculate dot product and angle\n",
    "            dot_product = np.dot(vector1, vector2)\n",
    "            angle = np.arccos(np.clip(dot_product, -1.0, 1.0))\n",
    "\n",
    "            # Check if the angle exceeds the threshold for being a bend\n",
    "            if angle > curvature_threshold:\n",
    "                bends += 1\n",
    "                cv2.circle(image, tuple(current_point), 5, (0, 255, 0), -1)\n",
    "\n",
    "        return bends\n",
    "\n",
    "    total_bends = 0\n",
    "    for contour in contours:\n",
    "        total_bends += detect_bends(contour)\n",
    "\n",
    "    # Display the result\n",
    "    print(f\"No. of bends = {total_bends}\")\n",
    "    cv2.imshow(\"Detected Bends\", image)\n",
    "    cv2.waitKey(0)\n",
    "    cv2.destroyAllWindows()\n",
    "\n",
    "# Example usage\n",
    "find_arcs('circ_cab1_big.png')\n"
   ]
  },
  {
   "cell_type": "code",
   "execution_count": 133,
   "metadata": {
    "collapsed": false,
    "jupyter": {
     "outputs_hidden": false
    }
   },
   "outputs": [
    {
     "name": "stdout",
     "output_type": "stream",
     "text": [
      "No. of bends = 2\n"
     ]
    }
   ],
   "source": [
    "import cv2\n",
    "import numpy as np\n",
    "\n",
    "def find_arcs(image_path):\n",
    "    # Load the image\n",
    "    image = cv2.imread(image_path)\n",
    "    if image is None:\n",
    "        print(\"Error: Could not load image.\")\n",
    "        return\n",
    "\n",
    "    # Convert to grayscale\n",
    "    gray = cv2.cvtColor(image, cv2.COLOR_BGR2GRAY)\n",
    "\n",
    "    # Apply Gaussian blur to reduce noise and improve edge detection\n",
    "    blurred = cv2.GaussianBlur(gray, (5, 5), 0)\n",
    "\n",
    "    # Perform edge detection using Canny\n",
    "    edges = cv2.Canny(blurred, 50, 150)\n",
    "\n",
    "    # Find contours in the edge map\n",
    "    contours, _ = cv2.findContours(edges.copy(), cv2.RETR_EXTERNAL, cv2.CHAIN_APPROX_SIMPLE)\n",
    "\n",
    "    def detect_bends(contour, angle_threshold=30, distance_threshold=20):\n",
    "        bends = 0\n",
    "        significant_points = []\n",
    "\n",
    "        for i in range(2, len(contour) - 2):\n",
    "            prev_point = contour[i - 2][0]\n",
    "            current_point = contour[i][0]\n",
    "            next_point = contour[i + 2][0]\n",
    "\n",
    "            # Calculate vectors\n",
    "            vector1 = np.array([current_point[0] - prev_point[0], current_point[1] - prev_point[1]])\n",
    "            vector2 = np.array([next_point[0] - current_point[0], next_point[1] - current_point[1]])\n",
    "\n",
    "            # Normalize vectors\n",
    "            norm1 = np.linalg.norm(vector1)\n",
    "            norm2 = np.linalg.norm(vector2)\n",
    "            if norm1 == 0 or norm2 == 0:\n",
    "                continue\n",
    "\n",
    "            vector1 = vector1 / norm1\n",
    "            vector2 = vector2 / norm2\n",
    "\n",
    "            # Calculate dot product and angle\n",
    "            dot_product = np.dot(vector1, vector2)\n",
    "            angle = np.degrees(np.arccos(np.clip(dot_product, -1.0, 1.0)))\n",
    "\n",
    "            # Check if the angle indicates a significant bend\n",
    "            if angle < angle_threshold:\n",
    "                significant_points.append(current_point)\n",
    "\n",
    "        # Group significant points that are close to each other\n",
    "        if significant_points:\n",
    "            grouped_points = [significant_points[0]]\n",
    "            for pt in significant_points[1:]:\n",
    "                if np.linalg.norm(np.array(pt) - np.array(grouped_points[-1])) > distance_threshold:\n",
    "                    grouped_points.append(pt)\n",
    "\n",
    "            bends = len(grouped_points)\n",
    "            for pt in grouped_points:\n",
    "                cv2.circle(image, tuple(pt), 5, (0, 255, 0), -1)\n",
    "\n",
    "        return bends\n",
    "\n",
    "    total_bends = 0\n",
    "    for contour in contours:\n",
    "        total_bends += detect_bends(contour)\n",
    "\n",
    "    # Display the result\n",
    "    print(f\"No. of bends = {total_bends}\")\n",
    "    cv2.imshow(\"Detected Bends\", image)\n",
    "    cv2.waitKey(0)\n",
    "    cv2.destroyAllWindows()\n",
    "\n",
    "# Example usage\n",
    "find_arcs('circ_cab_1.png')\n"
   ]
  },
  {
   "cell_type": "code",
   "execution_count": 132,
   "metadata": {},
   "outputs": [
    {
     "name": "stdout",
     "output_type": "stream",
     "text": [
      "No. of bends = 0\n"
     ]
    },
    {
     "data": {
      "image/png": "[encoded data removed]",
      "text/plain": [
       "<Figure size 640x480 with 1 Axes>"
      ]
     },
     "metadata": {},
     "output_type": "display_data"
    }
   ],
   "source": [
    "import cv2\n",
    "import numpy as np\n",
    "import matplotlib.pyplot as plt\n",
    "\n",
    "def find_arc_bends(image_path, angle_threshold=200, min_arc_length=190, max_arc_length=200):\n",
    "    image = cv2.imread(image_path)\n",
    "    gray = cv2.cvtColor(image, cv2.COLOR_BGR2GRAY)\n",
    "    blurred = cv2.GaussianBlur(gray, (5, 5), 0)\n",
    "    edges = cv2.Canny(blurred, 50, 150)\n",
    "\n",
    "    contours, _ = cv2.findContours(edges, cv2.RETR_EXTERNAL, cv2.CHAIN_APPROX_SIMPLE)\n",
    "\n",
    "    def detect_bends(contour):\n",
    "        bends = 0\n",
    "        perimeter = cv2.arcLength(contour, True)\n",
    "\n",
    "        # Filter out very short and very long contours\n",
    "        if perimeter < min_arc_length or perimeter > max_arc_length:\n",
    "            return 0\n",
    "\n",
    "        for i in range(len(contour)):\n",
    "            # Calculate the angle between three points on the contour\n",
    "            prev_point = contour[(i-2) % len(contour)][0]  # Look two points back\n",
    "            current_point = contour[i][0]\n",
    "            next_point = contour[(i+2) % len(contour)][0]  # Look two points ahead\n",
    "\n",
    "            # Form vectors\n",
    "            vec1 = np.subtract(current_point, prev_point)\n",
    "            vec2 = np.subtract(next_point, current_point)\n",
    "\n",
    "            # Calculate angle using dot product (more efficient than arccos)\n",
    "            dot_product = np.dot(vec1, vec2)\n",
    "            norm_vec1 = np.linalg.norm(vec1)\n",
    "            norm_vec2 = np.linalg.norm(vec2)\n",
    "            angle = np.degrees(np.arccos(np.clip(dot_product / (norm_vec1 * norm_vec2), -1.0, 1.0)))\n",
    "\n",
    "            # Check for a significant change in direction (bend)\n",
    "            if angle < angle_threshold:\n",
    "                bends += 1\n",
    "                cv2.circle(image, tuple(current_point), 5, (0, 255, 0), -1) # Mark start of bend\n",
    "\n",
    "        return bends\n",
    "\n",
    "    total_bends = 0\n",
    "    for contour in contours:\n",
    "        total_bends += detect_bends(contour)\n",
    "\n",
    "    print(f\"No. of bends = {total_bends}\")\n",
    "\n",
    "    # Display the result\n",
    "    plt.imshow(cv2.cvtColor(image, cv2.COLOR_BGR2RGB))\n",
    "    plt.show()\n",
    "\n",
    "\n",
    "find_arc_bends('circ_cab_2.png')  # Replace with your image path\n"
   ]
  },
  {
   "cell_type": "markdown",
   "metadata": {
    "collapsed": false,
    "jupyter": {
     "outputs_hidden": false
    }
   },
   "source": [
    "### Finding Bends in small images using vectors and angles between them"
   ]
  },
  {
   "cell_type": "code",
   "execution_count": 146,
   "metadata": {
    "collapsed": false,
    "jupyter": {
     "outputs_hidden": false
    }
   },
   "outputs": [
    {
     "name": "stdout",
     "output_type": "stream",
     "text": [
      "No. of bends = 7\n"
     ]
    },
    {
     "data": {
      "image/png": "[encoded data removed]",
      "text/plain": [
       "<Figure size 1700x300 with 2 Axes>"
      ]
     },
     "metadata": {},
     "output_type": "display_data"
    }
   ],
   "source": [
    "import cv2\n",
    "import numpy as np\n",
    "import matplotlib.pyplot as plt\n",
    "\n",
    "def find_arcs(image_path):\n",
    "    # Load the image\n",
    "    image = cv2.imread(image_path)\n",
    "    if image is None:\n",
    "        print(\"Error: Could not load image.\")\n",
    "        return\n",
    "\n",
    "    # Convert to grayscale\n",
    "    gray = cv2.cvtColor(image, cv2.COLOR_BGR2GRAY)\n",
    "\n",
    "    # Apply Gaussian blur to reduce noise and improve edge detection\n",
    "    blurred = cv2.GaussianBlur(gray, (5, 5), 0)\n",
    "\n",
    "    # Perform edge detection using Canny\n",
    "    edges = cv2.Canny(blurred, 80, 100)\n",
    "\n",
    "    # Find contours in the edge map\n",
    "    contours, _ = cv2.findContours(edges.copy(), cv2.RETR_EXTERNAL, cv2.CHAIN_APPROX_SIMPLE)\n",
    "\n",
    "    def detect_bends(contour, angle_threshold= 40, distance_threshold=11):\n",
    "        bends = 0\n",
    "        significant_points = []\n",
    "\n",
    "        for i in range(2, len(contour) - 2):\n",
    "            prev_point = contour[i - 2][0]\n",
    "            current_point = contour[i][0]\n",
    "            next_point = contour[i + 2][0]\n",
    "\n",
    "            # Calculate vectors\n",
    "            vector1 = np.array([current_point[0] - prev_point[0], current_point[1] - prev_point[1]])\n",
    "            vector2 = np.array([next_point[0] - current_point[0], next_point[1] - current_point[1]])\n",
    "\n",
    "            # Normalize vectors\n",
    "            norm1 = np.linalg.norm(vector1)\n",
    "            norm2 = np.linalg.norm(vector2)\n",
    "            if norm1 == 0 or norm2 == 0:\n",
    "                continue\n",
    "\n",
    "            vector1 = vector1 / norm1\n",
    "            vector2 = vector2 / norm2\n",
    "\n",
    "            # Calculate dot product and angle\n",
    "            dot_product = np.dot(vector1, vector2)\n",
    "            angle = np.degrees(np.arccos(np.clip(dot_product, -1.0, 1.0)))\n",
    "\n",
    "            # Check if the angle indicates a significant bend\n",
    "            if angle < angle_threshold:\n",
    "                significant_points.append(current_point)\n",
    "\n",
    "        # Group significant points that are close to each other\n",
    "        if significant_points:\n",
    "            grouped_points = [significant_points[0]]\n",
    "            for pt in significant_points[1:]:\n",
    "                if np.linalg.norm(np.array(pt) - np.array(grouped_points[-1])) > distance_threshold:\n",
    "                    grouped_points.append(pt)\n",
    "\n",
    "            bends = len(grouped_points)\n",
    "            for pt in grouped_points:\n",
    "                cv2.circle(image, tuple(pt), 2, (0, 255, 0), -1)\n",
    "\n",
    "        return bends\n",
    "\n",
    "    total_bends = 0\n",
    "    for contour in contours:\n",
    "        total_bends += detect_bends(contour)\n",
    "\n",
    "    # Display the result\n",
    "    print(f\"No. of bends = {total_bends}\")\n",
    "\n",
    "    # Plot the images\n",
    "    plt.figure(figsize=(17, 3))\n",
    "\n",
    "    plt.subplot(1, 2, 1)\n",
    "    plt.title('Detected Bends')\n",
    "    plt.imshow(cv2.cvtColor(image, cv2.COLOR_BGR2RGB))\n",
    "\n",
    "    plt.subplot(1, 2, 2)\n",
    "    plt.title('Edge Detected Image')\n",
    "    plt.imshow(edges, cmap='gray')\n",
    "\n",
    "    plt.show()\n",
    "\n",
    "# Example usage\n",
    "find_arcs('circ_cab_2.png')"
   ]
  },
  {
   "cell_type": "code",
   "execution_count": 30,
   "metadata": {
    "collapsed": false,
    "jupyter": {
     "outputs_hidden": false
    }
   },
   "outputs": [
    {
     "name": "stdout",
     "output_type": "stream",
     "text": [
      "No. of bends = 2\n"
     ]
    },
    {
     "data": {
      "image/png": "[encoded data removed]",
      "text/plain": [
       "<Figure size 1700x300 with 2 Axes>"
      ]
     },
     "metadata": {},
     "output_type": "display_data"
    }
   ],
   "source": [
    "import cv2\n",
    "import numpy as np\n",
    "import matplotlib.pyplot as plt\n",
    "\n",
    "def find_arcs(image_path):\n",
    "    # Load the image\n",
    "    image = cv2.imread(image_path)\n",
    "    if image is None:\n",
    "        print(\"Error: Could not load image.\")\n",
    "        return\n",
    "\n",
    "    # Convert to grayscale\n",
    "    gray = cv2.cvtColor(image, cv2.COLOR_BGR2GRAY)\n",
    "\n",
    "    # Apply Gaussian blur to reduce noise and improve edge detection\n",
    "    blurred = cv2.GaussianBlur(gray, (5, 5), 0)\n",
    "\n",
    "    # Perform edge detection using Canny\n",
    "    edges = cv2.Canny(blurred, 80, 100)\n",
    "\n",
    "    # Find contours in the edge map\n",
    "    contours, _ = cv2.findContours(edges.copy(), cv2.RETR_EXTERNAL, cv2.CHAIN_APPROX_SIMPLE)\n",
    "\n",
    "    def detect_bends(contour, angle_threshold=30, distance_threshold=20):\n",
    "        bends = 0\n",
    "        significant_points = []\n",
    "\n",
    "        for i in range(2, len(contour) - 2):\n",
    "            prev_point = contour[i - 2][0]\n",
    "            current_point = contour[i][0]\n",
    "            next_point = contour[i + 2][0]\n",
    "\n",
    "            # Calculate vectors\n",
    "            vector1 = np.array([current_point[0] - prev_point[0], current_point[1] - prev_point[1]])\n",
    "            vector2 = np.array([next_point[0] - current_point[0], next_point[1] - current_point[1]])\n",
    "\n",
    "            # Normalize vectors\n",
    "            norm1 = np.linalg.norm(vector1)\n",
    "            norm2 = np.linalg.norm(vector2)\n",
    "            if norm1 == 0 or norm2 == 0:\n",
    "                continue\n",
    "\n",
    "            vector1 = vector1 / norm1\n",
    "            vector2 = vector2 / norm2\n",
    "\n",
    "            # Calculate dot product and angle\n",
    "            dot_product = np.dot(vector1, vector2)\n",
    "            angle = np.degrees(np.arccos(np.clip(dot_product, -1.0, 1.0)))\n",
    "\n",
    "            # Check if the angle indicates a significant bend\n",
    "            if angle < angle_threshold:\n",
    "                significant_points.append(current_point)\n",
    "\n",
    "        # Group significant points that are close to each other\n",
    "        if significant_points:\n",
    "            grouped_points = [significant_points[0]]\n",
    "            for pt in significant_points[1:]:\n",
    "                if np.linalg.norm(np.array(pt) - np.array(grouped_points[-1])) > distance_threshold:\n",
    "                    grouped_points.append(pt)\n",
    "\n",
    "            bends = len(grouped_points)\n",
    "            for pt in grouped_points:\n",
    "                cv2.circle(image, tuple(pt), 2, (0, 255, 0), -1)\n",
    "\n",
    "        return bends\n",
    "\n",
    "    total_bends = 0\n",
    "    for contour in contours:\n",
    "        total_bends += detect_bends(contour)\n",
    "\n",
    "    # Display the result\n",
    "    print(f\"No. of bends = {total_bends}\")\n",
    "\n",
    "    # Plot the images\n",
    "    plt.figure(figsize=(17, 3))\n",
    "\n",
    "    plt.subplot(1, 2, 1)\n",
    "    plt.title('Detected Bends')\n",
    "    plt.imshow(cv2.cvtColor(image, cv2.COLOR_BGR2RGB))\n",
    "\n",
    "    plt.subplot(1, 2, 2)\n",
    "    plt.title('Edge Detected Image')\n",
    "    plt.imshow(edges, cmap='gray')\n",
    "\n",
    "    plt.show()\n",
    "\n",
    "# Example usage\n",
    "find_arcs('circ_cab_1.png')"
   ]
  },
  {
   "cell_type": "markdown",
   "metadata": {
    "collapsed": false,
    "jupyter": {
     "outputs_hidden": false
    }
   },
   "source": [
    "### Finding Bends on bigger photos"
   ]
  },
  {
   "cell_type": "code",
   "execution_count": 95,
   "metadata": {},
   "outputs": [
    {
     "name": "stdout",
     "output_type": "stream",
     "text": [
      "No. of bends = 2\n"
     ]
    },
    {
     "data": {
      "image/png": "[encoded data removed]",
      "text/plain": [
       "<Figure size 1700x300 with 2 Axes>"
      ]
     },
     "metadata": {},
     "output_type": "display_data"
    }
   ],
   "source": [
    "import cv2\n",
    "import numpy as np\n",
    "import matplotlib.pyplot as plt\n",
    "\n",
    "def find_arcs(image_path):\n",
    "    # Load the image\n",
    "    image = cv2.imread(image_path)\n",
    "    if image is None:\n",
    "        print(\"Error: Could not load image.\")\n",
    "        return\n",
    "\n",
    "    # Convert to grayscale\n",
    "    gray = cv2.cvtColor(image, cv2.COLOR_BGR2GRAY)\n",
    "\n",
    "    # Apply Gaussian blur to reduce noise and improve edge detection\n",
    "    blurred = cv2.GaussianBlur(gray, (5, 5), 0)\n",
    "\n",
    "    # Perform edge detection using Canny\n",
    "    edges = cv2.Canny(blurred, 80, 100)\n",
    "\n",
    "    # Find contours in the edge map\n",
    "    contours, _ = cv2.findContours(edges.copy(), cv2.RETR_EXTERNAL, cv2.CHAIN_APPROX_SIMPLE)\n",
    "\n",
    "    def detect_bends(contour, angle_threshold=5, distance_threshold=115):\n",
    "        bends = 0\n",
    "        significant_points = []\n",
    "\n",
    "        for i in range(2, len(contour) - 2):\n",
    "            prev_point = contour[i - 2][0]\n",
    "            current_point = contour[i][0]\n",
    "            next_point = contour[i + 2][0]\n",
    "\n",
    "            # Calculate vectors\n",
    "            vector1 = np.array([current_point[0] - prev_point[0], current_point[1] - prev_point[1]])\n",
    "            vector2 = np.array([next_point[0] - current_point[0], next_point[1] - current_point[1]])\n",
    "\n",
    "            # Normalize vectors\n",
    "            norm1 = np.linalg.norm(vector1)\n",
    "            norm2 = np.linalg.norm(vector2)\n",
    "            if norm1 == 0 or norm2 == 0:\n",
    "                continue\n",
    "\n",
    "            vector1 = vector1 / norm1\n",
    "            vector2 = vector2 / norm2\n",
    "\n",
    "            # Calculate dot product and angle\n",
    "            dot_product = np.dot(vector1, vector2)\n",
    "            angle = np.degrees(np.arccos(np.clip(dot_product, -1.0, 1.0)))\n",
    "\n",
    "            # Check if the angle indicates a significant bend\n",
    "            if angle < angle_threshold:\n",
    "                significant_points.append(current_point)\n",
    "\n",
    "        # Group significant points that are close to each other\n",
    "        if significant_points:\n",
    "            grouped_points = [significant_points[0]]\n",
    "            for pt in significant_points[1:]:\n",
    "                if np.linalg.norm(np.array(pt) - np.array(grouped_points[-1])) > distance_threshold:\n",
    "                    grouped_points.append(pt)\n",
    "\n",
    "            bends = len(grouped_points)\n",
    "            for pt in grouped_points:\n",
    "                cv2.circle(image, tuple(pt), 5, (0, 255, 0), -1)\n",
    "\n",
    "        return bends\n",
    "\n",
    "    total_bends = 0\n",
    "    for contour in contours:\n",
    "        total_bends += detect_bends(contour)\n",
    "\n",
    "    # Display the result\n",
    "    print(f\"No. of bends = {total_bends}\")\n",
    "\n",
    "    # Plot the images\n",
    "    plt.figure(figsize=(17, 3))\n",
    "\n",
    "    plt.subplot(1, 2, 1)\n",
    "    plt.title('Detected Bends')\n",
    "    plt.imshow(cv2.cvtColor(image, cv2.COLOR_BGR2RGB))\n",
    "\n",
    "    plt.subplot(1, 2, 2)\n",
    "    plt.title('Edge Detected Image')\n",
    "    plt.imshow(edges, cmap='gray')\n",
    "\n",
    "    plt.show()\n",
    "\n",
    "# Example usage\n",
    "find_arcs('circ_cab1_big.png')"
   ]
  },
  {
   "cell_type": "code",
   "execution_count": 149,
   "metadata": {},
   "outputs": [
    {
     "name": "stdout",
     "output_type": "stream",
     "text": [
      "No. of bends = 7\n"
     ]
    },
    {
     "data": {
      "image/png": "[encoded data removed]",
      "text/plain": [
       "<Figure size 1700x300 with 2 Axes>"
      ]
     },
     "metadata": {},
     "output_type": "display_data"
    }
   ],
   "source": [
    "import cv2\n",
    "import numpy as np\n",
    "import matplotlib.pyplot as plt\n",
    "\n",
    "def find_arcs(image_path):\n",
    "    # Load the image\n",
    "    image = cv2.imread(image_path)\n",
    "    if image is None:\n",
    "        print(\"Error: Could not load image.\")\n",
    "        return\n",
    "\n",
    "    # Convert to grayscale\n",
    "    gray = cv2.cvtColor(image, cv2.COLOR_BGR2GRAY)\n",
    "\n",
    "    # Apply Gaussian blur to reduce noise and improve edge detection\n",
    "    blurred = cv2.GaussianBlur(gray, (5, 5), 0)\n",
    "\n",
    "    # Perform edge detection using Canny\n",
    "    edges = cv2.Canny(blurred, 80, 100)\n",
    "\n",
    "    # Find contours in the edge map\n",
    "    contours, _ = cv2.findContours(edges.copy(), cv2.RETR_EXTERNAL, cv2.CHAIN_APPROX_SIMPLE)\n",
    "\n",
    "    def detect_bends(contour, angle_threshold=5, distance_threshold=45):\n",
    "        bends = 0\n",
    "        significant_points = []\n",
    "\n",
    "        for i in range(2, len(contour) - 2):\n",
    "            prev_point = contour[i - 2][0]\n",
    "            current_point = contour[i][0]\n",
    "            next_point = contour[i + 2][0]\n",
    "\n",
    "            # Calculate vectors\n",
    "            vector1 = np.array([current_point[0] - prev_point[0], current_point[1] - prev_point[1]])\n",
    "            vector2 = np.array([next_point[0] - current_point[0], next_point[1] - current_point[1]])\n",
    "\n",
    "            # Normalize vectors\n",
    "            norm1 = np.linalg.norm(vector1)\n",
    "            norm2 = np.linalg.norm(vector2)\n",
    "            if norm1 == 0 or norm2 == 0:\n",
    "                continue\n",
    "\n",
    "            vector1 = vector1 / norm1\n",
    "            vector2 = vector2 / norm2\n",
    "\n",
    "            # Calculate dot product and angle\n",
    "            dot_product = np.dot(vector1, vector2)\n",
    "            angle = np.degrees(np.arccos(np.clip(dot_product, -1.0, 1.0)))\n",
    "\n",
    "            # Check if the angle indicates a significant bend\n",
    "            if angle < angle_threshold:\n",
    "                significant_points.append(current_point)\n",
    "\n",
    "        # Group significant points that are close to each other\n",
    "        if significant_points:\n",
    "            grouped_points = [significant_points[0]]\n",
    "            for pt in significant_points[1:]:\n",
    "                if np.linalg.norm(np.array(pt) - np.array(grouped_points[-1])) > distance_threshold:\n",
    "                    grouped_points.append(pt)\n",
    "\n",
    "            bends = len(grouped_points)\n",
    "            for pt in grouped_points:\n",
    "                cv2.circle(image, tuple(pt), 5, (0, 255, 0), -1)\n",
    "\n",
    "        return bends\n",
    "\n",
    "    total_bends = 0\n",
    "    for contour in contours:\n",
    "        total_bends += detect_bends(contour)\n",
    "\n",
    "    # Display the result\n",
    "    print(f\"No. of bends = {total_bends}\")\n",
    "\n",
    "    # Plot the images\n",
    "    plt.figure(figsize=(17, 3))\n",
    "\n",
    "    plt.subplot(1, 2, 1)\n",
    "    plt.title('Detected Bends')\n",
    "    plt.imshow(cv2.cvtColor(image, cv2.COLOR_BGR2RGB))\n",
    "\n",
    "    plt.subplot(1, 2, 2)\n",
    "    plt.title('Edge Detected Image')\n",
    "    plt.imshow(edges, cmap='gray')\n",
    "\n",
    "    plt.show()\n",
    "\n",
    "# Example usage\n",
    "find_arcs('circ_cab2_big.png')"
   ]
  },
  {
   "cell_type": "code",
   "execution_count": 181,
   "metadata": {},
   "outputs": [
    {
     "name": "stdout",
     "output_type": "stream",
     "text": [
      "No. of bends = 143\n"
     ]
    },
    {
     "name": "stderr",
     "output_type": "stream",
     "text": [
      "C:\\Users\\KIIT\\AppData\\Local\\Temp\\ipykernel_10888\\502465119.py:32: RuntimeWarning: invalid value encountered in scalar divide\n",
      "  angle = np.degrees(np.arccos(np.clip(dot_product / (norm_vec1 * norm_vec2), -1.0, 1.0)))\n"
     ]
    },
    {
     "data": {
      "image/png": "[encoded data removed]",
      "text/plain": [
       "<Figure size 640x480 with 1 Axes>"
      ]
     },
     "metadata": {},
     "output_type": "display_data"
    }
   ],
   "source": [
    "import cv2\n",
    "import numpy as np\n",
    "import matplotlib.pyplot as plt\n",
    "\n",
    "def find_arc_bends(image_path, angle_threshold=80, min_arc_length=50, max_arc_length=100):\n",
    "    image = cv2.imread(image_path)\n",
    "    gray = cv2.cvtColor(image, cv2.COLOR_BGR2GRAY)  # Convert to grayscale\n",
    "    edges = cv2.Canny(gray, 50, 150)  # Directly apply Canny edge detection to the grayscale image\n",
    "\n",
    "    contours, _ = cv2.findContours(edges, cv2.RETR_EXTERNAL, cv2.CHAIN_APPROX_SIMPLE)\n",
    "\n",
    "    def detect_bends(contour):\n",
    "        bends = 0\n",
    "        perimeter = cv2.arcLength(contour, True)\n",
    "\n",
    "        # Filter out very short and very long contours\n",
    "        if perimeter < min_arc_length or perimeter > max_arc_length:\n",
    "            return 0\n",
    "\n",
    "        for i in range(len(contour)):\n",
    "            # Calculate the angle between three points on the contour (same as before)\n",
    "            prev_point = contour[(i-2) % len(contour)][0] \n",
    "            current_point = contour[i][0]\n",
    "            next_point = contour[(i+2) % len(contour)][0] \n",
    "\n",
    "            vec1 = np.subtract(current_point, prev_point)\n",
    "            vec2 = np.subtract(next_point, current_point)\n",
    "\n",
    "            dot_product = np.dot(vec1, vec2)\n",
    "            norm_vec1 = np.linalg.norm(vec1)\n",
    "            norm_vec2 = np.linalg.norm(vec2)\n",
    "            angle = np.degrees(np.arccos(np.clip(dot_product / (norm_vec1 * norm_vec2), -1.0, 1.0)))\n",
    "\n",
    "            if angle < angle_threshold:\n",
    "                bends += 1\n",
    "                cv2.circle(image, tuple(current_point), 2, (0, 255, 0), -1)\n",
    "\n",
    "        return bends\n",
    "\n",
    "    total_bends = 0\n",
    "    for contour in contours:\n",
    "        total_bends += detect_bends(contour)\n",
    "\n",
    "    print(f\"No. of bends = {total_bends}\")\n",
    "\n",
    "    # Display the result\n",
    "    plt.imshow(cv2.cvtColor(image, cv2.COLOR_BGR2RGB))\n",
    "    plt.show()\n",
    "\n",
    "# Example usage\n",
    "find_arc_bends('circ_cab_upscaled.jpeg')  # Replace with your image path\n"
   ]
  },
  {
   "cell_type": "markdown",
   "metadata": {},
   "source": [
    "### GAP detection approach"
   ]
  },
  {
   "cell_type": "code",
   "execution_count": 186,
   "metadata": {
    "collapsed": false,
    "jupyter": {
     "outputs_hidden": false
    }
   },
   "outputs": [
    {
     "name": "stderr",
     "output_type": "stream",
     "text": [
      "C:\\Users\\KIIT\\AppData\\Local\\Temp\\ipykernel_10888\\334962617.py:27: DeprecationWarning: `np.math` is a deprecated alias for the standard library `math` module (Deprecated Numpy 1.25). Replace usages of `np.math` with `math`\n",
      "  angle = np.abs(np.math.atan2(np.cross(a, b), np.dot(a, b))) * 180 / np.pi\n"
     ]
    },
    {
     "ename": "error",
     "evalue": "OpenCV(4.9.0) D:\\a\\opencv-python\\opencv-python\\opencv\\modules\\imgproc\\src\\convhull.cpp:360: error: (-5:Bad argument) The convex hull indices are not monotonous, which can be in the case when the input contour contains self-intersections in function 'cv::convexityDefects'\n",
     "output_type": "error",
     "traceback": [
      "\u001b[1;31m---------------------------------------------------------------------------\u001b[0m",
      "\u001b[1;31merror\u001b[0m                                     Traceback (most recent call last)",
      "Cell \u001b[1;32mIn[186], line 53\u001b[0m\n\u001b[0;32m     48\u001b[0m     plt\u001b[38;5;241m.\u001b[39mimshow(cv2\u001b[38;5;241m.\u001b[39mcvtColor(image, cv2\u001b[38;5;241m.\u001b[39mCOLOR_BGR2RGB))\n\u001b[0;32m     50\u001b[0m     plt\u001b[38;5;241m.\u001b[39mshow()\n\u001b[1;32m---> 53\u001b[0m find_arc_gap(\u001b[38;5;124m'\u001b[39m\u001b[38;5;124mcirc_cab_upscaled.jpeg\u001b[39m\u001b[38;5;124m'\u001b[39m)\n",
      "Cell \u001b[1;32mIn[186], line 37\u001b[0m, in \u001b[0;36mfind_arc_gap\u001b[1;34m(image_path, angle_threshold, min_gap_size)\u001b[0m\n\u001b[0;32m     35\u001b[0m total_bends \u001b[38;5;241m=\u001b[39m \u001b[38;5;241m0\u001b[39m\n\u001b[0;32m     36\u001b[0m \u001b[38;5;28;01mfor\u001b[39;00m contour \u001b[38;5;129;01min\u001b[39;00m contours:\n\u001b[1;32m---> 37\u001b[0m     total_bends \u001b[38;5;241m+\u001b[39m\u001b[38;5;241m=\u001b[39m detect_gap(contour)\n\u001b[0;32m     39\u001b[0m \u001b[38;5;28mprint\u001b[39m(\u001b[38;5;124mf\u001b[39m\u001b[38;5;124m\"\u001b[39m\u001b[38;5;124mNo. of bends = \u001b[39m\u001b[38;5;132;01m{\u001b[39;00mtotal_bends\u001b[38;5;132;01m}\u001b[39;00m\u001b[38;5;124m\"\u001b[39m)\n\u001b[0;32m     41\u001b[0m plt\u001b[38;5;241m.\u001b[39mfigure(figsize\u001b[38;5;241m=\u001b[39m(\u001b[38;5;241m17\u001b[39m, \u001b[38;5;241m3\u001b[39m))\n",
      "Cell \u001b[1;32mIn[186], line 15\u001b[0m, in \u001b[0;36mfind_arc_gap.<locals>.detect_gap\u001b[1;34m(contour)\u001b[0m\n\u001b[0;32m     13\u001b[0m \u001b[38;5;28;01mdef\u001b[39;00m \u001b[38;5;21mdetect_gap\u001b[39m(contour):\n\u001b[0;32m     14\u001b[0m     hull \u001b[38;5;241m=\u001b[39m cv2\u001b[38;5;241m.\u001b[39mconvexHull(contour, returnPoints\u001b[38;5;241m=\u001b[39m\u001b[38;5;28;01mFalse\u001b[39;00m)\n\u001b[1;32m---> 15\u001b[0m     defects \u001b[38;5;241m=\u001b[39m cv2\u001b[38;5;241m.\u001b[39mconvexityDefects(contour, hull)\n\u001b[0;32m     17\u001b[0m     \u001b[38;5;28;01mif\u001b[39;00m defects \u001b[38;5;129;01mis\u001b[39;00m \u001b[38;5;129;01mnot\u001b[39;00m \u001b[38;5;28;01mNone\u001b[39;00m:\n\u001b[0;32m     18\u001b[0m         \u001b[38;5;28;01mfor\u001b[39;00m i \u001b[38;5;129;01min\u001b[39;00m \u001b[38;5;28mrange\u001b[39m(defects\u001b[38;5;241m.\u001b[39mshape[\u001b[38;5;241m0\u001b[39m]):\n",
      "\u001b[1;31merror\u001b[0m: OpenCV(4.9.0) D:\\a\\opencv-python\\opencv-python\\opencv\\modules\\imgproc\\src\\convhull.cpp:360: error: (-5:Bad argument) The convex hull indices are not monotonous, which can be in the case when the input contour contains self-intersections in function 'cv::convexityDefects'\n"
     ]
    }
   ],
   "source": [
    "import cv2\n",
    "import numpy as np\n",
    "import matplotlib.pyplot as plt\n",
    "\n",
    "def find_arc_gap(image_path, angle_threshold=100, min_gap_size=100):\n",
    "    image = cv2.imread(image_path)\n",
    "    gray = cv2.cvtColor(image, cv2.COLOR_BGR2GRAY)\n",
    "    blurred = cv2.GaussianBlur(gray, (1, 1), 0)\n",
    "    edges = cv2.Canny(blurred, 50, 150)\n",
    "\n",
    "    contours, _ = cv2.findContours(edges, cv2.RETR_EXTERNAL, cv2.CHAIN_APPROX_SIMPLE)\n",
    "\n",
    "    def detect_gap(contour):\n",
    "        hull = cv2.convexHull(contour, returnPoints=False)\n",
    "        defects = cv2.convexityDefects(contour, hull)\n",
    "\n",
    "        if defects is not None:\n",
    "            for i in range(defects.shape[0]):\n",
    "                s, e, f, d = defects[i, 0]\n",
    "                start = tuple(contour[s][0])\n",
    "                end = tuple(contour[e][0])\n",
    "                far = tuple(contour[f][0])\n",
    "\n",
    "                # Calculate the angle between vectors (far - start) and (far - end)\n",
    "                a = np.array(far) - np.array(start)\n",
    "                b = np.array(far) - np.array(end)\n",
    "                angle = np.abs(np.math.atan2(np.cross(a, b), np.dot(a, b))) * 180 / np.pi\n",
    "\n",
    "                if angle > angle_threshold and d > min_gap_size:\n",
    "                    cv2.circle(image, far, 5, (0, 255, 0), -1)\n",
    "                    return 1  # One bend found\n",
    "\n",
    "        return 0\n",
    "\n",
    "    total_bends = 0\n",
    "    for contour in contours:\n",
    "        total_bends += detect_gap(contour)\n",
    "\n",
    "    print(f\"No. of bends = {total_bends}\")\n",
    "\n",
    "    plt.figure(figsize=(17, 3))\n",
    "    plt.subplot(1, 2, 1)\n",
    "    plt.title('Original Image')\n",
    "    plt.imshow(cv2.cvtColor(image, cv2.COLOR_BGR2RGB))\n",
    "\n",
    "    plt.subplot(1, 2, 2)\n",
    "    plt.title('Detected Gap')\n",
    "    plt.imshow(cv2.cvtColor(image, cv2.COLOR_BGR2RGB))\n",
    "\n",
    "    plt.show()\n",
    "\n",
    "\n",
    "find_arc_gap('circ_cab_upscaled.jpeg')\n"
   ]
  },
  {
   "cell_type": "code",
   "execution_count": 123,
   "metadata": {
    "collapsed": false,
    "jupyter": {
     "outputs_hidden": false
    }
   },
   "outputs": [
    {
     "name": "stderr",
     "output_type": "stream",
     "text": [
      "C:\\Users\\KIIT\\AppData\\Local\\Temp\\ipykernel_37012\\1428292169.py:28: DeprecationWarning: `np.math` is a deprecated alias for the standard library `math` module (Deprecated Numpy 1.25). Replace usages of `np.math` with `math`\n",
      "  angle = np.abs(np.math.atan2(np.cross(a, b), np.dot(a, b))) * 180 / np.pi\n"
     ]
    },
    {
     "name": "stdout",
     "output_type": "stream",
     "text": [
      "No. of bends = 2\n"
     ]
    },
    {
     "data": {
      "image/png": "[encoded data removed]",
      "text/plain": [
       "<Figure size 1000x500 with 2 Axes>"
      ]
     },
     "metadata": {},
     "output_type": "display_data"
    }
   ],
   "source": [
    "import cv2\n",
    "import numpy as np\n",
    "import matplotlib.pyplot as plt\n",
    "\n",
    "def find_arc_gaps(image_path, angle_threshold=150, min_gap_size=100):\n",
    "    image = cv2.imread(image_path)\n",
    "    gray = cv2.cvtColor(image, cv2.COLOR_BGR2GRAY)\n",
    "    blurred = cv2.GaussianBlur(gray, (3, 3), 0)\n",
    "    edges = cv2.Canny(blurred, 50, 150)\n",
    "\n",
    "    contours, _ = cv2.findContours(edges, cv2.RETR_EXTERNAL, cv2.CHAIN_APPROX_SIMPLE)\n",
    "\n",
    "    def detect_gaps(contour):\n",
    "        hull = cv2.convexHull(contour, returnPoints=False)\n",
    "        defects = cv2.convexityDefects(contour, hull)\n",
    "\n",
    "        if defects is not None:\n",
    "            bend_count = 0\n",
    "            for i in range(defects.shape[0]):\n",
    "                s, e, f, d = defects[i, 0]\n",
    "                start = tuple(contour[s][0])\n",
    "                end = tuple(contour[e][0])\n",
    "                far = tuple(contour[f][0])\n",
    "\n",
    "                # Calculate the angle between vectors (far - start) and (far - end)\n",
    "                a = np.array(far) - np.array(start)\n",
    "                b = np.array(far) - np.array(end)\n",
    "                angle = np.abs(np.math.atan2(np.cross(a, b), np.dot(a, b))) * 180 / np.pi\n",
    "\n",
    "                if angle > angle_threshold and d > min_gap_size:\n",
    "                    cv2.circle(image, far, 5, (0, 255, 0), -1)\n",
    "                    bend_count += 1\n",
    "\n",
    "            return bend_count\n",
    "\n",
    "        return 0\n",
    "\n",
    "    total_bends = 0\n",
    "    for contour in contours:\n",
    "        total_bends += detect_gaps(contour)\n",
    "\n",
    "    print(f\"No. of bends = {total_bends}\")\n",
    "\n",
    "    plt.figure(figsize=(10, 5))\n",
    "    plt.subplot(1, 2, 1)\n",
    "    plt.title('Original Image')\n",
    "    plt.imshow(cv2.cvtColor(image, cv2.COLOR_BGR2RGB))\n",
    "\n",
    "    plt.subplot(1, 2, 2)\n",
    "    plt.title('Detected Gaps')\n",
    "    plt.imshow(cv2.cvtColor(image, cv2.COLOR_BGR2RGB))\n",
    "\n",
    "    plt.show()\n",
    "\n",
    "\n",
    "find_arc_gaps('circ_cab1_big.png')\n"
   ]
  },
  {
   "cell_type": "code",
   "execution_count": 114,
   "metadata": {
    "collapsed": false,
    "jupyter": {
     "outputs_hidden": false
    }
   },
   "outputs": [
    {
     "name": "stderr",
     "output_type": "stream",
     "text": [
      "C:\\Users\\KIIT\\AppData\\Local\\Temp\\ipykernel_10888\\3031302682.py:28: DeprecationWarning: `np.math` is a deprecated alias for the standard library `math` module (Deprecated Numpy 1.25). Replace usages of `np.math` with `math`\n",
      "  angle = np.abs(np.math.atan2(np.cross(a, b), np.dot(a, b))) * 180 / np.pi\n"
     ]
    },
    {
     "name": "stdout",
     "output_type": "stream",
     "text": [
      "No. of bends = 21\n"
     ]
    },
    {
     "data": {
      "image/png": "[encoded data removed]",
      "text/plain": [
       "<Figure size 1000x500 with 2 Axes>"
      ]
     },
     "metadata": {},
     "output_type": "display_data"
    }
   ],
   "source": [
    "import cv2\n",
    "import numpy as np\n",
    "import matplotlib.pyplot as plt\n",
    "\n",
    "def find_arc_gaps(image_path, angle_threshold=15, min_gap_size=15):\n",
    "    image = cv2.imread(image_path)\n",
    "    gray = cv2.cvtColor(image, cv2.COLOR_BGR2GRAY)\n",
    "    blurred = cv2.GaussianBlur(gray, (5, 5), 0)\n",
    "    edges = cv2.Canny(blurred, 80, 100)\n",
    "\n",
    "    contours, _ = cv2.findContours(edges, cv2.RETR_EXTERNAL, cv2.CHAIN_APPROX_SIMPLE)\n",
    "\n",
    "    def detect_gaps(contour):\n",
    "        hull = cv2.convexHull(contour, returnPoints=False)\n",
    "        defects = cv2.convexityDefects(contour, hull)\n",
    "\n",
    "        if defects is not None:\n",
    "            bend_count = 0\n",
    "            for i in range(defects.shape[0]):\n",
    "                s, e, f, d = defects[i, 0]\n",
    "                start = tuple(contour[s][0])\n",
    "                end = tuple(contour[e][0])\n",
    "                far = tuple(contour[f][0])\n",
    "\n",
    "                # Calculate the angle between vectors (far - start) and (far - end)\n",
    "                a = np.array(far) - np.array(start)\n",
    "                b = np.array(far) - np.array(end)\n",
    "                angle = np.abs(np.math.atan2(np.cross(a, b), np.dot(a, b))) * 180 / np.pi\n",
    "\n",
    "                if angle > angle_threshold and d > min_gap_size:\n",
    "                    cv2.circle(image, far, 5, (0, 255, 0), -1)\n",
    "                    bend_count += 1\n",
    "\n",
    "            return bend_count\n",
    "\n",
    "        return 0\n",
    "\n",
    "    total_bends = 0\n",
    "    for contour in contours:\n",
    "        total_bends += detect_gaps(contour)\n",
    "\n",
    "    print(f\"No. of bends = {total_bends}\")\n",
    "\n",
    "    plt.figure(figsize=(10, 5))\n",
    "    plt.subplot(1, 2, 1)\n",
    "    plt.title('Original Image')\n",
    "    plt.imshow(cv2.cvtColor(image, cv2.COLOR_BGR2RGB))\n",
    "\n",
    "    plt.subplot(1, 2, 2)\n",
    "    plt.title('Detected Gaps')\n",
    "    plt.imshow(cv2.cvtColor(image, cv2.COLOR_BGR2RGB))\n",
    "\n",
    "    plt.show()\n",
    "\n",
    "\n",
    "find_arc_gaps('circ_cab2_big.png')"
   ]
  },
  {
   "cell_type": "code",
   "execution_count": 180,
   "metadata": {
    "collapsed": false,
    "jupyter": {
     "outputs_hidden": false
    }
   },
   "outputs": [
    {
     "name": "stderr",
     "output_type": "stream",
     "text": [
      "C:\\Users\\KIIT\\AppData\\Local\\Temp\\ipykernel_37012\\4187936389.py:32: DeprecationWarning: `np.math` is a deprecated alias for the standard library `math` module (Deprecated Numpy 1.25). Replace usages of `np.math` with `math`\n",
      "  angle = np.abs(np.math.atan2(np.cross(a, b), np.dot(a, b))) * 180 / np.pi\n"
     ]
    },
    {
     "name": "stdout",
     "output_type": "stream",
     "text": [
      "No. of bends = 0\n"
     ]
    },
    {
     "data": {
      "image/png": "[encoded data removed]",
      "text/plain": [
       "<Figure size 1000x500 with 2 Axes>"
      ]
     },
     "metadata": {},
     "output_type": "display_data"
    },
    {
     "name": "stdout",
     "output_type": "stream",
     "text": [
      "No. of bends = 0\n"
     ]
    },
    {
     "data": {
      "image/png": "[encoded data removed]",
      "text/plain": [
       "<Figure size 1000x500 with 2 Axes>"
      ]
     },
     "metadata": {},
     "output_type": "display_data"
    }
   ],
   "source": [
    "import cv2\n",
    "import numpy as np\n",
    "import matplotlib.pyplot as plt\n",
    "\n",
    "def find_arc_gaps(image_path, angle_threshold=170, min_gap_size=5, min_arc_length=20, min_contour_area=10):\n",
    "    image = cv2.imread(image_path)\n",
    "    gray = cv2.cvtColor(image, cv2.COLOR_BGR2GRAY)\n",
    "    blurred = cv2.GaussianBlur(gray, (5, 5), 0)\n",
    "    edges = cv2.Canny(blurred, 50, 150)\n",
    "\n",
    "    contours, _ = cv2.findContours(edges, cv2.RETR_EXTERNAL, cv2.CHAIN_APPROX_SIMPLE)\n",
    "\n",
    "    def detect_gaps(contour):\n",
    "        area = cv2.contourArea(contour)\n",
    "        if area < min_contour_area:  # Ignore small contours\n",
    "            return 0\n",
    "\n",
    "        hull = cv2.convexHull(contour, returnPoints=False)\n",
    "        defects = cv2.convexityDefects(contour, hull)\n",
    "\n",
    "        if defects is not None:\n",
    "            bend_points = []\n",
    "            for i in range(defects.shape[0]):\n",
    "                s, e, f, d = defects[i, 0]\n",
    "                start = tuple(contour[s][0])\n",
    "                end = tuple(contour[e][0])\n",
    "                far = tuple(contour[f][0])\n",
    "\n",
    "                # Calculate angle\n",
    "                a = np.array(far) - np.array(start)\n",
    "                b = np.array(far) - np.array(end)\n",
    "                angle = np.abs(np.math.atan2(np.cross(a, b), np.dot(a, b))) * 180 / np.pi\n",
    "\n",
    "                # Check for bend\n",
    "                if angle > angle_threshold and d > min_gap_size:\n",
    "                    # Check if the defect is part of a larger arc\n",
    "                    arc_length = cv2.arcLength(contour[s:e], False)\n",
    "                    if arc_length > min_arc_length:\n",
    "                        bend_points.append(far)\n",
    "\n",
    "            # Mark bend points on the image\n",
    "            for point in bend_points:\n",
    "                cv2.circle(image, point, 5, (0, 255, 0), -1)\n",
    "\n",
    "            return len(bend_points)\n",
    "        return 0\n",
    "\n",
    "    total_bends = 0\n",
    "    for contour in contours:\n",
    "        total_bends += detect_gaps(contour)\n",
    "\n",
    "    print(f\"No. of bends = {total_bends}\")\n",
    "\n",
    "    plt.figure(figsize=(10, 5))\n",
    "    plt.subplot(1, 2, 1)\n",
    "    plt.title('Original Image')\n",
    "    plt.imshow(cv2.cvtColor(image, cv2.COLOR_BGR2RGB))\n",
    "\n",
    "    plt.subplot(1, 2, 2)\n",
    "    plt.title('Detected Gaps')\n",
    "    plt.imshow(cv2.cvtColor(image, cv2.COLOR_BGR2RGB))\n",
    "\n",
    "    plt.show()\n",
    "\n",
    "\n",
    "find_arc_gaps('circ_cab1_big.png')\n",
    "find_arc_gaps('circ_cab2_big.png')\n"
   ]
  }
 ],
 "metadata": {
  "kernelspec": {
   "display_name": "Python 3 (ipykernel)",
   "language": "python",
   "name": "python3"
  },
  "language_info": {
   "codemirror_mode": {
    "name": "ipython",
    "version": 3
   },
   "file_extension": ".py",
   "mimetype": "text/x-python",
   "name": "python",
   "nbconvert_exporter": "python",
   "pygments_lexer": "ipython3",
   "version": "3.12.3"
  }
 },
 "nbformat": 4,
 "nbformat_minor": 4
}
