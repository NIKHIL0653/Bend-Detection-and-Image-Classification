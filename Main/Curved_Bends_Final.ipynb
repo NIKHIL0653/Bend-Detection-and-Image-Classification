{
 "cells": [
  {
   "cell_type": "code",
   "metadata": {
    "ExecuteTime": {
     "end_time": "2024-06-09T07:39:37.202719Z",
     "start_time": "2024-06-09T07:39:35.209702Z"
    }
   },
   "source": [
    "import cv2\n",
    "import numpy as np\n",
    "import matplotlib.pyplot as plt\n",
    "\n",
    "# Read and convert the image to grayscale\n",
    "image_rgb = cv2.imread('circ_cab_upscaled.jpeg')\n",
    "img = cv2.imread('circ_cab_upscaled.jpeg', cv2.IMREAD_GRAYSCALE)\n",
    "\n",
    "# Thresholding to isolate the cable (adjust thresholds as needed)\n",
    "_, thresh = cv2.threshold(img, 127, 255, cv2.THRESH_BINARY_INV)\n",
    "\n",
    "# Morphological operations to enhance the bends\n",
    "kernel = cv2.getStructuringElement(cv2.MORPH_RECT, (3, 3))  # Rectangular kernel\n",
    "dilated = cv2.dilate(thresh, kernel, iterations=2)  # More iterations for stronger dilation\n",
    "eroded = cv2.erode(dilated, kernel, iterations=1)\n",
    "\n",
    "# Apply Gaussian blur to smooth out the edges\n",
    "# blurred = cv2.GaussianBlur(eroded, (5, 5), 0)\n",
    "\n",
    "# Find contours and hierarchy\n",
    "contours, hierarchy = cv2.findContours(thresh, cv2.RETR_CCOMP, cv2.CHAIN_APPROX_SIMPLE)\n",
    "\n",
    "# More flexible contour filtering based on hierarchy\n",
    "filtered_contours = []\n",
    "for i, contour in enumerate(contours):\n",
    "    # Check if contour is not the outermost (hierarchy level 0)\n",
    "    if hierarchy[0][i][3] != -1:\n",
    "        area = cv2.contourArea(contour)\n",
    "        # Only keep contours within a reasonable area range to filter out noise\n",
    "        if 10 < area < 610:  # Adjust these thresholds as needed\n",
    "            filtered_contours.append(contour)\n",
    "\n",
    "print('Number of bends found: ', len(filtered_contours))\n",
    "\n",
    "# Draw remaining contours on the RGB version of the original image\n",
    "contour_image = image_rgb.copy()\n",
    "cv2.drawContours(contour_image, filtered_contours, -1, (255, 0, 0), 2)\n",
    "\n",
    "# Plot the final image with contours\n",
    "plt.imshow(cv2.cvtColor(contour_image, cv2.COLOR_BGR2RGB))\n",
    "plt.title('Image with Contours')\n",
    "plt.axis('off')\n",
    "plt.show()\n",
    "\n"
   ],
   "execution_count": 1,
   "outputs": []
  },
  {
   "cell_type": "code",
   "metadata": {
    "collapsed": false,
    "jupyter": {
     "outputs_hidden": false
    },
    "ExecuteTime": {
     "end_time": "2024-06-09T07:39:41.732740Z",
     "start_time": "2024-06-09T07:39:41.552473Z"
    }
   },
   "source": [
    "import cv2\n",
    "import numpy as np\n",
    "import matplotlib.pyplot as plt\n",
    "\n",
    "# Read and convert the image to grayscale\n",
    "image_rgb = cv2.imread('circ_cab2_upscaled.jpeg')\n",
    "img = cv2.imread('circ_cab2_upscaled.jpeg', cv2.IMREAD_GRAYSCALE)\n",
    "\n",
    "# Thresholding to isolate the cable (adjust thresholds as needed)\n",
    "_, thresh = cv2.threshold(img, 127, 255, cv2.THRESH_BINARY_INV)\n",
    "\n",
    "# Morphological operations to enhance the bends\n",
    "kernel = cv2.getStructuringElement(cv2.MORPH_RECT, (3, 3))  # Rectangular kernel\n",
    "dilated = cv2.dilate(thresh, kernel, iterations=2)  # More iterations for stronger dilation\n",
    "eroded = cv2.erode(dilated, kernel, iterations=1)\n",
    "\n",
    "# Apply Gaussian blur to smooth out the edges\n",
    "# blurred = cv2.GaussianBlur(eroded, (5, 5), 0)\n",
    "\n",
    "# Find contours and hierarchy\n",
    "contours, hierarchy = cv2.findContours(thresh, cv2.RETR_CCOMP, cv2.CHAIN_APPROX_SIMPLE)\n",
    "\n",
    "# More flexible contour filtering based on hierarchy\n",
    "filtered_contours = []\n",
    "for i, contour in enumerate(contours):\n",
    "    # Check if contour is not the outermost (hierarchy level 0)\n",
    "    if hierarchy[0][i][3] != -1:\n",
    "        area = cv2.contourArea(contour)\n",
    "        # Only keep contours within a reasonable area range to filter out noise\n",
    "        if 10 < area < 610:  # Adjust these thresholds as needed\n",
    "            filtered_contours.append(contour)\n",
    "\n",
    "print('Number of bends found: ', len(filtered_contours))\n",
    "\n",
    "# Draw remaining contours on the RGB version of the original image\n",
    "contour_image = image_rgb.copy()\n",
    "cv2.drawContours(contour_image, filtered_contours, -1, (255, 0, 0), 2)\n",
    "\n",
    "# Plot the final image with contours\n",
    "plt.imshow(cv2.cvtColor(contour_image, cv2.COLOR_BGR2RGB))\n",
    "plt.title('Image with Contours')\n",
    "plt.axis('off')\n",
    "plt.show()\n"
   ],
   "execution_count": 2,
   "outputs": []
  },
  {
   "cell_type": "code",
   "metadata": {
    "collapsed": false,
    "jupyter": {
     "outputs_hidden": false
    },
    "ExecuteTime": {
     "end_time": "2024-06-09T07:39:42.748164Z",
     "start_time": "2024-06-09T07:39:42.597983Z"
    }
   },
   "source": [
    "import cv2\n",
    "import numpy as np\n",
    "import matplotlib.pyplot as plt\n",
    "\n",
    "# Read and convert the image to grayscale\n",
    "image_rgb = cv2.imread('circ_cab2_big.png')\n",
    "img = cv2.imread('circ_cab2_big.png', cv2.IMREAD_GRAYSCALE)\n",
    "\n",
    "# Thresholding to isolate the cable (adjust thresholds as needed)\n",
    "_, thresh = cv2.threshold(img, 127, 255, cv2.THRESH_BINARY_INV)\n",
    "\n",
    "# Morphological operations to enhance the bends\n",
    "kernel = cv2.getStructuringElement(cv2.MORPH_RECT, (3, 3))  # Rectangular kernel\n",
    "dilated = cv2.dilate(thresh, kernel, iterations=2)  # More iterations for stronger dilation\n",
    "eroded = cv2.erode(dilated, kernel, iterations=1)\n",
    "\n",
    "# Apply Gaussian blur to smooth out the edges\n",
    "# blurred = cv2.GaussianBlur(eroded, (5, 5), 0)\n",
    "\n",
    "# Find contours and hierarchy\n",
    "contours, hierarchy = cv2.findContours(thresh, cv2.RETR_CCOMP, cv2.CHAIN_APPROX_SIMPLE)\n",
    "\n",
    "# More flexible contour filtering based on hierarchy\n",
    "filtered_contours = []\n",
    "for i, contour in enumerate(contours):\n",
    "    # Check if contour is not the outermost (hierarchy level 0)\n",
    "    if hierarchy[0][i][3] != -1:\n",
    "        area = cv2.contourArea(contour)\n",
    "        # Only keep contours within a reasonable area range to filter out noise\n",
    "        if 10 < area < 610:  # Adjust these thresholds as needed\n",
    "            filtered_contours.append(contour)\n",
    "\n",
    "print('Number of bends found: ', len(filtered_contours))\n",
    "\n",
    "# Draw remaining contours on the RGB version of the original image\n",
    "contour_image = image_rgb.copy()\n",
    "cv2.drawContours(contour_image, filtered_contours, -1, (255, 0, 0), 2)\n",
    "\n",
    "# Plot the final image with contours\n",
    "plt.imshow(cv2.cvtColor(contour_image, cv2.COLOR_BGR2RGB))\n",
    "plt.title('Image with Contours')\n",
    "plt.axis('off')\n",
    "plt.show()"
   ],
   "execution_count": 3,
   "outputs": []
  },
  {
   "cell_type": "code",
   "metadata": {
    "collapsed": false,
    "jupyter": {
     "outputs_hidden": false
    },
    "ExecuteTime": {
     "end_time": "2024-06-09T11:35:53.850379Z",
     "start_time": "2024-06-09T11:35:53.464862Z"
    }
   },
   "source": [
    "import cv2\n",
    "import numpy as np\n",
    "import matplotlib.pyplot as plt\n",
    "\n",
    "# Read and convert the image to grayscale\n",
    "image_rgb = cv2.imread('circ_cab1_big.png')\n",
    "img = cv2.imread('circ_cab1_big.png', cv2.IMREAD_GRAYSCALE)\n",
    "\n",
    "# Thresholding to isolate the cable (adjust thresholds as needed)\n",
    "_, thresh = cv2.threshold(img, 127, 255, cv2.THRESH_BINARY_INV)\n",
    "\n",
    "# Morphological operations to enhance the bends\n",
    "kernel = cv2.getStructuringElement(cv2.MORPH_RECT, (3, 3))  # Rectangular kernel\n",
    "dilated = cv2.dilate(thresh, kernel, iterations=2)  # More iterations for stronger dilation\n",
    "eroded = cv2.erode(dilated, kernel, iterations=1)\n",
    "\n",
    "# Apply Gaussian blur to smooth out the edges\n",
    "# blurred = cv2.GaussianBlur(eroded, (5, 5), 0)\n",
    "\n",
    "# Find contours and hierarchy\n",
    "contours, hierarchy = cv2.findContours(thresh, cv2.RETR_CCOMP, cv2.CHAIN_APPROX_SIMPLE)\n",
    "\n",
    "# More flexible contour filtering based on hierarchy\n",
    "filtered_contours = []\n",
    "for i, contour in enumerate(contours):\n",
    "    # Check if contour is not the outermost (hierarchy level 0)\n",
    "    if hierarchy[0][i][3] != -1:\n",
    "        area = cv2.contourArea(contour)\n",
    "        # Only keep contours within a reasonable area range to filter out noise\n",
    "        if 10 < area < 610:  # Adjust these thresholds as needed\n",
    "            filtered_contours.append(contour)\n",
    "\n",
    "print('Number of bends found: ', len(filtered_contours))\n",
    "\n",
    "# Draw remaining contours on the RGB version of the original image\n",
    "contour_image = image_rgb.copy()\n",
    "cv2.drawContours(contour_image, filtered_contours, -1, (255, 0, 0), 2)\n",
    "\n",
    "# Plot the final image with contours\n",
    "plt.imshow(cv2.cvtColor(contour_image, cv2.COLOR_BGR2RGB))\n",
    "plt.title('Image with Contours')\n",
    "plt.axis('off')\n",
    "plt.show()"
   ],
   "execution_count": 5,
   "outputs": []
  },
  {
   "cell_type": "code",
   "execution_count": null,
   "metadata": {},
   "source": [],
   "outputs": []
  }
 ],
 "metadata": {
  "kernelspec": {
   "display_name": "Python 3 (ipykernel)",
   "language": "python",
   "name": "python3"
  },
  "language_info": {
   "codemirror_mode": {
    "name": "ipython",
    "version": 3
   },
   "file_extension": ".py",
   "mimetype": "text/x-python",
   "name": "python",
   "nbconvert_exporter": "python",
   "pygments_lexer": "ipython3",
   "version": "3.12.3"
  }
 },
 "nbformat": 4,
 "nbformat_minor": 4
}
